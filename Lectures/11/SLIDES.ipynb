{
 "cells": [
  {
   "cell_type": "markdown",
   "id": "a1e385db-879f-49db-997f-b83ae3dc14e6",
   "metadata": {},
   "source": [
    "# VII. Encoding"
   ]
  },
  {
   "cell_type": "markdown",
   "id": "685e9b07-29b2-47fe-822c-9e4f0d8d1861",
   "metadata": {},
   "source": [
    "In this section, we will consider the encoding of polar codes and prove the part of Theorem 5 about encoding complexity. We begin by giving explicit algebraic expressions for $G_N$ ,the generator matrix for polar coding, which so far has been defined only in a schematic form by Fig. 3. The algebraic forms of $G_N$ naturally point at efficient implementations of the encoding operation $x_1^N = u_1^N G_N$ . In analyzing the encoding operation $G_N$ , we exploit its relation to fast transform methods in signal processing; in particular, we use the bit-indexing idea of [11] to interpret the various permutation operations that are\n",
    "part of GN ."
   ]
  },
  {
   "cell_type": "markdown",
   "id": "d2ebba08-b7a4-42cd-a5f9-eb91f027a08d",
   "metadata": {},
   "source": [
    "Reed-Muller (RM) codes and Polar codes are both linear block codes with certain structural similarities, but they differ significantly in terms of **design principles**, **performance characteristics**, and **applications**. Here's a detailed comparison:\n",
    "\n",
    "---\n",
    "\n",
    "### **1. Code Construction**\n",
    "| **Aspect**         | **Reed-Muller Codes**                                                                                     | **Polar Codes**                                                                                                       |\n",
    "|---------------------|----------------------------------------------------------------------------------------------------------|----------------------------------------------------------------------------------------------------------------------|\n",
    "| **Generator Matrix**| RM codes are defined by a **fixed construction** based on monomials of Boolean functions.                | Polar codes use a generator matrix \\( G_N = F^{\\otimes n} \\), derived from the \\( F \\) matrix and its Kronecker power. |\n",
    "| **Channel Dependence**| RM codes are **channel-agnostic**, designed independently of the specific channel.                      | Polar codes are **channel-specific**, leveraging channel polarization to match the reliability of the channel.         |\n",
    "\n",
    "---\n",
    "\n",
    "### **2. Encoding**\n",
    "| **Aspect**         | **Reed-Muller Codes**                                                                                     | **Polar Codes**                                                                                                       |\n",
    "|---------------------|----------------------------------------------------------------------------------------------------------|----------------------------------------------------------------------------------------------------------------------|\n",
    "| **Encoding Process**| Encode by multiplying the message vector with the RM generator matrix.                                    | Encode using the generator matrix \\( G_N \\), recursively defined through channel polarization.                        |\n",
    "| **Code Design**     | RM codes are designed to ensure error correction by selecting monomials of increasing degree.             | Polar codes explicitly assign reliable channels for information bits and unreliable channels for frozen bits.         |\n",
    "\n",
    "---\n",
    "\n",
    "### **3. Decoding**\n",
    "| **Aspect**         | **Reed-Muller Codes**                                                                                     | **Polar Codes**                                                                                                       |\n",
    "|---------------------|----------------------------------------------------------------------------------------------------------|----------------------------------------------------------------------------------------------------------------------|\n",
    "| **Decoding Method** | RM codes can be decoded using **majority logic decoding**, **list decoding**, or **ML decoding**.         | Polar codes use **successive cancellation decoding (SCD)** or **successive cancellation list decoding (SCL)**.        |\n",
    "| **Complexity**      | RM decoding is computationally intensive (e.g., brute-force ML decoding is exponential in complexity).    | Polar codes have \\( O(N \\log N) \\) decoding complexity, making them more efficient in practice.                       |\n",
    "\n",
    "---\n",
    "\n",
    "### **4. Performance**\n",
    "| **Aspect**         | **Reed-Muller Codes**                                                                                     | **Polar Codes**                                                                                                       |\n",
    "|---------------------|----------------------------------------------------------------------------------------------------------|----------------------------------------------------------------------------------------------------------------------|\n",
    "| **Error Correction**| RM codes are known for their good **minimum distance properties**, making them robust against errors.     | Polar codes achieve **capacity** for symmetric binary-input memoryless channels (BIMCs).                             |\n",
    "| **Short vs. Long Block Lengths** | RM codes perform well at **short-to-moderate block lengths**.                               | Polar codes also perform well for **short block lengths** but are optimized for scaling to **large block lengths**.   |\n",
    "\n",
    "---\n",
    "\n",
    "### **5. Channel Adaptation**\n",
    "| **Aspect**         | **Reed-Muller Codes**                                                                                     | **Polar Codes**                                                                                                       |\n",
    "|---------------------|----------------------------------------------------------------------------------------------------------|----------------------------------------------------------------------------------------------------------------------|\n",
    "| **Channel Usage**   | RM codes are not optimized for any specific channel and rely on their general error-correction capability.| Polar codes are designed to exploit channel polarization for symmetric channels, ensuring optimal bit allocation.     |\n",
    "| **Reliability**     | RM codes do not differentiate between reliable and unreliable bit positions in their construction.        | Polar codes explicitly identify and freeze unreliable bit positions during encoding.                                  |\n",
    "\n",
    "---\n",
    "\n",
    "### **6. Applications**\n",
    "| **Aspect**         | **Reed-Muller Codes**                                                                                     | **Polar Codes**                                                                                                       |\n",
    "|---------------------|----------------------------------------------------------------------------------------------------------|----------------------------------------------------------------------------------------------------------------------|\n",
    "| **Historical Use**  | RM codes were among the first codes studied and used in early error correction (e.g., spacecraft communication). | Polar codes are newer (introduced in 2009) and are primarily used in modern communication systems like 5G.            |\n",
    "| **Standards**       | Rarely used in modern standards due to high decoding complexity.                                          | Widely adopted in 5G for control channel coding.                                                                      |\n",
    "\n",
    "---\n",
    "\n",
    "### **7. Key Theoretical Connection**\n",
    "- **Structural Relation**: \n",
    "  - RM codes can be seen as a special case of polar codes when the reliability ordering of bits is ignored.\n",
    "  - Polar codes are considered a **channel-adaptive generalization** of RM codes, leveraging the channel-dependent concept of **polarization**.\n",
    "\n",
    "---\n",
    "\n",
    "### **Summary**\n",
    "| **Reed-Muller Codes**                                   | **Polar Codes**                                              |\n",
    "|---------------------------------------------------------|-------------------------------------------------------------|\n",
    "| Fixed construction, not channel-adaptive.               | Channel-adaptive construction, based on polarization.       |\n",
    "| Good error correction for short-to-moderate lengths.    | Capacity-achieving for large block lengths.                 |\n",
    "| Historically important but less practical today.         | Widely adopted in modern standards (e.g., 5G).              |\n",
    "\n",
    "Polar codes are generally preferred in modern applications due to their **channel-adaptive nature**, **lower decoding complexity**, and ability to achieve channel capacity. However, RM codes remain a cornerstone of coding theory and are studied for their elegant algebraic structure."
   ]
  },
  {
   "cell_type": "markdown",
   "id": "b170f228-4b0d-4755-8231-d8edce883731",
   "metadata": {},
   "source": [
    "# VIII. DECODING"
   ]
  },
  {
   "cell_type": "markdown",
   "id": "985b9403-2699-4c80-9254-34c4f30a6e38",
   "metadata": {},
   "source": [
    "In this section, we consider the computational complexity of the SC decoding algorithm. As in the previous section, our computational model will be a single processor machine with a random access memory and the complexities expressed will be time complexities. Let $\\mathcal{X}_D(N)$ denote the worstcase complexity of SC decoding over all $G_N$-coset codes with a given block-length N. We will show that $\\mathcal{X}_D(N)$ = O(N log N)."
   ]
  }
 ],
 "metadata": {
  "kernelspec": {
   "display_name": "Julia 1.11.1",
   "language": "julia",
   "name": "julia-1.11"
  },
  "language_info": {
   "file_extension": ".jl",
   "mimetype": "application/julia",
   "name": "julia",
   "version": "1.11.1"
  }
 },
 "nbformat": 4,
 "nbformat_minor": 5
}
