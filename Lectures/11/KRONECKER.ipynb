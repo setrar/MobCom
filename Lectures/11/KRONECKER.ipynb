{
 "cells": [
  {
   "cell_type": "markdown",
   "id": "5e8b7b96-b537-4804-8b3f-de77b22393bc",
   "metadata": {},
   "source": [
    "# Kronecker Product"
   ]
  },
  {
   "cell_type": "markdown",
   "id": "d3130815-f40d-4bb5-bc1a-f4e9cb654a93",
   "metadata": {},
   "source": [
    "To expand $F^{\\otimes 3}$, we use the recursive formula:\n",
    "\n",
    "$F^{\\otimes 3} = \\begin{bmatrix} F^{\\otimes 2} & 0 \\\\ F^{\\otimes 2} & F^{\\otimes 2} \\end{bmatrix},$\n",
    "where\n",
    "$F^{\\otimes 2} = \\begin{bmatrix} F & 0 \\\\ F & F \\end{bmatrix},$\n",
    "and\n",
    "$F = \\begin{bmatrix} 1 & 0 \\\\ 1 & 1 \\end{bmatrix}.$\n",
    "\n",
    "### Step 1: Expand $F^{\\otimes 2}$\n",
    "$F^{\\otimes 2} = \\begin{bmatrix} \\begin{bmatrix} 1 & 0 \\\\ 1 & 1 \\end{bmatrix} & \\begin{bmatrix} 0 & 0 \\\\ 0 & 0 \\end{bmatrix} \\\\ \\begin{bmatrix} 1 & 0 \\\\ 1 & 1 \\end{bmatrix} & \\begin{bmatrix} 1 & 0 \\\\ 1 & 1 \\end{bmatrix} \\end{bmatrix} = \\begin{bmatrix} 1 & 0 & 0 & 0 \\\\ 1 & 1 & 0 & 0 \\\\ 1 & 0 & 1 & 0 \\\\ 1 & 1 & 1 & 1 \\end{bmatrix}.$\n",
    "\n",
    "### Step 2: Expand $F^{\\otimes 3}$\n",
    "Now substitute $F^{\\otimes 2}$ into the formula for $F^{\\otimes 3}$:\n",
    "$F^{\\otimes 3} = \\begin{bmatrix} F^{\\otimes 2} & 0 \\\\ F^{\\otimes 2} & F^{\\otimes 2} \\end{bmatrix}.$\n",
    "This gives:\n",
    "$F^{\\otimes 3} = \\begin{bmatrix} \\begin{bmatrix} 1 & 0 & 0 & 0 \\\\ 1 & 1 & 0 & 0 \\\\ 1 & 0 & 1 & 0 \\\\ 1 & 1 & 1 & 1 \\end{bmatrix} & \\begin{bmatrix} 0 & 0 & 0 & 0 \\\\ 0 & 0 & 0 & 0 \\\\ 0 & 0 & 0 & 0 \\\\ 0 & 0 & 0 & 0 \\end{bmatrix} \\\\ \\begin{bmatrix} 1 & 0 & 0 & 0 \\\\ 1 & 1 & 0 & 0 \\\\ 1 & 0 & 1 & 0 \\\\ 1 & 1 & 1 & 1 \\end{bmatrix} & \\begin{bmatrix} 1 & 0 & 0 & 0 \\\\ 1 & 1 & 0 & 0 \\\\ 1 & 0 & 1 & 0 \\\\ 1 & 1 & 1 & 1 \\end{bmatrix} \\end{bmatrix}.$\n",
    "\n",
    "### Step 3: Combine the blocks\n",
    "Combine to form the full $F^{\\otimes 3}$ matrix:\n",
    "$F^{\\otimes 3} = \\begin{bmatrix} 1 & 0 & 0 & 0 & 0 & 0 & 0 & 0 \\\\ 1 & 1 & 0 & 0 & 0 & 0 & 0 & 0 \\\\ 1 & 0 & 1 & 0 & 0 & 0 & 0 & 0 \\\\ 1 & 1 & 1 & 1 & 0 & 0 & 0 & 0 \\\\ 1 & 0 & 0 & 0 & 1 & 0 & 0 & 0 \\\\ 1 & 1 & 0 & 0 & 1 & 1 & 0 & 0 \\\\ 1 & 0 & 1 & 0 & 1 & 0 & 1 & 0 \\\\ 1 & 1 & 1 & 1 & 1 & 1 & 1 & 1 \\end{bmatrix}.$\n"
   ]
  },
  {
   "cell_type": "markdown",
   "id": "bc5c4e26-f9e8-42c2-a333-13b284de4913",
   "metadata": {},
   "source": [
    "\n",
    "The **n-power Kronecker product** of a matrix $F$ is a way to repeatedly apply the Kronecker product operation on $F$ with itself $n$ times. The Kronecker product of two matrices $A$ and $B$ is denoted as $A \\otimes B$ and results in a larger block matrix, where each entry of $A$ is multiplied by the entire matrix $B$.\n",
    "\n",
    "### Base Matrix $F$\n",
    "Let $F = \\begin{bmatrix} 1 & 0 \\\\ 1 & 1 \\end{bmatrix}$.\n",
    "\n",
    "### Kronecker Power\n",
    "The $n$-power Kronecker product $F^{\\otimes n}$ is defined recursively:\n",
    "- $F^{\\otimes 1} = F$\n",
    "- $F^{\\otimes n} = F^{\\otimes (n-1)} \\otimes F$\n",
    "\n",
    "### Example Calculations\n",
    "#### 1. $n = 1$\n",
    "$F^{\\otimes 1} = \\begin{bmatrix} 1 & 0 \\\\ 1 & 1 \\end{bmatrix}$\n",
    "\n",
    "#### 2. $n = 2$\n",
    "$F^{\\otimes 2} = F \\otimes F = \\begin{bmatrix} 1 \\cdot F & 0 \\cdot F \\\\ 1 \\cdot F & 1 \\cdot F \\end{bmatrix} = \\begin{bmatrix} 1 & 0 & 0 & 0 \\\\ 1 & 1 & 0 & 0 \\\\ 1 & 0 & 1 & 0 \\\\ 1 & 1 & 1 & 1 \\end{bmatrix}$\n",
    "\n",
    "#### 3. $n = 3$\n",
    "$F^{\\otimes 3} = F^{\\otimes 2} \\otimes F = \\begin{bmatrix} 1 \\cdot F^{\\otimes 2} & 0 \\cdot F^{\\otimes 2} \\\\ 1 \\cdot F^{\\otimes 2} & 1 \\cdot F^{\\otimes 2} \\end{bmatrix} = \\begin{bmatrix} F & 0 & 0 & 0 \\\\ F & F & 0 & 0 \\\\ F & 0 & F & 0 \\\\ F & F & F & F \\end{bmatrix} = \\begin{bmatrix} 1 & 0 & 0 & 0 & 0 & 0 & 0 & 0 \\\\ 1 & 1 & 0 & 0 & 0 & 0 & 0 & 0 \\\\ 0 & 0 & 1 & 0 & 0 & 0 & 0 & 0 \\\\ 0 & 0 & 1 & 1 & 0 & 0 & 0 & 0 \\\\ 0 & 0 & 0 & 0 & 1 & 0 & 0 & 0 \\\\ 0 & 0 & 0 & 0 & 1 & 1 & 0 & 0 \\\\ 0 & 0 & 0 & 0 & 0 & 0 & 1 & 0 \\\\ 0 & 0 & 0 & 0 & 0 & 0 & 1 & 1 \\end{bmatrix}$\n",
    " \n",
    "\n",
    "Where each block $F$ in $F^{\\otimes 3}$ is replaced by:\n",
    "$\\begin{bmatrix} 1 & 0 \\\\ 1 & 1 \\end{bmatrix}$\n",
    "\n",
    "### General Form\n",
    "The $n$-power Kronecker product $F^{\\otimes n}$ generates a $2^n \\times 2^n$ matrix. The structure of $F^{\\otimes n}$ can be described as follows:\n",
    "- $F^{\\otimes n}$ contains $2^{n-1}$ rows of blocks.\n",
    "- Each row consists of $2^{n-1}$ blocks.\n",
    "- Each block is recursively constructed from smaller $F^{\\otimes (n-1)}$ matrices.\n",
    "\n",
    "The $n$-power Kronecker product of $F = \\begin{bmatrix} 1 & 0 \\\\ 1 & 1 \\end{bmatrix}$, denoted as $F^{\\otimes n}$, is a $2^n \\times 2^n$ matrix defined compactly as:\n",
    "\n",
    "$F^{\\otimes n} = \\begin{bmatrix} F^{\\otimes (n-1)} & 0 \\\\ F^{\\otimes (n-1)} & F^{\\otimes (n-1)} \\end{bmatrix},$\n",
    "with the base case:\n",
    "$F^{\\otimes 1} = F = \\begin{bmatrix} 1 & 0 \\\\ 1 & 1 \\end{bmatrix}.$\n",
    "\n",
    "This recursive structure ensures that $F^{\\otimes n}$ retains the hierarchical, self-similar pattern characteristic of Kronecker products.\n",
    "\n",
    "This recursive pattern leads to a self-similar, hierarchical matrix structure, common in fields such as signal processing and coding theory."
   ]
  },
  {
   "cell_type": "markdown",
   "id": "0a08c8bb-ddda-413e-bfdc-5d898be5f1af",
   "metadata": {},
   "source": [
    "Here is the combined and streamlined paragraph:\n",
    "\n",
    "The $n$-power Kronecker product of $F = \\begin{bmatrix} 1 & 0 \\\\ 1 & 1 \\end{bmatrix}$, denoted as $F^{\\otimes n}$, generates a $2^n \\times 2^n$ matrix defined recursively as:\n",
    "\n",
    "$F^{\\otimes n} = \\begin{bmatrix} F^{\\otimes (n-1)} & 0 \\\\ F^{\\otimes (n-1)} & F^{\\otimes (n-1)} \\end{bmatrix},$\n",
    "\n",
    "with the base case $F^{\\otimes 1} = F = \\begin{bmatrix} 1 & 0 \\\\ 1 & 1 \\end{bmatrix}$. The structure of $F^{\\otimes n}$ is hierarchical and self-similar, consisting of $2^{n-1}$ rows of $2^{n-1}$ blocks, each recursively constructed from smaller $F^{\\otimes (n-1)}$ matrices."
   ]
  },
  {
   "cell_type": "code",
   "execution_count": null,
   "id": "0a551f23-e5cb-4e04-9eb0-4474b973d263",
   "metadata": {},
   "outputs": [],
   "source": []
  }
 ],
 "metadata": {
  "kernelspec": {
   "display_name": "Julia 1.11.1",
   "language": "julia",
   "name": "julia-1.11"
  },
  "language_info": {
   "file_extension": ".jl",
   "mimetype": "application/julia",
   "name": "julia",
   "version": "1.11.1"
  }
 },
 "nbformat": 4,
 "nbformat_minor": 5
}
