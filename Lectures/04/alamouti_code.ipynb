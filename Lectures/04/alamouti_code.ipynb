{
 "cells": [
  {
   "cell_type": "markdown",
   "id": "8106b61c-6c35-4dcc-9d3f-f93cda4464a2",
   "metadata": {},
   "source": [
    "The **Alamouti code** is a **space-time block coding** technique used in wireless communications to improve the reliability of data transmission over fading channels. It was proposed by Siavash Alamouti in 1998 and is notable for its simplicity and efficiency in implementing diversity using multiple transmit antennas. The Alamouti code provides **transmit diversity** in a 2x1 (two transmit antennas, one receive antenna) configuration, although it can be extended to more complex setups.\n",
    "\n",
    "### Key Features of the Alamouti Code\n",
    "1. **Transmit Diversity**: It requires two transmit antennas but can work with only one receive antenna. This improves the reliability of transmission by providing diversity at the transmitter side.\n",
    "2. **Orthogonal Design**: The Alamouti code is based on orthogonal block coding, allowing the receiver to separate signals from the two transmit antennas in a straightforward way.\n",
    "3. **Simple Decoding**: It enables simple linear decoding at the receiver, making it computationally efficient.\n",
    "4. **Full Diversity Gain**: The Alamouti code achieves full diversity of order two (for two transmit antennas), meaning it fully leverages the benefits of having two antennas to combat fading.\n",
    "\n",
    "### How the Alamouti Code Works\n",
    "For a 2x1 system (2 transmit antennas, 1 receive antenna):\n",
    "\n",
    "1. **Encoding**:\n",
    "   - Suppose we want to transmit two symbols, $ s_1 $ and $ s_2 $, over two consecutive time slots.\n",
    "   - The encoding scheme for the Alamouti code transmits the symbols as follows:\n",
    "     - **Time Slot 1**: Transmit $ s_1 $ from the first antenna and $ s_2 $ from the second antenna.\n",
    "     - **Time Slot 2**: Transmit $ -s_2^* $ from the first antenna and $ s_1^* $ from the second antenna, where $ s_1^* $ and $ s_2^* $ denote the complex conjugates of $ s_1 $ and $ s_2 $.\n",
    "\n",
    "   This results in the following transmission matrix:\n",
    "   $\n",
    "   \\begin{bmatrix}\n",
    "   s_1 & -s_2^* \\\\\n",
    "   s_2 & s_1^*\n",
    "   \\end{bmatrix}\n",
    "   $\n",
    "   where each row corresponds to a time slot, and each column corresponds to an antenna.\n",
    "\n",
    "2. **Channel Model**:\n",
    "   - Let $ h_1 $ and $ h_2 $ be the complex channel gains from the first and second transmit antennas to the receive antenna.\n",
    "   - These channel gains are assumed to be constant over the two time slots.\n",
    "\n",
    "3. **Received Signal**:\n",
    "   - At the receiver, the received signals over the two time slots, denoted by $ r_1 $ and $ r_2 $, are:\n",
    "     $\n",
    "     r_1 = h_1 s_1 + h_2 s_2 + n_1\n",
    "     $\n",
    "     $\n",
    "     r_2 = -h_1 s_2^* + h_2 s_1^* + n_2\n",
    "     $\n",
    "     where $ n_1 $ and $ n_2 $ are the noise components in each time slot.\n",
    "\n",
    "4. **Decoding**:\n",
    "   - The receiver uses the orthogonality of the Alamouti code to decode $ s_1 $ and $ s_2 $ by combining $ r_1 $ and $ r_2 $.\n",
    "   - The decoding process yields estimates of $ s_1 $ and $ s_2 $ with **maximum ratio combining** (MRC), taking advantage of the diversity provided by both antennas to maximize the SNR.\n",
    "\n",
    "### Advantages of the Alamouti Code\n",
    "- **Simplicity**: It’s easy to implement and does not require complex decoding, making it suitable for practical systems.\n",
    "- **Full Diversity with Two Transmit Antennas**: It provides significant improvement in reliability and signal quality without the need for additional receive antennas.\n",
    "- **Optimal Performance in 2x1 Systems**: The Alamouti code achieves optimal performance in terms of diversity gain for systems with two transmit antennas and one receive antenna.\n",
    "\n",
    "### Applications\n",
    "The Alamouti code is widely used in standards like **Wi-Fi (802.11n/ac)**, **WiMAX**, and **LTE**, particularly for scenarios where multiple antennas are used at the transmitter to improve link reliability and reduce the probability of deep fades.\n",
    "\n",
    "In summary, the Alamouti code is an efficient, practical space-time code that enhances the robustness of wireless communication systems, especially in fading environments."
   ]
  },
  {
   "cell_type": "code",
   "execution_count": null,
   "id": "d606d460-cfdf-48e7-86e7-bdb7ca12f7d4",
   "metadata": {},
   "outputs": [],
   "source": []
  }
 ],
 "metadata": {
  "kernelspec": {
   "display_name": "Julia 1.11.1",
   "language": "julia",
   "name": "julia-1.11"
  },
  "language_info": {
   "file_extension": ".jl",
   "mimetype": "application/julia",
   "name": "julia",
   "version": "1.11.1"
  }
 },
 "nbformat": 4,
 "nbformat_minor": 5
}
