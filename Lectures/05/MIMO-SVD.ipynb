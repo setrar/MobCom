{
 "cells": [
  {
   "cell_type": "markdown",
   "id": "5cea8216-738a-41eb-8537-d242fa18b396",
   "metadata": {},
   "source": [
    "$$\\textbf{WHAT IS MIMO-SVD COMMUNICATIONS?}$$\n",
    "\n",
    "$\\underline{y} = H \\cdot \\underline{x} + \\underline{n}$\n",
    "\n",
    "![image](images/fig_MIMO-SVD.png)\n",
    "\n",
    "Substitute $H$:  \n",
    "\n",
    "$\n",
    "\\begin{align}\n",
    "\\underline{y} &= U^* \\; \\overbrace{UDV^*}^H \\; V \\cdot \\underline{x} \\, + \\, U^* \\cdot \\underline{n} \\\\\n",
    "&= D \\cdot \\underline{x} \\, + \\, U^* \\cdot n\n",
    "\\end{align}\n",
    "$\n",
    "\n",
    "Where:\n",
    "\n",
    "$H = U_{m \\times m}D_{m \\times n}V_{n \\times n}^*$\n",
    "* $U, V$ unitary  \n",
    "    * $UU^* = U^*U = I$  \n",
    "* $D$ rectangular diagonal  \n",
    "    * $\\sigma_i = D_{ii}$, singular values  \n",
    "    * Non-negative real  \n",
    "\n",
    "\n",
    "For $m < n$:  \n",
    "$\\begin{bmatrix} y_1 \\\\ y_2 \\end{bmatrix} = \\begin{bmatrix} \\sigma_1 & 0 & 0 & 0 \\\\ 0 & \\sigma_2 & 0 & 0 \\end{bmatrix} \\begin{bmatrix} x_1 \\\\ x_2 \\\\ x_3 \\\\ x_4 \\end{bmatrix}$\n",
    "\n",
    "For $m > n$:  \n",
    "$\\begin{bmatrix} y_1 \\\\ y_2 \\\\ y_3 \\\\ y_4 \\end{bmatrix} = \\begin{bmatrix} \\sigma_1 & 0 \\\\ 0 & \\sigma_2 \\\\ 0 & 0 \\\\ 0 & 0 \\end{bmatrix} \\begin{bmatrix} x_1 \\\\ x_2 \\end{bmatrix}$\n",
    "\n",
    "**$\\forall \\; \\alpha = \\min(m, n)$**\n",
    "\n",
    "![image](images/fig_waterfilling.png)\n",
    "\n",
    "\n",
    "\n",
    "Diagram showing singular values $\\sigma_i$:  \n",
    "$y_1, y_2, \\dots, y_\\alpha$ passing through individual $\\sigma_i$ blocks with corresponding outputs $x_1, x_2, \\dots, x_\\alpha$.\n",
    "\n",
    "# References\n",
    "\n",
    "- [ ] [**WHAT IS MIMO-SVD COMMUNICATIONS?**](https://www.youtube.com/watch?v=QquQSOoRFsI)"
   ]
  },
  {
   "cell_type": "code",
   "execution_count": null,
   "id": "218ea72f-cbf2-4e3f-9f0b-b33502b7330c",
   "metadata": {},
   "outputs": [],
   "source": []
  }
 ],
 "metadata": {
  "kernelspec": {
   "display_name": "Julia 1.11.3",
   "language": "julia",
   "name": "julia-1.11"
  },
  "language_info": {
   "file_extension": ".jl",
   "mimetype": "application/julia",
   "name": "julia",
   "version": "1.11.3"
  }
 },
 "nbformat": 4,
 "nbformat_minor": 5
}
