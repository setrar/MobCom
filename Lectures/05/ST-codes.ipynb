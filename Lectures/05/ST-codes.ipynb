{
 "cells": [
  {
   "cell_type": "markdown",
   "id": "94306152-398c-4d9d-bf0d-fb1ff5537a91",
   "metadata": {},
   "source": [
    "Good design criteria for **space-time (ST) codes** focus on maximizing reliability, efficiency, and ease of decoding in MIMO systems. Key criteria include:\n",
    "\n",
    "1. **Diversity Criterion**: Maximize the diversity order by ensuring the code achieves **full spatial diversity**. This is done by designing codeword difference matrices that are full rank, which provides robustness against fading.\n",
    "\n",
    "2. **Coding Gain Criterion**: Maximize the **minimum determinant** of the codeword difference matrices over all distinct codeword pairs. A larger minimum determinant increases the separation between codewords, which enhances error performance by reducing the chance of symbol confusion.\n",
    "\n",
    "3. **Rate Criterion**: Design codes that achieve **high spectral efficiency**, maximizing the number of information symbols per channel use while maintaining diversity and coding gain. High-rate codes allow better data throughput without sacrificing reliability.\n",
    "\n",
    "4. **Orthogonality Criterion**: Where possible, design **orthogonal or quasi-orthogonal codes** to enable linear, low-complexity decoding. Orthogonal codes (e.g., Alamouti code for 2 transmit antennas) simplify the receiver design and reduce computational burden.\n",
    "\n",
    "5. **Multiplexing-Diversity Tradeoff**: For systems that require both high data rate and reliability, design codes that achieve a balance between **spatial multiplexing** (to increase data rate) and **diversity** (to reduce errors), based on the specific requirements of the application.\n",
    "\n",
    "These criteria ensure that ST codes provide **reliable, efficient, and scalable** performance in various MIMO communication environments."
   ]
  },
  {
   "cell_type": "markdown",
   "id": "5f657036-794d-4404-a5d9-7fdb496d1c7b",
   "metadata": {},
   "source": [
    "- $\\mathscr{X} = \\{ X_1, X_2, \\cdots, X_N \\} \\subseteq \\mathbb{C}^{L \\times T}$\n",
    "\n",
    "- $\\mathbb{E}\\{|X|_T^2\\} = P . T$\n",
    "\n",
    "- $P_{err} \\leq \\frac{4^L}{P^L det( \\Delta X \\Delta X^\\prime )}$\n",
    "\n",
    "- $\\mathscr{X}_C = \\{ X_1, X_2, X_3, X_4 \\}$\n",
    "\n",
    "- $\\mathscr{X}_S = \\{ Q_1, Q_2, Q_3, Q_4 \\}$\n",
    "\n",
    "- $L = 2, T = 2$\n",
    "\n",
    "- $R = \\frac{\\log_2 |\\mathscr{X}|}{T} =  \\frac{\\log_2 4}{2} = 1 \\text{b.p.c.u} $\n",
    "\n",
    "1) Power Normalize\n",
    "2) $\n",
    "\\begin{aligned}\n",
    "\\text{for} &( x_i : 1 -> 2^{RT}) \\\\\n",
    "&\\text{for} ( x_S : i + 1 -> 2^{RT}) \\\\\n",
    "&\\quad \\Delta X\\prime = X_i^\\prime - X_j^\\prime \\quad \\text{// difference matrix}\\\\\n",
    "&\\quad det_{ij} = det( \\Delta X^\\prime X^{\\prime *}) \\\\\n",
    "&\\text{end} \\\\\n",
    "\\text{end}\n",
    "\\end{aligned}\n",
    "$\n",
    "3) $\\min_{\\Delta X'} \\left\\{ \\Delta X' \\Delta X'^H \\right\\} $\n"
   ]
  },
  {
   "cell_type": "code",
   "execution_count": null,
   "id": "926d2594-39f0-463f-811a-2912c8e5dae4",
   "metadata": {},
   "outputs": [],
   "source": []
  },
  {
   "cell_type": "code",
   "execution_count": null,
   "id": "46552968-2423-45c3-8ed3-f0f6b42e914a",
   "metadata": {},
   "outputs": [],
   "source": []
  }
 ],
 "metadata": {
  "kernelspec": {
   "display_name": "Julia 1.11.1",
   "language": "julia",
   "name": "julia-1.11"
  },
  "language_info": {
   "file_extension": ".jl",
   "mimetype": "application/julia",
   "name": "julia",
   "version": "1.11.1"
  }
 },
 "nbformat": 4,
 "nbformat_minor": 5
}
