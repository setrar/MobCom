{
 "cells": [
  {
   "cell_type": "markdown",
   "id": "e0a1933b-4aa9-4107-8680-2a7deb4c86a5",
   "metadata": {},
   "source": [
    "# &#x1F4DC; Lecture 5"
   ]
  },
  {
   "cell_type": "markdown",
   "id": "3869b532-2038-4c31-ba2a-414967ecffc0",
   "metadata": {},
   "source": [
    "## &#x274D; _Space-Time Code design criterion_."
   ]
  },
  {
   "cell_type": "code",
   "execution_count": null,
   "id": "d852c7cb-9677-4e37-b82b-b4c888ff94c6",
   "metadata": {},
   "outputs": [],
   "source": []
  },
  {
   "cell_type": "markdown",
   "id": "a5e14025-a7fd-44de-b969-4f2273e69c43",
   "metadata": {},
   "source": [
    "## &#x274D; Role of coding gain of degrees of freedom.\n",
    "\n",
    "**Role of coding gain & degrees of freedom**\n",
    "\n",
    "- Explore this using the determinant.\n",
    "- Consider MISO with $ L = 2 $ TX antennas.\n",
    "- Look at two distinct example cases.\n",
    "\n",
    "**Example**\n",
    "- $ \\cal{X}_1 $ is repetition code $(L = T = 2)$. $\\cal{X}_2 $ is Alamouti $(L = T = 2)$.\n",
    "- $ 4 $-PAM <- $(R = 1 \\text{ bpcu}) \\rightarrow $ (BPSK)\n"
   ]
  },
  {
   "cell_type": "markdown",
   "id": "63e0d2ed-90a2-4051-a882-08d767d6001b",
   "metadata": {},
   "source": [
    "#### - **Repetition code**\n",
    "\n",
    "$\n",
    "X = \\left\\{ X_1 = \\begin{pmatrix} 1 & 0 \\\\ 0 & 1 \\end{pmatrix}, X_2 = \\begin{pmatrix} -1 & 0 \\\\ 0 & -1 \\end{pmatrix}, X_3 = \\begin{pmatrix} 0 & 3 \\\\ 3 & 0 \\end{pmatrix}, X_4 = \\begin{pmatrix} 0 & -3 \\\\ -3 & 0 \\end{pmatrix} \\right\\}\n",
    "$\n",
    "\n",
    "$\n",
    "E(\\|X\\|^2) = \\frac{2 + 2 + 18 + 18}{4} = 10 = P \\cdot T \\Rightarrow P = 5\n",
    "$\n",
    "\n",
    "3. **$ X' = \\frac{1}{\\sqrt{P}} X $**\n",
    "\n",
    "$\n",
    "X' = \\left\\{ X_1' = \\frac{1}{\\sqrt{5}} \\begin{pmatrix} 1 & 0 \\\\ 0 & 1 \\end{pmatrix}, X_2' = \\frac{1}{\\sqrt{5}} \\begin{pmatrix} -1 & 0 \\\\ 0 & -1 \\end{pmatrix}, \\ldots, X_4' = \\frac{1}{\\sqrt{5}} \\begin{pmatrix} 0 & -3 \\\\ -3 & 0 \\end{pmatrix} \\right\\}\n",
    "$\n",
    "\n",
    "$\n",
    "\\Delta X' = \\left\\{ \\Delta X_{12}' = \\frac{1}{\\sqrt{5}} \\begin{pmatrix} 2 & 0 \\\\ 0 & 2 \\end{pmatrix}, \\Delta X_{13}' = \\frac{1}{\\sqrt{5}} \\begin{pmatrix} 1 & -3 \\\\ -3 & 1 \\end{pmatrix}, \\Delta X_{14}' = \\frac{1}{\\sqrt{5}} \\begin{pmatrix} -1 & -3 \\\\ -3 & -1 \\end{pmatrix}, \\Delta X_{23}' = \\frac{1}{\\sqrt{5}} \\begin{pmatrix} 1 & 3 \\\\ 3 & 1 \\end{pmatrix}, \\Delta X_{24}' = \\frac{1}{\\sqrt{5}} \\begin{pmatrix} -1 & 3 \\\\ 3 & -1 \\end{pmatrix}, \\Delta X_{34}' = \\frac{1}{\\sqrt{5}} \\begin{pmatrix} 0 & 6 \\\\ 6 & 0 \\end{pmatrix} \\right\\}\n",
    "$\n",
    "\n",
    "$\n",
    "\\min_{\\Delta X'} \\left\\{ \\Delta X' \\Delta X'^H \\right\\} = \\det \\left[ \\frac{1}{\\sqrt{5}} \\begin{pmatrix} 2 & 0 \\\\ 0 & 2 \\end{pmatrix} \\right]^4 = \\det \\left[ \\frac{1}{5} \\begin{pmatrix} 4 & 0 \\\\ 0 & 4 \\end{pmatrix} \\right] = \\frac{16}{25}\n",
    "$"
   ]
  },
  {
   "cell_type": "code",
   "execution_count": null,
   "id": "44ba67cb-fb76-4657-844a-4f07058fff49",
   "metadata": {},
   "outputs": [],
   "source": []
  }
 ],
 "metadata": {
  "kernelspec": {
   "display_name": "Julia 1.11.1",
   "language": "julia",
   "name": "julia-1.11"
  },
  "language_info": {
   "file_extension": ".jl",
   "mimetype": "application/julia",
   "name": "julia",
   "version": "1.11.1"
  }
 },
 "nbformat": 4,
 "nbformat_minor": 5
}
