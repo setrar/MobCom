{
 "cells": [
  {
   "cell_type": "markdown",
   "id": "e0a1933b-4aa9-4107-8680-2a7deb4c86a5",
   "metadata": {},
   "source": [
    "# &#x1F4DC; Lecture 5"
   ]
  },
  {
   "cell_type": "markdown",
   "id": "3869b532-2038-4c31-ba2a-414967ecffc0",
   "metadata": {},
   "source": [
    "## &#x274D; _Space-Time Code design criterion_."
   ]
  },
  {
   "cell_type": "markdown",
   "id": "69baa8dd-fe3c-4a0a-9679-fa5d3155fe26",
   "metadata": {},
   "source": [
    "***Recall Task***: \n",
    "- L tx-antennas, T - time slots\n",
    "- Quasi-static block fading\n",
    "- $T_c \\gt T$ (no time diversity, hope for spatial diversity)\n",
    "\n",
    "Looking for a $L \\times T$ code $\\mathcal{X}$\n",
    "\n",
    "<img src=images/lecture5_ST_code-design-criterion.png width='70%' height='70%' > </img>"
   ]
  },
  {
   "cell_type": "markdown",
   "id": "a5e14025-a7fd-44de-b969-4f2273e69c43",
   "metadata": {},
   "source": [
    "## &#x274D; Role of coding gain of degrees of freedom.\n",
    "\n",
    "**Role of coding gain & degrees of freedom**\n",
    "\n",
    "- Explore this using the determinant.\n",
    "- Consider MISO with $ L = 2 $ TX antennas.\n",
    "- Look at two distinct example cases.\n",
    "\n",
    "**Example**\n",
    "- $ \\cal{X}_1 $ is repetition code $(L = T = 2)$. $\\cal{X}_2 $ is Alamouti $(L = T = 2)$.\n",
    "- $ 4 $-PAM <- $(R = 1 \\text{ bpcu}) \\rightarrow $ (BPSK)\n"
   ]
  },
  {
   "cell_type": "markdown",
   "id": "63e0d2ed-90a2-4051-a882-08d767d6001b",
   "metadata": {},
   "source": [
    "### - **Repetition code Example**\n",
    "\n",
    "Given:\n",
    "$\n",
    "X = \\left\\{ X_1 = \\begin{pmatrix} 1 & 0 \\\\ 0 & 1 \\end{pmatrix}, X_2 = \\begin{pmatrix} -1 & 0 \\\\ 0 & -1 \\end{pmatrix}, X_3 = \\begin{pmatrix} 0 & 3 \\\\ 3 & 0 \\end{pmatrix}, X_4 = \\begin{pmatrix} 0 & -3 \\\\ -3 & 0 \\end{pmatrix} \\right\\}\n",
    "$\n",
    "\n",
    "We are asked to find the expected value $ E(\\|X\\|^2) $, where $ \\|X_i\\|^2 $ represents the **Frobenius norm squared** of each matrix $ X_i $. The Frobenius norm squared of a matrix $ X_i $ is the sum of the squares of its elements.\n",
    "\n",
    "#### Step 1: Calculate $ \\|X_i\\|^2 $ for each matrix $ X_i $\n",
    "\n",
    "1. **For $ X_1 = \\begin{pmatrix} 1 & 0 \\\\ 0 & 1 \\end{pmatrix} $:**\n",
    "   $\n",
    "   \\|X_1\\|^2 = 1^2 + 0^2 + 0^2 + 1^2 = 1 + 1 = 2\n",
    "   $\n",
    "\n",
    "2. **For $ X_2 = \\begin{pmatrix} -1 & 0 \\\\ 0 & -1 \\end{pmatrix} $:**\n",
    "   $\n",
    "   \\|X_2\\|^2 = (-1)^2 + 0^2 + 0^2 + (-1)^2 = 1 + 1 = 2\n",
    "   $\n",
    "\n",
    "3. **For $ X_3 = \\begin{pmatrix} 0 & 3 \\\\ 3 & 0 \\end{pmatrix} $:**\n",
    "   $\n",
    "   \\|X_3\\|^2 = 0^2 + 3^2 + 3^2 + 0^2 = 9 + 9 = 18\n",
    "   $\n",
    "\n",
    "4. **For $ X_4 = \\begin{pmatrix} 0 & -3 \\\\ -3 & 0 \\end{pmatrix} $:**\n",
    "   $\n",
    "   \\|X_4\\|^2 = 0^2 + (-3)^2 + (-3)^2 + 0^2 = 9 + 9 = 18\n",
    "   $\n",
    "\n",
    "#### Step 2: Calculate the Expected Value $ E(\\|X\\|^2) $\n",
    "\n",
    "The expected value $ E(\\|X\\|^2) $ is the average of these squared norms:\n",
    "$\n",
    "E(\\|X\\|^2) = \\frac{\\|X_1\\|^2 + \\|X_2\\|^2 + \\|X_3\\|^2 + \\|X_4\\|^2}{4} = \\frac{2 + 2 + 18 + 18}{4} = \\frac{40}{4} = 10\n",
    "$\n",
    "\n",
    "#### Step 3: Interpret $ P $ as 5\n",
    "\n",
    "The result shows that $ E(\\|X\\|^2) = 10 $. If we interpret this as $ E(\\|X\\|^2) = P \\cdot T $, and we know $ T = 2 $ (possibly representing the number of antennas or a similar parameter), then:\n",
    "\n",
    "$\n",
    "P = \\frac{10}{2} = 5\n",
    "$\n",
    "\n",
    "Thus, we conclude that $ P = 5 $ in this context. \n",
    "\n",
    "### Summary\n",
    "\n",
    "The calculation verifies that $ E(\\|X\\|^2) = 10 $, and if $ E(\\|X\\|^2) = P \\cdot T $ with $ T = 2 $, then $ P = 5 $.\n",
    "\n",
    "3. **$ X' = \\frac{1}{\\sqrt{P}} X $**\n",
    "\n",
    "$\n",
    "X' = \\left\\{ X_1' = \\frac{1}{\\sqrt{5}} \\begin{pmatrix} 1 & 0 \\\\ 0 & 1 \\end{pmatrix}, X_2' = \\frac{1}{\\sqrt{5}} \\begin{pmatrix} -1 & 0 \\\\ 0 & -1 \\end{pmatrix}, \\ldots, X_4' = \\frac{1}{\\sqrt{5}} \\begin{pmatrix} 0 & -3 \\\\ -3 & 0 \\end{pmatrix} \\right\\}\n",
    "$\n",
    "\n",
    "$\n",
    "\\Delta X' = \\left\\{ \\Delta X_{12}' = \\frac{1}{\\sqrt{5}} \\begin{pmatrix} 2 & 0 \\\\ 0 & 2 \\end{pmatrix}, \\Delta X_{13}' = \\frac{1}{\\sqrt{5}} \\begin{pmatrix} 1 & -3 \\\\ -3 & 1 \\end{pmatrix}, \\Delta X_{14}' = \\frac{1}{\\sqrt{5}} \\begin{pmatrix} -1 & -3 \\\\ -3 & -1 \\end{pmatrix}, \\Delta X_{23}' = \\frac{1}{\\sqrt{5}} \\begin{pmatrix} 1 & 3 \\\\ 3 & 1 \\end{pmatrix}, \\Delta X_{24}' = \\frac{1}{\\sqrt{5}} \\begin{pmatrix} -1 & 3 \\\\ 3 & -1 \\end{pmatrix}, \\Delta X_{34}' = \\frac{1}{\\sqrt{5}} \\begin{pmatrix} 0 & 6 \\\\ 6 & 0 \\end{pmatrix} \\right\\}\n",
    "$\n",
    "\n",
    "$\n",
    "\\min_{\\Delta X'} \\left\\{ \\Delta X' \\Delta X'^H \\right\\} = \\det \\left[ \\frac{1}{\\sqrt{5}} \\begin{pmatrix} 2 & 0 \\\\ 0 & 2 \\end{pmatrix} \\right]^4 = \\det \\left[ \\frac{1}{5} \\begin{pmatrix} 4 & 0 \\\\ 0 & 4 \\end{pmatrix} \\right] = \\frac{16}{25}\n",
    "$\n"
   ]
  },
  {
   "cell_type": "code",
   "execution_count": null,
   "id": "44ba67cb-fb76-4657-844a-4f07058fff49",
   "metadata": {},
   "outputs": [],
   "source": []
  }
 ],
 "metadata": {
  "kernelspec": {
   "display_name": "Julia 1.11.1",
   "language": "julia",
   "name": "julia-1.11"
  },
  "language_info": {
   "file_extension": ".jl",
   "mimetype": "application/julia",
   "name": "julia",
   "version": "1.11.1"
  }
 },
 "nbformat": 4,
 "nbformat_minor": 5
}
