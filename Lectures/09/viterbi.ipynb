{
 "cells": [
  {
   "cell_type": "markdown",
   "id": "701f9335-62d1-47d5-853c-82cc120b272b",
   "metadata": {},
   "source": [
    "# Julia Implementation of Viterbi Algorithm"
   ]
  },
  {
   "cell_type": "code",
   "execution_count": 1,
   "id": "dfef314b-aed8-47ee-a4f7-ccc5ef7348e9",
   "metadata": {},
   "outputs": [
    {
     "data": {
      "text/plain": [
       "Viterbi (generic function with 1 method)"
      ]
     },
     "execution_count": 1,
     "metadata": {},
     "output_type": "execute_result"
    }
   ],
   "source": [
    "function Viterbi(states, init, trans, emit, obs)\n",
    "    # Input:\n",
    "    # states: Array of hidden states (e.g., [1, 2, ..., S])\n",
    "    # init: Array of initial probabilities for each state\n",
    "    # trans: S × S transition matrix (transition probabilities between states)\n",
    "    # emit: S × O emission matrix (probabilities of observations given states)\n",
    "    # obs: Array of T observations (sequence of observations)\n",
    "\n",
    "    T = length(obs)  # Number of observations\n",
    "    S = length(states)  # Number of states\n",
    "\n",
    "    # Initialize matrices\n",
    "    prob = zeros(T, S)  # T × S matrix for probabilities\n",
    "    prev = fill(NaN, T, S)  # T × S matrix for storing previous states\n",
    "\n",
    "    # Initialization step (t = 0)\n",
    "    for s in 1:S\n",
    "        prob[1, s] = init[s] * emit[s, obs[1]]  # Calculate initial probabilities\n",
    "    end\n",
    "\n",
    "    # Recursion step (t = 1 to T-1)\n",
    "    for t in 2:T\n",
    "        for s in 1:S\n",
    "            for r in 1:S\n",
    "                new_prob = prob[t - 1, r] * trans[r, s] * emit[s, obs[t]]\n",
    "                if new_prob > prob[t, s]\n",
    "                    prob[t, s] = new_prob\n",
    "                    prev[t, s] = r  # Store the state r that maximized the probability\n",
    "                end\n",
    "            end\n",
    "        end\n",
    "    end\n",
    "\n",
    "    # Backtracking to find the most probable path\n",
    "    path = Vector{Int}(undef, T)  # Array to store the path\n",
    "    path[T] = argmax(prob[T, :])  # Find the state with the highest probability at the last time step\n",
    "\n",
    "    for t in (T - 1):-1:1\n",
    "        path[t] = prev[t + 1, path[t + 1]]  # Follow the back-pointers to reconstruct the path\n",
    "    end\n",
    "\n",
    "    return path\n",
    "end"
   ]
  },
  {
   "cell_type": "markdown",
   "id": "999b9de6-9fb9-4671-9b9f-a28faf68c0a8",
   "metadata": {},
   "source": [
    "## **Explanation**\n",
    "\n",
    "1. **Inputs**:\n",
    "   - `states`: Hidden states (e.g., $S_1, S_2, \\ldots, S_S$).\n",
    "   - `init`: Initial probabilities $P(S_i)$ for each state.\n",
    "   - `trans`: Transition probabilities $P(S_j | S_i)$ between states.\n",
    "   - `emit`: Emission probabilities $P(O_k | S_i)$ of observations $O_k$ given states.\n",
    "   - `obs`: Sequence of observations.\n",
    "\n",
    "2. **Initialization**:\n",
    "   - At $t = 0$, calculate the initial probabilities using $init[s] \\cdot emit[s, obs[1]]$.\n",
    "\n",
    "3. **Recursion**:\n",
    "   - For $t = 1$ to $T - 1$, compute probabilities for each state $s$ by considering all possible previous states $r$.\n",
    "   - Track the state $r$ that maximized the probability.\n",
    "\n",
    "4. **Backtracking**:\n",
    "   - Start from the state with the maximum probability at the final time step.\n",
    "   - Follow the `prev` matrix to reconstruct the most probable sequence of states.\n",
    "\n",
    "5. **Output**:\n",
    "   - Returns the most probable sequence of hidden states.\n",
    "\n"
   ]
  },
  {
   "cell_type": "code",
   "execution_count": 2,
   "id": "a890abbe-e848-4249-ad90-8127c2d82f9e",
   "metadata": {},
   "outputs": [
    {
     "name": "stdout",
     "output_type": "stream",
     "text": [
      "Most probable path: [1, 1, 1]\n"
     ]
    }
   ],
   "source": [
    "states = [1, 2, 3]  # Hidden states\n",
    "init = [0.5, 0.2, 0.3]  # Initial probabilities\n",
    "trans = [0.7 0.2 0.1; 0.1 0.6 0.3; 0.3 0.3 0.4]  # Transition probabilities\n",
    "emit = [0.9 0.1; 0.2 0.8; 0.1 0.9]  # Emission probabilities\n",
    "obs = [1, 2, 1]  # Observation sequence (1-based indexing)\n",
    "\n",
    "# Run the Viterbi algorithm\n",
    "most_probable_path = Viterbi(states, init, trans, emit, obs)\n",
    "println(\"Most probable path: \", most_probable_path)"
   ]
  },
  {
   "cell_type": "markdown",
   "id": "00fee33a-57f4-488a-ae7b-a84c068a6da0",
   "metadata": {},
   "source": [
    "## **Output**\n",
    "For the example above, the algorithm will return the most probable sequence of states corresponding to the observation sequence."
   ]
  },
  {
   "cell_type": "markdown",
   "id": "4fa14635-1720-4382-93ed-00f3947802aa",
   "metadata": {},
   "source": [
    "# References\n",
    "\n",
    "[Viterbi_algorithm](https://en.wikipedia.org/wiki/Viterbi_algorithm)"
   ]
  },
  {
   "cell_type": "code",
   "execution_count": null,
   "id": "f4eb3b9b-407b-4e3b-a818-be727c10113d",
   "metadata": {},
   "outputs": [],
   "source": []
  }
 ],
 "metadata": {
  "kernelspec": {
   "display_name": "Julia 1.11.1",
   "language": "julia",
   "name": "julia-1.11"
  },
  "language_info": {
   "file_extension": ".jl",
   "mimetype": "application/julia",
   "name": "julia",
   "version": "1.11.1"
  }
 },
 "nbformat": 4,
 "nbformat_minor": 5
}
