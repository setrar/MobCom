{
 "cells": [
  {
   "cell_type": "markdown",
   "id": "47c31274-2f0d-48ba-b01d-ff88838cc96b",
   "metadata": {},
   "source": [
    "# &#x1F4DC; Lecture 2\n",
    "\n",
    "Let us now understand the **input/output** relationship at the **discrete-time baseband complex domain**."
   ]
  },
  {
   "cell_type": "markdown",
   "id": "403a50e2-0929-4a48-aa3c-13c627ace253",
   "metadata": {},
   "source": [
    "Recall: \"meet me at 4pm\"\n",
    "\n",
    "$\n",
    "\\begin{align}\n",
    "{\\color{cyan}\\text{we want this}} \\\\\n",
    "{\\color{orange}h_b(t,\\tau)} \\\\\n",
    "\\end{align}\n",
    "$\n",
    "\n",
    "$$\n",
    "\\underbrace{\n",
    "\\{ x_1, x_2, \\dots, x_n \\}\n",
    "}_{\\text{discrete complex}}\n",
    "{\\color{cyan}\n",
    "\\xrightarrow{\\quad } \n",
    "\\boxed{ sinc(W_t - n) } \\xrightarrow{\\quad } \n",
    "x_b(t) \\xrightarrow{\\quad } \n",
    "}\n",
    "{\\color{orange}\n",
    "\\underset{\\hat{\n",
    "\\begin{matrix}\n",
    "  & | \\\\\n",
    "  \\cos \\\\\n",
    "  \\approx\n",
    "\\end{matrix} 2\\pi f_c t}\n",
    "}{\\bigotimes}\n",
    "\\xrightarrow{\\quad x(t) \\quad }  \\boxed{\\qquad h(t, \\tau) \\qquad } \\xrightarrow{ \\quad y(t) \\quad } \n",
    "\\underset{\\hat{\n",
    "\\begin{matrix}\n",
    "  & | \\\\\n",
    "  \\cos \\\\\n",
    "  \\approx\n",
    "\\end{matrix} 2\\pi f_c t}\n",
    "}{\\bigotimes}\n",
    "}\n",
    "{\\color{cyan}\n",
    "\\xrightarrow{\\quad y_b(t) \\quad}\n",
    "\\overset{\\overset{\\text{sample}}{f_s = \\frac{1}{w}}}{\\overrightarrow{/}}\n",
    "\\xrightarrow{\\quad}\n",
    "}\n",
    "\\underbrace{\n",
    "\\{ y_1, y_2, \\dots, y_n \\}\n",
    "}_{\\text{discrete complex}}\n",
    "$$\n"
   ]
  },
  {
   "cell_type": "markdown",
   "id": "580c2565-9c3c-4a64-9baf-cb9efb6cbb5f",
   "metadata": {},
   "source": [
    "- to get sequence\n",
    "$\n",
    "\\{ g(n \\tau_s) \\}\n",
    "$\n",
    "\n",
    "- to get\n",
    "$\n",
    "g_{\\delta}(t) = \\sum\\limits_{n=-\\infty}^{\\infty} g(n\\tau_s) \\cdot \\delta(t - n\\tau_s)\n",
    "$"
   ]
  },
  {
   "cell_type": "code",
   "execution_count": null,
   "id": "07869a1d-2883-46a7-abef-5ba90470b14d",
   "metadata": {},
   "outputs": [],
   "source": []
  }
 ],
 "metadata": {
  "kernelspec": {
   "display_name": "Julia 1.11.1",
   "language": "julia",
   "name": "julia-1.11"
  },
  "language_info": {
   "file_extension": ".jl",
   "mimetype": "application/julia",
   "name": "julia",
   "version": "1.11.1"
  }
 },
 "nbformat": 4,
 "nbformat_minor": 5
}
