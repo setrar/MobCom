{
 "cells": [
  {
   "cell_type": "markdown",
   "id": "0e07ca8f-c56d-4dd1-aa20-588c1ad67978",
   "metadata": {},
   "source": [
    "### **Singleton Bound**  \n",
    "For a block code $[n, k, d]$:  \n",
    "$d \\leq n - k + 1$\n",
    "- $n$: Codeword length.  \n",
    "- $k$: Information symbols.  \n",
    "- $d$: Minimum distance.  \n",
    "\n",
    "---\n",
    "\n",
    "### **MDS Codes**  \n",
    "Codes that achieve equality ($d = n - k + 1$) are **Maximum Distance Separable (MDS) Codes**.  \n",
    "\n",
    "**Examples**:  \n",
    "- **Reed-Solomon Codes** ($[n, k, n-k+1]$ over $GF(q)$).  \n",
    "- Simple parity-check codes ($[n, n-1, 2]$).  \n",
    "- Binary repetition codes ($[n, 1, n]$).  \n",
    "\n",
    "---\n",
    "\n",
    "### **Key Points**  \n",
    "- **Optimal Codes**: Maximize error correction for given $n, k$.  \n",
    "- **Applications**: Data storage (RAID), communication (satellites), distributed systems.  \n",
    "- **Trade-Off**: High $d$ requires more redundancy (smaller $k$).  "
   ]
  },
  {
   "cell_type": "code",
   "execution_count": null,
   "id": "d7edf606-3a6f-4e68-839f-6aa8810045ee",
   "metadata": {},
   "outputs": [],
   "source": []
  }
 ],
 "metadata": {
  "kernelspec": {
   "display_name": "Julia 1.11.1",
   "language": "julia",
   "name": "julia-1.11"
  },
  "language_info": {
   "file_extension": ".jl",
   "mimetype": "application/julia",
   "name": "julia",
   "version": "1.11.1"
  }
 },
 "nbformat": 4,
 "nbformat_minor": 5
}
