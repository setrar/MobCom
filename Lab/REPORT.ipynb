{
 "cells": [
  {
   "cell_type": "markdown",
   "id": "89c9d2ae-d1c9-41f2-a616-5d6d3fa0fbd9",
   "metadata": {},
   "source": [
    "| MATLAB PROJECT for MOBCOM |\n",
    "|:-:|\n",
    "| EURECOM |\n",
    "| November 21st, 2024 |\n",
    "| Class Instructor: Petros Elia |\n",
    "| elia@eurecom.fr |\n",
    "\n",
    "- Read carefully the following questions, and using MATLAB, provide the answers/plots in the form of a report.\n",
    "- The report should include a title page, and should be properly labeled and named. The report should be in the form of a PDF.\n",
    "- Graphs should include labels, titles, and captions.\n",
    "- Each graph should be accompanied with pertinent comments.\n",
    "- Use optimal (maximum likelihood) decoders, unless stated otherwise.\n",
    "- To compare the empirical results with the corresponding theoretical result, you should superimpose the two corresponding graphs and provide comments and intuition on the comparison.\n",
    "- For each plot, describe the theoretical background that guides the proper choice of parameters for simulations (i.e., power constraint).\n",
    "- You can work in groups of two or three.\n",
    "\n",
    "Regarding Grading:\n",
    "- All questions are weighted equally.\n",
    "- Submit your report (labeled and named) via email, to Hui Zhao (Hui.Zhao@eurecom.fr) and to myself.\n",
    "- Submission deadline is December 12th, 2024.\n",
    "\n",
    "Enjoy!"
   ]
  },
  {
   "cell_type": "markdown",
   "id": "7e24c34b-881b-47b3-aa11-e3e0212c0472",
   "metadata": {},
   "source": [
    "---"
   ]
  },
  {
   "cell_type": "code",
   "execution_count": null,
   "id": "9cb9c2d0-40f4-4aae-ba46-0bf684b6acb4",
   "metadata": {},
   "outputs": [],
   "source": []
  }
 ],
 "metadata": {
  "kernelspec": {
   "display_name": "Julia 1.11.1",
   "language": "julia",
   "name": "julia-1.11"
  },
  "language_info": {
   "file_extension": ".jl",
   "mimetype": "application/julia",
   "name": "julia",
   "version": "1.11.1"
  }
 },
 "nbformat": 4,
 "nbformat_minor": 5
}
