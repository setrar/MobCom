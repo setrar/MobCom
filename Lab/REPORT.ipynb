{
 "cells": [
  {
   "cell_type": "markdown",
   "id": "8d701838-a814-4541-95b8-60d071a33abe",
   "metadata": {},
   "source": [
    "\\author{Brice Robert} \n",
    "\n",
    "***Student:*** Brice Robert, ***Track:*** ICS\n",
    "\n",
    "***Document:*** REPORT.pdf, ***Type:*** Laboratory\n",
    "\n",
    "***Languages used:*** LaTeX, Julia (in lieu of MATLAB)\n",
    "\n",
    "***Tools used:*** Jupyter, nbconvert (converting to PDF)\n",
    "\n",
    "***Permanent Link:*** https://github.com/setrar/MobCom/blob/main/Lab/REPORT.ipynb"
   ]
  },
  {
   "cell_type": "markdown",
   "id": "89c9d2ae-d1c9-41f2-a616-5d6d3fa0fbd9",
   "metadata": {},
   "source": [
    "| MATLAB PROJECT for MOBCOM |\n",
    "|:-:|\n",
    "| EURECOM |\n",
    "| November 21st, 2024 |\n",
    "| Class Instructor: Petros Elia |\n",
    "| elia@eurecom.fr |\n",
    "\n",
    "- Read carefully the following questions, and using MATLAB, provide the answers/plots in the form of a report.\n",
    "- The report should include a title page, and should be properly labeled and named. The report should be in the form of a PDF.\n",
    "- Graphs should include labels, titles, and captions.\n",
    "- Each graph should be accompanied with pertinent comments.\n",
    "- Use optimal (maximum likelihood) decoders, unless stated otherwise.\n",
    "- To compare the empirical results with the corresponding theoretical result, you should superimpose the two corresponding graphs and provide comments and intuition on the comparison.\n",
    "- For each plot, describe the theoretical background that guides the proper choice of parameters for simulations (i.e., power constraint).\n",
    "- You can work in groups of two or three.\n",
    "\n",
    "\n",
    "- Regarding Grading:\n",
    "    - All questions are weighted equally.\n",
    "    - Submit your report (labeled and named) via email, to Hui Zhao (Hui.Zhao@eurecom.fr) and to myself.\n",
    "    - Submission deadline is December 12th, 2024.\n",
    "\n",
    "\n",
    "\n",
    "\n",
    "Enjoy!\n",
    "\n",
    "\n",
    "\n",
    "\n"
   ]
  },
  {
   "cell_type": "markdown",
   "id": "255eb18c-fa1b-4786-a567-76cc54b3a94f",
   "metadata": {},
   "source": [
    "---\n",
    "**$$\\text{PROBLEM 1}$$**\n",
    "\n",
    "Consider communication over the $1 \\times 1$ quasi-static fading channel, using 16-PAM. The channel model is given by  \n",
    "\n",
    "$$\n",
    "\\overbrace{( y )}^{y} = \\theta \\overbrace{(h)}^{h} \\overbrace{(x)}^{\\text{16-PAM:}X_{\\text{tr}}} + \\overbrace{( w )}^{w}\n",
    "$$\n",
    "\n",
    "where $h \\sim \\mathbb{C}N(0, 1)$ (Gaussian Fading) and $w \\sim \\mathbb{C}N(0, 2)$, and where $\\theta$ is the power normalization factor that lets you regulate SNR.  \n",
    "\n",
    "Here, you are supposed to do a simulation of the action of decoding. **PROVIDE THE DETAILS OF HOW YOU SIMULATED.** Tell us which variables you change in each iteration: $h$, codewords, noise, and tell us how you power normalize (emphasis on $\\theta$) so that you achieve a certain signal-to-noise ratio (SNR). Naturally, in each iteration, you decode, using the maximum-likelihood (ML) rule that we learned about:\n",
    "\n",
    "$\\hat{x} = \\arg \\min_{x \\in \\mathcal{X}_{\\text{tr}}} \\|y - \\theta h \\cdot x \\|^2$\n",
    "\n",
    "going over all choices of $x$ in the code $\\mathcal{X}_{\\text{tr}}$.\n",
    "\n",
    "**NOTE:** Do many iterations so that your plots are \"smooth.\" In all the above, the y-axis is the probability of error, in log scale ($\\log_{10}(\\text{Prob})$), and the x-axis is the SNR, in dB.  \n",
    "\n",
    "- **Plot the probability of error** on a logarithmic scale as a function of SNR (dB) by performing Monte-Carlo simulations for when $x$ are independently chosen from 16-PAM.  \n",
    "\n",
    "For the above, use the ML decoder, and plot for SNR values — in steps of 3 dB — up to an SNR value for which your probability of error drops below $5 \\times 10^{-5}$. **Again, clearly explain how you calculate $\\theta$ in each case.**  "
   ]
  },
  {
   "cell_type": "markdown",
   "id": "f4b6eecd-d789-4a68-bad3-a7a54542280b",
   "metadata": {},
   "source": [
    "---\n",
    "Import Required Libraries\n"
   ]
  },
  {
   "cell_type": "code",
   "execution_count": 1,
   "id": "96b3a528-0320-4b8e-b447-37d74e3b6455",
   "metadata": {},
   "outputs": [],
   "source": [
    "using Random\n",
    "using Distributions\n",
    "using LinearAlgebra\n",
    "using Plots, LaTeXStrings, Measures \n",
    "using FFTW"
   ]
  },
  {
   "cell_type": "code",
   "execution_count": 2,
   "id": "9083d001-21ae-4585-a3fd-8abf17db04e6",
   "metadata": {},
   "outputs": [],
   "source": [
    "# functions and variables to increase readability\n",
    "include(\"modules/operations.jl\");"
   ]
  },
  {
   "cell_type": "markdown",
   "id": "1c043445-cc16-441c-9f99-44283afd16f1",
   "metadata": {},
   "source": [
    "Step 2: Define Parameters\n",
    "\n",
    "Set the simulation parameters:"
   ]
  },
  {
   "cell_type": "code",
   "execution_count": 3,
   "id": "7ac83a73-b132-46fc-a47c-f2458f3f002c",
   "metadata": {},
   "outputs": [],
   "source": [
    "# Parameters\n",
    "const M = 16  # 16-PAM\n",
    "const n_samples = 10^6  # Number of Monte Carlo samples\n",
    "const σ² = 2.0  # Noise variance\n",
    "const SNR_dB_range = 0:3:30;  # SNR range in dB"
   ]
  },
  {
   "cell_type": "markdown",
   "id": "1508042c-4ff2-449e-8e89-99d218083686",
   "metadata": {},
   "source": [
    "Step 3: Generate 16-PAM Symbol Set\n",
    "\n",
    "Define the 16-PAM constellation:"
   ]
  },
  {
   "cell_type": "code",
   "execution_count": 4,
   "id": "0e60fac9-3ffd-48c6-b196-7c27ad559423",
   "metadata": {},
   "outputs": [
    {
     "name": "stdout",
     "output_type": "stream",
     "text": [
      "(typeof(Xₜᵣ), Xₜᵣ) = (Vector{Int64}, [-15, -13, -11, -9, -7, -5, -3, -1, 1, 3, 5, 7, 9, 11, 13, 15])\n"
     ]
    }
   ],
   "source": [
    "# Generate 16-PAM constellation\n",
    "function generate_16pam()\n",
    "    levels = -15:2:15  # PAM levels\n",
    "    return collect(levels)  # Return as an array\n",
    "end\n",
    "\n",
    "Xₜᵣ = generate_16pam() ; @show typeof(Xₜᵣ), Xₜᵣ;  # Transmitted symbol set"
   ]
  },
  {
   "cell_type": "markdown",
   "id": "3bd44f4e-4028-4b85-b74d-bbdf4d76e434",
   "metadata": {},
   "source": [
    "Step 4: Define Channel Model and Noise\n",
    "\n",
    "1.\tGaussian Fading Channel ($\\tilde{h} \\sim \\mathcal{CN}(0, 1)$):"
   ]
  },
  {
   "cell_type": "code",
   "execution_count": 5,
   "id": "7192a54a-5eb3-4072-9c2b-0cb4d30cc1da",
   "metadata": {},
   "outputs": [
    {
     "data": {
      "text/plain": [
       "generate_gaussian_fading (generic function with 1 method)"
      ]
     },
     "execution_count": 5,
     "metadata": {},
     "output_type": "execute_result"
    }
   ],
   "source": [
    "# Generate Gaussian fading channel\n",
    "function generate_gaussian_fading(n)\n",
    "    real_part = rand(Normal(0, 1), n)  # Real part\n",
    "    imag_part = rand(Normal(0, 1), n)  # Imaginary part\n",
    "    return real_part .+ im .* imag_part  # Complex Gaussian\n",
    "end"
   ]
  },
  {
   "cell_type": "markdown",
   "id": "933e056e-22b3-4c55-a11e-9a5c2edf170c",
   "metadata": {},
   "source": [
    "---\n",
    "**$$\\text{PROBLEM 2}$$**\n",
    "\n",
    "\n",
    "- **Use simulations to establish the probability of deep fade**  \n",
    "\n",
    "$$\n",
    "P(\\|h\\|^2 < \\text{SNR}^{-1})\n",
    "$$\n",
    "\n",
    "for the random fading model:\n",
    "\n",
    "$$\n",
    "y = h \\cdot x + w\n",
    "$$\n",
    "\n",
    "where $w \\sim \\mathbb{C}N(0, 1)$, and where $h$ is a Rician random variable, where you can choose the parameters of this distribution.\n",
    "\n",
    "- **Now do the same when $h$ is now a 3-length vector with i.i.d. Rician elements.**\n",
    "\n",
    "In all the above, the y-axis is the probability of deep fade, in log scale ($\\log_{10}(\\text{Prob})$), and the x-axis is the SNR, in dB."
   ]
  },
  {
   "cell_type": "code",
   "execution_count": null,
   "id": "135053b9-9ebe-460a-b520-450731430568",
   "metadata": {},
   "outputs": [],
   "source": []
  },
  {
   "cell_type": "markdown",
   "id": "9907b642-50e2-4b21-9c6c-3c8efc93ffb2",
   "metadata": {},
   "source": [
    "---\n",
    "**$$\\text{PROBLEM 3}$$**\n",
    "\n",
    "Use simulations to establish the probability of deep fade  \n",
    "\n",
    "$P(\\|\\tilde{h}\\|^2 < \\text{SNR}^{-1})$\n",
    "\n",
    "where $\\|\\tilde{h}\\|^2$ now comes from the $\\chi^2$-squared fading distribution with $2 \\times 3 = 6$ degrees of freedom.\n",
    "\n",
    "- **What do you observe compared to the previous two problems?**\n",
    "\n",
    "In all the above, the y-axis is the probability of deep fade, in log scale ($\\log_{10}(\\text{Prob})$), and the x-axis is the SNR, in dB.  "
   ]
  },
  {
   "cell_type": "code",
   "execution_count": null,
   "id": "07c693ec-d6d0-4f7e-a957-fef21e1d4a50",
   "metadata": {},
   "outputs": [],
   "source": []
  },
  {
   "cell_type": "markdown",
   "id": "cc44c8a3-4944-4b7c-bdf3-eef58d3e8a86",
   "metadata": {},
   "source": [
    "---\n",
    "**$$\\text{PROBLEM 4}$$**\n",
    "\n",
    "Create different experiments to check the validity of the following:\n",
    "\n",
    "- For Gaussian random variables $h_r \\sim \\mathcal{N}(0, \\sigma)$, the far tail is approximated by an exponential, i.e.,  $\n",
    "Q(\\alpha) \\approx e^{-\\alpha^2 / 2 z}.\n",
    "$  Identify what is $z$ in this case.\n",
    "\n",
    "- For $h \\sim \\mathbb{C}\\mathcal{N}(0, 1)$, the near-zero behavior is approximated as follows:  \n",
    "\n",
    "$$\n",
    "P(\\|h\\|^2 < \\epsilon) \\approx \\epsilon.\n",
    "$$ \n",
    "\n",
    "- Same as the above, but for $h \\sim CN(0, 5)$. Show how the near-zero behavior is approximated.\n",
    "\n",
    "**NOTE:** The important thing in the above exercise is to describe **IN DETAIL** the way you perform the different experiments, as well as the results.\n",
    "\n",
    "**NOTE:**  We need statistical experiments, i.e., experiments that involve the generation of random variables, and the measuring of their behavior using — if you wish — histograms."
   ]
  },
  {
   "cell_type": "code",
   "execution_count": null,
   "id": "4a4eedb6-36e9-4f40-9a48-bb162fd35b06",
   "metadata": {},
   "outputs": [],
   "source": []
  }
 ],
 "metadata": {
  "kernelspec": {
   "display_name": "Julia 1.11.1",
   "language": "julia",
   "name": "julia-1.11"
  },
  "language_info": {
   "file_extension": ".jl",
   "mimetype": "application/julia",
   "name": "julia",
   "version": "1.11.1"
  }
 },
 "nbformat": 4,
 "nbformat_minor": 5
}
