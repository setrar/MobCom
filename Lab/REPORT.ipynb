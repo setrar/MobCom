{
 "cells": [
  {
   "cell_type": "markdown",
   "id": "89c9d2ae-d1c9-41f2-a616-5d6d3fa0fbd9",
   "metadata": {},
   "source": [
    "| MATLAB PROJECT for MOBCOM |\n",
    "|:-:|\n",
    "| EURECOM |\n",
    "| November 21st, 2024 |\n",
    "| Class Instructor: Petros Elia |\n",
    "| elia@eurecom.fr |\n",
    "\n",
    "- Read carefully the following questions, and using MATLAB, provide the answers/plots in the form of a report.\n",
    "- The report should include a title page, and should be properly labeled and named. The report should be in the form of a PDF.\n",
    "- Graphs should include labels, titles, and captions.\n",
    "- Each graph should be accompanied with pertinent comments.\n",
    "- Use optimal (maximum likelihood) decoders, unless stated otherwise.\n",
    "- To compare the empirical results with the corresponding theoretical result, you should superimpose the two corresponding graphs and provide comments and intuition on the comparison.\n",
    "- For each plot, describe the theoretical background that guides the proper choice of parameters for simulations (i.e., power constraint).\n",
    "- You can work in groups of two or three.\n",
    "\n",
    "Regarding Grading:\n",
    "- All questions are weighted equally.\n",
    "- Submit your report (labeled and named) via email, to Hui Zhao (Hui.Zhao@eurecom.fr) and to myself.\n",
    "- Submission deadline is December 12th, 2024.\n",
    "\n",
    "Enjoy!"
   ]
  },
  {
   "cell_type": "markdown",
   "id": "255eb18c-fa1b-4786-a567-76cc54b3a94f",
   "metadata": {},
   "source": [
    "---\n",
    "**$$\\text{PROBLEM 1}$$**\n",
    "\n",
    "Consider communication over the $1 \\times 1$ quasi-static fading channel, using 16-PAM. The channel model is given by  \n",
    "\n",
    "$$\n",
    "\\overbrace{( y )}^{y} = \\theta \\overbrace{(h)}^{h} \\overbrace{(x)}^{\\text{16-PAM:}X_{\\text{tr}}} + \\overbrace{( w )}^{w}\n",
    "$$\n",
    "\n",
    "where $h \\sim \\mathbb{C}N(0, 1)$ (Gaussian Fading) and $w \\sim \\mathbb{C}N(0, 2)$, and where $\\theta$ is the power normalization factor that lets you regulate SNR.  \n",
    "\n",
    "Here, you are supposed to do a simulation of the action of decoding. **PROVIDE THE DETAILS OF HOW YOU SIMULATED.** Tell us which variables you change in each iteration: $h$, codewords, noise, and tell us how you power normalize (emphasis on $\\theta$) so that you achieve a certain signal-to-noise ratio (SNR). Naturally, in each iteration, you decode, using the maximum-likelihood (ML) rule that we learned about:\n",
    "\n",
    "$\n",
    "\\hat{x} = \\arg \\min_{x \\in \\mathcal{X}_{\\text{tr}}} \\|y - \\theta h \\cdot x \\|^2\n",
    "$\n",
    "\n",
    "going over all choices of $x$ in the code $\\mathcal{X}_{\\text{tr}}$.\n",
    "\n",
    "**NOTE:** Do many iterations so that your plots are \"smooth.\" In all the above, the y-axis is the probability of error, in log scale ($\\log_{10}(\\text{Prob})$), and the x-axis is the SNR, in dB.  \n",
    "\n",
    "- **Plot the probability of error** on a logarithmic scale as a function of SNR (dB) by performing Monte-Carlo simulations for when $x$ are independently chosen from 16-PAM.  \n",
    "\n",
    "For the above, use the ML decoder, and plot for SNR values — in steps of 3 dB — up to an SNR value for which your probability of error drops below $5 \\times 10^{-5}$. **Again, clearly explain how you calculate $\\theta$ in each case.**  "
   ]
  },
  {
   "cell_type": "code",
   "execution_count": null,
   "id": "0fc11c3f-6a95-4079-a870-4576ed758fb8",
   "metadata": {},
   "outputs": [],
   "source": []
  },
  {
   "cell_type": "markdown",
   "id": "933e056e-22b3-4c55-a11e-9a5c2edf170c",
   "metadata": {},
   "source": [
    "---\n",
    "**$$\\text{PROBLEM 2}$$**\n",
    "\n",
    "\n",
    "- **Use simulations to establish the probability of deep fade**  \n",
    "\n",
    "$$\n",
    "P(\\|h\\|^2 < \\text{SNR}^{-1})\n",
    "$$\n",
    "\n",
    "for the random fading model:\n",
    "\n",
    "$$\n",
    "y = h \\cdot x + w\n",
    "$$\n",
    "\n",
    "where $ w \\sim \\mathbb{C}N(0, 1) $, and where $ h $ is a Rician random variable, where you can choose the parameters of this distribution.\n",
    "\n",
    "- **Now do the same when $ h $ is now a 3-length vector with i.i.d. Rician elements.**\n",
    "\n",
    "In all the above, the y-axis is the probability of deep fade, in log scale ($ \\log_{10}(\\text{Prob}) $), and the x-axis is the SNR, in dB."
   ]
  },
  {
   "cell_type": "code",
   "execution_count": null,
   "id": "284802bd-d0dd-46e4-9169-c37c13b04a6c",
   "metadata": {},
   "outputs": [],
   "source": []
  },
  {
   "cell_type": "markdown",
   "id": "9907b642-50e2-4b21-9c6c-3c8efc93ffb2",
   "metadata": {},
   "source": [
    "---\n",
    "**$$\\text{PROBLEM 3}$$**\n",
    "\n",
    "Use simulations to establish the probability of deep fade  \n",
    "\n",
    "$\n",
    "P(\\|\\tilde{h}\\|^2 < \\text{SNR}^{-1})\n",
    "$\n",
    "\n",
    "where $\\|\\tilde{h}\\|^2$ now comes from the $\\chi^2$-squared fading distribution with $2 \\times 3 = 6$ degrees of freedom.\n",
    "\n",
    "- **What do you observe compared to the previous two problems?**\n",
    "\n",
    "In all the above, the y-axis is the probability of deep fade, in log scale ($\\log_{10}(\\text{Prob})$), and the x-axis is the SNR, in dB.  "
   ]
  },
  {
   "cell_type": "code",
   "execution_count": null,
   "id": "07c693ec-d6d0-4f7e-a957-fef21e1d4a50",
   "metadata": {},
   "outputs": [],
   "source": []
  },
  {
   "cell_type": "markdown",
   "id": "cc44c8a3-4944-4b7c-bdf3-eef58d3e8a86",
   "metadata": {},
   "source": [
    "---\n",
    "**$$\\text{PROBLEM 4}$$**\n",
    "\n",
    "Create different experiments to check the validity of the following:\n",
    "\n",
    "- For Gaussian random variables $ h_r \\sim \\mathcal{N}(0, \\sigma) $, the far tail is approximated by an exponential, i.e.,  $\n",
    "Q(\\alpha) \\approx e^{-\\alpha^2 / 2 z}.\n",
    "$  Identify what is $ z $ in this case.\n",
    "\n",
    "- For $ h \\sim \\mathbb{C}\\mathcal{N}(0, 1) $, the near-zero behavior is approximated as follows:  \n",
    "\n",
    "$$\n",
    "P(\\|h\\|^2 < \\epsilon) \\approx \\epsilon.\n",
    "$$ \n",
    "\n",
    "- Same as the above, but for $ h \\sim CN(0, 5) $. Show how the near-zero behavior is approximated.\n",
    "\n",
    "**NOTE:** The important thing in the above exercise is to describe **IN DETAIL** the way you perform the different experiments, as well as the results.\n",
    "\n",
    "**NOTE:**  We need statistical experiments, i.e., experiments that involve the generation of random variables, and the measuring of their behavior using — if you wish — histograms."
   ]
  },
  {
   "cell_type": "code",
   "execution_count": null,
   "id": "4a4eedb6-36e9-4f40-9a48-bb162fd35b06",
   "metadata": {},
   "outputs": [],
   "source": []
  }
 ],
 "metadata": {
  "kernelspec": {
   "display_name": "Julia 1.11.1",
   "language": "julia",
   "name": "julia-1.11"
  },
  "language_info": {
   "file_extension": ".jl",
   "mimetype": "application/julia",
   "name": "julia",
   "version": "1.11.1"
  }
 },
 "nbformat": 4,
 "nbformat_minor": 5
}
