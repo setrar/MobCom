{
 "cells": [
  {
   "cell_type": "markdown",
   "id": "5d7a332b-8eb9-4343-8ddf-6d97a9e10ccb",
   "metadata": {},
   "source": [
    "# &#x1F4DD; REPORT"
   ]
  },
  {
   "cell_type": "code",
   "execution_count": 1,
   "id": "797e2c35-72f5-4ffe-b69d-911739ff2a0e",
   "metadata": {},
   "outputs": [],
   "source": [
    "## Receive the signal\n",
    "include(\"../data/julia/rxsignal_withchannelandfreqoff.jl\");"
   ]
  },
  {
   "cell_type": "markdown",
   "id": "252af33f-e9da-42ae-8e82-7cc56182f5c4",
   "metadata": {},
   "source": [
    "&#x1F4D1; Note: the `Julia` files translating the `MATLAB` files are located under the `../data/julia` directory. The `Julia` files are just reading the `MATLAB`'s files by using the `MAT` Julia Library. \n",
    "\n",
    "Below a Julia source code example opening the `.mat` MATLAB original file and reading the `rxs3` signal.\n",
    "\n",
    "```julia\n",
    "using MAT\n",
    "\n",
    "ff = matopen(\"../data/matlab/rxsignal_withchannelandfreqoff.mat\");\n",
    "\n",
    "@read ff rxs3;\n",
    "```\n",
    "\n",
    "The original `MATLAB` data files are located under the `../data/matlab` folder and have `NOT` been modified nor altered. "
   ]
  },
  {
   "cell_type": "code",
   "execution_count": 2,
   "id": "8fa29d5f-128c-4e96-973a-c6a047846c4d",
   "metadata": {},
   "outputs": [],
   "source": [
    "## Load the template signal\n",
    "include(\"../data/julia/pss2.jl\");"
   ]
  },
  {
   "cell_type": "code",
   "execution_count": 3,
   "id": "50bc0269-0c89-475e-82af-58707a72d997",
   "metadata": {},
   "outputs": [],
   "source": [
    "using FFTW\n",
    "using DSP"
   ]
  },
  {
   "cell_type": "code",
   "execution_count": 4,
   "id": "4d933994-79f2-44dc-a833-c6321544d2a3",
   "metadata": {},
   "outputs": [],
   "source": [
    "## Load the useful math operations\n",
    "include(\"../modules/operations.jl\");"
   ]
  },
  {
   "cell_type": "code",
   "execution_count": 5,
   "id": "5d4eb3a2-d824-4288-a3bc-b2f0626bf231",
   "metadata": {},
   "outputs": [
    {
     "name": "stdout",
     "output_type": "stream",
     "text": [
      "(size(𝑅ₚₛₛ³), typeof(𝑅ₚₛₛ³)) = ((616447, 1), Matrix{ComplexF64})\n"
     ]
    }
   ],
   "source": [
    "## Assign the received signal a variable Ŝᵣₓ³\n",
    "𝑅ₚₛₛ³ = rxs3; # RX Received Signal 3 File Handle\n",
    "@show size(𝑅ₚₛₛ³), typeof(𝑅ₚₛₛ³);"
   ]
  },
  {
   "cell_type": "code",
   "execution_count": 6,
   "id": "5138fb58-ed24-4186-8d44-264a359286bb",
   "metadata": {},
   "outputs": [],
   "source": [
    "using LinearAlgebra"
   ]
  },
  {
   "cell_type": "code",
   "execution_count": 7,
   "id": "80a7acec-52b5-4a7d-87a5-a20ae449f222",
   "metadata": {},
   "outputs": [
    {
     "name": "stdout",
     "output_type": "stream",
     "text": [
      "(size(𝐻ₚₛₛ²), typeof(𝐻ₚₛₛ²)) = ((2192,), Vector{ComplexF64})\n"
     ]
    }
   ],
   "source": [
    "## Assign the template signal a variable 𝐻ₚₛₛ²\n",
    "## convert the signal in time domain\n",
    "Pₚₛₛ² = pss_2; # File Handle\n",
    "# Hₚₛₛ²ᵀ = transpose(Pₚₛₛ²); # Hessian Transpose ?\n",
    "𝐻ₚₛₛ² = Fᴵ(Pₚₛₛ²); # S Slanted (fourier transform) in time domain\n",
    "𝐻ₚₛₛ² ./= norm(𝐻ₚₛₛ²);\n",
    "𝐻ₚₛₛ² = 𝐻ₚₛₛ²[(end-143):end] ⧺ 𝐻ₚₛₛ²\n",
    "@show size(𝐻ₚₛₛ²), typeof(𝐻ₚₛₛ²); # end is 2048 in this case, concat math "
   ]
  },
  {
   "cell_type": "code",
   "execution_count": 8,
   "id": "21f5a024-9e19-47b7-8572-06028ad78b7c",
   "metadata": {},
   "outputs": [
    {
     "name": "stdout",
     "output_type": "stream",
     "text": [
      "(length(𝐻̅ₚₛₛ²ᴴ), typeof(𝐻ₚₛₛ²)) = (2192, Vector{ComplexF64})\n"
     ]
    }
   ],
   "source": [
    "## Prepare the template signal for convolution\n",
    "𝐻̅ₚₛₛ² = ⦰(𝐻ₚₛₛ²); # reverse #typed H\\overbar\n",
    "𝐻̅ₚₛₛ²ᴴ = conj(𝐻̅ₚₛₛ²); # conjugate \n",
    "@show length(𝐻̅ₚₛₛ²ᴴ), typeof(𝐻ₚₛₛ²);"
   ]
  },
  {
   "cell_type": "code",
   "execution_count": 10,
   "id": "10271271-aab9-4219-85dc-862586ee0b25",
   "metadata": {},
   "outputs": [
    {
     "name": "stdout",
     "output_type": "stream",
     "text": [
      "(size(𝐻̂ₚₛₛ²), typeof(𝐻̂ₚₛₛ²)) = ((618638, 1), Matrix{Float64})\n"
     ]
    }
   ],
   "source": [
    "## Perform the convolution between the 2 signals\n",
    "𝐻̂ₚₛₛ² = 10 * log10.(abs.( 𝑅ₚₛₛ³ ⊗ 𝐻̅ₚₛₛ²ᴴ ))\n",
    "@show size( 𝐻̂ₚₛₛ² ), typeof(𝐻̂ₚₛₛ²);  #typed \\itH\\hat"
   ]
  },
  {
   "cell_type": "code",
   "execution_count": 11,
   "id": "60d94412-e84a-4790-a995-de8ca1f3e041",
   "metadata": {},
   "outputs": [
    {
     "name": "stdout",
     "output_type": "stream",
     "text": [
      "(Ĉᵩ², 𝑁̂𝑓²) = (50.649042476081405, CartesianIndex(6628, 1))\n"
     ]
    }
   ],
   "source": [
    "# Find maximum value and its index\n",
    "Ĉᵩ², 𝑁̂𝑓² = argmax(𝐻̂ₚₛₛ²)\n",
    "@show Ĉᵩ², 𝑁̂𝑓²;"
   ]
  },
  {
   "cell_type": "code",
   "execution_count": 12,
   "id": "b04a0af2-8a12-4a4f-bde8-568df746b7b5",
   "metadata": {},
   "outputs": [],
   "source": [
    "using Plots"
   ]
  },
  {
   "cell_type": "code",
   "execution_count": 13,
   "id": "999aac1f-2c78-4155-b9b7-597cb14cd256",
   "metadata": {},
   "outputs": [],
   "source": [
    "# Plot the result\n",
    "m2_chan_plot = \n",
    "plot(𝐻̂ₚₛₛ², xlabel=\"Sample\", ylabel=\"Power (dB)\", title=\"Convolution Result\", ylim=(-20, 60))\n",
    "savefig(m2_chan_plot,\"images/m2_chan_plot.png\");"
   ]
  },
  {
   "cell_type": "markdown",
   "id": "29c06572-8080-430c-921a-76ec5de4fdb7",
   "metadata": {},
   "source": [
    "<img src=images/m2_chan_plot.png width='' heigth='' > </img>"
   ]
  },
  {
   "cell_type": "code",
   "execution_count": 14,
   "id": "46c284c7-8c7f-4fc8-95f5-7b55acb999bd",
   "metadata": {},
   "outputs": [
    {
     "data": {
      "text/plain": [
       "freq_offset_est (generic function with 1 method)"
      ]
     },
     "execution_count": 14,
     "metadata": {},
     "output_type": "execute_result"
    }
   ],
   "source": [
    "########################################################\n",
    "# Frequency Offset Estimator Function\n",
    "########################################################\n",
    "function freq_offset_est(𝑅ₚₛₛ, 𝐻ₚₛₛ, Nf, m, 𝑓ₛ)\n",
    "\n",
    "    # Frequency offset estimator\n",
    "    Y = zeros(ComplexF64, length(m));\n",
    "    L = length(𝐻ₚₛₛ)\n",
    "    t = 0:(1/𝑓ₛ):((L-1)/𝑓ₛ)\n",
    "\n",
    "    signal_part = 𝑅ₚₛₛ[Nf:(Nf + L -1)]; @show size( signal_part )\n",
    "    for j = 1:length(m)\n",
    "        Y[j] = Y[j] + abs.(∑(exp.(-2*pi*im*m[j].*t) .* conj(𝐻ₚₛₛ) .* ⦰(signal_part)))^2;\n",
    "    end\n",
    "\n",
    "    return Y\n",
    "end"
   ]
  },
  {
   "cell_type": "code",
   "execution_count": 15,
   "id": "a0092c3a-9186-4369-ac2a-551a6492efec",
   "metadata": {},
   "outputs": [
    {
     "data": {
      "text/plain": [
       "2048"
      ]
     },
     "execution_count": 15,
     "metadata": {},
     "output_type": "execute_result"
    }
   ],
   "source": [
    "𝑓ₛ = 61.44e6 # Msamples/s.\n",
    "\n",
    "Δ𝑓 = 10.0\n",
    "m = -7500.:Δ𝑓:7500.\n",
    "\n",
    "θ₁ = 144 # Cyclic Prefix\n",
    "θ₂ = 2048 # FFT Size"
   ]
  },
  {
   "cell_type": "code",
   "execution_count": 16,
   "id": "2b5ba244-3903-4350-bea7-436f16fea9dc",
   "metadata": {},
   "outputs": [
    {
     "name": "stdout",
     "output_type": "stream",
     "text": [
      "(N𝑓, getindex(𝑁̂𝑓², 1), length(𝐻ₚₛₛ²)) = (4437, 6628, 2192)\n"
     ]
    }
   ],
   "source": [
    "N𝑓 = getindex(𝑁̂𝑓², 1) - length(𝐻ₚₛₛ²) + 1\n",
    "@show N𝑓, getindex(𝑁̂𝑓², 1) , length(𝐻ₚₛₛ²);"
   ]
  },
  {
   "cell_type": "code",
   "execution_count": 17,
   "id": "83a8b7f6-426f-40bb-8ce8-92d37277f0c5",
   "metadata": {},
   "outputs": [
    {
     "name": "stdout",
     "output_type": "stream",
     "text": [
      "size(signal_part) = (2192,)\n",
      "(size(Y), typeof(Y)) = ((1501,), Vector{ComplexF64})\n"
     ]
    }
   ],
   "source": [
    "# Grab the function Profs Frequency Offset with his values\n",
    "Y = freq_offset_est(𝑅ₚₛₛ³, 𝐻ₚₛₛ², N𝑓, m, 𝑓ₛ)\n",
    "@show size(Y), typeof(Y);"
   ]
  },
  {
   "cell_type": "code",
   "execution_count": 18,
   "id": "84f339a3-f660-4b76-b896-5ed1342f14f3",
   "metadata": {},
   "outputs": [
    {
     "name": "stdout",
     "output_type": "stream",
     "text": [
      "(m̂, 10 * log10(N̂𝑓)) = (587, 88.46888484427753)\n"
     ]
    }
   ],
   "source": [
    "N̂𝑓, m̂ = argmax(abs.(Y))\n",
    "@show m̂, 10 * log10(N̂𝑓);"
   ]
  },
  {
   "cell_type": "code",
   "execution_count": 19,
   "id": "309e0097-40a1-479e-8fb5-488e7404b9e6",
   "metadata": {},
   "outputs": [],
   "source": [
    "cfo_estim_plot = \n",
    "plot(10 * log10.(abs.(Y))\n",
    "    , xlabel=\"Sample\"\n",
    "    , ylabel=\"Power (dB)\"\n",
    "    , title=\"Estimation Result\"\n",
    ");\n",
    "# scatter!((m̂, (10 * log10(N̂𝑓))), color=\"red\", label=\"m̂\")\n",
    "# savefig(cfo_estim_plot,\"images/cfo_estim_plot.png\");"
   ]
  },
  {
   "cell_type": "markdown",
   "id": "4c63636a-6ca4-4582-a1b3-6b367edf5944",
   "metadata": {},
   "source": [
    "<img src=\"images/cfo_estim_plot.png\" width='' height='' > </img>"
   ]
  },
  {
   "cell_type": "code",
   "execution_count": 62,
   "id": "1acbfe45-5d64-4fff-a087-29814b4b3916",
   "metadata": {},
   "outputs": [
    {
     "data": {
      "text/plain": [
       "compensate_cfo (generic function with 1 method)"
      ]
     },
     "execution_count": 62,
     "metadata": {},
     "output_type": "execute_result"
    }
   ],
   "source": [
    "# Compensate CFO by multiplying the received signal with a complex exponential\n",
    "function compensate_cfo(𝑅ₚₛₛ, N̂𝑓, 𝑓ₛ, Npss)\n",
    "    # Generate a complex exponential with the specified frequency offset\n",
    "    # 𝑅ₚₛₛ = 𝑅ₚₛₛ .* exp.(-2π * im * collect(1:4*Npss) * (N̂𝑓/𝑓ₛ))\n",
    "    𝑅ₚₛₛ = 𝑅ₚₛₛ .* exp.(-2π * im * collect(1:4*Npss) * (N̂𝑓/𝑓ₛ))\n",
    "    return 𝑅ₚₛₛ\n",
    "end"
   ]
  },
  {
   "cell_type": "code",
   "execution_count": 63,
   "id": "b07e5f72-2a67-4042-a8d7-80cc5a21c1c4",
   "metadata": {},
   "outputs": [
    {
     "name": "stdout",
     "output_type": "stream",
     "text": [
      "(headₛₛᵦ, tailₛₛᵦ) = (4581, 13349)\n"
     ]
    }
   ],
   "source": [
    "headₛₛᵦ = N𝑓+θ₁; tailₛₛᵦ = headₛₛᵦ + (4 * (θ₁+θ₂)); @show headₛₛᵦ, tailₛₛᵦ;"
   ]
  },
  {
   "cell_type": "code",
   "execution_count": 64,
   "id": "8aa3e327-2fe1-4f3a-847a-11165dc4b80d",
   "metadata": {},
   "outputs": [
    {
     "name": "stdout",
     "output_type": "stream",
     "text": [
      "size(𝑅̅ₚₛₛ) = (8768,)\n"
     ]
    }
   ],
   "source": [
    "𝑅̅ₚₛₛ = 𝑅ₚₛₛ³[headₛₛᵦ:tailₛₛᵦ-1]; @show size(𝑅̅ₚₛₛ);"
   ]
  },
  {
   "cell_type": "code",
   "execution_count": 65,
   "id": "314f6cac-1fdb-4a60-b1d9-6a6165227272",
   "metadata": {},
   "outputs": [
    {
     "data": {
      "text/plain": [
       "2192"
      ]
     },
     "execution_count": 65,
     "metadata": {},
     "output_type": "execute_result"
    }
   ],
   "source": [
    "# Tu = 2048 # Unit of samples\n",
    "Tu = (θ₁+θ₂)"
   ]
  },
  {
   "cell_type": "code",
   "execution_count": 66,
   "id": "058b6546-836c-4eb9-b4f9-e860f2b56cc8",
   "metadata": {},
   "outputs": [],
   "source": [
    "Y = compensate_cfo(𝑅̅ₚₛₛ, N̂𝑓, 𝑓ₛ, Tu);"
   ]
  },
  {
   "cell_type": "markdown",
   "id": "6f3e878d-7dd6-4165-aa4f-14cf190553ab",
   "metadata": {},
   "source": [
    "## PSS demodulation"
   ]
  },
  {
   "cell_type": "code",
   "execution_count": 67,
   "id": "3e47554c-0847-4b85-8b47-160b9045a54a",
   "metadata": {},
   "outputs": [],
   "source": [
    "using FFTW, DSP"
   ]
  },
  {
   "cell_type": "code",
   "execution_count": 68,
   "id": "f95a336f-34d9-4028-b53d-0b3542dd0b20",
   "metadata": {},
   "outputs": [
    {
     "name": "stdout",
     "output_type": "stream",
     "text": [
      "(size(𝐹ₓ), 𝐹ₓ[1]) = ((8768,), 37804.69370138299 + 91491.57148331574im)\n"
     ]
    }
   ],
   "source": [
    "# Start demodulation \n",
    "𝐹ₓ = DSP.fftshift(DSP.fft(Y)); @show size(𝐹ₓ), 𝐹ₓ[1];\n",
    "# Correct for the fact that we're starting the demodulation at the middle of the cyclic prefix\n",
    "# 𝐹ₓ .*= exp.(1im * 2π .* DSP.fftshift(DSP.fftfreq(Tu)) * Ncp / 2); "
   ]
  },
  {
   "cell_type": "code",
   "execution_count": 69,
   "id": "033a3f55-2153-4059-8979-301a18655aee",
   "metadata": {},
   "outputs": [
    {
     "data": {
      "text/plain": [
       "1:127"
      ]
     },
     "execution_count": 69,
     "metadata": {},
     "output_type": "execute_result"
    }
   ],
   "source": [
    "# The PSS ocuppies subcarriers 56 to 128 relative to the start of an SS/PBCH block\n",
    "# In this case, the SS/PBCH block starts at subcarrier -120 (with respect to the\n",
    "# subcarrier we have decided to treat as DC). This means that the SS/PBCH block is\n",
    "# not centred with respect to this choice of DC (but this doesn't matter).\n",
    "pss_sc_sel = range(1, 127)"
   ]
  },
  {
   "cell_type": "code",
   "execution_count": 70,
   "id": "76e2157b-34ee-4bf9-8894-27022147ad5d",
   "metadata": {},
   "outputs": [],
   "source": [
    "x_all_sc = collect(0:size(𝐹ₓ,1)); y_all_sc = 10 * log10.(abs2.(𝐹ₓ));"
   ]
  },
  {
   "cell_type": "code",
   "execution_count": 71,
   "id": "10171013-3f57-4e46-8704-9f8f65a359ce",
   "metadata": {},
   "outputs": [],
   "source": [
    "x_pss_sc = collect(0:size(𝐹ₓ,1))[pss_sc_sel]; y_pss_sc = 10 * log10.(abs2.(𝐹ₓ[pss_sc_sel]));"
   ]
  },
  {
   "cell_type": "code",
   "execution_count": 74,
   "id": "f500a62c-4127-4b27-8532-748e2f641e55",
   "metadata": {},
   "outputs": [],
   "source": [
    "all_sb_plot = \n",
    "scatter(x_all_sc, y_all_sc\n",
    "    , label=\"All subcarriers\"\n",
    "    , markersize=5\n",
    ")\n",
    "scatter!(x_pss_sc, y_pss_sc\n",
    "    , label=\"PSS subcarriers\"\n",
    "    , markershape=:vline\n",
    "    , markersize=5\n",
    ")\n",
    "\n",
    "title!(\"PSS subcarrier power\")\n",
    "xlabel!(\"Subcarrier number (DC = 0)\")\n",
    "ylabel!(\"Power (dB)\")\n",
    "\n",
    "savefig(all_sb_plot,\"images/all_sb_plot.png\");"
   ]
  },
  {
   "cell_type": "markdown",
   "id": "ea443cec-c04d-4bfb-b431-8e1ef4d56de7",
   "metadata": {},
   "source": [
    "<img src=\"images/all_sb_plot.png\" width='' height='' > </img>"
   ]
  }
 ],
 "metadata": {
  "kernelspec": {
   "display_name": "Julia 1.9.3",
   "language": "julia",
   "name": "julia-1.9"
  },
  "language_info": {
   "file_extension": ".jl",
   "mimetype": "application/julia",
   "name": "julia",
   "version": "1.10.0"
  }
 },
 "nbformat": 4,
 "nbformat_minor": 5
}
