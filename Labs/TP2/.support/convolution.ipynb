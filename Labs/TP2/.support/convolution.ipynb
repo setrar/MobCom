{
 "cells": [
  {
   "cell_type": "code",
   "execution_count": 3,
   "id": "a384ffd9-acb1-44b7-86de-05def397844b",
   "metadata": {},
   "outputs": [],
   "source": [
    "using FFTW"
   ]
  },
  {
   "cell_type": "code",
   "execution_count": 5,
   "id": "dc7e6d23-640b-4958-93d7-68d90c1b7f1a",
   "metadata": {},
   "outputs": [],
   "source": [
    "include(\"../modules/operations.jl\");"
   ]
  },
  {
   "cell_type": "code",
   "execution_count": 6,
   "id": "15b4fbbd-fbb3-4e37-b0e9-ec62cc0e02bc",
   "metadata": {},
   "outputs": [
    {
     "data": {
      "text/plain": [
       "1×3 Matrix{Int64}:\n",
       " 1  2  3"
      ]
     },
     "execution_count": 6,
     "metadata": {},
     "output_type": "execute_result"
    }
   ],
   "source": [
    "a = [1 2 3]"
   ]
  },
  {
   "cell_type": "code",
   "execution_count": 7,
   "id": "c825f624-7dd0-40d2-86a9-a8fb09442565",
   "metadata": {},
   "outputs": [
    {
     "data": {
      "text/plain": [
       "1×3 Matrix{Int64}:\n",
       " 4  5  6"
      ]
     },
     "execution_count": 7,
     "metadata": {},
     "output_type": "execute_result"
    }
   ],
   "source": [
    "b = [4 5 6]"
   ]
  },
  {
   "cell_type": "code",
   "execution_count": 9,
   "id": "d7839626-3953-40ea-baea-d64f078663fb",
   "metadata": {},
   "outputs": [],
   "source": [
    "using DSP"
   ]
  },
  {
   "cell_type": "code",
   "execution_count": 10,
   "id": "060f136e-a09a-4664-aa1e-1094b876efe5",
   "metadata": {},
   "outputs": [
    {
     "data": {
      "text/plain": [
       "1×5 Matrix{Int64}:\n",
       " 4  13  28  27  18"
      ]
     },
     "execution_count": 10,
     "metadata": {},
     "output_type": "execute_result"
    }
   ],
   "source": [
    "a ⊗ b"
   ]
  },
  {
   "cell_type": "markdown",
   "id": "4c499b3d-29ac-4ffe-a433-c1b9fd81128e",
   "metadata": {},
   "source": [
    "# References\n",
    "- [ ] [But what is a convolution?](https://youtu.be/KuXjwB4LzSA?t=436)"
   ]
  },
  {
   "cell_type": "code",
   "execution_count": null,
   "id": "7112ea18-889c-4cd4-95a8-3c72bcf1b962",
   "metadata": {},
   "outputs": [],
   "source": []
  }
 ],
 "metadata": {
  "kernelspec": {
   "display_name": "Julia 1.9.3",
   "language": "julia",
   "name": "julia-1.9"
  },
  "language_info": {
   "file_extension": ".jl",
   "mimetype": "application/julia",
   "name": "julia",
   "version": "1.10.0"
  }
 },
 "nbformat": 4,
 "nbformat_minor": 5
}
