{
 "cells": [
  {
   "cell_type": "code",
   "execution_count": 2,
   "id": "85fdc0c1-79f3-45cd-be57-dc424d2c7d20",
   "metadata": {},
   "outputs": [
    {
     "name": "stdout",
     "output_type": "stream",
     "text": [
      "[ 0.70710678-0.70710678j  0.70710678-0.70710678j -0.70710678+0.70710678j\n",
      "  0.70710678-0.70710678j]\n"
     ]
    },
    {
     "data": {
      "text/plain": [
       "4"
      ]
     },
     "metadata": {},
     "output_type": "display_data"
    }
   ],
   "source": [
    "import numpy as np\n",
    "\n",
    "def generate_qpsk_sequence(pbch_dmrs_seq):\n",
    "    real_part = 1 - 2 * pbch_dmrs_seq[::2].astype(float)\n",
    "    imag_part = 1 - 2 * pbch_dmrs_seq[1::2].astype(float)\n",
    "    qpsk_seq = (1 / np.sqrt(2)) * (real_part + 1j * imag_part)\n",
    "    return qpsk_seq\n",
    "\n",
    "# Example usage:\n",
    "pbch_dmrs_seq = np.array([0, 1, 0, 1, 1, 0, 0, 1])  # Example binary sequence\n",
    "qpsk_seq = generate_qpsk_sequence(pbch_dmrs_seq)\n",
    "print(qpsk_seq); display(len(qpsk_seq));\n"
   ]
  },
  {
   "cell_type": "code",
   "execution_count": null,
   "id": "990f2ca3-dd5b-426c-a573-84bab2533601",
   "metadata": {},
   "outputs": [],
   "source": []
  }
 ],
 "metadata": {
  "kernelspec": {
   "display_name": "Python 3 (ipykernel)",
   "language": "python",
   "name": "python3"
  },
  "language_info": {
   "codemirror_mode": {
    "name": "ipython",
    "version": 3
   },
   "file_extension": ".py",
   "mimetype": "text/x-python",
   "name": "python",
   "nbconvert_exporter": "python",
   "pygments_lexer": "ipython3",
   "version": "3.10.13"
  }
 },
 "nbformat": 4,
 "nbformat_minor": 5
}
