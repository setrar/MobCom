{
 "cells": [
  {
   "cell_type": "code",
   "execution_count": 1,
   "id": "88f0ce8d-b318-4751-b7b6-d42bf9769b79",
   "metadata": {},
   "outputs": [],
   "source": [
    "file_path = \"catkira/1876954_7680KSPS_srsRAN_Project_gnb_short.sigmf-data\"\n",
    "x = read!(file_path, Array{Int32}(undef, 2200544));"
   ]
  },
  {
   "cell_type": "code",
   "execution_count": 2,
   "id": "07cc0e5c-0d9e-4ae5-ade2-9a936a8f1bc5",
   "metadata": {},
   "outputs": [
    {
     "data": {
      "text/plain": [
       "1.87695e9"
      ]
     },
     "execution_count": 2,
     "metadata": {},
     "output_type": "execute_result"
    }
   ],
   "source": [
    "𝑓ₛ = 7.68e6\n",
    "# This should be the nominal RF frequency of the subcarrier that we use as DC for demodulation\n",
    "# (used for NR phase compensation)\n",
    "f_dc = 1.87695e9\n"
   ]
  },
  {
   "cell_type": "code",
   "execution_count": 3,
   "id": "ff6c5595-e2d7-4507-8a97-282d14dbc183",
   "metadata": {},
   "outputs": [
    {
     "data": {
      "text/plain": [
       "40"
      ]
     },
     "execution_count": 3,
     "metadata": {},
     "output_type": "execute_result"
    }
   ],
   "source": [
    "Tu = 512\n",
    "Ncp = div(144, 4)\n",
    "Ncpl = div(144 + 16, 4)"
   ]
  },
  {
   "cell_type": "code",
   "execution_count": 4,
   "id": "426807ed-5420-440d-8833-1bae8fa863a0",
   "metadata": {},
   "outputs": [
    {
     "data": {
      "text/plain": [
       "1.24e-8"
      ]
     },
     "execution_count": 4,
     "metadata": {},
     "output_type": "execute_result"
    }
   ],
   "source": [
    "cfo = 18.88  # Hz\n",
    "ϕ₀ = -2.97  # radians\n",
    "sfo = -3.2e-6  # parts per one\n",
    "sto_fine = 12.4e-9  # seconds"
   ]
  },
  {
   "cell_type": "code",
   "execution_count": 5,
   "id": "d2c8050b-f8ed-4bb8-bb7c-c3f7da0697c4",
   "metadata": {},
   "outputs": [
    {
     "data": {
      "text/plain": [
       "1877"
      ]
     },
     "execution_count": 5,
     "metadata": {},
     "output_type": "execute_result"
    }
   ],
   "source": [
    "Nsymbols = 1877\n"
   ]
  },
  {
   "cell_type": "code",
   "execution_count": 6,
   "id": "cb7c03fb-df73-4f5a-ac0e-354db7a5f3aa",
   "metadata": {},
   "outputs": [],
   "source": [
    "# Amplitude adjustment to get symbols of unity amplitude\n",
    "x = (x[1:2:end] + im * x[2:2:end]) / 2^31 * 24.7; # @show x[1,:];\n",
    "# Correct for CFO and phase offset\n",
    "x .*= exp.(-1im * (2 * π * cfo/𝑓ₛ * (1:length(x)) .+ ϕ₀)); # @show x[1,:];"
   ]
  },
  {
   "cell_type": "code",
   "execution_count": 7,
   "id": "02abdbd6-7542-40b3-820b-afa61ae64381",
   "metadata": {},
   "outputs": [
    {
     "data": {
      "text/plain": [
       "0.0 + 1.0im"
      ]
     },
     "execution_count": 7,
     "metadata": {},
     "output_type": "execute_result"
    }
   ],
   "source": [
    "j = sqrt(Complex(-1))"
   ]
  },
  {
   "cell_type": "code",
   "execution_count": 8,
   "id": "302bdfa9-cbaf-4b79-836d-845218e61886",
   "metadata": {},
   "outputs": [
    {
     "data": {
      "text/plain": [
       "70420"
      ]
     },
     "execution_count": 8,
     "metadata": {},
     "output_type": "execute_result"
    }
   ],
   "source": [
    "Nssblocks = Nsymbols ÷ 140  # Integer division\n",
    "a₀ = 70420"
   ]
  },
  {
   "cell_type": "code",
   "execution_count": 9,
   "id": "b7243f61-37b5-4f6a-9540-e66eb7f841f2",
   "metadata": {},
   "outputs": [],
   "source": [
    "# phase correction to apply to symbols 0, 1, 2, 3, 4, 5, 6 in a 0.5 ms interval\n",
    "p₀ = (f_dc .* (0:6) .* (Tu + Ncp)) / 𝑓ₛ\n",
    "p₁ = p₀ .% 1\n",
    "phase_corr = exp.(1im * 2 * π * p₁); # @show phase_corr;"
   ]
  },
  {
   "cell_type": "code",
   "execution_count": 10,
   "id": "4de02282-350e-4f00-900e-499074c8e890",
   "metadata": {},
   "outputs": [],
   "source": [
    "using FFTW"
   ]
  },
  {
   "cell_type": "code",
   "execution_count": 11,
   "id": "cc070470-8146-4ce3-9259-55e9b10ef7fe",
   "metadata": {},
   "outputs": [
    {
     "name": "stdout",
     "output_type": "stream",
     "text": [
      "Nsymbols = 1877\n"
     ]
    }
   ],
   "source": [
    "Nsymbols = round(Int, (length(x) - a₀) / (1e-3 * 𝑓ₛ) * 14); @show Nsymbols;\n",
    "# Nsymbols = Int((length(x) - a₀) / (1e-3 * 𝑓ₛ) * 14)\n",
    "symbols = Array{ComplexF64}(undef, Nsymbols, Tu)\n",
    "t_symbols = Vector{Float64}(undef, Nsymbols)\n",
    "for j in 1:Nsymbols\n",
    "    symidx = j + 1  # +1 since Julia is 1-based\n",
    "    off =  a₀ + (j-1) * (Ncp + Tu) + div(symidx, 7) * (Ncpl - Ncp)\n",
    "    off_err = (off - a₀) * sfo + sto_fine * 𝑓ₛ\n",
    "    off_err_int = round(Int, off_err)\n",
    "    off_err_frac = off_err - off_err_int\n",
    "    off_corr = off + off_err_int\n",
    "    f = fftshift(fft(x[off_corr:off_corr+Tu-1]))  # adjust for 1-based indexing\n",
    "    f .*= phase_corr[(symidx % 7) + 1]  # use (symidx % 7) + 1 for 1-based indexing\n",
    "    f .*= exp.(1im * 2 * π * fftshift(fftfreq(Tu)) * Ncp / 2)\n",
    "    f .*= exp.(1im * 2 * π * fftshift(fftfreq(Tu)) * off_err_frac)\n",
    "    symbols[j, :] = f\n",
    "    t_symbols[j] = (off_corr + off_err_frac + Ncp / 2) / 𝑓ₛ\n",
    "end"
   ]
  },
  {
   "cell_type": "code",
   "execution_count": 36,
   "id": "9ceb1d8c-5d7b-4977-af71-d355727a05d5",
   "metadata": {},
   "outputs": [
    {
     "name": "stdout",
     "output_type": "stream",
     "text": [
      "(Nsymbols, typeof(symbols), size(symbols), symbols[1:1, 1:4]) = (1877, Matrix{ComplexF64}, (1877, 512), ComplexF64[-0.0025270452536871376 - 0.003357772173313823im -0.009105439186187447 + 0.0013624020879221348im -0.0038931589703578864 + 0.0023944838627563006im -0.007553634377524973 - 0.010065971837480737im])\n"
     ]
    }
   ],
   "source": [
    "@show Nsymbols, typeof(symbols), size(symbols), symbols[1:1 , 1:4];"
   ]
  },
  {
   "cell_type": "code",
   "execution_count": 64,
   "id": "2584f731-0d94-45af-a407-e1dbf1602607",
   "metadata": {},
   "outputs": [
    {
     "name": "stdout",
     "output_type": "stream",
     "text": [
      "j = 1\n",
      "s0 + 1 + Δᵢ = 2\n",
      "(Tu ÷ 2 - 120) + Δᵢ = 137\n",
      "Tu ÷ 2 + 120 + Δᵢ = 377\n",
      "s0 + 2 + Δᵢ = 3\n",
      "(Tu ÷ 2 - 120) + Δᵢ = 137\n",
      "(Tu ÷ 2 - 120) + 48 + Δᵢ = 185\n",
      "(symbols[s0 + 1 + Δᵢ, (Tu ÷ 2 - 120) + Δᵢ:Tu ÷ 2 + 120 + Δᵢ])[1] = 0.6677867515280825 + 0.7397103950004779im\n",
      "(pbch[1], size(pbch)) = (0.6677867515280825 + 0.7397103950004779im, (576,))\n",
      "j = 2\n",
      "s0 + 1 + Δᵢ = 142\n",
      "(Tu ÷ 2 - 120) + Δᵢ = 137\n",
      "Tu ÷ 2 + 120 + Δᵢ = 377\n",
      "s0 + 2 + Δᵢ = 143\n",
      "(Tu ÷ 2 - 120) + Δᵢ = 137\n",
      "(Tu ÷ 2 - 120) + 48 + Δᵢ = 185\n",
      "(symbols[s0 + 1 + Δᵢ, (Tu ÷ 2 - 120) + Δᵢ:Tu ÷ 2 + 120 + Δᵢ])[1] = -0.6898121118629664 - 0.7257102087327159im\n",
      "(pbch[1], size(pbch)) = (-0.6898121118629664 - 0.7257102087327159im, (576,))\n",
      "j = 3\n",
      "s0 + 1 + Δᵢ = 282\n",
      "(Tu ÷ 2 - 120) + Δᵢ = 137\n",
      "Tu ÷ 2 + 120 + Δᵢ = 377\n",
      "s0 + 2 + Δᵢ = 283\n",
      "(Tu ÷ 2 - 120) + Δᵢ = 137\n",
      "(Tu ÷ 2 - 120) + 48 + Δᵢ = 185\n",
      "(symbols[s0 + 1 + Δᵢ, (Tu ÷ 2 - 120) + Δᵢ:Tu ÷ 2 + 120 + Δᵢ])[1] = -0.6823994751166962 - 0.6971049539940846im\n",
      "(pbch[1], size(pbch)) = (-0.6823994751166962 - 0.6971049539940846im, (576,))\n",
      "j = 4\n",
      "s0 + 1 + Δᵢ = 422\n",
      "(Tu ÷ 2 - 120) + Δᵢ = 137\n",
      "Tu ÷ 2 + 120 + Δᵢ = 377\n",
      "s0 + 2 + Δᵢ = 423\n",
      "(Tu ÷ 2 - 120) + Δᵢ = 137\n",
      "(Tu ÷ 2 - 120) + 48 + Δᵢ = 185\n",
      "(symbols[s0 + 1 + Δᵢ, (Tu ÷ 2 - 120) + Δᵢ:Tu ÷ 2 + 120 + Δᵢ])[1] = 0.689608062935538 + 0.6555955762982228im\n",
      "(pbch[1], size(pbch)) = (0.689608062935538 + 0.6555955762982228im, (576,))\n",
      "j = 5\n",
      "s0 + 1 + Δᵢ = 562\n",
      "(Tu ÷ 2 - 120) + Δᵢ = 137\n",
      "Tu ÷ 2 + 120 + Δᵢ = 377\n",
      "s0 + 2 + Δᵢ = 563\n",
      "(Tu ÷ 2 - 120) + Δᵢ = 137\n",
      "(Tu ÷ 2 - 120) + 48 + Δᵢ = 185\n",
      "(symbols[s0 + 1 + Δᵢ, (Tu ÷ 2 - 120) + Δᵢ:Tu ÷ 2 + 120 + Δᵢ])[1] = 0.7305474690413363 + 0.6618744197750581im\n",
      "(pbch[1], size(pbch)) = (0.7305474690413363 + 0.6618744197750581im, (576,))\n",
      "j = 6\n",
      "s0 + 1 + Δᵢ = 702\n",
      "(Tu ÷ 2 - 120) + Δᵢ = 137\n",
      "Tu ÷ 2 + 120 + Δᵢ = 377\n",
      "s0 + 2 + Δᵢ = 703\n",
      "(Tu ÷ 2 - 120) + Δᵢ = 137\n",
      "(Tu ÷ 2 - 120) + 48 + Δᵢ = 185\n",
      "(symbols[s0 + 1 + Δᵢ, (Tu ÷ 2 - 120) + Δᵢ:Tu ÷ 2 + 120 + Δᵢ])[1] = -0.7083864615205405 - 0.6944645903429802im\n",
      "(pbch[1], size(pbch)) = (-0.7083864615205405 - 0.6944645903429802im, (576,))\n",
      "j = 7\n",
      "s0 + 1 + Δᵢ = 842\n",
      "(Tu ÷ 2 - 120) + Δᵢ = 137\n",
      "Tu ÷ 2 + 120 + Δᵢ = 377\n",
      "s0 + 2 + Δᵢ = 843\n",
      "(Tu ÷ 2 - 120) + Δᵢ = 137\n",
      "(Tu ÷ 2 - 120) + 48 + Δᵢ = 185\n",
      "(symbols[s0 + 1 + Δᵢ, (Tu ÷ 2 - 120) + Δᵢ:Tu ÷ 2 + 120 + Δᵢ])[1] = 0.7047947674533526 - 0.7190985557651343im\n",
      "(pbch[1], size(pbch)) = (0.7047947674533526 - 0.7190985557651343im, (576,))\n",
      "j = 8\n",
      "s0 + 1 + Δᵢ = 982\n",
      "(Tu ÷ 2 - 120) + Δᵢ = 137\n",
      "Tu ÷ 2 + 120 + Δᵢ = 377\n",
      "s0 + 2 + Δᵢ = 983\n",
      "(Tu ÷ 2 - 120) + Δᵢ = 137\n",
      "(Tu ÷ 2 - 120) + 48 + Δᵢ = 185\n",
      "(symbols[s0 + 1 + Δᵢ, (Tu ÷ 2 - 120) + Δᵢ:Tu ÷ 2 + 120 + Δᵢ])[1] = -0.6581117331545621 + 0.7008304873705177im\n",
      "(pbch[1], size(pbch)) = (-0.6581117331545621 + 0.7008304873705177im, (576,))\n",
      "j = 9\n",
      "s0 + 1 + Δᵢ = 1122\n",
      "(Tu ÷ 2 - 120) + Δᵢ = 137\n",
      "Tu ÷ 2 + 120 + Δᵢ = 377\n",
      "s0 + 2 + Δᵢ = 1123\n",
      "(Tu ÷ 2 - 120) + Δᵢ = 137\n",
      "(Tu ÷ 2 - 120) + 48 + Δᵢ = 185\n",
      "(symbols[s0 + 1 + Δᵢ, (Tu ÷ 2 - 120) + Δᵢ:Tu ÷ 2 + 120 + Δᵢ])[1] = 0.7149899291637278 + 0.6912223485449263im\n",
      "(pbch[1], size(pbch)) = (0.7149899291637278 + 0.6912223485449263im, (576,))\n",
      "j = 10\n",
      "s0 + 1 + Δᵢ = 1262\n",
      "(Tu ÷ 2 - 120) + Δᵢ = 137\n",
      "Tu ÷ 2 + 120 + Δᵢ = 377\n",
      "s0 + 2 + Δᵢ = 1263\n",
      "(Tu ÷ 2 - 120) + Δᵢ = 137\n",
      "(Tu ÷ 2 - 120) + 48 + Δᵢ = 185\n",
      "(symbols[s0 + 1 + Δᵢ, (Tu ÷ 2 - 120) + Δᵢ:Tu ÷ 2 + 120 + Δᵢ])[1] = -0.7047690081554374 - 0.6926513373769194im\n",
      "(pbch[1], size(pbch)) = (-0.7047690081554374 - 0.6926513373769194im, (576,))\n",
      "j = 11\n",
      "s0 + 1 + Δᵢ = 1402\n",
      "(Tu ÷ 2 - 120) + Δᵢ = 137\n",
      "Tu ÷ 2 + 120 + Δᵢ = 377\n",
      "s0 + 2 + Δᵢ = 1403\n",
      "(Tu ÷ 2 - 120) + Δᵢ = 137\n",
      "(Tu ÷ 2 - 120) + 48 + Δᵢ = 185\n",
      "(symbols[s0 + 1 + Δᵢ, (Tu ÷ 2 - 120) + Δᵢ:Tu ÷ 2 + 120 + Δᵢ])[1] = -0.699904140672603 - 0.7055702069089371im\n",
      "(pbch[1], size(pbch)) = (-0.699904140672603 - 0.7055702069089371im, (576,))\n",
      "j = 12\n",
      "s0 + 1 + Δᵢ = 1542\n",
      "(Tu ÷ 2 - 120) + Δᵢ = 137\n",
      "Tu ÷ 2 + 120 + Δᵢ = 377\n",
      "s0 + 2 + Δᵢ = 1543\n",
      "(Tu ÷ 2 - 120) + Δᵢ = 137\n",
      "(Tu ÷ 2 - 120) + 48 + Δᵢ = 185\n",
      "(symbols[s0 + 1 + Δᵢ, (Tu ÷ 2 - 120) + Δᵢ:Tu ÷ 2 + 120 + Δᵢ])[1] = 0.6639141170364051 + 0.7215147058522272im\n",
      "(pbch[1], size(pbch)) = (0.6639141170364051 + 0.7215147058522272im, (576,))\n",
      "j = 13\n",
      "s0 + 1 + Δᵢ = 1682\n",
      "(Tu ÷ 2 - 120) + Δᵢ = 137\n",
      "Tu ÷ 2 + 120 + Δᵢ = 377\n",
      "s0 + 2 + Δᵢ = 1683\n",
      "(Tu ÷ 2 - 120) + Δᵢ = 137\n",
      "(Tu ÷ 2 - 120) + 48 + Δᵢ = 185\n",
      "(symbols[s0 + 1 + Δᵢ, (Tu ÷ 2 - 120) + Δᵢ:Tu ÷ 2 + 120 + Δᵢ])[1] = 0.6740172643951492 + 0.7142333463775986im\n",
      "(pbch[1], size(pbch)) = (0.6740172643951492 + 0.7142333463775986im, (576,))\n"
     ]
    }
   ],
   "source": [
    "for j in 1:Nssblocks\n",
    "    Δᵢ = 1\n",
    "    s0 = (j-Δᵢ) * 140\n",
    "    pbch = vcat(\n",
    "        symbols[s0 + 1 + Δᵢ, Tu ÷ 2 - 120 + Δᵢ:Tu ÷ 2 + 120],\n",
    "        symbols[s0 + 2 + Δᵢ, Tu ÷ 2 - 120 + Δᵢ:Tu ÷ 2 - 120 + 48],\n",
    "        symbols[s0 + 2 + Δᵢ, Tu ÷ 2 - 120 + 192 + Δᵢ:Tu ÷ 2 + 120],\n",
    "        symbols[s0 + 3 + Δᵢ, Tu ÷ 2 - 120 + Δᵢ:Tu ÷ 2 + 120]\n",
    "    );\n",
    "    @show (j)\n",
    "    @show (s0 + 1 + Δᵢ);@show (Tu ÷ 2 - 120 + Δᵢ);@show (Tu ÷ 2 + 120 + Δᵢ);\n",
    "    @show (s0 + 2 + Δᵢ);@show (Tu ÷ 2 - 120 + Δᵢ);@show (Tu ÷ 2 - 120 + 48 + Δᵢ);\n",
    "    @show symbols[s0 + 1 + Δᵢ, Tu ÷ 2 - 120 + Δᵢ:Tu ÷ 2 + 120 + Δᵢ][1]\n",
    "    @show (pbch[1]), size(pbch);\n",
    "\n",
    "end"
   ]
  },
  {
   "cell_type": "code",
   "execution_count": null,
   "id": "a27873f5-93ad-44b3-a71d-f4281b83cb69",
   "metadata": {},
   "outputs": [],
   "source": []
  }
 ],
 "metadata": {
  "kernelspec": {
   "display_name": "Julia 1.9.3",
   "language": "julia",
   "name": "julia-1.9"
  },
  "language_info": {
   "file_extension": ".jl",
   "mimetype": "application/julia",
   "name": "julia",
   "version": "1.10.3"
  }
 },
 "nbformat": 4,
 "nbformat_minor": 5
}
