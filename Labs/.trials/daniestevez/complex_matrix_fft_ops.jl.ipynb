{
 "cells": [
  {
   "cell_type": "code",
   "execution_count": 7,
   "id": "6782701f-8248-4161-ad0a-64bbde4a0f6f",
   "metadata": {},
   "outputs": [],
   "source": [
    "using FFTW, DSP"
   ]
  },
  {
   "cell_type": "code",
   "execution_count": 4,
   "id": "55b5e75b-6807-41ba-a4d7-e13c6db48c5d",
   "metadata": {},
   "outputs": [
    {
     "name": "stdout",
     "output_type": "stream",
     "text": [
      "x = ComplexF64[1.0 + 1.0im, 0.0 + 1.0im]\n"
     ]
    }
   ],
   "source": [
    " x = [ 1.0 + 1.0im ; 0.0 + 1.0im ]; @show x;"
   ]
  },
  {
   "cell_type": "code",
   "execution_count": 8,
   "id": "df47d3d8-7548-405e-b181-41d592bc36cf",
   "metadata": {},
   "outputs": [
    {
     "data": {
      "text/plain": [
       "2-element Vector{ComplexF64}:\n",
       " 1.0 + 2.0im\n",
       " 1.0 + 0.0im"
      ]
     },
     "execution_count": 8,
     "metadata": {},
     "output_type": "execute_result"
    }
   ],
   "source": [
    "DSP.fft(x)"
   ]
  },
  {
   "cell_type": "code",
   "execution_count": 10,
   "id": "d451fc06-16ff-4799-bf47-9b2acf12b75b",
   "metadata": {},
   "outputs": [
    {
     "data": {
      "text/plain": [
       "2-element Vector{ComplexF64}:\n",
       " 1.0 + 2.0im\n",
       " 1.0 + 0.0im"
      ]
     },
     "execution_count": 10,
     "metadata": {},
     "output_type": "execute_result"
    }
   ],
   "source": [
    "FFTW.fft(x)"
   ]
  },
  {
   "cell_type": "code",
   "execution_count": 11,
   "id": "bb1ed367-19ee-4781-b6fd-7f98efadd089",
   "metadata": {},
   "outputs": [
    {
     "data": {
      "text/plain": [
       "2-element Vector{ComplexF64}:\n",
       " 0.0 + 1.0im\n",
       " 1.0 + 1.0im"
      ]
     },
     "execution_count": 11,
     "metadata": {},
     "output_type": "execute_result"
    }
   ],
   "source": [
    "fftshift(x)"
   ]
  },
  {
   "cell_type": "code",
   "execution_count": null,
   "id": "9ab37b64-fcb6-4d51-844d-3fc77fba4154",
   "metadata": {},
   "outputs": [],
   "source": []
  }
 ],
 "metadata": {
  "kernelspec": {
   "display_name": "Julia 1.9.3",
   "language": "julia",
   "name": "julia-1.9"
  },
  "language_info": {
   "file_extension": ".jl",
   "mimetype": "application/julia",
   "name": "julia",
   "version": "1.9.4"
  }
 },
 "nbformat": 4,
 "nbformat_minor": 5
}
