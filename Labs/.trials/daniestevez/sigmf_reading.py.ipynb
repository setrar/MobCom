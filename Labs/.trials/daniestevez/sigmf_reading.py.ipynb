{
 "cells": [
  {
   "cell_type": "code",
   "execution_count": 11,
   "id": "a3a778b6-65e0-444c-aa49-23532956f161",
   "metadata": {},
   "outputs": [],
   "source": [
    "from sigmf import SigMFFile, sigmffile"
   ]
  },
  {
   "cell_type": "code",
   "execution_count": 12,
   "id": "6b531815-97c4-49d7-b2cc-a8d0024d5e56",
   "metadata": {},
   "outputs": [],
   "source": [
    "# Load a dataset\n",
    "filename = 'catkira/1876954_7680KSPS_srsRAN_Project_gnb_short.sigmf' # extension is optional"
   ]
  },
  {
   "cell_type": "code",
   "execution_count": 13,
   "id": "c7489507-46e7-448c-a6ec-94973e8378cf",
   "metadata": {},
   "outputs": [],
   "source": [
    "\n",
    "signal = sigmf.sigmffile.fromfile(filename)"
   ]
  },
  {
   "cell_type": "code",
   "execution_count": 16,
   "id": "e7e1dbdc-26f3-457e-8da6-624afd3e5f4a",
   "metadata": {},
   "outputs": [
    {
     "data": {
      "text/plain": [
       "array([ 4.9591064e-05+9.5367432e-06j,  1.5258789e-05+3.8146973e-06j,\n",
       "        9.5367432e-06-5.7220459e-06j, ..., -1.9073486e-05-3.8146973e-06j,\n",
       "       -1.7166138e-05+5.7220459e-06j, -4.9591064e-05-2.4795532e-05j],\n",
       "      dtype=complex64)"
      ]
     },
     "execution_count": 16,
     "metadata": {},
     "output_type": "execute_result"
    }
   ],
   "source": [
    "signal.read_samples() # returns all timeseries data"
   ]
  },
  {
   "cell_type": "code",
   "execution_count": 17,
   "id": "b754988b-4b78-49c2-8c7a-15df91c9fd0d",
   "metadata": {},
   "outputs": [
    {
     "data": {
      "text/plain": [
       "{'core:author': 'SDRangel',\n",
       " 'core:datatype': 'ci32_le',\n",
       " 'core:description': 'SDRangel SigMF I/Q recording file',\n",
       " 'core:hw': 'PlutoSDR',\n",
       " 'core:recorder': 'SDRangel',\n",
       " 'core:sample_rate': 7680000.0,\n",
       " 'core:version': '0.0.2',\n",
       " 'sdrangel:arch': 'x86_64',\n",
       " 'sdrangel:os': 'Ubuntu 22.04.2 LTS',\n",
       " 'sdrangel:qt_version': '5.15.3',\n",
       " 'sdrangel:rx_bits': 24,\n",
       " 'sdrangel:version': '7.13.0-19-g91f484445',\n",
       " 'core:sha512': '0bcd162b7fbcdd14b97088518cc682a26777e71a943cd7363dc917ab33b2900a91dc16ca04b0a8247468136aee28db475f1d03333bf36f47296b2264d565d869'}"
      ]
     },
     "execution_count": 17,
     "metadata": {},
     "output_type": "execute_result"
    }
   ],
   "source": [
    "signal.get_global_info() # returns 'global' dictionary"
   ]
  },
  {
   "cell_type": "code",
   "execution_count": 20,
   "id": "1414421f-8a14-4b09-bc8c-530cae5ad8c3",
   "metadata": {},
   "outputs": [
    {
     "data": {
      "text/plain": [
       "7680000.0"
      ]
     },
     "metadata": {},
     "output_type": "display_data"
    }
   ],
   "source": [
    "sample_rate = signal.get_global_field(SigMFFile.SAMPLE_RATE_KEY); display(sample_rate)"
   ]
  },
  {
   "cell_type": "code",
   "execution_count": 22,
   "id": "ade9d185-e451-4588-8c7c-d4cc7b7bc7fd",
   "metadata": {},
   "outputs": [
    {
     "data": {
      "text/plain": [
       "[{'core:datetime': '2023-07-20T11:39:48.680Z',\n",
       "  'core:frequency': 1876954000.0,\n",
       "  'core:length': 4210688,\n",
       "  'sdrangel:sample_rate': 7680000,\n",
       "  'sdrangel:tsms': 1689853188680}]"
      ]
     },
     "execution_count": 22,
     "metadata": {},
     "output_type": "execute_result"
    }
   ],
   "source": [
    "signal.get_captures() # returns list of 'captures' dictionaries"
   ]
  },
  {
   "cell_type": "code",
   "execution_count": 23,
   "id": "28e1e6a3-fe73-45df-a438-c6a2e32abc05",
   "metadata": {},
   "outputs": [
    {
     "data": {
      "text/plain": [
       "[]"
      ]
     },
     "execution_count": 23,
     "metadata": {},
     "output_type": "execute_result"
    }
   ],
   "source": [
    "signal.get_annotations() # returns list of all annotations"
   ]
  },
  {
   "cell_type": "markdown",
   "id": "3e751896-dd1a-4255-90dc-8eda0e7015bb",
   "metadata": {},
   "source": [
    "# References\n",
    "- [ ] [Python module for interacting with SigMF recordings.](https://github.com/sigmf/sigmf-python)"
   ]
  },
  {
   "cell_type": "code",
   "execution_count": null,
   "id": "744f72c2-f44a-4d53-b41f-a38d540dcc1d",
   "metadata": {},
   "outputs": [],
   "source": []
  }
 ],
 "metadata": {
  "kernelspec": {
   "display_name": "Python 3 (ipykernel)",
   "language": "python",
   "name": "python3"
  },
  "language_info": {
   "codemirror_mode": {
    "name": "ipython",
    "version": 3
   },
   "file_extension": ".py",
   "mimetype": "text/x-python",
   "name": "python",
   "nbconvert_exporter": "python",
   "pygments_lexer": "ipython3",
   "version": "3.10.13"
  }
 },
 "nbformat": 4,
 "nbformat_minor": 5
}
