{
 "cells": [
  {
   "cell_type": "markdown",
   "id": "9b254115-4993-4ee7-9019-91c58fe6d18a",
   "metadata": {},
   "source": [
    "### &#x1F4F6; SigMF file Creation\n",
    "\n",
    "The purpose of this notebook is to demonstrate how to create a SigMF file that can be read by a signal analyzer"
   ]
  },
  {
   "cell_type": "code",
   "execution_count": 84,
   "id": "2d5a6d90-636a-468a-afcc-d86293f6f44d",
   "metadata": {},
   "outputs": [],
   "source": [
    "using SigMF\n",
    "using Dates"
   ]
  },
  {
   "cell_type": "code",
   "execution_count": 85,
   "id": "e4f1303d-7a52-47d5-bbc7-1f67ddb92d51",
   "metadata": {},
   "outputs": [],
   "source": [
    "# Suppose we have a complex timeseries signal\n",
    "data = zeros(ComplexF32, 1024);"
   ]
  },
  {
   "cell_type": "code",
   "execution_count": 86,
   "id": "485fc4dc-dc1a-46a0-a4a7-3b93d97e91fb",
   "metadata": {},
   "outputs": [],
   "source": [
    "# Create the metadata\n",
    "sGlobal = SigMFGlobal(\n",
    "    datatype = \"cf32_le\",\n",
    "    sample_rate = 7.68e6,\n",
    "    author = \"me@you.com\",\n",
    "    description = \"USRP RX example\",\n",
    "    version = \"0.2.0\" # SigMF.__version__,\n",
    ");"
   ]
  },
  {
   "cell_type": "code",
   "execution_count": 87,
   "id": "ad57016c-a46b-46b3-a7d8-b8f0a638d332",
   "metadata": {},
   "outputs": [],
   "source": [
    "# Create a capture key at time index 0\n",
    "sCaptures = SigMFCaptures(\n",
    "     frequency = 3.5e9\n",
    "    ,datetime = Dates.format(Dates.now(), \"yyyy-mm-dd HH:MM:SS\")\n",
    ");"
   ]
  },
  {
   "cell_type": "code",
   "execution_count": 88,
   "id": "f5dd843d-5ef6-4f6e-bbbc-03d2a1043672",
   "metadata": {},
   "outputs": [],
   "source": [
    "sAnnotations = SigMFAnnotations();"
   ]
  },
  {
   "cell_type": "code",
   "execution_count": 89,
   "id": "c63551f0-f006-4bd6-a8c3-5afa09cf6799",
   "metadata": {},
   "outputs": [],
   "source": [
    "meta = SigMFMeta(sGlobal,[sCaptures],[sAnnotations]);"
   ]
  },
  {
   "cell_type": "code",
   "execution_count": 90,
   "id": "297f43e4-8901-49bc-87e4-d2903bb3b632",
   "metadata": {},
   "outputs": [],
   "source": [
    "file = SigMFFile(meta,data);"
   ]
  },
  {
   "cell_type": "code",
   "execution_count": 91,
   "id": "816c9fd2-ada6-471e-9ec8-02f1e08c113d",
   "metadata": {},
   "outputs": [
    {
     "data": {
      "text/plain": [
       "8192"
      ]
     },
     "execution_count": 91,
     "metadata": {},
     "output_type": "execute_result"
    }
   ],
   "source": [
    "# Save metadata to disk\n",
    "SigMF.save(\"data/example_julia.sigmf\",file)"
   ]
  },
  {
   "cell_type": "markdown",
   "id": "455ddf59-3247-4926-abc4-69d6304b446a",
   "metadata": {},
   "source": [
    "# References\n",
    "- [ ] [The Signal Metadata Format](https://github.com/JuliaIO/SigMF.jl)\n",
    "- [ ] [Radio signal analyser](https://github.com/miek/inspectrum)"
   ]
  }
 ],
 "metadata": {
  "kernelspec": {
   "display_name": "Julia 1.9.3",
   "language": "julia",
   "name": "julia-1.9"
  },
  "language_info": {
   "file_extension": ".jl",
   "mimetype": "application/julia",
   "name": "julia",
   "version": "1.10.2"
  }
 },
 "nbformat": 4,
 "nbformat_minor": 5
}
