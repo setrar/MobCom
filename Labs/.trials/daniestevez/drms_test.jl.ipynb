{
 "cells": [
  {
   "cell_type": "code",
   "execution_count": 4,
   "id": "3a18d9d8-91a9-4a04-a02b-09f2b6cccb71",
   "metadata": {},
   "outputs": [
    {
     "name": "stdout",
     "output_type": "stream",
     "text": [
      "ComplexF64[0.7071067811865475 - 0.7071067811865475im, 0.7071067811865475 - 0.7071067811865475im, -0.7071067811865475 + 0.7071067811865475im, 0.7071067811865475 - 0.7071067811865475im]\n",
      "size(qpsk_seq) = (4,)\n"
     ]
    }
   ],
   "source": [
    "using LinearAlgebra\n",
    "\n",
    "function generate_qpsk_sequence(pbch_dmrs_seq::Vector{Int})\n",
    "    n = length(pbch_dmrs_seq)\n",
    "    real_part = 1 .- 2 .* float.(pbch_dmrs_seq[1:2:end])\n",
    "    imag_part = 1 .- 2 .* float.(pbch_dmrs_seq[2:2:end])\n",
    "    qpsk_seq = (1/sqrt(2)) .* (real_part .+ im .* imag_part)\n",
    "    return qpsk_seq\n",
    "end\n",
    "\n",
    "# Example usage:\n",
    "pbch_dmrs_seq = [0, 1, 0, 1, 1, 0, 0, 1] # Example binary sequence\n",
    "qpsk_seq = generate_qpsk_sequence(pbch_dmrs_seq)\n",
    "println(qpsk_seq); @show size(qpsk_seq);\n"
   ]
  },
  {
   "cell_type": "code",
   "execution_count": 16,
   "id": "2e8a902d-40b4-4336-bc17-6ce4646516f7",
   "metadata": {},
   "outputs": [
    {
     "name": "stdout",
     "output_type": "stream",
     "text": [
      "[1.0, 1.0, -1.0, 1.0]\n"
     ]
    }
   ],
   "source": [
    "# Select every other element starting from the first element\n",
    "selected_first_elements = 1 .- 2 .* float(pbch_dmrs_seq[1:2:end])\n",
    "\n",
    "println(selected_first_elements)\n"
   ]
  },
  {
   "cell_type": "code",
   "execution_count": 17,
   "id": "8dc5b115-b4da-4c82-924c-49b9db7dba02",
   "metadata": {},
   "outputs": [
    {
     "name": "stdout",
     "output_type": "stream",
     "text": [
      "[-1.0, -1.0, 1.0, -1.0]\n"
     ]
    }
   ],
   "source": [
    "# Select every other element starting from the second element\n",
    "selected_second_elements = 1 .- 2 .* float(pbch_dmrs_seq[2:2:end])\n",
    "\n",
    "println(selected_second_elements)\n"
   ]
  },
  {
   "cell_type": "code",
   "execution_count": 18,
   "id": "66820ee4-818a-4b54-b0c5-47016546a279",
   "metadata": {},
   "outputs": [
    {
     "name": "stdout",
     "output_type": "stream",
     "text": [
      "Size of pbch_dmrs_seq: 288\n",
      "Size of selected_elements: 144\n",
      "Size of real_part: 144\n"
     ]
    }
   ],
   "source": [
    "# Example binary sequence with 288 elements\n",
    "pbch_dmrs_seq = rand(0:1, 288)\n",
    "\n",
    "# Select every other element starting from the first element\n",
    "selected_elements = pbch_dmrs_seq[1:2:end]\n",
    "\n",
    "# Perform the arithmetic operations\n",
    "real_part = 1 .- 2 .* float.(selected_elements)\n",
    "\n",
    "# Print sizes to verify\n",
    "println(\"Size of pbch_dmrs_seq: \", length(pbch_dmrs_seq))          # Should be 288\n",
    "println(\"Size of selected_elements: \", length(selected_elements))  # Should be 144\n",
    "println(\"Size of real_part: \", length(real_part))                  # Should be 144\n"
   ]
  },
  {
   "cell_type": "code",
   "execution_count": null,
   "id": "ecde10a0-30d7-4949-8a08-598835656339",
   "metadata": {},
   "outputs": [],
   "source": []
  }
 ],
 "metadata": {
  "kernelspec": {
   "display_name": "Julia 1.9.3",
   "language": "julia",
   "name": "julia-1.9"
  },
  "language_info": {
   "file_extension": ".jl",
   "mimetype": "application/julia",
   "name": "julia",
   "version": "1.10.3"
  }
 },
 "nbformat": 4,
 "nbformat_minor": 5
}
