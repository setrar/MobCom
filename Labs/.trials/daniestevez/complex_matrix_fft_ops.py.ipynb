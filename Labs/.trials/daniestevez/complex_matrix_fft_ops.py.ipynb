{
 "cells": [
  {
   "cell_type": "code",
   "execution_count": 1,
   "id": "931201d8-2266-402b-bfa5-0a973a599513",
   "metadata": {},
   "outputs": [],
   "source": [
    "import numpy as np"
   ]
  },
  {
   "cell_type": "code",
   "execution_count": 8,
   "id": "c7b4625a-6ab1-40ce-a6f6-70a19544f240",
   "metadata": {},
   "outputs": [
    {
     "data": {
      "text/plain": [
       "array([[1.+1.j],\n",
       "       [0.+1.j]])"
      ]
     },
     "metadata": {},
     "output_type": "display_data"
    }
   ],
   "source": [
    "x = np.array([1.0 + 1.0j, 0.0 + 1.0j]).reshape(-1, 1); display(x)"
   ]
  },
  {
   "cell_type": "markdown",
   "id": "7554ce0e-cadd-4afb-aba7-f58d378b9f59",
   "metadata": {},
   "source": [
    "&#x1F9E8; This is not working"
   ]
  },
  {
   "cell_type": "code",
   "execution_count": 12,
   "id": "e0e6f05e-9f68-4979-922a-055df21466a6",
   "metadata": {},
   "outputs": [
    {
     "data": {
      "text/plain": [
       "array([[1.+1.j],\n",
       "       [0.+1.j]])"
      ]
     },
     "execution_count": 12,
     "metadata": {},
     "output_type": "execute_result"
    }
   ],
   "source": [
    "np.fft.fft(x)"
   ]
  },
  {
   "cell_type": "markdown",
   "id": "25be5d8a-a9d7-4c41-a35d-63e37444fa21",
   "metadata": {},
   "source": [
    "- [ ] [What is the difference between the return of fft / fft2 applied to a matrix?](https://stackoverflow.com/questions/21799600/what-is-the-difference-between-the-return-of-fft-fft2-applied-to-a-matrix)"
   ]
  },
  {
   "cell_type": "code",
   "execution_count": 15,
   "id": "52d6c702-ab51-4ebc-bdcd-85e3ea51084e",
   "metadata": {},
   "outputs": [
    {
     "data": {
      "text/plain": [
       "array([[1.+2.j],\n",
       "       [1.+0.j]])"
      ]
     },
     "execution_count": 15,
     "metadata": {},
     "output_type": "execute_result"
    }
   ],
   "source": [
    "np.fft.fft2(x)"
   ]
  },
  {
   "cell_type": "code",
   "execution_count": 16,
   "id": "e653c96c-77b6-431a-a682-dac132077f30",
   "metadata": {},
   "outputs": [
    {
     "data": {
      "text/plain": [
       "array([[0.+1.j],\n",
       "       [1.+1.j]])"
      ]
     },
     "execution_count": 16,
     "metadata": {},
     "output_type": "execute_result"
    }
   ],
   "source": [
    "np.fft.fftshift(x)"
   ]
  },
  {
   "cell_type": "code",
   "execution_count": null,
   "id": "cbe0148e-ecfc-46c8-8c92-f21fe4d0d650",
   "metadata": {},
   "outputs": [],
   "source": []
  }
 ],
 "metadata": {
  "kernelspec": {
   "display_name": "Python 3 (ipykernel)",
   "language": "python",
   "name": "python3"
  },
  "language_info": {
   "codemirror_mode": {
    "name": "ipython",
    "version": 3
   },
   "file_extension": ".py",
   "mimetype": "text/x-python",
   "name": "python",
   "nbconvert_exporter": "python",
   "pygments_lexer": "ipython3",
   "version": "3.10.13"
  }
 },
 "nbformat": 4,
 "nbformat_minor": 5
}
