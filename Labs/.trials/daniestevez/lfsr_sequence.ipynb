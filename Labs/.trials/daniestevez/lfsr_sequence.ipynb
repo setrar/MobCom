{
 "cells": [
  {
   "cell_type": "markdown",
   "id": "712f2bb2-51e1-4462-a8bd-4c78d97a57ff",
   "metadata": {},
   "source": [
    "#### Linear Feedback Shift Register (LFSR)"
   ]
  },
  {
   "cell_type": "markdown",
   "id": "541d2533-f479-472f-af7b-db0dc73777d6",
   "metadata": {},
   "source": [
    "The Julia version of the Linear Feedback Shift Register (LFSR) implementation also aims to generate a pseudo-random binary sequence. Let's walk through the Julia code provided earlier, explaining each part in detail and how it relates to the LFSR's principles.\n",
    "\n",
    "### Julia LFSR Code:"
   ]
  },
  {
   "cell_type": "code",
   "execution_count": 1,
   "id": "1a5bf770-b85a-428e-9d13-ca070aa44d68",
   "metadata": {},
   "outputs": [
    {
     "data": {
      "text/plain": [
       "pss_sequence (generic function with 1 method)"
      ]
     },
     "execution_count": 1,
     "metadata": {},
     "output_type": "execute_result"
    }
   ],
   "source": [
    "function pss_sequence(nid2::Int)\n",
    "    x = zeros(UInt8, 127)  # Create an array of UInt8s initialized to zero\n",
    "    # Initialize the first 7 bits in reverse order of the specific pattern\n",
    "    x[1:7] = reverse([1, 1, 1, 0, 1, 1, 0]) \n",
    "\n",
    "    # Fill the rest of the array using LFSR logic\n",
    "    for j in 1:(127-7)\n",
    "        x[j+7] = xor(x[j+4], x[j])  # Apply XOR between the bits at positions j+4 and j\n",
    "    end\n",
    "\n",
    "    # Index manipulation and output transformation\n",
    "    indices = mod1.((1:127) .+ 43 * nid2, 127)  # Correct for 1-indexing in Julia with mod1\n",
    "    return 1 .- 2 .* Float64.(x[indices])  # Convert to Float64 and map from {0,1} to {1,-1}\n",
    "end\n"
   ]
  },
  {
   "cell_type": "code",
   "execution_count": 2,
   "id": "a512048c-20d6-43ab-bd85-70f0fa85c084",
   "metadata": {},
   "outputs": [
    {
     "name": "stdout",
     "output_type": "stream",
     "text": [
      "[1.0, 1.0, 1.0, -1.0, -1.0, 1.0, 1.0, -1.0, 1.0, 1.0, 1.0, -1.0, 1.0, 1.0, 1.0, 1.0, 1.0, 1.0, -1.0, 1.0, 1.0, -1.0, 1.0, 1.0, -1.0, -1.0, 1.0, -1.0, 1.0, 1.0, -1.0, -1.0, -1.0, -1.0, 1.0, -1.0, -1.0, -1.0, 1.0, 1.0, 1.0, 1.0, -1.0, -1.0, -1.0, -1.0, -1.0, -1.0, -1.0, 1.0, 1.0, 1.0, -1.0, -1.0, -1.0, 1.0, -1.0, -1.0, 1.0, 1.0, 1.0, -1.0, 1.0, -1.0, 1.0, 1.0, -1.0, 1.0, -1.0, -1.0, -1.0, -1.0, -1.0, 1.0, -1.0, 1.0, -1.0, 1.0, -1.0, 1.0, 1.0, 1.0, 1.0, -1.0, 1.0, -1.0, -1.0, 1.0, -1.0, -1.0, -1.0, -1.0, 1.0, 1.0, -1.0, -1.0, -1.0, 1.0, 1.0, -1.0, 1.0, -1.0, 1.0, -1.0, -1.0, 1.0, 1.0, -1.0, -1.0, 1.0, 1.0, 1.0, 1.0, 1.0, -1.0, -1.0, 1.0, -1.0, -1.0, 1.0, -1.0, 1.0, -1.0, -1.0, -1.0, 1.0, -1.0]\n"
     ]
    }
   ],
   "source": [
    "# Example usage:\n",
    "nid2 = 1  # Example value for nid2\n",
    "sequence = pss_sequence(nid2)\n",
    "println(sequence)"
   ]
  },
  {
   "cell_type": "markdown",
   "id": "ae7c3daf-2cc1-4d61-92cd-f0140b5aa707",
   "metadata": {},
   "source": [
    "### Detailed Explanation:\n",
    "\n",
    "1. **Initialization of State Array**:\n",
    "   ```julia\n",
    "   x = zeros(UInt8, 127)\n",
    "   x[1:7] = reverse([1, 1, 1, 0, 1, 1, 0])\n",
    "   ```\n",
    "   - `x = zeros(UInt8, 127)`: This initializes an array `x` of 127 elements, all set to zero, with each element being an 8-bit unsigned integer (`UInt8`).\n",
    "   - `x[1:7] = reverse([1, 1, 1, 0, 1, 1, 0])`: The first seven elements of `x` are set to the reverse of the specified binary pattern. This setup provides the seed or initial state for the LFSR.\n",
    "\n",
    "2. **Sequence Generation Using LFSR Logic**:\n",
    "   ```julia\n",
    "   for j in 1:(127-7)\n",
    "       x[j+7] = xor(x[j+4], x[j])\n",
    "   ```\n",
    "   - The loop iterates through the array, starting from the 8th element (due to Julia's 1-indexing). For each position `j+7`, the new value is calculated using the XOR of the values at positions `j+4` and `j`. This simulates the feedback mechanism typical in an LFSR, where the feedback is determined by specific \"tapped\" positions. These positions (taps) are crucial as they define the polynomial that the LFSR is based on.\n",
    "\n",
    "3. **Output Indexing and Transformation**:\n",
    "   ```julia\n",
    "   indices = mod1.((1:127) .+ 43 * nid2, 127)\n",
    "   return 1 .- 2 .* Float64.(x[indices])\n",
    "   ```\n",
    "   - `indices = mod1.((1:127) .+ 43 * nid2, 127)`: This line computes the indices to access elements in the `x` array. It shifts the indices by `43 * nid2` and wraps around using the `mod1` function, ensuring that the indices remain within the valid range of 1 to 127, accounting for the 1-indexing in Julia.\n",
    "   - `return 1 .- 2 .* Float64.(x[indices])`: This final transformation maps the binary values `{0, 1}` to the bipolar values `{-1, 1}`, which are often used in signal processing applications. The `Float64.(...)` ensures that the output is in floating-point format, which is necessary for many numerical computations in signal processing.\n",
    "\n",
    "### Summary:\n",
    "This Julia implementation showcases how an LFSR operates: starting with a seed, using a feedback function defined by taps, and finally transforming the output for practical applications. The use of XOR operations to generate the sequence is a hallmark of LFSRs, leveraging their properties to produce sequences that seem random and have good statistical properties for a variety of applications including cryptography and communication systems."
   ]
  },
  {
   "cell_type": "code",
   "execution_count": 3,
   "id": "65a01e25-fb8f-473e-9ff8-f5655965b3b6",
   "metadata": {},
   "outputs": [
    {
     "data": {
      "text/plain": [
       "pss_sequence_ (generic function with 1 method)"
      ]
     },
     "execution_count": 3,
     "metadata": {},
     "output_type": "execute_result"
    }
   ],
   "source": [
    "function pss_sequence_(nid2::Int)\n",
    "    x = zeros(UInt8, 127)  # Create an array of UInt8s initialized to zero\n",
    "    # Initialize the first 7 bits in reverse order of the specific pattern\n",
    "    x[1:7] = reverse([1, 1, 1, 0, 1, 1, 0]) \n",
    "\n",
    "    # Fill the rest of the array using LFSR logic\n",
    "    for j in 1:(127-7)\n",
    "        x[j+7] = xor(x[j+4], x[j])  # Apply XOR between the bits at positions j+4 and j\n",
    "    end\n",
    "\n",
    "    # Index manipulation and output transformation\n",
    "    indices = mod1.((1:127) .+ 43 * nid2, 127)  # Correct for 1-indexing in Julia with mod1\n",
    "    return 1 .- 2 .* Float64.(x[indices])  # Convert to Float64 and map from {0,1} to {1,-1}\n",
    "end"
   ]
  },
  {
   "cell_type": "code",
   "execution_count": 4,
   "id": "3c315f37-ce24-405f-a338-834b02c9c470",
   "metadata": {},
   "outputs": [],
   "source": [
    "include(\"utils.jl\");\n",
    "include(\"scratch.jl\");"
   ]
  },
  {
   "cell_type": "code",
   "execution_count": 5,
   "id": "e0f0cfd9-991b-4e83-b6f2-1538b14495cf",
   "metadata": {},
   "outputs": [
    {
     "name": "stdout",
     "output_type": "stream",
     "text": [
      "(sequence, typeof(sequence)) = ([1.0, 1.0, 1.0, -1.0, -1.0, 1.0, 1.0, -1.0, 1.0, 1.0, 1.0, -1.0, 1.0, 1.0, 1.0, 1.0, 1.0, 1.0, -1.0, 1.0, 1.0, -1.0, 1.0, 1.0, -1.0, -1.0, 1.0, -1.0, 1.0, 1.0, -1.0, -1.0, -1.0, -1.0, 1.0, -1.0, -1.0, -1.0, 1.0, 1.0, 1.0, 1.0, -1.0, -1.0, -1.0, -1.0, -1.0, -1.0, -1.0, 1.0, 1.0, 1.0, -1.0, -1.0, -1.0, 1.0, -1.0, -1.0, 1.0, 1.0, 1.0, -1.0, 1.0, -1.0, 1.0, 1.0, -1.0, 1.0, -1.0, -1.0, -1.0, -1.0, -1.0, 1.0, -1.0, 1.0, -1.0, 1.0, -1.0, 1.0, 1.0, 1.0, 1.0, -1.0, 1.0, -1.0, -1.0, 1.0, -1.0, -1.0, -1.0, -1.0, 1.0, 1.0, -1.0, -1.0, -1.0, 1.0, 1.0, -1.0, 1.0, -1.0, 1.0, -1.0, -1.0, 1.0, 1.0, -1.0, -1.0, 1.0, 1.0, 1.0, 1.0, 1.0, -1.0, -1.0, 1.0, -1.0, -1.0, 1.0, -1.0, 1.0, -1.0, -1.0, -1.0, 1.0, -1.0], Vector{Float64})\n",
      "(PSS_SEQUENCE_1_, typeof(PSS_SEQUENCE_1_)) = ([1.0, 1.0, 1.0, -1.0, -1.0, 1.0, 1.0, -1.0, 1.0, 1.0, 1.0, -1.0, 1.0, 1.0, 1.0, 1.0, 1.0, 1.0, -1.0, 1.0, 1.0, -1.0, 1.0, 1.0, -1.0, -1.0, 1.0, -1.0, 1.0, 1.0, -1.0, -1.0, -1.0, -1.0, 1.0, -1.0, -1.0, -1.0, 1.0, 1.0, 1.0, 1.0, -1.0, -1.0, -1.0, -1.0, -1.0, -1.0, -1.0, 1.0, 1.0, 1.0, -1.0, -1.0, -1.0, 1.0, -1.0, -1.0, 1.0, 1.0, 1.0, -1.0, 1.0, -1.0, 1.0, 1.0, -1.0, 1.0, -1.0, -1.0, -1.0, -1.0, -1.0, 1.0, -1.0, 1.0, -1.0, 1.0, -1.0, 1.0, 1.0, 1.0, 1.0, -1.0, 1.0, -1.0, -1.0, 1.0, -1.0, -1.0, -1.0, -1.0, 1.0, 1.0, -1.0, -1.0, -1.0, 1.0, 1.0, -1.0, 1.0, -1.0, 1.0, -1.0, -1.0, 1.0, 1.0, -1.0, -1.0, 1.0, 1.0, 1.0, 1.0, 1.0, -1.0, -1.0, 1.0, -1.0, -1.0, 1.0, -1.0, 1.0, -1.0, -1.0, -1.0, 1.0, -1.0], Vector{Float64})\n",
      "(pss_sequence(1))[1:tot] = [1.0, 1.0, 1.0, -1.0, -1.0, 1.0, 1.0, -1.0, 1.0, 1.0, 1.0, -1.0, 1.0, 1.0, 1.0, 1.0, 1.0, 1.0, -1.0, 1.0, 1.0, -1.0, 1.0, 1.0, -1.0, -1.0, 1.0, -1.0, 1.0, 1.0, -1.0, -1.0, -1.0, -1.0, 1.0, -1.0, -1.0, -1.0, 1.0, 1.0, 1.0, 1.0, -1.0, -1.0, -1.0, -1.0, -1.0, -1.0, -1.0, 1.0, 1.0, 1.0, -1.0, -1.0, -1.0, 1.0, -1.0, -1.0, 1.0, 1.0, 1.0, -1.0, 1.0, -1.0, 1.0, 1.0, -1.0, 1.0, -1.0, -1.0, -1.0, -1.0, -1.0, 1.0, -1.0, 1.0, -1.0, 1.0, -1.0, 1.0, 1.0, 1.0, 1.0, -1.0, 1.0, -1.0, -1.0, 1.0]\n",
      "PSS_SEQUENCE_1_[1:tot] = [1.0, 1.0, 1.0, -1.0, -1.0, 1.0, 1.0, -1.0, 1.0, 1.0, 1.0, -1.0, 1.0, 1.0, 1.0, 1.0, 1.0, 1.0, -1.0, 1.0, 1.0, -1.0, 1.0, 1.0, -1.0, -1.0, 1.0, -1.0, 1.0, 1.0, -1.0, -1.0, -1.0, -1.0, 1.0, -1.0, -1.0, -1.0, 1.0, 1.0, 1.0, 1.0, -1.0, -1.0, -1.0, -1.0, -1.0, -1.0, -1.0, 1.0, 1.0, 1.0, -1.0, -1.0, -1.0, 1.0, -1.0, -1.0, 1.0, 1.0, 1.0, -1.0, 1.0, -1.0, 1.0, 1.0, -1.0, 1.0, -1.0, -1.0, -1.0, -1.0, -1.0, 1.0, -1.0, 1.0, -1.0, 1.0, -1.0, 1.0, 1.0, 1.0, 1.0, -1.0, 1.0, -1.0, -1.0, 1.0]\n",
      "(pss_sequence(1))[tot] == PSS_SEQUENCE_1_[tot] = true\n",
      "pss_sequence(1) == PSS_SEQUENCE_1_ = true\n"
     ]
    }
   ],
   "source": [
    "@show sequence, typeof(sequence);\n",
    "@show PSS_SEQUENCE_1_, typeof(PSS_SEQUENCE_1_);\n",
    "tot=88; \n",
    "@show pss_sequence(1)[1:tot];\n",
    "@show PSS_SEQUENCE_1_[1:tot];\n",
    "@show pss_sequence(1)[tot] == PSS_SEQUENCE_1_[tot];\n",
    "@show pss_sequence(1) == PSS_SEQUENCE_1_;"
   ]
  },
  {
   "cell_type": "code",
   "execution_count": 6,
   "id": "8c0c4e2a-73ed-4cb1-ba97-9155b9745a88",
   "metadata": {},
   "outputs": [
    {
     "name": "stdout",
     "output_type": "stream",
     "text": [
      "typeof(PSS_SYM_DEMOD) = Vector{ComplexF64}\n",
      "typeof(pss_sym_demod) = Vector{ComplexF64}\n"
     ]
    },
    {
     "data": {
      "text/plain": [
       "true"
      ]
     },
     "execution_count": 6,
     "metadata": {},
     "output_type": "execute_result"
    }
   ],
   "source": [
    "@show typeof(PSS_SYM_DEMOD)\n",
    "@show typeof(pss_sym_demod)\n",
    "\n",
    "approximately_equal(pss_sym_demod, PSS_SYM_DEMOD, tolerance)"
   ]
  },
  {
   "cell_type": "code",
   "execution_count": 8,
   "id": "80ef768e-e39c-4f10-b0ef-41d6f873628c",
   "metadata": {},
   "outputs": [
    {
     "data": {
      "text/plain": [
       "false"
      ]
     },
     "execution_count": 8,
     "metadata": {},
     "output_type": "execute_result"
    }
   ],
   "source": [
    "approximately_equal(PSS_SYM[1:10], pss_sym[1:10], tolerance)"
   ]
  },
  {
   "cell_type": "markdown",
   "id": "b40c0737-c48b-4e39-94f1-e05547dbc94b",
   "metadata": {},
   "source": [
    "# References"
   ]
  },
  {
   "cell_type": "markdown",
   "id": "1c7f39bb-ca3b-442a-b988-5accf645b50e",
   "metadata": {},
   "source": [
    "- [ ] [Linear feedback_shift_register](https://en.wikipedia.org/wiki/Linear-feedback_shift_register)"
   ]
  },
  {
   "cell_type": "code",
   "execution_count": null,
   "id": "ee1391ff-f32f-4754-ae8d-469e9bd57f30",
   "metadata": {},
   "outputs": [],
   "source": []
  }
 ],
 "metadata": {
  "kernelspec": {
   "display_name": "Julia 1.9.3",
   "language": "julia",
   "name": "julia-1.9"
  },
  "language_info": {
   "file_extension": ".jl",
   "mimetype": "application/julia",
   "name": "julia",
   "version": "1.10.2"
  }
 },
 "nbformat": 4,
 "nbformat_minor": 5
}
