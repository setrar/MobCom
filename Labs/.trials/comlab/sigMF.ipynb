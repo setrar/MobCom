{
 "cells": [
  {
   "cell_type": "code",
   "execution_count": 1,
   "id": "a98c1c34-b094-40f8-b9d2-7096ea9b6af1",
   "metadata": {},
   "outputs": [],
   "source": [
    "using SigMF\n",
    "using Dates"
   ]
  },
  {
   "cell_type": "code",
   "execution_count": 2,
   "id": "02244305-24a0-4db1-b056-7f00942a1812",
   "metadata": {},
   "outputs": [
    {
     "data": {
      "text/plain": [
       "8192"
      ]
     },
     "execution_count": 2,
     "metadata": {},
     "output_type": "execute_result"
    }
   ],
   "source": [
    "# Suppose we have a complex timeseries signal\n",
    "data = zeros(ComplexF32, 1024)\n",
    "\n",
    "# Write those samples to file in cf32_le\n",
    "write(\"example.sigmf-data\", data)"
   ]
  },
  {
   "cell_type": "code",
   "execution_count": 4,
   "id": "69765802-7923-4a1c-9f7d-74118452f5a4",
   "metadata": {},
   "outputs": [
    {
     "ename": "LoadError",
     "evalue": "UndefVarError: `SigMFHeader` not defined",
     "output_type": "error",
     "traceback": [
      "UndefVarError: `SigMFHeader` not defined",
      "",
      "Stacktrace:",
      " [1] getproperty(x::Module, f::Symbol)",
      "   @ Base ./Base.jl:31",
      " [2] top-level scope",
      "   @ In[4]:2"
     ]
    }
   ],
   "source": [
    "# Create the metadata\n",
    "meta = SigMF.SigMFHeader(\n",
    "    datatype = \"cf32_le\",\n",
    "    sample_rate = 7.68e6,\n",
    "    author = \"me@you.com\",\n",
    "    description = \"USRP RX example\",\n",
    "    version = \"0.2.0\" # SigMF.__version__,\n",
    ")\n",
    "\n"
   ]
  },
  {
   "cell_type": "code",
   "execution_count": null,
   "id": "ed89cc65-23c1-4025-983e-5f197bfc1ed1",
   "metadata": {},
   "outputs": [],
   "source": [
    "# Create a capture key at time index 0\n",
    "capture_metadata = SigMF.Capture(\n",
    "    frequency = 3.5e9,\n",
    "    datetime = Dates.now(),\n",
    ")\n",
    "\n",
    "# Check for mistakes & write to disk\n",
    "# Assuming there is a validate function, modify accordingly\n",
    "# assert SigMF.validate(meta)\n",
    "\n",
    "# Save metadata to disk\n",
    "SigMF.write(\"example.sigmf-meta\", Dict(\"captures\" => Dict(0 => capture_metadata), \"global\" => meta))\n"
   ]
  }
 ],
 "metadata": {
  "kernelspec": {
   "display_name": "Julia 1.9.3",
   "language": "julia",
   "name": "julia-1.9"
  },
  "language_info": {
   "file_extension": ".jl",
   "mimetype": "application/julia",
   "name": "julia",
   "version": "1.9.4"
  }
 },
 "nbformat": 4,
 "nbformat_minor": 5
}
