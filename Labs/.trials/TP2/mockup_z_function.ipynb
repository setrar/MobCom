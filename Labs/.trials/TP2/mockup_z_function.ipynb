{
 "cells": [
  {
   "cell_type": "code",
   "execution_count": 15,
   "id": "36ef81cb-6a60-487e-9a7c-2d798986c261",
   "metadata": {},
   "outputs": [
    {
     "data": {
      "text/plain": [
       "#13 (generic function with 1 method)"
      ]
     },
     "execution_count": 15,
     "metadata": {},
     "output_type": "execute_result"
    }
   ],
   "source": [
    "f = z::Complex{Int64} -> real(z)^2 - imag(z)^2 + 2*real(x)*imag(z)*im"
   ]
  },
  {
   "cell_type": "code",
   "execution_count": 16,
   "id": "eb8e34ad-c002-4e61-b0a1-9c6fd30f49c9",
   "metadata": {},
   "outputs": [
    {
     "data": {
      "text/plain": [
       "-3 + 4im"
      ]
     },
     "execution_count": 16,
     "metadata": {},
     "output_type": "execute_result"
    }
   ],
   "source": [
    "f(1+2im)"
   ]
  },
  {
   "cell_type": "code",
   "execution_count": 12,
   "id": "ebc1fd6d-ee55-4c70-94ad-a211b5edda6f",
   "metadata": {},
   "outputs": [
    {
     "name": "stdout",
     "output_type": "stream",
     "text": [
      "typeof(x) = Complex{Int64}\n"
     ]
    }
   ],
   "source": [
    "x = 1+2im; @show typeof(x);"
   ]
  },
  {
   "cell_type": "markdown",
   "id": "a0d7d4d1-70c2-49b2-a6a9-e432a3fef1a2",
   "metadata": {},
   "source": [
    "# References\n",
    "- [ ] [The beauty of complex numbers](https://www.youtube.com/watch?v=6_u18uFEoN0)"
   ]
  },
  {
   "cell_type": "code",
   "execution_count": null,
   "id": "a8c80d78-f2f7-4aab-94da-2952c85bc3a2",
   "metadata": {},
   "outputs": [],
   "source": []
  }
 ],
 "metadata": {
  "kernelspec": {
   "display_name": "Julia 1.9.3",
   "language": "julia",
   "name": "julia-1.9"
  },
  "language_info": {
   "file_extension": ".jl",
   "mimetype": "application/julia",
   "name": "julia",
   "version": "1.9.4"
  }
 },
 "nbformat": 4,
 "nbformat_minor": 5
}
