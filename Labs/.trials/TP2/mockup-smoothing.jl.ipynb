{
 "cells": [
  {
   "cell_type": "code",
   "execution_count": 11,
   "id": "4a55992c-be22-49a7-ba29-61bab30b02e4",
   "metadata": {},
   "outputs": [],
   "source": [
    "using Plots"
   ]
  },
  {
   "cell_type": "code",
   "execution_count": 12,
   "id": "fa91e486-3891-4bce-b1a9-86fbd9b97ec1",
   "metadata": {},
   "outputs": [
    {
     "data": {
      "text/plain": [
       "generate_ofdm_signal (generic function with 2 methods)"
      ]
     },
     "execution_count": 12,
     "metadata": {},
     "output_type": "execute_result"
    }
   ],
   "source": [
    "function generate_ofdm_signal(num_symbols, fft_size, cp_length, sampling_rate)\n",
    "    # Generate simple OFDM signal without PSS and SSS\n",
    "    symbol_duration = fft_size / sampling_rate\n",
    "    cp_duration = cp_length / sampling_rate\n",
    "    total_symbol_duration = symbol_duration + cp_duration\n",
    "\n",
    "    # Initialize the OFDM signal\n",
    "    ofdm_signal = zeros(Complex{Float64}, num_symbols * fft_size)\n",
    "\n",
    "    # Generate random symbols for each OFDM symbol\n",
    "    for i in 1:num_symbols\n",
    "        symbol = rand(Complex{Float64}, fft_size)\n",
    "        ofdm_signal[(i-1)*fft_size+1:i*fft_size] .= symbol\n",
    "    end\n",
    "\n",
    "    return ofdm_signal\n",
    "end"
   ]
  },
  {
   "cell_type": "code",
   "execution_count": 13,
   "id": "932894db-7d81-4295-9394-b95ff61757dd",
   "metadata": {},
   "outputs": [
    {
     "data": {
      "text/plain": [
       "1.0e6"
      ]
     },
     "execution_count": 13,
     "metadata": {},
     "output_type": "execute_result"
    }
   ],
   "source": [
    "# Example parameters\n",
    "num_symbols = 10\n",
    "fft_size = 2048\n",
    "cp_length = 144\n",
    "sampling_rate = 1e6\n"
   ]
  },
  {
   "cell_type": "code",
   "execution_count": 16,
   "id": "a07bca6f-430b-4924-a3d9-4020ad9166be",
   "metadata": {},
   "outputs": [
    {
     "name": "stdout",
     "output_type": "stream",
     "text": [
      "ofdm_signal[1] = 0.6471811409937553 + 0.8926942640120006im\n"
     ]
    }
   ],
   "source": [
    "# Generate OFDM signal\n",
    "ofdm_signal = generate_ofdm_signal(num_symbols, fft_size, cp_length, sampling_rate); @show ofdm_signal[1];"
   ]
  },
  {
   "cell_type": "code",
   "execution_count": 70,
   "id": "601d9910-29bd-4e14-b4f4-8ba9b58a3e33",
   "metadata": {},
   "outputs": [],
   "source": [
    "# Plot the real part of the generated signal\n",
    "ofdm_signal_plot = \n",
    "plot(real.(ofdm_signal), xlabel=\"Sample Index\", ylabel=\"Amplitude\", label=\"OFDM Signal\")\n",
    "savefig(ofdm_signal_plot,\"images/ofdm_signal_plot.png\");"
   ]
  },
  {
   "cell_type": "markdown",
   "id": "5ee19d7f-f2b7-4485-8d6a-55f8a80f5593",
   "metadata": {},
   "source": [
    "<img src=images/ofdm_signal_plot.png width='' heigth='' > </img>"
   ]
  },
  {
   "cell_type": "code",
   "execution_count": 21,
   "id": "4cae9f3c-6df2-4a2e-97c5-c7f1ba4ad726",
   "metadata": {},
   "outputs": [],
   "source": [
    "using DSP"
   ]
  },
  {
   "cell_type": "code",
   "execution_count": 50,
   "id": "8ca4ff4d-dcf2-4ed3-8c99-fbff7b67bd6b",
   "metadata": {},
   "outputs": [
    {
     "name": "stdout",
     "output_type": "stream",
     "text": [
      "ofdm_signal_freq[1] = -55.89569459919596 + 64.66577358602285im\n"
     ]
    }
   ],
   "source": [
    "# Perform FFT on the OFDM signal\n",
    "ofdm_signal_freq = DSP.fftshift(fft(ofdm_signal)); @show ofdm_signal_freq[1];"
   ]
  },
  {
   "cell_type": "code",
   "execution_count": 65,
   "id": "dfba0f42-53d1-4ede-b90a-8ed41f1d656a",
   "metadata": {},
   "outputs": [
    {
     "name": "stdout",
     "output_type": "stream",
     "text": [
      "frequencies[end] = 999511.71875\n"
     ]
    }
   ],
   "source": [
    "frequencies = [i * sampling_rate / fft_size for i in 0:fft_size-1]; @show frequencies[end];"
   ]
  },
  {
   "cell_type": "code",
   "execution_count": 66,
   "id": "a4670c2b-32b0-466f-ac23-cf1ff7738aa9",
   "metadata": {},
   "outputs": [],
   "source": [
    "# frequencies = size(ofdm_signal_freq,1) - div(fft_size, 2); @show frequencies[1];"
   ]
  },
  {
   "cell_type": "code",
   "execution_count": 67,
   "id": "5a834ecf-7533-4551-8e1f-69d77418e0c9",
   "metadata": {},
   "outputs": [
    {
     "data": {},
     "execution_count": 67,
     "metadata": {},
     "output_type": "execute_result"
    },
    {
     "name": "stderr",
     "output_type": "stream",
     "text": [
      "attempt to save state beyond implementation limit\n",
      "attempt to save state beyond implementation limit\n"
     ]
    }
   ],
   "source": [
    "plot(frequencies, abs.(ofdm_signal_freq), xlabel=\"Frequency (Hz)\", ylabel=\"Magnitude\", label=\"OFDM Signal Spectrum\")\n",
    "# plot(x_all_sc, y_all_sc, xlabel=\"Frequency (Hz)\", ylabel=\"Magnitude\"\n",
    "    # , label=\"OFDM Signal Spectrum\"\n",
    "# )\n"
   ]
  },
  {
   "cell_type": "markdown",
   "id": "9465ed19-5b95-45ac-8583-b39940dd8d4b",
   "metadata": {},
   "source": [
    "To use a channel estimate for compensating the signal of the Secondary Synchronization Signal (SSS) in an OFDM system, you typically apply the inverse of the channel estimate to the received signal. This process is commonly known as equalization. I'll provide a basic example in Julia. Note that in a real-world scenario, you might need a more sophisticated channel estimation and equalization algorithm.\n",
    "\n",
    "Here's an example code snippet demonstrating channel estimation and equalization for an OFDM signal with SSS:\n",
    "\n",
    "```julia\n",
    "using FFTW\n",
    "using Plots\n",
    "\n",
    "function generate_ofdm_signal(num_symbols, fft_size, cp_length, sampling_rate)\n",
    "    # ... (unchanged)\n",
    "end\n",
    "\n",
    "function apply_channel(y, channel_estimate)\n",
    "    # Apply channel equalization by dividing by the channel estimate\n",
    "    y_equalized = y ./ channel_estimate\n",
    "    return y_equalized\n",
    "end\n",
    "\n",
    "# Example parameters\n",
    "num_symbols = 10\n",
    "fft_size = 2048\n",
    "cp_length = 144\n",
    "sampling_rate = 1e6\n",
    "pss_index = 100\n",
    "\n",
    "# Generate OFDM signal\n",
    "ofdm_signal = generate_ofdm_signal(num_symbols, fft_size, cp_length, sampling_rate)\n",
    "\n",
    "# Extract SSS symbol (replace this with your SSS extraction logic)\n",
    "sss_symbol = ofdm_signal[pss_index+1:pss_index+fft_size]\n",
    "\n",
    "# Perform FFT on the SSS symbol to get the channel estimate\n",
    "channel_estimate_freq = fft(sss_symbol, fft_size)\n",
    "\n",
    "# Apply smoothing/interpolation to the channel estimate if needed\n",
    "# (replace this with your smoothing/interpolation logic)\n",
    "\n",
    "# Apply channel equalization to the entire received signal\n",
    "ofdm_signal_equalized = apply_channel(ofdm_signal, conj.(channel_estimate_freq))\n",
    "\n",
    "# Plot the real part of the original and equalized signals\n",
    "plot(real.(ofdm_signal), label=\"Original Signal\", xlabel=\"Sample Index\", ylabel=\"Amplitude\", linewidth=2)\n",
    "plot!(real.(ofdm_signal_equalized), label=\"Equalized Signal\", linewidth=2)\n",
    "```\n",
    "\n",
    "In this example:\n",
    "\n",
    "- The `apply_channel` function applies channel equalization by dividing the received signal by the complex conjugate of the channel estimate.\n",
    "- The SSS symbol is extracted from the received OFDM signal.\n",
    "- The FFT of the SSS symbol is used as a simple channel estimate.\n",
    "- Channel equalization is applied to the entire received signal.\n",
    "\n",
    "Please note that this example assumes a simplified scenario, and in practice, you may need more advanced channel estimation and equalization techniques depending on your channel characteristics and system requirements."
   ]
  },
  {
   "cell_type": "code",
   "execution_count": null,
   "id": "3846ea7d-a320-4df6-8678-d44dd342319c",
   "metadata": {},
   "outputs": [],
   "source": []
  }
 ],
 "metadata": {
  "kernelspec": {
   "display_name": "Julia 1.9.3",
   "language": "julia",
   "name": "julia-1.9"
  },
  "language_info": {
   "file_extension": ".jl",
   "mimetype": "application/julia",
   "name": "julia",
   "version": "1.9.4"
  }
 },
 "nbformat": 4,
 "nbformat_minor": 5
}
