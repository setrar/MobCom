{
 "cells": [
  {
   "cell_type": "markdown",
   "id": "cd71a632-4fa8-4a23-9303-ab585c7222a5",
   "metadata": {},
   "source": [
    "# Take the real part and corollate with BPSK to find the ML estimate"
   ]
  },
  {
   "cell_type": "markdown",
   "id": "467b9b54-b122-4d9b-9ea1-363cfb7b97ff",
   "metadata": {},
   "source": [
    "To find the Maximum Likelihood (ML) estimate in the context of Binary Phase Shift Keying (BPSK), you typically correlate the received signal with the known BPSK signal. BPSK is a type of digital modulation where the information is encoded by changing the phase of the carrier signal between two possible values, typically 0 and π.\n",
    "\n",
    "Let's assume you have a received signal $ r(t) $ in the time domain. The received signal can be expressed as the sum of the transmitted BPSK signal $ s(t) $ and noise $ w(t) $:\n",
    "\n",
    "$ r(t) = s(t) + w(t) $\n",
    "\n",
    "In BPSK, the transmitted signal $ s(t) $ is often represented as:\n",
    "\n",
    "$ s(t) = A \\cos(2\\pi f_c t + \\theta) $\n",
    "\n",
    "where:\n",
    "- $ A $ is the amplitude,\n",
    "- $ f_c $ is the carrier frequency,\n",
    "- $ \\theta $ is the phase that changes between 0 and $ \\pi $ for binary encoding.\n",
    "\n",
    "Now, you want to find the ML estimate of the phase $ \\hat{\\theta} $. One common approach is to take the real part of the received signal, correlate it with the BPSK signal, and then make a decision based on the correlation result.\n",
    "\n",
    "Here is a simplified Julia code snippet to illustrate this process:\n",
    "\n",
    "\n"
   ]
  },
  {
   "cell_type": "code",
   "execution_count": 10,
   "id": "8dbd52b2-a891-4a1f-aa62-183183f62380",
   "metadata": {},
   "outputs": [
    {
     "data": {
      "text/plain": [
       "bpsk_ml_estimate (generic function with 1 method)"
      ]
     },
     "execution_count": 10,
     "metadata": {},
     "output_type": "execute_result"
    }
   ],
   "source": [
    "function bpsk_ml_estimate(received_signal, amplitude, carrier_frequency, time, noise_variance)\n",
    "    bpsk_signal = amplitude * cos.(2π * carrier_frequency * time)\n",
    "\n",
    "    # Take the real part of the received signal\n",
    "    received_real = real(received_signal)\n",
    "\n",
    "    # Correlate with the BPSK signal\n",
    "    correlation_result = sum(received_real .* bpsk_signal)\n",
    "\n",
    "    # Make a decision based on the correlation result\n",
    "    ml_estimate = ifelse(correlation_result >= 0, 0, π)\n",
    "\n",
    "    return ml_estimate\n",
    "end"
   ]
  },
  {
   "cell_type": "code",
   "execution_count": 11,
   "id": "c585dd28-03c9-4de6-807a-a27ed9f62dc3",
   "metadata": {},
   "outputs": [],
   "source": [
    "# Example parameters\n",
    "amplitude = 1.0\n",
    "carrier_frequency = 1.0\n",
    "noise_variance = 0.1\n",
    "\n",
    "# Time vector (replace with your actual time vector)\n",
    "time = 0:0.1:10\n",
    "\n",
    "# Simulated received signal (replace with your actual received signal)\n",
    "received_signal = amplitude * cos.(2π * carrier_frequency * time) + randn(size(time)) * sqrt(noise_variance);"
   ]
  },
  {
   "cell_type": "code",
   "execution_count": 12,
   "id": "1169a718-6d5f-4f4e-9ace-2eccd253ede8",
   "metadata": {},
   "outputs": [
    {
     "name": "stdout",
     "output_type": "stream",
     "text": [
      "ML Estimate of Phase: 0\n"
     ]
    }
   ],
   "source": [
    "\n",
    "# ML estimate\n",
    "ml_estimate = bpsk_ml_estimate(received_signal, amplitude, carrier_frequency, time, noise_variance)\n",
    "\n",
    "println(\"ML Estimate of Phase: \", ml_estimate)\n"
   ]
  },
  {
   "cell_type": "markdown",
   "id": "ce2c9d67-1370-4763-b337-c0bd9f549167",
   "metadata": {},
   "source": [
    "This is a simplified example, and in practice, you might need to consider factors such as symbol timing synchronization and other channel impairments. The actual implementation could also depend on the specifics of your communication system and the characteristics of the received signal."
   ]
  },
  {
   "cell_type": "code",
   "execution_count": null,
   "id": "338b9674-0b76-4b57-a335-8a1b2806089d",
   "metadata": {},
   "outputs": [],
   "source": []
  }
 ],
 "metadata": {
  "kernelspec": {
   "display_name": "Julia 1.9.3",
   "language": "julia",
   "name": "julia-1.9"
  },
  "language_info": {
   "file_extension": ".jl",
   "mimetype": "application/julia",
   "name": "julia",
   "version": "1.9.4"
  }
 },
 "nbformat": 4,
 "nbformat_minor": 5
}
