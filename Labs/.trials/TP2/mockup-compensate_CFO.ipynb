{
 "cells": [
  {
   "cell_type": "markdown",
   "id": "39645258-3086-4a79-8ede-b388ab6ea6a1",
   "metadata": {},
   "source": [
    "#### what is a carrier frequency"
   ]
  },
  {
   "cell_type": "markdown",
   "id": "2dc39b1f-bbce-4d48-b6c6-ad5a664784e4",
   "metadata": {},
   "source": [
    "A carrier frequency is a specific frequency used to modulate a signal in a communication system. In wireless communication, information is often transmitted by modulating a carrier wave. The carrier wave itself does not carry information but serves as a stable reference frequency upon which the information is imposed through modulation.\n",
    "\n",
    "The process of modulating a carrier wave involves varying one or more of its properties, such as amplitude, frequency, or phase, in accordance with the information signal. The carrier frequency is typically much higher than the frequency of the information signal. The carrier frequency is what allows the signal to be transmitted over long distances and through various mediums.\n",
    "\n",
    "For example, in amplitude modulation (AM), the amplitude of the carrier wave is varied to encode the information. In frequency modulation (FM), the frequency of the carrier wave is varied. In phase modulation (PM), the phase of the carrier wave is altered.\n",
    "\n",
    "In the context of cellular communication, such as in 5G, a carrier frequency is used to transmit signals between the base station and user equipment. The carrier frequency, along with other parameters, helps define the radio frequency band allocated for communication. Different carriers can operate at different frequencies, and the choice of carrier frequencies is crucial for efficient and interference-free communication."
   ]
  },
  {
   "cell_type": "markdown",
   "id": "7d4669c6-e574-4c7f-af14-da9adc0d9651",
   "metadata": {},
   "source": [
    "#### what is then the Carrier Frequency Offset?"
   ]
  },
  {
   "cell_type": "markdown",
   "id": "e3897fc8-1a58-476a-9179-3601f8241721",
   "metadata": {},
   "source": [
    "Carrier Frequency Offset (CFO) refers to the difference between the carrier frequency of a received signal and the expected or nominal carrier frequency at the receiver. In wireless communication systems, including 5G, the receiver must be synchronized with the transmitter's carrier frequency to correctly demodulate the signal. However, due to various factors, the carrier frequency at the receiver may deviate from the intended frequency.\n",
    "\n",
    "Several factors contribute to Carrier Frequency Offset:\n",
    "\n",
    "1. **Doppler Shift:** Motion-induced changes in the frequency of the signal due to the relative motion between the transmitter and receiver. This is especially relevant in mobile communication scenarios.\n",
    "\n",
    "2. **Crystal Oscillator Tolerance:** Imperfections or inaccuracies in the oscillators used to generate carrier frequencies in both the transmitter and receiver.\n",
    "\n",
    "3. **Temperature Drift:** Changes in temperature can affect the accuracy of the crystal oscillators, leading to frequency drift.\n",
    "\n",
    "4. **Propagation Effects:** Signal propagation through the atmosphere can cause frequency shifts due to effects like multipath propagation.\n",
    "\n",
    "5. **Hardware Imperfections:** Imperfections or non-idealities in the radio frequency (RF) components of the communication system.\n",
    "\n",
    "To mitigate the impact of Carrier Frequency Offset, synchronization techniques are employed at the receiver. These techniques involve estimating the CFO and compensating for it during the demodulation process. For example, in digital communication systems, algorithms like Maximum Likelihood (ML) estimation or correlation-based methods can be used to estimate and correct the CFO.\n",
    "\n",
    "Efficient CFO compensation is crucial for maintaining the accuracy of demodulation, especially in systems that use advanced modulation schemes, such as Quadrature Amplitude Modulation (QAM), where precise carrier frequency alignment is necessary to avoid signal distortion and degradation."
   ]
  },
  {
   "cell_type": "markdown",
   "id": "c1cdeb06-660c-42c5-918d-5e88ab13e684",
   "metadata": {},
   "source": [
    "#### can you generate the code "
   ]
  },
  {
   "cell_type": "markdown",
   "id": "b73aab89-6d96-403b-baba-e8d490f58b9d",
   "metadata": {},
   "source": [
    "Certainly! Below is a simple example of how you might implement Carrier Frequency Offset (CFO) estimation and compensation using a Frequency Offset Estimation (FOE) algorithm in Julia. Please note that this is a basic example, and in a real-world scenario, you might need more sophisticated algorithms depending on your specific use case.\n"
   ]
  },
  {
   "cell_type": "code",
   "execution_count": 13,
   "id": "986cf011-209d-4195-858f-42462c795789",
   "metadata": {},
   "outputs": [],
   "source": [
    "using DSP\n",
    "using Random"
   ]
  },
  {
   "cell_type": "code",
   "execution_count": 18,
   "id": "f8c5eb8f-3999-4902-bf67-bfe3ee068dc5",
   "metadata": {},
   "outputs": [
    {
     "data": {
      "text/plain": [
       "generate_transmitted_signal (generic function with 1 method)"
      ]
     },
     "execution_count": 18,
     "metadata": {},
     "output_type": "execute_result"
    }
   ],
   "source": [
    "function generate_transmitted_signal(symbol_rate, sampling_rate, num_symbols, carrier_frequency_offset)\n",
    "    # Generate a simple QPSK modulated signal with CFO\n",
    "    symbols = rand([-1, 1], num_symbols)\n",
    "    time = 0:1/sampling_rate:(num_symbols*symbol_rate-1)/sampling_rate\n",
    "    transmitted_signal = symbols .* exp.(2π * im * (symbol_rate + carrier_frequency_offset) * time)\n",
    "    return transmitted_signal\n",
    "end"
   ]
  },
  {
   "cell_type": "code",
   "execution_count": 19,
   "id": "5468f59b-a28c-4e33-b738-71cf7446a5d6",
   "metadata": {},
   "outputs": [
    {
     "data": {
      "text/plain": [
       "estimate_cfo (generic function with 1 method)"
      ]
     },
     "execution_count": 19,
     "metadata": {},
     "output_type": "execute_result"
    }
   ],
   "source": [
    "function estimate_cfo(received_signal, symbol_rate, sampling_rate)\n",
    "    # Estimate CFO using the Frequency Offset Estimation (FOE) algorithm\n",
    "    window_size = 1024  # Adjust based on your signal characteristics\n",
    "    correlation_result = abs.(crosscor(received_signal, received_signal[1:window_size], window_size))\n",
    "    peak_index = argmax(correlation_result)\n",
    "    cfo_estimate = (peak_index - 1) * symbol_rate / window_size\n",
    "    return cfo_estimate\n",
    "end"
   ]
  },
  {
   "cell_type": "code",
   "execution_count": 20,
   "id": "081af1c8-b4d8-492b-858f-270cce07d41f",
   "metadata": {},
   "outputs": [
    {
     "data": {
      "text/plain": [
       "compensate_cfo (generic function with 1 method)"
      ]
     },
     "execution_count": 20,
     "metadata": {},
     "output_type": "execute_result"
    }
   ],
   "source": [
    "function compensate_cfo(received_signal, cfo_estimate, symbol_rate)\n",
    "    # Compensate CFO by multiplying the received signal with a complex exponential\n",
    "    time = 0:1/symbol_rate:(length(received_signal)-1)/symbol_rate\n",
    "    compensation_signal = exp.(-2π * im * cfo_estimate * time)\n",
    "    compensated_signal = received_signal .* compensation_signal[1:length(received_signal)]\n",
    "    return compensated_signal\n",
    "end"
   ]
  },
  {
   "cell_type": "code",
   "execution_count": 5,
   "id": "ccb5c449-0549-4afa-a26b-c77c0df87619",
   "metadata": {},
   "outputs": [
    {
     "ename": "LoadError",
     "evalue": "DimensionMismatch: arrays could not be broadcast to a common size; got a dimension with lengths 100 and 100000000",
     "output_type": "error",
     "traceback": [
      "DimensionMismatch: arrays could not be broadcast to a common size; got a dimension with lengths 100 and 100000000",
      "",
      "Stacktrace:",
      " [1] _bcs1",
      "   @ ./broadcast.jl:529 [inlined]",
      " [2] _bcs",
      "   @ ./broadcast.jl:523 [inlined]",
      " [3] broadcast_shape",
      "   @ ./broadcast.jl:517 [inlined]",
      " [4] combine_axes",
      "   @ ./broadcast.jl:512 [inlined]",
      " [5] instantiate",
      "   @ ./broadcast.jl:294 [inlined]",
      " [6] materialize",
      "   @ ./broadcast.jl:873 [inlined]",
      " [7] generate_transmitted_signal(symbol_rate::Float64, sampling_rate::Float64, num_symbols::Int64, carrier_frequency_offset::Float64)",
      "   @ Main ./In[4]:8",
      " [8] top-level scope",
      "   @ In[5]:8"
     ]
    }
   ],
   "source": [
    "# Parameters\n",
    "symbol_rate = 1e6  # Symbol rate in Hz\n",
    "sampling_rate = 10e6  # Sampling rate in Hz\n",
    "num_symbols = 100\n",
    "carrier_frequency_offset = 50e3  # 50 kHz CFO\n",
    "\n",
    "# Generate transmitted signal with CFO\n",
    "transmitted_signal = generate_transmitted_signal(symbol_rate, sampling_rate, num_symbols, carrier_frequency_offset)\n",
    "\n",
    "# Add noise or channel effects if needed\n",
    "received_signal = transmitted_signal + 0.1 * (randn(size(transmitted_signal)) + im * randn(size(transmitted_signal)))\n",
    "\n",
    "# CFO estimation\n",
    "cfo_estimate = estimate_cfo(received_signal, symbol_rate, sampling_rate)\n",
    "println(\"Estimated CFO: \", cfo_estimate)\n",
    "\n",
    "# CFO compensation\n",
    "compensated_signal = compensate_cfo(received_signal, cfo_estimate, symbol_rate)\n",
    "\n",
    "# Further processing or demodulation steps can be performed on the compensated_signal"
   ]
  },
  {
   "cell_type": "markdown",
   "id": "44dd87fe-8f52-41e7-b21d-8fd56876ebce",
   "metadata": {},
   "source": [
    "In this example, the CFO is estimated using a simple cross-correlation-based algorithm (`estimate_cfo` function), and the compensation is performed by multiplying the received signal with a complex exponential (`compensate_cfo` function). Depending on your specific scenario, you might need to fine-tune parameters or use more advanced CFO estimation algorithms."
   ]
  },
  {
   "cell_type": "code",
   "execution_count": 4,
   "id": "00352eed-6a48-433c-9799-cd0c93299269",
   "metadata": {},
   "outputs": [
    {
     "ename": "LoadError",
     "evalue": "DimensionMismatch: arrays could not be broadcast to a common size; got a dimension with lengths 100 and 100000000",
     "output_type": "error",
     "traceback": [
      "DimensionMismatch: arrays could not be broadcast to a common size; got a dimension with lengths 100 and 100000000",
      "",
      "Stacktrace:",
      " [1] _bcs1",
      "   @ ./broadcast.jl:529 [inlined]",
      " [2] _bcs",
      "   @ ./broadcast.jl:523 [inlined]",
      " [3] broadcast_shape",
      "   @ ./broadcast.jl:517 [inlined]",
      " [4] combine_axes",
      "   @ ./broadcast.jl:512 [inlined]",
      " [5] instantiate",
      "   @ ./broadcast.jl:294 [inlined]",
      " [6] materialize",
      "   @ ./broadcast.jl:873 [inlined]",
      " [7] generate_transmitted_signal(symbol_rate::Float64, sampling_rate::Float64, num_symbols::Int64, carrier_frequency_offset::Float64)",
      "   @ Main ./In[4]:8",
      " [8] top-level scope",
      "   @ In[4]:36"
     ]
    }
   ],
   "source": [
    "using DSP\n",
    "using Random\n",
    "\n",
    "function generate_transmitted_signal(symbol_rate, sampling_rate, num_symbols, carrier_frequency_offset)\n",
    "    # Generate a simple QPSK modulated signal with CFO\n",
    "    symbols = rand([-1, 1], num_symbols)\n",
    "    time = 0:1/sampling_rate:(num_symbols*symbol_rate-1)/sampling_rate\n",
    "    transmitted_signal = symbols .* exp.(2π * im * (symbol_rate + carrier_frequency_offset) * time)\n",
    "    return transmitted_signal\n",
    "end\n",
    "\n",
    "function estimate_cfo(received_signal, symbol_rate, sampling_rate)\n",
    "    # Estimate CFO using the Frequency Offset Estimation (FOE) algorithm\n",
    "    window_size = 1024  # Adjust based on your signal characteristics\n",
    "    correlation_result = abs.(crosscor(received_signal, received_signal[1:window_size], window_size))\n",
    "    peak_index = argmax(correlation_result)\n",
    "    cfo_estimate = (peak_index - 1) * symbol_rate / window_size\n",
    "    return cfo_estimate\n",
    "end\n",
    "\n",
    "function compensate_cfo(received_signal, cfo_estimate, symbol_rate)\n",
    "    # Compensate CFO by multiplying the received signal with a complex exponential\n",
    "    time = 0:1/sampling_rate:(length(received_signal)-1)/sampling_rate\n",
    "    compensation_signal = exp.(-2π * im * cfo_estimate * time[1:length(received_signal)])\n",
    "    compensated_signal = received_signal .* compensation_signal\n",
    "    return compensated_signal\n",
    "end\n",
    "\n",
    "# Parameters\n",
    "symbol_rate = 1e6  # Symbol rate in Hz\n",
    "sampling_rate = 10e6  # Sampling rate in Hz\n",
    "num_symbols = 100\n",
    "carrier_frequency_offset = 50e3  # 50 kHz CFO\n",
    "\n",
    "# Generate transmitted signal with CFO\n",
    "transmitted_signal = generate_transmitted_signal(symbol_rate, sampling_rate, num_symbols, carrier_frequency_offset)\n",
    "\n",
    "# Add noise or channel effects if needed\n",
    "received_signal = transmitted_signal + 0.1 * (randn(size(transmitted_signal)) + im * randn(size(transmitted_signal)))\n",
    "\n",
    "# CFO estimation\n",
    "cfo_estimate = estimate_cfo(received_signal, symbol_rate, sampling_rate)\n",
    "println(\"Estimated CFO: \", cfo_estimate)\n",
    "\n",
    "# CFO compensation\n",
    "compensated_signal = compensate_cfo(received_signal, cfo_estimate, symbol_rate)\n",
    "\n",
    "# Further processing or demodulation steps can be performed on the compensated_signal\n"
   ]
  },
  {
   "cell_type": "code",
   "execution_count": null,
   "id": "c081cc2d-c056-440a-9b97-efff7d3c5243",
   "metadata": {},
   "outputs": [],
   "source": []
  }
 ],
 "metadata": {
  "kernelspec": {
   "display_name": "Julia 1.9.3",
   "language": "julia",
   "name": "julia-1.9"
  },
  "language_info": {
   "file_extension": ".jl",
   "mimetype": "application/julia",
   "name": "julia",
   "version": "1.9.4"
  }
 },
 "nbformat": 4,
 "nbformat_minor": 5
}
