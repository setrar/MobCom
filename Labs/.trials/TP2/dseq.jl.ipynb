{
 "cells": [
  {
   "cell_type": "markdown",
   "id": "6550856f-f7c0-46c0-9b27-2d575ff4e97a",
   "metadata": {},
   "source": [
    "# &#x1F39E; SSS Generation"
   ]
  },
  {
   "cell_type": "markdown",
   "id": "0b669dcc-0350-42b2-9a93-699cf7d58abd",
   "metadata": {},
   "source": [
    "#### 1. Sequence Generation"
   ]
  },
  {
   "cell_type": "markdown",
   "id": "58af1643-ddf0-4174-a2b2-94feb1cfee84",
   "metadata": {},
   "source": [
    "$$\n",
    "\\begin{gather}\n",
    "\\text{ The sequence } d_{sss} \\text { for the secondary synchronization signal is defined by } \n",
    "\\\\\n",
    "\\\\\n",
    "d_{sss}(n) = \\big[ 1 - 2x_0 ((n + m_0) \\; mod \\; 127)\\big]\\big[ 1 - 2x_1 ((n + m_1) \\; mod \\; 127)\\big]\n",
    "\\\\\n",
    "\\\\\n",
    "m_0 = 15\\Big[ \\frac{𝑁_{ID}^{(1)}}{112} \\Big] + 5𝑁_{ID}^{(2)}\n",
    "\\\\\n",
    "\\\\\n",
    "m_1 = 𝑁_{ID}^{(1)} \\; mod \\; 112\n",
    "\\\\\n",
    "\\\\\n",
    "0 \\leq n \\lt 127\n",
    "\\\\\n",
    "\\text { where } \\qquad \\qquad \\qquad \\qquad \\qquad \\qquad \\qquad \\qquad \\qquad \\qquad \\qquad \\qquad \n",
    "\\\\\n",
    "x_0( i + 7) = (x_0(i + 4)+ x_0(i)) \\; mod \\; 2\n",
    "\\\\\n",
    "x_1( i + 7) = (x_1(i + 1)+ x_1(i)) \\; mod \\; 2\n",
    "\\\\\n",
    "\\text { and } \\qquad \\qquad \\qquad \\qquad \\qquad \\qquad \\qquad \\qquad \\qquad \\qquad \\qquad \\qquad \n",
    "\\\\\n",
    "\\\\\n",
    "[ x_0(6) \\; x_0(5) \\; x_0(4) \\; x_0(3) \\; x_0(2) \\; x_0(1) \\; x_0(0) ] = [ 0 \\; 0 \\; 0 \\; 0 \\; 0 \\; 0 \\; 1]\n",
    "\\\\\n",
    "[ x_1(6) \\; x_1(5) \\; x_1(4) \\; x_1(3) \\; x_1(2) \\; x_1(1) \\; x_1(0) ] = [ 0 \\; 0 \\; 0 \\; 0 \\; 0 \\; 0 \\; 1]\n",
    "\\\\\n",
    "\\end{gather}\n",
    "$$"
   ]
  },
  {
   "cell_type": "code",
   "execution_count": 21,
   "id": "e536ef42-13d1-4f4b-a8b3-41f59fb88cf6",
   "metadata": {},
   "outputs": [
    {
     "data": {
      "text/plain": [
       "127"
      ]
     },
     "execution_count": 21,
     "metadata": {},
     "output_type": "execute_result"
    }
   ],
   "source": [
    "Nₛ   = 127 # Number of subcarriers"
   ]
  },
  {
   "cell_type": "code",
   "execution_count": 22,
   "id": "6e46ad29-5d8a-40e9-939e-ee76a0daa14b",
   "metadata": {},
   "outputs": [],
   "source": [
    "x₀ = zeros(Int, Nₛ)\n",
    "x₁ = zeros(Int, Nₛ);"
   ]
  },
  {
   "cell_type": "code",
   "execution_count": 32,
   "id": "8f1a0008-4c2d-494b-9f46-a1aa85fd7390",
   "metadata": {},
   "outputs": [
    {
     "name": "stdout",
     "output_type": "stream",
     "text": [
      "x₀ = [1, 0, 0, 0, 0, 0, 0, 0, 0, 0, 0, 0, 0, 0, 0, 0, 0, 0, 0, 0, 0, 0, 0, 0, 0, 0, 0, 0, 0, 0, 0, 0, 0, 0, 0, 0, 0, 0, 0, 0, 0, 0, 0, 0, 0, 0, 0, 0, 0, 0, 0, 0, 0, 0, 0, 0, 0, 0, 0, 0, 0, 0, 0, 0, 0, 0, 0, 0, 0, 0, 0, 0, 0, 0, 0, 0, 0, 0, 0, 0, 0, 0, 0, 0, 0, 0, 0, 0, 0, 0, 0, 0, 0, 0, 0, 0, 0, 0, 0, 0, 0, 0, 0, 0, 0, 0, 0, 0, 0, 0, 0, 0, 0, 0, 0, 0, 0, 0, 0, 0, 0, 0, 0, 0, 0, 0, 0]\n",
      "x₁ = [1, 0, 0, 0, 0, 0, 0, 0, 0, 0, 0, 0, 0, 0, 0, 0, 0, 0, 0, 0, 0, 0, 0, 0, 0, 0, 0, 0, 0, 0, 0, 0, 0, 0, 0, 0, 0, 0, 0, 0, 0, 0, 0, 0, 0, 0, 0, 0, 0, 0, 0, 0, 0, 0, 0, 0, 0, 0, 0, 0, 0, 0, 0, 0, 0, 0, 0, 0, 0, 0, 0, 0, 0, 0, 0, 0, 0, 0, 0, 0, 0, 0, 0, 0, 0, 0, 0, 0, 0, 0, 0, 0, 0, 0, 0, 0, 0, 0, 0, 0, 0, 0, 0, 0, 0, 0, 0, 0, 0, 0, 0, 0, 0, 0, 0, 0, 0, 0, 0, 0, 0, 0, 0, 0, 0, 0, 0]\n"
     ]
    }
   ],
   "source": [
    "# Like Matlab Julia has a 1-based index\n",
    "x₀[1:7] .= [1, 0, 0, 0, 0, 0, 0]; @show x₀;\n",
    "x₁[1:7] .= [1, 0, 0, 0, 0, 0, 0]; @show x₁;"
   ]
  },
  {
   "cell_type": "code",
   "execution_count": 33,
   "id": "56b6a7a6-ae99-468c-9a2f-739bda52ebb7",
   "metadata": {},
   "outputs": [
    {
     "name": "stdout",
     "output_type": "stream",
     "text": [
      "x₀ = [1, 0, 0, 0, 0, 0, 0, 1, 0, 0, 1, 0, 0, 1, 1, 0, 1, 0, 0, 1, 1, 1, 1, 0, 1, 1, 1, 0, 0, 0, 0, 1, 1, 1, 1, 1, 1, 1, 0, 0, 0, 1, 1, 1, 0, 1, 1, 0, 0, 0, 1, 0, 1, 0, 0, 1, 0, 1, 1, 1, 1, 1, 0, 1, 0, 1, 0, 1, 0, 0, 0, 0, 1, 0, 1, 1, 0, 1, 1, 1, 1, 0, 0, 1, 1, 1, 0, 0, 1, 0, 1, 0, 1, 1, 0, 0, 1, 1, 0, 0, 0, 0, 0, 1, 1, 0, 1, 1, 0, 1, 0, 1, 1, 1, 0, 1, 0, 0, 0, 1, 1, 0, 0, 1, 0, 0, 0]\n",
      "x₁ = [1, 0, 0, 0, 0, 0, 0, 1, 0, 0, 0, 0, 0, 1, 1, 0, 0, 0, 0, 1, 0, 1, 0, 0, 0, 1, 1, 1, 1, 0, 0, 1, 0, 0, 0, 1, 0, 1, 1, 0, 0, 1, 1, 1, 0, 1, 0, 1, 0, 0, 1, 1, 1, 1, 1, 0, 1, 0, 0, 0, 0, 1, 1, 1, 0, 0, 0, 1, 0, 0, 1, 0, 0, 1, 1, 0, 1, 1, 0, 1, 0, 1, 1, 0, 1, 1, 1, 1, 0, 1, 1, 0, 0, 0, 1, 1, 0, 1, 0, 0, 1, 0, 1, 1, 1, 0, 1, 1, 1, 0, 0, 1, 1, 0, 0, 1, 0, 1, 0, 1, 0, 1, 1, 1, 1, 1, 1]\n"
     ]
    }
   ],
   "source": [
    "for n in 1:120\n",
    "    x₀[n+7] = rem(x₀[n+4] + x₀[n], 2)\n",
    "    x₁[n+7] = rem(x₁[n+1] + x₁[n], 2)\n",
    "end\n",
    "@show x₀;\n",
    "@show x₁;"
   ]
  },
  {
   "cell_type": "code",
   "execution_count": 34,
   "id": "22b0b102-75df-42ec-bdea-77c6c8e01354",
   "metadata": {},
   "outputs": [],
   "source": [
    "dₛₛₛ = zeros(Int, 336*3, Nₛ) # dₛₛₛ Sequences\n",
    "\n",
    "for Nᵢ² in 0:2\n",
    "    for Nᵢ¹ in 0:335\n",
    "        m₀ = 15 * div(Nᵢ¹, 112) + 5 * Nᵢ²\n",
    "        m₁ = rem(Nᵢ¹, 112)\n",
    "        \n",
    "        for n in 0:(Nₛ-1)\n",
    "            dₛₛₛ[1+Nᵢ² + 3*Nᵢ¹, 1+n] = \n",
    "            (1 - 2*x₀[1+mod(n+m₀, Nₛ)]) * (1 - 2*x₁[1+mod(n+m₁, Nₛ)])\n",
    "        end\n",
    "    end\n",
    "end"
   ]
  },
  {
   "cell_type": "code",
   "execution_count": 43,
   "id": "980c0213-829d-41cd-a6e0-e9a13f6e465c",
   "metadata": {},
   "outputs": [
    {
     "name": "stdout",
     "output_type": "stream",
     "text": [
      "dₛₛₛ[1, :] = [1, 1, 1, 1, 1, 1, 1, 1, 1, 1, -1, 1, 1, 1, 1, 1, -1, 1, 1, 1, -1, 1, -1, 1, -1, 1, 1, -1, -1, 1, 1, 1, -1, -1, -1, 1, -1, 1, -1, 1, 1, 1, 1, 1, 1, 1, -1, -1, 1, 1, 1, -1, 1, -1, -1, -1, -1, -1, -1, -1, -1, 1, -1, 1, 1, -1, 1, 1, 1, 1, -1, 1, -1, -1, 1, -1, -1, 1, -1, 1, -1, -1, -1, -1, 1, 1, -1, -1, -1, -1, 1, 1, -1, -1, -1, -1, -1, 1, 1, 1, -1, 1, -1, 1, 1, 1, 1, 1, -1, -1, 1, 1, 1, -1, 1, 1, 1, -1, 1, 1, -1, -1, -1, 1, -1, -1, -1]\n"
     ]
    },
    {
     "data": {
      "text/plain": [
       "(1008, 127)"
      ]
     },
     "execution_count": 43,
     "metadata": {},
     "output_type": "execute_result"
    }
   ],
   "source": [
    "@show dₛₛₛ[1,:]; size(dₛₛₛ)"
   ]
  },
  {
   "cell_type": "code",
   "execution_count": 35,
   "id": "2e8058e3-656c-472f-a429-2ea0eb64ae7e",
   "metadata": {},
   "outputs": [],
   "source": [
    "using Plots"
   ]
  },
  {
   "cell_type": "code",
   "execution_count": 13,
   "id": "c78e4bc1-5edf-4228-9386-520e359ef1dd",
   "metadata": {},
   "outputs": [],
   "source": [
    "dₛₛₛ_plot = plot(dₛₛₛ, legend=false)\n",
    "savefig(dₛₛₛ_plot,\"images/d_plot.png\");"
   ]
  },
  {
   "cell_type": "markdown",
   "id": "13b3d056-4712-44eb-be1a-3092cd70a28f",
   "metadata": {},
   "source": [
    "<img src='images/d_plot.png' width='' height='' > </img>"
   ]
  },
  {
   "cell_type": "markdown",
   "id": "10fdef1f-93a9-44ce-9554-2b43399082f4",
   "metadata": {},
   "source": [
    "# References\n",
    "- [ ] [Why does Julia adopt 1-based index?](https://www.reddit.com/r/Julia/comments/pm1yl9/why_does_julia_adopt_1based_index)\n",
    "- [ ] [Why does matlab have 1 based indexing \\[closed\\]](https://stackoverflow.com/questions/22546787/why-does-matlab-have-1-based-indexing)"
   ]
  },
  {
   "cell_type": "code",
   "execution_count": null,
   "id": "017c1f67-1609-4bbf-8133-f2a218489095",
   "metadata": {},
   "outputs": [],
   "source": []
  }
 ],
 "metadata": {
  "kernelspec": {
   "display_name": "Julia 1.9.3",
   "language": "julia",
   "name": "julia-1.9"
  },
  "language_info": {
   "file_extension": ".jl",
   "mimetype": "application/julia",
   "name": "julia",
   "version": "1.9.4"
  }
 },
 "nbformat": 4,
 "nbformat_minor": 5
}
