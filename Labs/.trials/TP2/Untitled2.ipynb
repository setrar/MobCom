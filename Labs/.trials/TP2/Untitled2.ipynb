{
 "cells": [
  {
   "cell_type": "code",
   "execution_count": 1,
   "id": "3dfef5ea-b4ff-41e5-9af9-ea494f621f8f",
   "metadata": {},
   "outputs": [
    {
     "ename": "LoadError",
     "evalue": "MethodError: no method matching -(::Float64, ::Vector{Float64})\nFor element-wise subtraction, use broadcasting with dot syntax: scalar .- array\n\n\u001b[0mClosest candidates are:\n\u001b[0m  -(::Union{Float16, Float32, Float64})\n\u001b[0m\u001b[90m   @\u001b[39m \u001b[90mBase\u001b[39m \u001b[90m\u001b[4mfloat.jl:406\u001b[24m\u001b[39m\n\u001b[0m  -(::T, \u001b[91m::T\u001b[39m) where T<:Union{Float16, Float32, Float64}\n\u001b[0m\u001b[90m   @\u001b[39m \u001b[90mBase\u001b[39m \u001b[90m\u001b[4mfloat.jl:409\u001b[24m\u001b[39m\n\u001b[0m  -(::Union{Float16, Float32, Float64}, \u001b[91m::BigFloat\u001b[39m)\n\u001b[0m\u001b[90m   @\u001b[39m \u001b[90mBase\u001b[39m \u001b[90m\u001b[4mmpfr.jl:474\u001b[24m\u001b[39m\n\u001b[0m  ...\n",
     "output_type": "error",
     "traceback": [
      "MethodError: no method matching -(::Float64, ::Vector{Float64})\nFor element-wise subtraction, use broadcasting with dot syntax: scalar .- array\n\n\u001b[0mClosest candidates are:\n\u001b[0m  -(::Union{Float16, Float32, Float64})\n\u001b[0m\u001b[90m   @\u001b[39m \u001b[90mBase\u001b[39m \u001b[90m\u001b[4mfloat.jl:406\u001b[24m\u001b[39m\n\u001b[0m  -(::T, \u001b[91m::T\u001b[39m) where T<:Union{Float16, Float32, Float64}\n\u001b[0m\u001b[90m   @\u001b[39m \u001b[90mBase\u001b[39m \u001b[90m\u001b[4mfloat.jl:409\u001b[24m\u001b[39m\n\u001b[0m  -(::Union{Float16, Float32, Float64}, \u001b[91m::BigFloat\u001b[39m)\n\u001b[0m\u001b[90m   @\u001b[39m \u001b[90mBase\u001b[39m \u001b[90m\u001b[4mmpfr.jl:474\u001b[24m\u001b[39m\n\u001b[0m  ...\n",
      "",
      "Stacktrace:",
      " [1] lattice_filter_levinson(x::Vector{Float64}, p::Int64)",
      "   @ Main ./In[1]:12",
      " [2] top-level scope",
      "   @ In[1]:28"
     ]
    }
   ],
   "source": [
    "function generate_random_signal(n)\n",
    "    return randn(n)\n",
    "end\n",
    "\n",
    "function lattice_filter_levinson(x, p)\n",
    "    N = length(x)\n",
    "    lattice = zeros(p + 1, N)\n",
    "    \n",
    "    for n = 1:N\n",
    "        lattice[1, n] = x[n]\n",
    "        for k = 1:p\n",
    "            lattice[k + 1, n] = lattice[k, n] - (lattice[k, n] / lattice[k, k]) * lattice[k, k - 1:-1:1, n]\n",
    "        end\n",
    "    end\n",
    "    \n",
    "    ar_coefficients = [lattice[k, N] / lattice[k - 1, k - 1] for k = 1:p]\n",
    "    return ar_coefficients\n",
    "end\n",
    "\n",
    "# Main program\n",
    "signal_length = 100\n",
    "order = 4\n",
    "\n",
    "# Generate a random signal\n",
    "signal = generate_random_signal(signal_length)\n",
    "\n",
    "# Apply Lattice Filter based on Levinson algorithm\n",
    "ar_coefficients_lattice = lattice_filter_levinson(signal, order)\n",
    "\n",
    "println(\"Original AR Coefficients: [1.0, -0.5, 0.2, -0.1]\")\n",
    "println(\"Estimated AR Coefficients (Lattice Filter):\", ar_coefficients_lattice)\n"
   ]
  },
  {
   "cell_type": "code",
   "execution_count": null,
   "id": "7a48efa6-99ad-4144-b273-c2b619a50507",
   "metadata": {},
   "outputs": [],
   "source": []
  }
 ],
 "metadata": {
  "kernelspec": {
   "display_name": "Julia 1.9.3",
   "language": "julia",
   "name": "julia-1.9"
  },
  "language_info": {
   "file_extension": ".jl",
   "mimetype": "application/julia",
   "name": "julia",
   "version": "1.9.4"
  }
 },
 "nbformat": 4,
 "nbformat_minor": 5
}
