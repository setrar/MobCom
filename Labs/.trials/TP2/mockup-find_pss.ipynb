{
 "cells": [
  {
   "cell_type": "code",
   "execution_count": 1,
   "id": "1ca4f528-b336-4814-9d4e-53875ffe24b2",
   "metadata": {},
   "outputs": [],
   "source": [
    "using DSP"
   ]
  },
  {
   "cell_type": "markdown",
   "id": "758de98a-aee2-4d6f-a7da-2dccedc2d3fa",
   "metadata": {},
   "source": [
    "The Primary Synchronization Signal (PSS) in a 5G signal is usually transmitted in the time domain. In wireless communication systems like 5G, the transmission of information often involves the modulation of a carrier signal in the time domain. The PSS is part of the synchronization signals in the downlink, and it helps devices synchronize their receivers with the base station.\n",
    "\n",
    "However, when processing and analyzing signals, it's common to work with both time-domain and frequency-domain representations. The PSS is typically modulated onto a carrier frequency, and the signal can be analyzed in both domains to extract information.\n",
    "\n",
    "In the Julia code example provided in the previous response, the `conv` function performs a convolution operation in the time domain, and the PSS sequence is generated in the time domain. The frequency-domain analysis can also be performed using tools such as the Fast Fourier Transform (FFT) to convert signals between the time and frequency domains."
   ]
  },
  {
   "cell_type": "code",
   "execution_count": 18,
   "id": "64c41b3b-ed0b-4b29-b42e-67f8fbbf2b44",
   "metadata": {},
   "outputs": [
    {
     "data": {
      "text/plain": [
       "find_pss (generic function with 2 methods)"
      ]
     },
     "execution_count": 18,
     "metadata": {},
     "output_type": "execute_result"
    }
   ],
   "source": [
    "function find_pss(signal,pss_sequence)\n",
    "\n",
    "    # Cross-correlation to find PSS\n",
    "    correlation_result = conv(signal, reverse(conj.(pss_sequence)))\n",
    "\n",
    "    # Find the index of the peak in the correlation result\n",
    "    peak_index = argmax(abs.(correlation_result))\n",
    "\n",
    "    return peak_index\n",
    "end"
   ]
  },
  {
   "cell_type": "code",
   "execution_count": 19,
   "id": "9b1124b6-dccc-4ce7-b6e5-b3597955c4c6",
   "metadata": {},
   "outputs": [
    {
     "data": {
      "text/plain": [
       "generate_pss_sequence (generic function with 1 method)"
      ]
     },
     "execution_count": 19,
     "metadata": {},
     "output_type": "execute_result"
    }
   ],
   "source": [
    "function generate_pss_sequence(length)\n",
    "    # Function to generate PSS sequence\n",
    "    # You would typically use the 3GPP specifications for the PSS sequence\n",
    "\n",
    "    # For simplicity, let's generate a simple complex sinusoidal sequence\n",
    "    fs = 1000  # Sampling frequency\n",
    "    t = 0:1/fs:(length-1)/fs  # Time vector\n",
    "    f_pss = 100  # PSS frequency\n",
    "    pss_sequence = exp.(2π * im * f_pss * t)\n",
    "\n",
    "    return pss_sequence\n",
    "end"
   ]
  },
  {
   "cell_type": "code",
   "execution_count": 20,
   "id": "3ce3ac34-df92-4b5a-a8b3-fe78f0c8c18f",
   "metadata": {},
   "outputs": [],
   "source": [
    "# PSS related parameters\n",
    "pss_length = 127  # Length of PSS sequence\n",
    "pss_sequence = generate_pss_sequence(pss_length);  # Function to generate PSS sequence"
   ]
  },
  {
   "cell_type": "code",
   "execution_count": 21,
   "id": "004b81a8-771c-4e10-824c-80ab390b2cc7",
   "metadata": {},
   "outputs": [],
   "source": [
    "## Receive the signal\n",
    "include(\"rxsignal_withchannelandfreqoff.jl\");"
   ]
  },
  {
   "cell_type": "code",
   "execution_count": 22,
   "id": "0f1f814d-a8d8-4495-b4d6-d1d293801a22",
   "metadata": {},
   "outputs": [
    {
     "name": "stdout",
     "output_type": "stream",
     "text": [
      "size(received_signal) = (616447, 1)\n"
     ]
    }
   ],
   "source": [
    "## Assign the received signal a variable Ŝᵣₓ³\n",
    "# Your received signal here (complex vector)\n",
    "𝑅ₚₛₛ³ = rxs3; # RX Received Signal 3 File Handle\n",
    "@show size(received_signal); "
   ]
  },
  {
   "cell_type": "code",
   "execution_count": 23,
   "id": "4e9d5591-2975-4013-a0b6-078c5881c638",
   "metadata": {},
   "outputs": [],
   "source": [
    "# Example usage\n",
    "received_signal = 𝑅ₚₛₛ³; # Your received signal here (complex vector)"
   ]
  },
  {
   "cell_type": "code",
   "execution_count": 25,
   "id": "7298143b-850b-448b-8f75-44854b2223b8",
   "metadata": {},
   "outputs": [
    {
     "name": "stdout",
     "output_type": "stream",
     "text": [
      "PSS found at index: CartesianIndex(11138, 1)\n"
     ]
    }
   ],
   "source": [
    "pss_index = find_pss(received_signal,pss_sequence)\n",
    "\n",
    "println(\"PSS found at index: \", pss_index)"
   ]
  },
  {
   "cell_type": "markdown",
   "id": "44cdd4d0-47a1-44ea-926d-7d047f4b6710",
   "metadata": {},
   "source": [
    "#### is the signal in time domain or frequency domain?"
   ]
  },
  {
   "cell_type": "markdown",
   "id": "b855c137-627e-41e3-aeec-a9df53fbdcda",
   "metadata": {},
   "source": [
    "The Primary Synchronization Signal (PSS) in a 5G signal is usually transmitted in the time domain. In wireless communication systems like 5G, the transmission of information often involves the modulation of a carrier signal in the time domain. The PSS is part of the synchronization signals in the downlink, and it helps devices synchronize their receivers with the base station.\n",
    "\n",
    "However, when processing and analyzing signals, it's common to work with both time-domain and frequency-domain representations. The PSS is typically modulated onto a carrier frequency, and the signal can be analyzed in both domains to extract information.\n",
    "\n",
    "In the Julia code example provided in the previous response, the `conv` function performs a convolution operation in the time domain, and the PSS sequence is generated in the time domain. The frequency-domain analysis can also be performed using tools such as the Fast Fourier Transform (FFT) to convert signals between the time and frequency domains."
   ]
  },
  {
   "cell_type": "code",
   "execution_count": null,
   "id": "4c1dc4fe-085e-49b6-83ba-65864c4fcee6",
   "metadata": {},
   "outputs": [],
   "source": []
  }
 ],
 "metadata": {
  "kernelspec": {
   "display_name": "Julia 1.9.3",
   "language": "julia",
   "name": "julia-1.9"
  },
  "language_info": {
   "file_extension": ".jl",
   "mimetype": "application/julia",
   "name": "julia",
   "version": "1.9.4"
  }
 },
 "nbformat": 4,
 "nbformat_minor": 5
}
