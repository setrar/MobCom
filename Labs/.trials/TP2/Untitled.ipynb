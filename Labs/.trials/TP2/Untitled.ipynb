{
 "cells": [
  {
   "cell_type": "code",
   "execution_count": 12,
   "id": "2f38c895-7e16-46b5-9e12-c873a9ddcf84",
   "metadata": {},
   "outputs": [],
   "source": [
    "using FFTW\n",
    "using Plots\n",
    "using DSP"
   ]
  },
  {
   "cell_type": "code",
   "execution_count": 13,
   "id": "6dac92c0-6cfc-4f46-aa92-9ca5512a8eac",
   "metadata": {},
   "outputs": [
    {
     "data": {
      "text/plain": [
       "extract_sss_symbol (generic function with 1 method)"
      ]
     },
     "execution_count": 13,
     "metadata": {},
     "output_type": "execute_result"
    }
   ],
   "source": [
    "function extract_sss_symbol(y, pss_index, cp_length, fft_size)\n",
    "    # Extract the SSS symbol based on PSS timing information\n",
    "    sss_symbol_start = pss_index + cp_length\n",
    "    sss_symbol_end = sss_symbol_start + fft_size - 1\n",
    "    sss_symbol = y[sss_symbol_start:sss_symbol_end]\n",
    "    return sss_symbol\n",
    "end\n"
   ]
  },
  {
   "cell_type": "code",
   "execution_count": 14,
   "id": "ad60985e-a2a5-4142-b4ee-15b50c8e9112",
   "metadata": {},
   "outputs": [],
   "source": [
    "## Receive the signal\n",
    "include(\"../../data/julia/rxsignal_withchannelandfreqoff.jl\");"
   ]
  },
  {
   "cell_type": "code",
   "execution_count": 15,
   "id": "6c4b4596-5380-4e6a-98c5-2e0fbcf902d5",
   "metadata": {},
   "outputs": [
    {
     "data": {
      "text/plain": [
       "2048"
      ]
     },
     "execution_count": 15,
     "metadata": {},
     "output_type": "execute_result"
    }
   ],
   "source": [
    "# Example usage\n",
    "y = rxs3 # Your received signal here (complex vector)\n",
    "pss_index = 4436 # PSS timing information obtained previously\n",
    "cp_length = 144 # Cyclic Prefix length\n",
    "fft_size = 2048"
   ]
  },
  {
   "cell_type": "code",
   "execution_count": 16,
   "id": "ede24649-72db-47c6-a02c-2d3a8edb2ab0",
   "metadata": {},
   "outputs": [
    {
     "name": "stdout",
     "output_type": "stream",
     "text": [
      "size(sss_symbol) = (2048,)\n"
     ]
    }
   ],
   "source": [
    "# Extract SSS symbol\n",
    "sss_symbol = extract_sss_symbol(y, pss_index, cp_length, fft_size); @show size(sss_symbol);"
   ]
  },
  {
   "cell_type": "code",
   "execution_count": 17,
   "id": "34647ef4-38d1-4b1e-a74a-b8e68eab3d56",
   "metadata": {},
   "outputs": [
    {
     "data": {
      "text/plain": [
       "4436"
      ]
     },
     "execution_count": 17,
     "metadata": {},
     "output_type": "execute_result"
    }
   ],
   "source": [
    "Tu = fft_size\n",
    "a₀ = pss_index"
   ]
  },
  {
   "cell_type": "code",
   "execution_count": 18,
   "id": "ed739c8b-86b7-453d-acbb-9ece1ad28ce2",
   "metadata": {},
   "outputs": [
    {
     "name": "stdout",
     "output_type": "stream",
     "text": [
      "𝐹ₓ[1] = 1151.3941643000546 - 620.4532829634018im\n"
     ]
    }
   ],
   "source": [
    "𝐹ₓ = DSP.fftshift(DSP.fft(y[a₀:a₀+Tu])); @show 𝐹ₓ[1];"
   ]
  },
  {
   "cell_type": "code",
   "execution_count": 19,
   "id": "1dea4946-2541-49fe-8af9-c14176a35926",
   "metadata": {},
   "outputs": [
    {
     "data": {
      "text/plain": [
       "-2550.7358161135508 - 923.0082990198529im"
      ]
     },
     "execution_count": 19,
     "metadata": {},
     "output_type": "execute_result"
    }
   ],
   "source": [
    "# Perform FFT\n",
    "# sss_symbol_freq = fft(sss_symbol, fft_size)\n",
    "# 𝐹ₓ = DSP.fftshift(DSP.fft(sss_symbol,fft_size));\n",
    "# 𝐹ₓ = DSP.fft(sss_symbol,fft_size);\n",
    "sss_symbol[2028]"
   ]
  },
  {
   "cell_type": "code",
   "execution_count": 20,
   "id": "0cc6ede2-68bc-4539-8aa3-e07c2c4061cd",
   "metadata": {},
   "outputs": [
    {
     "ename": "LoadError",
     "evalue": "UndefVarError: `sampling_rate` not defined",
     "output_type": "error",
     "traceback": [
      "UndefVarError: `sampling_rate` not defined",
      "",
      "Stacktrace:",
      " [1] (::var\"#3#4\")(i::Int64)",
      "   @ Main ./none:0",
      " [2] iterate",
      "   @ ./generator.jl:47 [inlined]",
      " [3] collect(itr::Base.Generator{UnitRange{Int64}, var\"#3#4\"})",
      "   @ Base ./array.jl:782",
      " [4] top-level scope",
      "   @ In[20]:2"
     ]
    }
   ],
   "source": [
    "# Plot the frequency domain representation\n",
    "frequencies = [i * sampling_rate / fft_size for i in 0:fft_size-1]\n",
    "plot(frequencies, abs.(sss_symbol_freq), xlabel=\"Frequency (Hz)\", ylabel=\"Magnitude\", label=\"SSS Symbol Spectrum\")"
   ]
  },
  {
   "cell_type": "code",
   "execution_count": null,
   "id": "473d826e-0daa-4a6e-8fb2-a2ba3766a09a",
   "metadata": {},
   "outputs": [],
   "source": []
  }
 ],
 "metadata": {
  "kernelspec": {
   "display_name": "Julia 1.9.3",
   "language": "julia",
   "name": "julia-1.9"
  },
  "language_info": {
   "file_extension": ".jl",
   "mimetype": "application/julia",
   "name": "julia",
   "version": "1.9.4"
  }
 },
 "nbformat": 4,
 "nbformat_minor": 5
}
