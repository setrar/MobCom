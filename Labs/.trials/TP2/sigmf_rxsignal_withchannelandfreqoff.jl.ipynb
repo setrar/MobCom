{
 "cells": [
  {
   "cell_type": "code",
   "execution_count": 1,
   "id": "21516268-5108-4bec-ada8-bc9002be7b0a",
   "metadata": {},
   "outputs": [],
   "source": [
    "using SigMF\n",
    "using Dates"
   ]
  },
  {
   "cell_type": "code",
   "execution_count": 2,
   "id": "27bc9298-4b4f-463e-a123-eba7fade4de5",
   "metadata": {},
   "outputs": [],
   "source": [
    "## Receive the signal\n",
    "include(\"../../data/julia/rxsignal_withchannelandfreqoff.jl\");"
   ]
  },
  {
   "cell_type": "code",
   "execution_count": 3,
   "id": "65d49569-13ea-4b9d-8fe6-9b01fcff8598",
   "metadata": {},
   "outputs": [
    {
     "name": "stdout",
     "output_type": "stream",
     "text": [
      "size(Rₚₛₛ³) = (616447, 1)\n"
     ]
    }
   ],
   "source": [
    "## Assign the received signal a variable Rₚₛₛ³\n",
    "Rₚₛₛ³ = rxs3; # RX Received Signal 3 File Handle\n",
    "@show size(Rₚₛₛ³); "
   ]
  },
  {
   "cell_type": "code",
   "execution_count": 4,
   "id": "36e68c71-e39d-4290-bf63-ae504d652271",
   "metadata": {},
   "outputs": [],
   "source": [
    "using FFTW"
   ]
  },
  {
   "cell_type": "code",
   "execution_count": 5,
   "id": "5e11f823-8c0b-4516-acf7-993a96586e6c",
   "metadata": {},
   "outputs": [],
   "source": [
    "## Load the useful math operations\n",
    "include(\"../../modules/operations.jl\");"
   ]
  },
  {
   "cell_type": "code",
   "execution_count": 6,
   "id": "40cdb631-4c20-4a8a-9160-a1b332260327",
   "metadata": {},
   "outputs": [],
   "source": [
    "using LinearAlgebra"
   ]
  },
  {
   "cell_type": "code",
   "execution_count": 7,
   "id": "8145a873-8df7-4886-9025-16f6ad365d89",
   "metadata": {},
   "outputs": [
    {
     "name": "stdout",
     "output_type": "stream",
     "text": [
      "size(𝑅ₚₛₛ³) = (616591, 1)\n"
     ]
    }
   ],
   "source": [
    "## Assign the template signal a variable 𝐻ₚₛₛ²\n",
    "## convert the signal in time domain\n",
    "𝑅ₚₛₛ³ᵀ = transpose.(Rₚₛₛ³); # Hessian Transpose ?\n",
    "𝑅ₚₛₛ³ = Fᴵ(𝑅ₚₛₛ³ᵀ); # R Slanted (fourier transform) in time domain\n",
    "𝑅ₚₛₛ³ ./= norm(𝑅ₚₛₛ³);\n",
    "𝑅ₚₛₛ³ = 𝑅ₚₛₛ³[(end-143):end] ⧺ 𝑅ₚₛₛ³ ; @show size(𝑅ₚₛₛ³); # end is 2048 in this case, concat math "
   ]
  },
  {
   "cell_type": "code",
   "execution_count": 8,
   "id": "a31240d5-e67f-4c98-a408-faa8f9f8c275",
   "metadata": {},
   "outputs": [
    {
     "data": {
      "text/plain": [
       "616591-element Vector{ComplexF64}:\n",
       "   0.006335491447251626 + 0.001942370049599547im\n",
       "   0.006214885360247736 + 0.0025106483928460845im\n",
       "   0.005981039299147872 + 0.0031296690875158317im\n",
       "  0.0056167544508522104 + 0.0036657378345476108im\n",
       "   0.005318225217858466 + 0.004172024977578004im\n",
       "   0.004937759185190441 + 0.004683995723689833im\n",
       "  0.0044906377935944285 + 0.005095271360640949im\n",
       "   0.003967050657019974 + 0.0054726897835259926im\n",
       "   0.003408382753299416 + 0.005839297005099993im\n",
       "  0.0029145663403136505 + 0.006219334950337444im\n",
       "    0.00228446045467443 + 0.0063910330193083535im\n",
       "  0.0016601350554956795 + 0.006477646235655817im\n",
       "  0.0011175593396468434 + 0.006638310313913568im\n",
       "                        ⋮\n",
       " -0.0006896059029947138 - 0.002829544823865879im\n",
       "  -0.000186463871702718 - 0.002973603071243203im\n",
       " 0.00024266190522767496 - 0.0030403668306419394im\n",
       "  0.0007183551219420799 - 0.0029790208969840116im\n",
       "  0.0011247204271444893 - 0.0029556504982886514im\n",
       "  0.0015883380510980651 - 0.0027872547186360832im\n",
       "  0.0019986725146518333 - 0.0025631151332731424im\n",
       "  0.0024105396460073546 - 0.002306131995272433im\n",
       "  0.0027778879254144397 - 0.001979543128504491im\n",
       "  0.0030419361244934896 - 0.0016823887795431207im\n",
       "  0.0033126486016336622 - 0.001201256004549432im\n",
       "    0.00365257606220398 - 0.0007600165227833179im"
      ]
     },
     "execution_count": 8,
     "metadata": {},
     "output_type": "execute_result"
    }
   ],
   "source": [
    "data = 𝑅ₚₛₛ³[:,1]"
   ]
  },
  {
   "cell_type": "code",
   "execution_count": 9,
   "id": "7a392548-8159-47c4-b054-f0c42b7f26da",
   "metadata": {},
   "outputs": [],
   "source": [
    "# Create the metadata\n",
    "sGlobal = SigMFGlobal(\n",
    "    datatype = \"cf32_le\",\n",
    "    sample_rate = 61.44e6,\n",
    "    author = \"me@you.com\",\n",
    "    description = \"RX Signal with channel and frequency offset\",\n",
    "    version = \"0.2.0\" # SigMF.__version__,\n",
    ");"
   ]
  },
  {
   "cell_type": "code",
   "execution_count": 10,
   "id": "878b3e59-9485-4acd-98a5-9f0d02fc2720",
   "metadata": {},
   "outputs": [],
   "source": [
    "# Create a capture key at time index 0\n",
    "sCaptures = SigMFCaptures(\n",
    "     frequency = 61.44e6\n",
    "    ,datetime = Dates.format(Dates.now(), \"yyyy-mm-dd HH:MM:SS\")\n",
    ");"
   ]
  },
  {
   "cell_type": "code",
   "execution_count": 13,
   "id": "2af27945-03e4-46a6-9529-bf6e3022bb48",
   "metadata": {},
   "outputs": [],
   "source": [
    "sAnnotations = SigMFAnnotations();"
   ]
  },
  {
   "cell_type": "code",
   "execution_count": 14,
   "id": "4e5c733e-4465-4e7e-9093-6a7e4efda487",
   "metadata": {},
   "outputs": [],
   "source": [
    "meta = SigMFMeta(sGlobal,[sCaptures],[sAnnotations]);"
   ]
  },
  {
   "cell_type": "code",
   "execution_count": 15,
   "id": "e7422c30-e461-4000-99d3-93c5119a3bb3",
   "metadata": {},
   "outputs": [],
   "source": [
    "file = SigMFFile(meta,data);"
   ]
  },
  {
   "cell_type": "code",
   "execution_count": 16,
   "id": "4a16b435-25fc-43f8-ab72-e156bbf47024",
   "metadata": {},
   "outputs": [
    {
     "data": {
      "text/plain": [
       "9865456"
      ]
     },
     "execution_count": 16,
     "metadata": {},
     "output_type": "execute_result"
    }
   ],
   "source": [
    "# Save metadata to disk\n",
    "SigMF.save(\"../../data/rxsignal_withchannelandfreqoff.sigmf\",file)"
   ]
  },
  {
   "cell_type": "code",
   "execution_count": null,
   "id": "fc16d619-9476-4645-bd06-635ad817dc70",
   "metadata": {},
   "outputs": [],
   "source": []
  }
 ],
 "metadata": {
  "kernelspec": {
   "display_name": "Julia 1.9.3",
   "language": "julia",
   "name": "julia-1.9"
  },
  "language_info": {
   "file_extension": ".jl",
   "mimetype": "application/julia",
   "name": "julia",
   "version": "1.9.4"
  }
 },
 "nbformat": 4,
 "nbformat_minor": 5
}
