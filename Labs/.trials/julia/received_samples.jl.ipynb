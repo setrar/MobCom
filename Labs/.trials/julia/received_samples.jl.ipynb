{
 "cells": [
  {
   "cell_type": "code",
   "execution_count": 1,
   "id": "e5dd0785-2fc6-4c8e-8995-8acd0f4faafc",
   "metadata": {},
   "outputs": [
    {
     "name": "stdout",
     "output_type": "stream",
     "text": [
      "length(x) = 4915200\n"
     ]
    }
   ],
   "source": [
    "x = read(\"data/received_samples_digicom3.sigmf-data\"); @show length(x);"
   ]
  },
  {
   "cell_type": "code",
   "execution_count": 2,
   "id": "fc4aac2c-b71e-4ee1-bb97-eddbf174c665",
   "metadata": {},
   "outputs": [
    {
     "data": {
      "text/plain": [
       "4915200-element Vector{UInt8}:\n",
       " 0x00\n",
       " 0x00\n",
       " 0x00\n",
       " 0x00\n",
       " 0x00\n",
       " 0x00\n",
       " 0x00\n",
       " 0x00\n",
       " 0x00\n",
       " 0x00\n",
       " 0x00\n",
       " 0x00\n",
       " 0x00\n",
       "    ⋮\n",
       " 0x00\n",
       " 0x00\n",
       " 0x00\n",
       " 0x00\n",
       " 0x00\n",
       " 0x00\n",
       " 0x00\n",
       " 0x00\n",
       " 0x00\n",
       " 0x00\n",
       " 0x00\n",
       " 0x00"
      ]
     },
     "execution_count": 2,
     "metadata": {},
     "output_type": "execute_result"
    }
   ],
   "source": [
    "x"
   ]
  },
  {
   "cell_type": "code",
   "execution_count": 5,
   "id": "ad11384b-e302-44d9-b79a-6cfcc11426ec",
   "metadata": {},
   "outputs": [
    {
     "data": {
      "text/plain": [
       "2457600-element Vector{UInt8}:\n",
       " 0x00\n",
       " 0x00\n",
       " 0x00\n",
       " 0x00\n",
       " 0x00\n",
       " 0x00\n",
       " 0x00\n",
       " 0x00\n",
       " 0x00\n",
       " 0x00\n",
       " 0x00\n",
       " 0x00\n",
       " 0x00\n",
       "    ⋮\n",
       " 0x00\n",
       " 0x00\n",
       " 0x00\n",
       " 0x00\n",
       " 0x00\n",
       " 0x00\n",
       " 0x00\n",
       " 0x00\n",
       " 0x00\n",
       " 0x00\n",
       " 0x00\n",
       " 0x00"
      ]
     },
     "execution_count": 5,
     "metadata": {},
     "output_type": "execute_result"
    }
   ],
   "source": [
    "x[1:2:end]"
   ]
  },
  {
   "cell_type": "code",
   "execution_count": 6,
   "id": "3583a03d-f8da-44ba-9834-ccd74eb8ea32",
   "metadata": {},
   "outputs": [
    {
     "data": {
      "text/plain": [
       "2457600-element Vector{UInt8}:\n",
       " 0x00\n",
       " 0x00\n",
       " 0x00\n",
       " 0x00\n",
       " 0x00\n",
       " 0x00\n",
       " 0x00\n",
       " 0x00\n",
       " 0x00\n",
       " 0x00\n",
       " 0x00\n",
       " 0x00\n",
       " 0x00\n",
       "    ⋮\n",
       " 0x00\n",
       " 0x00\n",
       " 0x00\n",
       " 0x00\n",
       " 0x00\n",
       " 0x00\n",
       " 0x00\n",
       " 0x00\n",
       " 0x00\n",
       " 0x00\n",
       " 0x00\n",
       " 0x00"
      ]
     },
     "execution_count": 6,
     "metadata": {},
     "output_type": "execute_result"
    }
   ],
   "source": [
    "x[2:2:end]"
   ]
  },
  {
   "cell_type": "code",
   "execution_count": 8,
   "id": "83807389-5ca7-44ec-99ee-164d7de50530",
   "metadata": {},
   "outputs": [
    {
     "data": {
      "text/plain": [
       "1228800-element Vector{Complex{UInt8}}:\n",
       " 0x00 + 0x00im\n",
       " 0x00 + 0x00im\n",
       " 0x00 + 0x00im\n",
       " 0x00 + 0x00im\n",
       " 0x00 + 0x00im\n",
       " 0x00 + 0x00im\n",
       " 0x00 + 0x00im\n",
       " 0x00 + 0x00im\n",
       " 0x00 + 0x00im\n",
       " 0x00 + 0x00im\n",
       " 0x01 + 0xe0im\n",
       " 0x3f + 0x40im\n",
       " 0x60 + 0x2fim\n",
       "      ⋮\n",
       " 0x00 + 0x00im\n",
       " 0x00 + 0x00im\n",
       " 0x00 + 0x00im\n",
       " 0x00 + 0x00im\n",
       " 0x00 + 0x00im\n",
       " 0x00 + 0x00im\n",
       " 0x00 + 0x00im\n",
       " 0x00 + 0x00im\n",
       " 0x00 + 0x00im\n",
       " 0x00 + 0x00im\n",
       " 0x00 + 0x00im\n",
       " 0x00 + 0x00im"
      ]
     },
     "execution_count": 8,
     "metadata": {},
     "output_type": "execute_result"
    }
   ],
   "source": [
    "x = (x[1:2:end] + im * x[2:2:end])"
   ]
  },
  {
   "cell_type": "code",
   "execution_count": null,
   "id": "5e7f2e2e-ce68-4a6a-a939-ec2320b7d514",
   "metadata": {},
   "outputs": [],
   "source": []
  }
 ],
 "metadata": {
  "kernelspec": {
   "display_name": "Julia 1.9.3",
   "language": "julia",
   "name": "julia-1.9"
  },
  "language_info": {
   "file_extension": ".jl",
   "mimetype": "application/julia",
   "name": "julia",
   "version": "1.9.4"
  }
 },
 "nbformat": 4,
 "nbformat_minor": 5
}
