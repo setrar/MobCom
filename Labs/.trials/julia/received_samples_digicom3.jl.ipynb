{
 "cells": [
  {
   "cell_type": "code",
   "execution_count": 1,
   "id": "325dd672-a8da-4f88-9b3d-831067174a2e",
   "metadata": {},
   "outputs": [],
   "source": [
    "using SigMF\n",
    "using Dates"
   ]
  },
  {
   "cell_type": "code",
   "execution_count": 2,
   "id": "f2356928-5baa-423e-8efd-110740a09caf",
   "metadata": {},
   "outputs": [],
   "source": [
    "using FileIO"
   ]
  },
  {
   "cell_type": "code",
   "execution_count": 5,
   "id": "8e6dc9a4-bd0b-461a-9430-c3b44ffb4d78",
   "metadata": {},
   "outputs": [
    {
     "name": "stdout",
     "output_type": "stream",
     "text": [
      "length(data) = 4915200\n"
     ]
    }
   ],
   "source": [
    "data = read(\"data/received_samples_digicom3.sigmf-data\"); @show length(data);"
   ]
  },
  {
   "cell_type": "code",
   "execution_count": 6,
   "id": "703f28ef-8fd6-4363-9507-d4c49ab3206a",
   "metadata": {},
   "outputs": [],
   "source": [
    "# Create the metadata\n",
    "sGlobal = SigMFGlobal(\n",
    "    datatype = \"cf32_le\",\n",
    "    sample_rate = 61.44e6,\n",
    "    author = \"me@you.com\",\n",
    "    description = \"USRP RX received_samples_digicom3\",\n",
    "    version = \"0.2.0\" # SigMF.__version__,\n",
    ");"
   ]
  },
  {
   "cell_type": "code",
   "execution_count": 7,
   "id": "e2e7471a-d91b-4e9f-8a1a-8f53e27dc030",
   "metadata": {},
   "outputs": [],
   "source": [
    "# Create a capture key at time index 0\n",
    "sCaptures = SigMFCaptures(\n",
    "     frequency = 1e9\n",
    "    ,datetime = Dates.format(Dates.now(), \"yyyy-mm-dd HH:MM:SS\")\n",
    ");"
   ]
  },
  {
   "cell_type": "code",
   "execution_count": 8,
   "id": "043e057c-5dbb-467d-95c7-8ae85b39edc7",
   "metadata": {},
   "outputs": [],
   "source": [
    "sAnnotations = SigMFAnnotations();"
   ]
  },
  {
   "cell_type": "code",
   "execution_count": 9,
   "id": "80a70193-9de4-4c54-8f55-6010e194758a",
   "metadata": {},
   "outputs": [],
   "source": [
    "meta = SigMFMeta(sGlobal,[sCaptures],[sAnnotations]);"
   ]
  },
  {
   "cell_type": "code",
   "execution_count": 10,
   "id": "e8fb3570-6203-4395-8ef2-0c6b851a36d8",
   "metadata": {},
   "outputs": [],
   "source": [
    "file = SigMFFile(meta,data);"
   ]
  },
  {
   "cell_type": "code",
   "execution_count": 11,
   "id": "5c6516c2-d76d-4e6e-8a5d-77d0033d23c5",
   "metadata": {},
   "outputs": [
    {
     "data": {
      "text/plain": [
       "4915200"
      ]
     },
     "execution_count": 11,
     "metadata": {},
     "output_type": "execute_result"
    }
   ],
   "source": [
    "# Save metadata to disk\n",
    "SigMF.save(\"data/received_samples_digicom3.sigmf\",file)"
   ]
  },
  {
   "cell_type": "code",
   "execution_count": null,
   "id": "3460b32c-3a63-4899-b3f0-f057bb9523c8",
   "metadata": {},
   "outputs": [],
   "source": []
  }
 ],
 "metadata": {
  "kernelspec": {
   "display_name": "Julia 1.9.3",
   "language": "julia",
   "name": "julia-1.9"
  },
  "language_info": {
   "file_extension": ".jl",
   "mimetype": "application/julia",
   "name": "julia",
   "version": "1.9.4"
  }
 },
 "nbformat": 4,
 "nbformat_minor": 5
}
