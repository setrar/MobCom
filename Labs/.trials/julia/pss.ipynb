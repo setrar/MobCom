{
 "cells": [
  {
   "cell_type": "markdown",
   "id": "a438d165-d434-47a6-ab20-6ab015846249",
   "metadata": {},
   "source": [
    "## 1.1 PSS \n",
    "$$ \n",
    "\\hat{S}_{PSS,i}(N) = \\sum_k x_i(n - kN), i = 0, 1, 2\n",
    "$$"
   ]
  },
  {
   "cell_type": "markdown",
   "id": "b9a87755-c01b-437d-8650-a1532346a507",
   "metadata": {},
   "source": [
    "```mathlab\n",
    "\n",
    "plot(real(pss0_t))\n",
    "subplot(212)\n",
    "plot(real(pss0_t))\n",
    "\n",
    "plot(abs(pss0_t))\n",
    "plot(20*log10(abs(pss0_t)))\n",
    "plot(20*log10(abs(fftshift(fft(abs(pss0_t))))))\n",
    "\n",
    "thres = max(abs(pss0F))/10;\n",
    "length(find(abs(pss0F)>thres))\n",
    "130*61.44e6/2192\n",
    "# 127 samples in frequency domain\n",
    "# 30e3 (30Khz) \n",
    "127*30e3\n",
    "\n",
    "```"
   ]
  },
  {
   "cell_type": "code",
   "execution_count": 1,
   "id": "c7b8a8de-ec96-4010-89f5-963cfbcee06d",
   "metadata": {},
   "outputs": [
    {
     "data": {
      "text/plain": [
       "2048-element Vector{Complex{Int64}}:\n",
       " -363 + 0im\n",
       " -363 + 0im\n",
       "  362 + 0im\n",
       "  362 + 0im\n",
       "  362 + 0im\n",
       "  362 + 0im\n",
       "  362 + 0im\n",
       " -363 + 0im\n",
       " -363 + 0im\n",
       "  362 + 0im\n",
       " -363 + 0im\n",
       " -363 + 0im\n",
       "  362 + 0im\n",
       "      ⋮\n",
       " -363 + 0im\n",
       " -363 + 0im\n",
       "  362 + 0im\n",
       "  362 + 0im\n",
       " -363 + 0im\n",
       "  362 + 0im\n",
       " -363 + 0im\n",
       "  362 + 0im\n",
       " -363 + 0im\n",
       " -363 + 0im\n",
       "  362 + 0im\n",
       "  362 + 0im"
      ]
     },
     "execution_count": 1,
     "metadata": {},
     "output_type": "execute_result"
    }
   ],
   "source": [
    "include(\"pss0.jl\")\n",
    "include(\"pss1.jl\")\n",
    "include(\"pss2.jl\")"
   ]
  },
  {
   "cell_type": "code",
   "execution_count": 2,
   "id": "67cd0200-2800-4127-983c-3c3049c6b2c1",
   "metadata": {},
   "outputs": [],
   "source": [
    "Nfft=2048;"
   ]
  },
  {
   "cell_type": "code",
   "execution_count": 4,
   "id": "0d76b1fd-6721-4c73-b9be-ec0bc0774cb6",
   "metadata": {},
   "outputs": [],
   "source": [
    "using LinearAlgebra\n",
    "using FFTW  # Import the FFTW library for fast Fourier transform"
   ]
  },
  {
   "cell_type": "code",
   "execution_count": 8,
   "id": "75a7264b-9019-4681-a080-c9c3b079b049",
   "metadata": {},
   "outputs": [
    {
     "data": {
      "text/plain": [
       "2192-element Vector{ComplexF64}:\n",
       "    0.012751519074768191 - 0.02284531087931751im\n",
       "     0.01415168963206857 - 0.025481177307650725im\n",
       "    0.015126719755167014 - 0.02771786183352531im\n",
       "    0.015659693565566454 - 0.02951745263621931im\n",
       "     0.01574658305351632 - 0.030856557444884004im\n",
       "    0.015395875792431566 - 0.03172673432565878im\n",
       "    0.014627819255250715 - 0.032134397660197336im\n",
       "    0.013473321256115745 - 0.032100206087740196im\n",
       "    0.011972556668638674 - 0.03165795747040671im\n",
       "    0.010173339106178755 - 0.030853033351937564im\n",
       "     0.00812932243229512 - 0.0297404512965499im\n",
       "   0.0058981006347090005 - 0.028382597350505773im\n",
       "   0.0035392756736263497 - 0.02684672216908631im\n",
       "                         ⋮\n",
       "    0.009103787507620215 - 0.024533548758649302im\n",
       "    0.008295423471129009 - 0.02468718052188797im\n",
       "    0.007266472457733447 - 0.02441077689196355im\n",
       "    0.006073875732373433 - 0.02368451322853675im\n",
       "   0.0047789075808821625 - 0.022501406332633176im\n",
       "   0.0034448597903690777 - 0.02086787054989348im\n",
       "    0.002134669269872684 - 0.01880380394915233im\n",
       "    0.000908573024912531 - 0.016342198692994116im\n",
       " -0.00017812627149594074 - 0.013528287260360048im\n",
       "  -0.0010771047904267303 - 0.010418253302133054im\n",
       "  -0.0017487995565213445 - 0.007077551974705592im\n",
       "  -0.0021638646846751453 - 0.003578899009024024im"
      ]
     },
     "execution_count": 8,
     "metadata": {},
     "output_type": "execute_result"
    }
   ],
   "source": [
    "# Assuming pss_0, pss_1, and pss_2 are your input arrays\n",
    "\n",
    "# Perform IFFT\n",
    "pss0_t = ifft(pss_0') \n",
    "pss0_t = ifft(transpose.(pss_0))\n",
    "pss1_t = ifft(transpose.(pss_1))\n",
    "pss2_t = ifft(transpose.(pss_2))\n",
    "\n",
    "# Normalize the arrays\n",
    "pss0_t ./= norm(pss0_t)\n",
    "pss1_t ./= norm(pss1_t)\n",
    "pss2_t ./= norm(pss2_t)\n",
    "\n",
    "# Concatenate a portion of the arrays to themselves\n",
    "pss0_t = vcat(pss0_t[(end-143):end], pss0_t)\n",
    "pss1_t = vcat(pss1_t[(end-143):end], pss1_t)\n",
    "pss2_t = vcat(pss2_t[(end-143):end], pss2_t) "
   ]
  },
  {
   "cell_type": "code",
   "execution_count": 22,
   "id": "b9176f37-1aa5-4aee-b692-d1affca06aa7",
   "metadata": {},
   "outputs": [],
   "source": [
    "using Plots\n",
    "m2_chan_plot = plot(20 * log10.(abs2.(pss0_t)), xlabel=\"Sample\", ylabel=\"Power (dB)\", title=\"PSS₀ in Time Domain\")\n",
    "savefig(m2_chan_plot,\"images/pss0_t_plot.png\");"
   ]
  },
  {
   "cell_type": "markdown",
   "id": "ae1f8e6c-6b98-4e58-b6e4-dbd6d4afaa2c",
   "metadata": {},
   "source": [
    "<img src=\"images/pss0_t_plot.png\" weight='' height='' > </img>"
   ]
  },
  {
   "cell_type": "markdown",
   "id": "4b5fec40-0a6a-422e-b34e-b4f158d2bcfa",
   "metadata": {},
   "source": [
    "# References\n",
    "\n",
    "- [ ] [JULIA matrix norm is different MATLAB](https://discourse.julialang.org/t/julia-matrix-norm-is-different-matlab/72500)"
   ]
  },
  {
   "cell_type": "code",
   "execution_count": null,
   "id": "5622baa2-0905-43d4-a773-864d291e7621",
   "metadata": {},
   "outputs": [],
   "source": []
  }
 ],
 "metadata": {
  "kernelspec": {
   "display_name": "Julia 1.9.3",
   "language": "julia",
   "name": "julia-1.9"
  },
  "language_info": {
   "file_extension": ".jl",
   "mimetype": "application/julia",
   "name": "julia",
   "version": "1.9.4"
  }
 },
 "nbformat": 4,
 "nbformat_minor": 5
}
