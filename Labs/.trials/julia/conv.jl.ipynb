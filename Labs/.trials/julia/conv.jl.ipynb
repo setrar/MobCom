{
 "cells": [
  {
   "cell_type": "markdown",
   "id": "62633cdd-87e1-49ea-aa71-1fffaedc997d",
   "metadata": {},
   "source": [
    "# Convolution"
   ]
  },
  {
   "cell_type": "markdown",
   "id": "79d98e73-6b70-4bd6-8641-80d4b2c6c2ad",
   "metadata": {},
   "source": [
    "And how to abuse notation in Julia"
   ]
  },
  {
   "cell_type": "code",
   "execution_count": 1,
   "id": "f38a64dc-425a-4dd3-8421-e08052a0a923",
   "metadata": {},
   "outputs": [],
   "source": [
    "using DSP"
   ]
  },
  {
   "cell_type": "code",
   "execution_count": 2,
   "id": "a93e12ff-69fd-4221-a153-c0b466ad15a7",
   "metadata": {},
   "outputs": [],
   "source": [
    "include(\"rxsignal_withchannelandfreqoff.jl\");"
   ]
  },
  {
   "cell_type": "code",
   "execution_count": 3,
   "id": "e200c7d4-a631-442b-85f4-f4401516e29f",
   "metadata": {},
   "outputs": [],
   "source": [
    "include(\"pss2.jl\");"
   ]
  },
  {
   "cell_type": "code",
   "execution_count": 4,
   "id": "c1ca6164-86de-410c-8f1f-bf4442ac2ac5",
   "metadata": {},
   "outputs": [
    {
     "data": {
      "text/plain": [
       "(616447, 1)"
      ]
     },
     "execution_count": 4,
     "metadata": {},
     "output_type": "execute_result"
    }
   ],
   "source": [
    "size(rxs3) # 616447×1 Matrix{ComplexF64}"
   ]
  },
  {
   "cell_type": "code",
   "execution_count": 6,
   "id": "32bafe19-2e11-438d-a02d-dd60aba0fd0c",
   "metadata": {},
   "outputs": [],
   "source": [
    "using FFTW"
   ]
  },
  {
   "cell_type": "code",
   "execution_count": 7,
   "id": "6ed642fd-a940-4111-a28a-000fcdb2e6b7",
   "metadata": {},
   "outputs": [
    {
     "data": {
      "text/plain": [
       "⊗ (generic function with 1 method)"
      ]
     },
     "execution_count": 7,
     "metadata": {},
     "output_type": "execute_result"
    }
   ],
   "source": [
    "Ŝᵣₓ³ = rxs3 # RX Received Signal 3\n",
    "PSS₂ = pss_2;\n",
    "PSS₂ᵀ = transpose.(PSS₂); # Hessian Transpose ?\n",
    "Fᴵ = ifft # Inverse Fourier Transform\n",
    "# Convolution infix function\n",
    "function ⊗(a, b) \n",
    "    return conv(a,b)\n",
    "end"
   ]
  },
  {
   "cell_type": "code",
   "execution_count": 8,
   "id": "1b7017a8-1191-4b2f-b36a-fecb909f384e",
   "metadata": {},
   "outputs": [
    {
     "data": {
      "text/plain": [
       "(2048,)"
      ]
     },
     "execution_count": 8,
     "metadata": {},
     "output_type": "execute_result"
    }
   ],
   "source": [
    "size(PSS₂) # 2048-element Vector{Complex{Int64}}"
   ]
  },
  {
   "cell_type": "code",
   "execution_count": 9,
   "id": "f71bd3d4-db58-4a20-8c6c-2057e68a7c4f",
   "metadata": {},
   "outputs": [
    {
     "data": {
      "text/plain": [
       "(618494, 1)"
      ]
     },
     "execution_count": 9,
     "metadata": {},
     "output_type": "execute_result"
    }
   ],
   "source": [
    "c = Ŝᵣₓ³ ⊗ PSS₂; size( c ) # 618494×1 Matrix{ComplexF64} which is size(rxs3) + size(pss_2) - 1"
   ]
  },
  {
   "cell_type": "code",
   "execution_count": 10,
   "id": "370f820a-2f18-44e8-a017-9489569c73cb",
   "metadata": {},
   "outputs": [],
   "source": [
    "𝑆ₚₛₛ² = Fᴵ(PSS₂ᵀ); # S Slanted (fourier transform) in time domain . see SSP - Spectral Descriptions"
   ]
  },
  {
   "cell_type": "code",
   "execution_count": 11,
   "id": "662ddc7f-6e71-437a-872a-659c56d556db",
   "metadata": {},
   "outputs": [
    {
     "data": {
      "text/plain": [
       "(618494, 1)"
      ]
     },
     "execution_count": 11,
     "metadata": {},
     "output_type": "execute_result"
    }
   ],
   "source": [
    "c1 = Ŝᵣₓ³ ⊗ 𝑆ₚₛₛ²; size( c1 ) # 618494×1 Matrix{ComplexF64} which is size(rxs3) + size(pss_2) - 1"
   ]
  },
  {
   "cell_type": "code",
   "execution_count": 12,
   "id": "e413e4eb-41dc-4b52-a7ad-7d0f5eb8fa0d",
   "metadata": {},
   "outputs": [],
   "source": [
    "using LinearAlgebra"
   ]
  },
  {
   "cell_type": "code",
   "execution_count": 16,
   "id": "281e592e-edc9-4be4-b59b-b729defad99f",
   "metadata": {},
   "outputs": [],
   "source": [
    "𝑆ₚₛₛ² ./= norm(𝑆ₚₛₛ²);"
   ]
  },
  {
   "cell_type": "code",
   "execution_count": 17,
   "id": "520e2310-1513-4cd6-8699-ffd1ca479c36",
   "metadata": {},
   "outputs": [
    {
     "data": {
      "text/plain": [
       "(618494, 1)"
      ]
     },
     "execution_count": 17,
     "metadata": {},
     "output_type": "execute_result"
    }
   ],
   "source": [
    "c3 = Ŝᵣₓ³ ⊗ 𝑆ₚₛₛ²; size( c3 ) # 618494×1 Matrix{ComplexF64} which is size(rxs3) + size(pss_2) - 1"
   ]
  },
  {
   "cell_type": "markdown",
   "id": "4fcc16b1-e6e8-452f-88ed-662fcf3f7dc6",
   "metadata": {},
   "source": [
    "##### The purpose of this concatenation might be related to handling circular convolution or other signal processing considerations.\n",
    "end is 2048 in this case, concat math representation would be [ A B }"
   ]
  },
  {
   "cell_type": "code",
   "execution_count": 18,
   "id": "28ce1c3f-92b7-4d88-906d-a0e643a8d583",
   "metadata": {},
   "outputs": [
    {
     "data": {
      "text/plain": [
       "(2192,)"
      ]
     },
     "execution_count": 18,
     "metadata": {},
     "output_type": "execute_result"
    }
   ],
   "source": [
    "𝑆ₚₛₛ² = vcat(𝑆ₚₛₛ²[(end-143):end], 𝑆ₚₛₛ²); size(𝑆ₚₛₛ²) # end is 2048 in this case, concat math "
   ]
  },
  {
   "cell_type": "code",
   "execution_count": 19,
   "id": "1e4ab4a9-0ac7-486a-a9e3-dad1fdfe26d1",
   "metadata": {},
   "outputs": [
    {
     "data": {
      "text/plain": [
       "(618638, 1)"
      ]
     },
     "execution_count": 19,
     "metadata": {},
     "output_type": "execute_result"
    }
   ],
   "source": [
    "c4 = Ŝᵣₓ³ ⊗ 𝑆ₚₛₛ²; size( c4 ) # 618494×1 Matrix{ComplexF64} which is size(rxs3) + size(pss_2) - 1"
   ]
  },
  {
   "cell_type": "markdown",
   "id": "d2be741a-4ac6-4f13-a74e-9761e9a66131",
   "metadata": {},
   "source": [
    "The equivalent Julia code for `m2_chan = 10*log(abs(conv(rxs3,conj(fliplr(pss2_t)))));` would be as follows:\n",
    "\n",
    "```julia\n",
    "m2_chan = 10 * log10(abs(conv(rxs3, conj(reverse(pss2_t)))));\n",
    "```\n",
    "\n",
    "Here's a breakdown of the Julia code:\n",
    "\n",
    "1. `reverse(pss2_t)`: This function reverses the order of elements in the vector `pss2_t`.\n",
    "\n",
    "2. `conj(reverse(pss2_t))`: This computes the complex conjugate of each element in the reversed vector.\n",
    "\n",
    "3. `conv(rxs3, conj(reverse(pss2_t)))`: This computes the convolution of the vectors `rxs3` and `conj(reverse(pss2_t))`.\n",
    "\n",
    "4. `abs(conv(rxs3, conj(reverse(pss2_t))))`: This takes the absolute values of the elements in the result of the convolution.\n",
    "\n",
    "5. `10 * log10(...)`: This scales the result by a factor of 10 and computes the logarithm base 10 of each element.\n",
    "\n",
    "The final result is stored in the variable `m2_chan`, representing the logarithmic power envelope of the convolution between the received signal `rxs3` and the complex conjugate of the time-reversed PSS signal in decibels (dB)."
   ]
  },
  {
   "cell_type": "markdown",
   "id": "24b56ded-1b0f-4110-bebb-f614067e55e3",
   "metadata": {},
   "source": [
    "The mathematical symbols for reverse and conjugate operations are not standardized across all branches of mathematics, and different notations may be used in different contexts. However, some commonly used notations are:\n",
    "\n",
    "1. **Reverse Operation:**\n",
    "$$\n",
    "\\begin{cases*}\n",
    "   - \\text { In some contexts, the reverse (or reverse order) operation is denoted by a bar or overline.}\n",
    "     \\\\\n",
    "     \\qquad \\text { For example, if } A \\text{ is a sequence or vector, the reverse of } A \\text{ might be denoted as } \\overline{A} \\text{  or } A^*.\n",
    "     \\\\\n",
    "   - \\text { In signal processing, you might also see the notation }\n",
    "     \\\\\n",
    "     \\qquad A[n] \\text { for the reverse of } A \\text {, where n is the reversal operator. }\n",
    "\\end{cases*}\n",
    "$$\n",
    "\n",
    "3. **Conjugate Operation:**\n",
    "$$\n",
    "\\begin{cases*}\n",
    "   - \\text { The conjugate of a complex number } z \\text {  is often denoted by a bar or overline. }\n",
    "     \\\\\n",
    "     \\qquad \\text { For example, if } z = a + bi \\text{ , then } \\bar{z} = a - bi.\n",
    "     \\\\\n",
    "   - \\text { In linear algebra, the conjugate transpose of a matrix }\n",
    "        A \\text { is often denoted by } A^* \\text {  or } A^H.\n",
    "\\end{cases*}\n",
    "$$\n",
    "\n",
    "If you are working within a specific mathematical context or field, it's always a good practice to refer to the conventions and notations used within that field."
   ]
  },
  {
   "cell_type": "code",
   "execution_count": 20,
   "id": "f78b33a4-0702-4bcc-a043-6995ae909080",
   "metadata": {},
   "outputs": [
    {
     "data": {
      "text/plain": [
       "findmax (generic function with 8 methods)"
      ]
     },
     "execution_count": 20,
     "metadata": {},
     "output_type": "execute_result"
    }
   ],
   "source": [
    "S̅ₚₛₛ² = reverse(𝑆ₚₛₛ²); # reverse\n",
    "S̅ₚₛₛ²ᴴ = conj(S̅ₚₛₛ²); # conjugate \n",
    "argmax = findmax"
   ]
  },
  {
   "cell_type": "code",
   "execution_count": 21,
   "id": "c8fe33fe-7bbd-43c2-b715-30ee39ff89cf",
   "metadata": {},
   "outputs": [
    {
     "data": {
      "text/plain": [
       "(618638, 1)"
      ]
     },
     "execution_count": 21,
     "metadata": {},
     "output_type": "execute_result"
    }
   ],
   "source": [
    "# Perform convolution\n",
    "# m2_chan = 10 * log10.(abs2.(conv(rxs3, conj(reverse(pss2_t))))); ; size( m2_chan )\n",
    "# m̂₂ = 10 * log.(abs.( Ŝᵣₓ³ ⊗ S̅ₚₛₛ²ᴴ )); ; size( m̂₂ )\n",
    "m̂₂ = 10 * log10.(abs.( Ŝᵣₓ³ ⊗ S̅ₚₛₛ²ᴴ )); ; size( m̂₂ )"
   ]
  },
  {
   "cell_type": "code",
   "execution_count": 22,
   "id": "13baa3a6-6d78-4e3c-a49e-e1ee39b05438",
   "metadata": {},
   "outputs": [
    {
     "data": {
      "text/plain": [
       "(50.649042476081405, CartesianIndex(6628, 1))"
      ]
     },
     "execution_count": 22,
     "metadata": {},
     "output_type": "execute_result"
    }
   ],
   "source": [
    "# Find maximum value and its index\n",
    "Ĉᵩ², N̂ᵩ² = argmax(m̂₂) #; m2_chan[NF2_chan] or direct m2_chan[(6628)...] "
   ]
  },
  {
   "cell_type": "code",
   "execution_count": 23,
   "id": "e4e18ff8-a040-4f28-94d8-dbc2a2a53635",
   "metadata": {},
   "outputs": [
    {
     "data": {
      "text/plain": [
       "4437"
      ]
     },
     "execution_count": 23,
     "metadata": {},
     "output_type": "execute_result"
    }
   ],
   "source": [
    " 6628 - (2048 + 144) + 1"
   ]
  },
  {
   "cell_type": "code",
   "execution_count": 24,
   "id": "882c511b-80cc-4fcc-bcb9-61d9a759734a",
   "metadata": {},
   "outputs": [],
   "source": [
    "using Plots\n",
    "\n",
    "# Plot the result\n",
    "m2_chan_plot = plot(m̂₂, xlabel=\"Sample\", ylabel=\"Power (dB)\", title=\"Convolution Result\", ylim=(-20, 60))\n",
    "savefig(m2_chan_plot,\"images/m2_chan_plot.png\");"
   ]
  },
  {
   "cell_type": "markdown",
   "id": "5090c21a-3aa8-449d-aeaf-1c2bec25756d",
   "metadata": {},
   "source": [
    "<img src=\"images/m2_chan_plot.png\" weight='' height='' > </img>"
   ]
  },
  {
   "cell_type": "code",
   "execution_count": 25,
   "id": "a319efc5-09c9-4c70-b68c-4e62cdf674ba",
   "metadata": {},
   "outputs": [
    {
     "data": {
      "text/plain": [
       "6628"
      ]
     },
     "execution_count": 25,
     "metadata": {},
     "output_type": "execute_result"
    }
   ],
   "source": [
    "y_1 = m̂₂[N̂ᵩ²] \n",
    "x_1 = getindex(N̂ᵩ², 1)"
   ]
  },
  {
   "cell_type": "code",
   "execution_count": 26,
   "id": "b8161d78-9e97-4edc-b52a-51c29bd5b5b0",
   "metadata": {},
   "outputs": [],
   "source": [
    "m2_chan_zoom_plot = xlims!(x_1 - 1000, x_1 + 1000)\n",
    "m2_chan_zoom_plot = ylims!(y_1 - 30, y_1 + 10)\n",
    "#scatter!(x_1, y_1, color = \"green\", label = \"\", markersize = 10)\n",
    "savefig(m2_chan_zoom_plot,\"images/m2_chan_zoom_plot.png\");"
   ]
  },
  {
   "cell_type": "markdown",
   "id": "627e3e19-6f10-4275-b475-4466d290eae0",
   "metadata": {},
   "source": [
    "<img src=\"images/m2_chan_zoom_plot.png\" weight='' height='' > </img>"
   ]
  },
  {
   "cell_type": "markdown",
   "id": "111975af-5e20-4e60-9f39-1e7a320279f5",
   "metadata": {},
   "source": [
    "# References\n",
    "\n",
    "- [ ] [Transpose vs. Adjoint?](https://discourse.julialang.org/t/transpose-vs-adjoint/69445)\n",
    "- [ ] [Convolution of Complex vectors](https://stackoverflow.com/questions/57169773/convolution-of-complex-vectors)\n",
    "- [ ] [Convolution (conv) with same size output](https://discourse.julialang.org/t/convolution-conv-with-same-size-output/38260/7)\n",
    "    - I usually expect the convolution of a length-N array and a length-M array to be length N+M-1, but that should be documented."
   ]
  },
  {
   "cell_type": "code",
   "execution_count": 27,
   "id": "181ffbe0-0616-4bd9-8ee3-93291a950670",
   "metadata": {},
   "outputs": [
    {
     "name": "stdout",
     "output_type": "stream",
     "text": [
      "a = [1, 2, 1, 2]\n",
      "b = [1, 2, 3]\n"
     ]
    }
   ],
   "source": [
    "a = [1, 2, 1, 2] \n",
    "b = [1, 2, 3]\n",
    "@show a; @show b;"
   ]
  },
  {
   "cell_type": "code",
   "execution_count": 28,
   "id": "35d9dad0-e164-47cb-904b-d0093ffd1723",
   "metadata": {},
   "outputs": [
    {
     "data": {
      "text/plain": [
       "4-element Vector{ComplexF64}:\n",
       " 1.0 + 2.9im\n",
       " 2.0 + 2.9im\n",
       " 1.0 + 2.9im\n",
       " 2.0 + 2.9im"
      ]
     },
     "execution_count": 28,
     "metadata": {},
     "output_type": "execute_result"
    }
   ],
   "source": [
    "aᵪ = @. a + 2.9im # 4-element column vector"
   ]
  },
  {
   "cell_type": "code",
   "execution_count": 29,
   "id": "d3480c9c-1284-4d5b-a472-97f908b9df4f",
   "metadata": {},
   "outputs": [
    {
     "data": {
      "text/plain": [
       "3-element Vector{ComplexF64}:\n",
       " 1.0 + 4.5im\n",
       " 2.0 + 4.5im\n",
       " 3.0 + 4.5im"
      ]
     },
     "execution_count": 29,
     "metadata": {},
     "output_type": "execute_result"
    }
   ],
   "source": [
    "bᵪ = @. b + 4.5im # 3-element column vector"
   ]
  },
  {
   "cell_type": "code",
   "execution_count": 30,
   "id": "1dfd1f2d-6486-4c8a-a82d-ea6d1271b289",
   "metadata": {},
   "outputs": [
    {
     "data": {
      "text/plain": [
       "6-element Vector{ComplexF64}:\n",
       "              -12.05 + 7.4im\n",
       " -22.099999999999998 + 22.199999999999996im\n",
       " -31.149999999999995 + 35.39999999999999im\n",
       " -29.149999999999995 + 39.89999999999999im\n",
       "               -19.1 + 28.0im\n",
       "  -7.050000000000001 + 17.699999999999996im"
      ]
     },
     "execution_count": 30,
     "metadata": {},
     "output_type": "execute_result"
    }
   ],
   "source": [
    "conv(bᵪ,aᵪ) # 6-element column vector"
   ]
  },
  {
   "cell_type": "code",
   "execution_count": 31,
   "id": "0d07eb68-bd14-4158-98bb-9b659feff39f",
   "metadata": {},
   "outputs": [
    {
     "data": {
      "text/plain": [
       "4×3 Matrix{ComplexF64}:\n",
       " -12.05+7.4im   -11.05+10.3im  -10.05+13.2im\n",
       " -11.05+11.9im   -9.05+14.8im   -7.05+17.7im\n",
       " -12.05+7.4im   -11.05+10.3im  -10.05+13.2im\n",
       " -11.05+11.9im   -9.05+14.8im   -7.05+17.7im"
      ]
     },
     "execution_count": 31,
     "metadata": {},
     "output_type": "execute_result"
    }
   ],
   "source": [
    "conv(transpose(bᵪ),aᵪ) # 4x3 Matrix"
   ]
  }
 ],
 "metadata": {
  "kernelspec": {
   "display_name": "Julia 1.9.3",
   "language": "julia",
   "name": "julia-1.9"
  },
  "language_info": {
   "file_extension": ".jl",
   "mimetype": "application/julia",
   "name": "julia",
   "version": "1.9.4"
  }
 },
 "nbformat": 4,
 "nbformat_minor": 5
}
