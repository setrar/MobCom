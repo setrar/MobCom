{
 "cells": [
  {
   "cell_type": "code",
   "execution_count": 1,
   "id": "ed24230a-ff2e-4fbc-95c5-b6bc695f1244",
   "metadata": {},
   "outputs": [
    {
     "data": {
      "application/vnd.webio.node+json": {
       "children": [],
       "instanceArgs": {
        "namespace": "html",
        "tag": "div"
       },
       "nodeType": "DOM",
       "props": {},
       "type": "node"
      },
      "text/html": [
       "<div style=\"padding: 1em; background-color: #f8d6da; border: 1px solid #f5c6cb; font-weight: bold;\">\n",
       "<p>The WebIO Jupyter extension was not detected. See the\n",
       "<a href=\"https://juliagizmos.github.io/WebIO.jl/latest/providers/ijulia/\" target=\"_blank\">\n",
       "    WebIO Jupyter integration documentation\n",
       "</a>\n",
       "for more information.\n",
       "</div>\n"
      ],
      "text/plain": [
       "WebIO._IJuliaInit()"
      ]
     },
     "metadata": {},
     "output_type": "display_data"
    },
    {
     "ename": "LoadError",
     "evalue": "The WebIO Jupyter extension must be installed using Python or Conda. See https://juliagizmos.github.io/WebIO.jl/latest/providers/ijulia/ for more information.",
     "output_type": "error",
     "traceback": [
      "The WebIO Jupyter extension must be installed using Python or Conda. See https://juliagizmos.github.io/WebIO.jl/latest/providers/ijulia/ for more information.",
      "",
      "Stacktrace:",
      " [1] error(s::String)",
      "   @ Base ./error.jl:35",
      " [2] _error()",
      "   @ WebIO ~/.julia/packages/WebIO/8Xm9p/deps/jupyter.jl:1",
      " [3] install_jupyter_nbextension(; kwargs::Base.Pairs{Symbol, Union{}, Tuple{}, NamedTuple{(), Tuple{}}})",
      "   @ WebIO ~/.julia/packages/WebIO/8Xm9p/deps/jupyter.jl:10",
      " [4] install_jupyter_nbextension()",
      "   @ WebIO ~/.julia/packages/WebIO/8Xm9p/deps/jupyter.jl:10",
      " [5] top-level scope",
      "   @ In[1]:2"
     ]
    }
   ],
   "source": [
    "using WebIO\n",
    "WebIO.install_jupyter_nbextension()"
   ]
  },
  {
   "cell_type": "code",
   "execution_count": null,
   "id": "dfa30968-9627-4c1b-ba2f-4a1b59c56e95",
   "metadata": {},
   "outputs": [],
   "source": []
  }
 ],
 "metadata": {
  "kernelspec": {
   "display_name": "Julia 1.9.3",
   "language": "julia",
   "name": "julia-1.9"
  },
  "language_info": {
   "file_extension": ".jl",
   "mimetype": "application/julia",
   "name": "julia",
   "version": "1.9.4"
  }
 },
 "nbformat": 4,
 "nbformat_minor": 5
}
