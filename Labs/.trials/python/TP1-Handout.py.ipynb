{
 "cells": [
  {
   "cell_type": "markdown",
   "id": "5ca11635-9248-4671-8685-4414ea161db1",
   "metadata": {},
   "source": [
    "# 1.1 PSS signals"
   ]
  },
  {
   "cell_type": "code",
   "execution_count": 1,
   "id": "36977578-fc93-4fde-83ba-2d493c5688ff",
   "metadata": {},
   "outputs": [],
   "source": [
    "import scipy.io\n",
    "import numpy as np"
   ]
  },
  {
   "cell_type": "code",
   "execution_count": 2,
   "id": "997915c8-a322-4d49-a125-9b9f4efae5ff",
   "metadata": {},
   "outputs": [],
   "source": [
    "# Load MATLAB file into Python\n",
    "rxsignal_data = scipy.io.loadmat('data/rxsignal_withchannelandfreqoff.mat')"
   ]
  },
  {
   "cell_type": "code",
   "execution_count": 3,
   "id": "87cdb972-e598-4da3-95eb-b213366e340e",
   "metadata": {},
   "outputs": [],
   "source": [
    "# Access variables in the MATLAB file\n",
    "rxs3 = rxsignal_data['rxs3']\n"
   ]
  },
  {
   "cell_type": "code",
   "execution_count": 4,
   "id": "135b86be-294f-4018-86d6-68f2f1de6b98",
   "metadata": {},
   "outputs": [
    {
     "data": {
      "text/plain": [
       "array([[ -7.30420514+19.17827615j],\n",
       "       [ -6.23556869-16.03725969j],\n",
       "       [ -2.25855811 +2.89561884j],\n",
       "       ...,\n",
       "       [  1.98315756+11.29937947j],\n",
       "       [-13.36641633 -2.18618519j],\n",
       "       [  4.04883426+10.65421598j]])"
      ]
     },
     "execution_count": 4,
     "metadata": {},
     "output_type": "execute_result"
    }
   ],
   "source": [
    "rxs3"
   ]
  },
  {
   "cell_type": "code",
   "execution_count": 5,
   "id": "51733b66-2832-4a81-8c7e-5c0088e8ddd8",
   "metadata": {},
   "outputs": [
    {
     "name": "stderr",
     "output_type": "stream",
     "text": [
      "/opt/homebrew/lib/python3.10/site-packages/matplotlib/cbook.py:1699: ComplexWarning: Casting complex values to real discards the imaginary part\n",
      "  return math.isfinite(val)\n",
      "/opt/homebrew/lib/python3.10/site-packages/matplotlib/cbook.py:1345: ComplexWarning: Casting complex values to real discards the imaginary part\n",
      "  return np.asarray(x, float)\n"
     ]
    },
    {
     "data": {
      "text/plain": [
       "[<matplotlib.lines.Line2D at 0x11b0da7a0>]"
      ]
     },
     "execution_count": 5,
     "metadata": {},
     "output_type": "execute_result"
    },
    {
     "data": {
      "image/png": "[encoded data removed]",
      "text/plain": [
       "<Figure size 640x480 with 1 Axes>"
      ]
     },
     "metadata": {},
     "output_type": "display_data"
    }
   ],
   "source": [
    "import matplotlib.pyplot as plt\n",
    "plt.plot(rxs3)"
   ]
  },
  {
   "cell_type": "code",
   "execution_count": 6,
   "id": "7d344c6a-309b-469e-99a5-0a32ca53280e",
   "metadata": {},
   "outputs": [],
   "source": [
    "import data.pss2\n",
    "# Access the variable declared in the included file\n",
    "pss_2 = data.pss2.pss_2"
   ]
  },
  {
   "cell_type": "code",
   "execution_count": 7,
   "id": "92d3fbab-64a8-48d4-9df2-cc4971d2f600",
   "metadata": {},
   "outputs": [],
   "source": [
    "# Perform inverse Fourier transform (ifft) and transpose\n",
    "pss2_t = np.fft.ifft(np.transpose(pss_2))\n",
    "\n",
    "# Normalize the signal\n",
    "pss2_t = pss2_t / np.linalg.norm(pss2_t)\n",
    "\n",
    "# Slice and concatenate the signal\n",
    "pss2_t = np.concatenate([pss2_t[-143:], pss2_t])"
   ]
  },
  {
   "cell_type": "code",
   "execution_count": 11,
   "id": "c3f53031-9337-4c60-b647-e8f4b7d34ec9",
   "metadata": {},
   "outputs": [],
   "source": [
    "pss2_t_conjugate_flipped = np.conj(np.fliplr(np.array([pss2_t]))[0])"
   ]
  },
  {
   "cell_type": "code",
   "execution_count": 12,
   "id": "ed9e9d18-4dae-4683-8aa3-f2b78df50c57",
   "metadata": {},
   "outputs": [],
   "source": [
    "from scipy.signal import convolve"
   ]
  },
  {
   "cell_type": "code",
   "execution_count": 15,
   "id": "562943ab-135c-4ee9-aa75-dfd100d8b05d",
   "metadata": {},
   "outputs": [],
   "source": [
    "# Perform complex convolution\n",
    "conv_result = np.convolve(rxs3.flatten(), pss2_t_conjugate_flipped)"
   ]
  },
  {
   "cell_type": "code",
   "execution_count": 16,
   "id": "27b8a782-9f03-443f-b54e-a32d9078cfe4",
   "metadata": {},
   "outputs": [],
   "source": [
    "# Calculate the magnitude of the convolution result\n",
    "magnitude_result = np.abs(conv_result)\n",
    "\n",
    "# Calculate the logarithm (base 10) of the magnitude\n",
    "m2_chan = 10 * np.log10(magnitude_result)"
   ]
  },
  {
   "cell_type": "code",
   "execution_count": 17,
   "id": "7da0fa33-856e-435f-8e98-94c88d5fd728",
   "metadata": {},
   "outputs": [
    {
     "data": {
      "text/plain": [
       "array([-10.66372443, -10.47951978,  -8.33713368, ...,  -1.8100993 ,\n",
       "        -4.19764536,  -4.78589225])"
      ]
     },
     "execution_count": 17,
     "metadata": {},
     "output_type": "execute_result"
    }
   ],
   "source": [
    "m2_chan"
   ]
  },
  {
   "cell_type": "code",
   "execution_count": null,
   "id": "ed9f7b9f-9b92-4e41-9be6-544c0ed5a932",
   "metadata": {},
   "outputs": [],
   "source": []
  }
 ],
 "metadata": {
  "kernelspec": {
   "display_name": "Python 3 (ipykernel)",
   "language": "python",
   "name": "python3"
  },
  "language_info": {
   "codemirror_mode": {
    "name": "ipython",
    "version": 3
   },
   "file_extension": ".py",
   "mimetype": "text/x-python",
   "name": "python",
   "nbconvert_exporter": "python",
   "pygments_lexer": "ipython3",
   "version": "3.10.13"
  }
 },
 "nbformat": 4,
 "nbformat_minor": 5
}
