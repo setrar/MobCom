{
 "cells": [
  {
   "cell_type": "markdown",
   "id": "50e96b3b-dd90-432d-9d56-14e98897b4a1",
   "metadata": {},
   "source": [
    "| Mobile Communication Techniques |\n",
    "|:-:|\n",
    "| Petros Elia, elia@eurecom.fr | \n",
    "| Midterm Exam |\n",
    "| November 21st, 2024 |\n",
    "| Time: 9:00-10:00 |"
   ]
  },
  {
   "cell_type": "markdown",
   "id": "01a3fb0d-7e8d-4917-82aa-fba80c0e4794",
   "metadata": {},
   "source": [
    "$$\\text{Instructions}$$\n",
    "\n",
    "- Exercises fall in categories of 1-point and 2-point exercises.\n",
    "- Total of 11 ×1 + 2 ×2 = 15 points.\n",
    "- NOTE!!! The exam will be evaluated, out of 13 points. Any points you get beyond 13 points, will be offered as extra bonus.\n",
    "  \n",
    "- Each answer should be clearly written, and the solution should be developed in detail.\n",
    "- Mathematical derivations need to show all steps that lead to the answer.\n",
    "- Complete as many exercises as you can. Don’t spend too much time on an individual question.\n",
    "- There is NO penalty for incorrect solutions.\n",
    "- If in certain cases you are unable to provide rigorous mathematical proofs, go ahead and provide intuitive\n",
    "justification of your answers. Partial credit will be given.\n",
    "- Calculators are not allowed.\n",
    "- You are allowed your class notes and class book."
   ]
  },
  {
   "cell_type": "code",
   "execution_count": null,
   "id": "3007ad11-880f-4cb8-8aa4-7bde7e914024",
   "metadata": {},
   "outputs": [],
   "source": []
  }
 ],
 "metadata": {
  "kernelspec": {
   "display_name": "Julia 1.11.1",
   "language": "julia",
   "name": "julia-1.11"
  },
  "language_info": {
   "file_extension": ".jl",
   "mimetype": "application/julia",
   "name": "julia",
   "version": "1.11.1"
  }
 },
 "nbformat": 4,
 "nbformat_minor": 5
}
