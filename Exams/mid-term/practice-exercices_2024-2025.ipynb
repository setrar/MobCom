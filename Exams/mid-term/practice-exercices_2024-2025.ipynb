{
 "cells": [
  {
   "cell_type": "markdown",
   "id": "50e96b3b-dd90-432d-9d56-14e98897b4a1",
   "metadata": {},
   "source": [
    "| Mobile Communication Techniques |\n",
    "|:-:|\n",
    "| Practice Questions MOBCOM |\n",
    "| Fall 2024-2025 |\n",
    "| Petros Elia, elia@eurecom.fr | "
   ]
  },
  {
   "cell_type": "markdown",
   "id": "01a3fb0d-7e8d-4917-82aa-fba80c0e4794",
   "metadata": {},
   "source": [
    "1) Starting from encoding bits at the transmitter, label the communication process up to decoding bits\n",
    "at the receiver (in other words, start with bits, then baseband-discrete, ... de-modulation, ...)"
   ]
  },
  {
   "cell_type": "code",
   "execution_count": null,
   "id": "cc58a73a-3bea-4b06-9e24-4f16281086bf",
   "metadata": {},
   "outputs": [],
   "source": []
  },
  {
   "cell_type": "markdown",
   "id": "3bad0029-2317-4666-ad19-5d61e6753eb1",
   "metadata": {},
   "source": [
    "2) Describe a reason why are we mostly interested in the discrete baseband representation of channel\n",
    "rather than the actual continuous analog form\n"
   ]
  },
  {
   "cell_type": "code",
   "execution_count": null,
   "id": "473ce391-191a-4461-a88c-83d7c3513a3e",
   "metadata": {},
   "outputs": [],
   "source": []
  },
  {
   "cell_type": "markdown",
   "id": "20b74a8d-2378-4ee8-8c4f-f287340aab9f",
   "metadata": {},
   "source": [
    "\n",
    "3) Describe the probability density function of a real Gaussian random variable N (0, 1)\n",
    "4) Describe the probability density function of a complex n-dimensional Gaussian random vector\n",
    "(uncorrelated)\n",
    "5) Describe the probability density function of a complex n-dimensional Gaussian random vector\n",
    "(uncorrelated)\n",
    "6) Give an approximation of the tail of a Gaussian random variable N (0, N0/2)\n",
    "7) What is the projection of a vector u onto a space V spanned by {vi}i?\n",
    "8) Describe in words the meaning of , coherence bandwidth Wc, coherence time Tc, delay spread Td,\n",
    "Doppler spread Ds\n",
    "9) Relate the above Wc, Tc, Td, Ds to each other\n",
    "10) What is the probability of error (wrt to SNR) in AWGN channels\n",
    "11) Describe the standard AWGN detection problem of two signals ±a in N (0, N0/2) noise.\n",
    "12) What is the main difference in communications in AWGN channels v.s. fading channels\n",
    "13) Write the channel model for fading channels? Do it for SISO and then for MIMO, including\n",
    "dimensions.\n",
    "14) What is the main cause of (fast) channel variations in time?\n",
    "15) When can a channel be considered fast fading and when slow fading?\n",
    "16) What is the main cause of error in fading channels?\n",
    "17) Describe the concept of degrees of freedom.\n",
    "18) What is the relationship between degrees-of-freedom and the number of input-output equations that\n",
    "can be solved?\n",
    "19) Describe the reasoning why using QPSK is more efficient than using BPSK (in AWGN or fading\n",
    "channels)\n",
    "20) What is a deep fade?\n",
    "21) What are some ways that allow for the negative effect of deep fade be reduced?\n",
    "22) What is a valid statistical characterization for the fading coefficients, and their magnitude square?\n",
    "23) What is the average probability of error (averaged over the fading realizations), in a SISO Rayleigh\n",
    "fading channel (high snr approximation)?\n",
    "24) What is the average probability of error (averaged over the fading realizations), in a 1 × nr SIMO\n",
    "Rayleigh fading channel (high snr approximation)?\n",
    "25) What is the average probability of error (averaged over the fading realizations), in a 1 × nr SIMO\n",
    "Rayleigh fading channel (high snr approximation)?\n",
    "26) What is temporal, spatial, and frequency diversity\n",
    "27) Give examples of when is temporal, spatial, and frequency diversity suitable (in terms of coding\n",
    "duration T, of Tc, Wc, Td and W (signal bandwidth)\n",
    "28) Describe the standard MIMO channel model\n",
    "29) Describe the rank criterion in MIMO communications\n",
    "30) Describe the rate of the Alamouti code carrying QPSK elements\n",
    "31) How many degrees of freedom can you have in a\n",
    "• SISO channel\n",
    "• nt × 1 MISO channel\n",
    "• nt × nr MIMO channel\n",
    "32) Why is the repetition code (for time diversity) very inefficient?\n",
    "33) Describe the relation between the cardinality of the code |X |, the rate of transmission R and the\n",
    "coding duration T"
   ]
  },
  {
   "cell_type": "code",
   "execution_count": null,
   "id": "e39fd2c6-d62c-47b0-a3d3-e26a31f44a98",
   "metadata": {},
   "outputs": [],
   "source": []
  }
 ],
 "metadata": {
  "kernelspec": {
   "display_name": "Julia 1.11.1",
   "language": "julia",
   "name": "julia-1.11"
  },
  "language_info": {
   "file_extension": ".jl",
   "mimetype": "application/julia",
   "name": "julia",
   "version": "1.11.1"
  }
 },
 "nbformat": 4,
 "nbformat_minor": 5
}
