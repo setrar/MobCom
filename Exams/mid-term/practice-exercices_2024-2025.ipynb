{
 "cells": [
  {
   "cell_type": "markdown",
   "id": "50e96b3b-dd90-432d-9d56-14e98897b4a1",
   "metadata": {},
   "source": [
    "| Mobile Communication Techniques |\n",
    "|:-:|\n",
    "| Practice Questions MOBCOM |\n",
    "| Fall 2024-2025 |\n",
    "| Petros Elia, elia@eurecom.fr | "
   ]
  },
  {
   "cell_type": "markdown",
   "id": "01a3fb0d-7e8d-4917-82aa-fba80c0e4794",
   "metadata": {},
   "source": [
    "1) Starting from encoding bits at the transmitter, label the communication process up to decoding bits\n",
    "at the receiver (in other words, start with bits, then baseband-discrete, ... de-modulation, ...)"
   ]
  },
  {
   "cell_type": "markdown",
   "id": "89f95ee8-e0a0-4232-ba2e-847cbdbd4ede",
   "metadata": {},
   "source": [
    "Here’s the communication process in a compact form:\n",
    "\n",
    "1. **Source Bits** →  \n",
    "2. **Channel Encoding** →  \n",
    "3. **Bit-to-Symbol Mapping** →  \n",
    "4. **Baseband Signal (Pulse Shaping)** →  \n",
    "5. **Frequency Upconversion** →  \n",
    "6. **Channel Transmission** →  \n",
    "7. **Frequency Downconversion** →  \n",
    "8. **Matched Filtering** →  \n",
    "9. **Sampling** →  \n",
    "10. **Symbol Detection** →  \n",
    "11. **Channel Decoding** →  \n",
    "12. **Decoded Bits**."
   ]
  },
  {
   "cell_type": "markdown",
   "id": "3bad0029-2317-4666-ad19-5d61e6753eb1",
   "metadata": {},
   "source": [
    "2) Describe a reason why are we mostly interested in the discrete baseband representation of channel\n",
    "rather than the actual continuous analog form\n"
   ]
  },
  {
   "cell_type": "code",
   "execution_count": null,
   "id": "473ce391-191a-4461-a88c-83d7c3513a3e",
   "metadata": {},
   "outputs": [],
   "source": []
  },
  {
   "cell_type": "markdown",
   "id": "b2fd2c98-09ab-45f8-8278-d5ee38d923dc",
   "metadata": {},
   "source": [
    "3) Describe the probability density function of a real Gaussian random variable $\\mathcal{N}(0, 1)$\n"
   ]
  },
  {
   "cell_type": "code",
   "execution_count": null,
   "id": "62accd55-dbcd-4b5b-a1c8-a6b49928b41a",
   "metadata": {},
   "outputs": [],
   "source": []
  },
  {
   "cell_type": "markdown",
   "id": "19899746-ee0f-400c-a3da-d45c45f8b90d",
   "metadata": {},
   "source": [
    "4) Describe the probability density function of a complex n-dimensional Gaussian random vector\n",
    "(uncorrelated)"
   ]
  },
  {
   "cell_type": "code",
   "execution_count": null,
   "id": "b80ec75f-5c75-4baf-b32b-c1eccfabed1b",
   "metadata": {},
   "outputs": [],
   "source": []
  },
  {
   "cell_type": "markdown",
   "id": "178e5205-9d10-4e6b-bf5d-ae978a20116c",
   "metadata": {},
   "source": [
    "5) Describe the probability density function of a complex n-dimensional Gaussian random vector\n",
    "(uncorrelated)\n"
   ]
  },
  {
   "cell_type": "code",
   "execution_count": null,
   "id": "602c07f6-daaa-43bb-821b-80a4218968f9",
   "metadata": {},
   "outputs": [],
   "source": []
  },
  {
   "cell_type": "markdown",
   "id": "28645134-f560-4e17-a28a-0563b2bb0065",
   "metadata": {},
   "source": [
    "6) Give an approximation of the tail of a Gaussian random variable $\\mathcal{N}(0, \\mathcal{N}_0/2)$\n"
   ]
  },
  {
   "cell_type": "code",
   "execution_count": null,
   "id": "55704839-8851-4bdb-bca9-7ccc72c48302",
   "metadata": {},
   "outputs": [],
   "source": []
  },
  {
   "cell_type": "markdown",
   "id": "cfd322dc-16eb-42f7-ae57-4308de26daf0",
   "metadata": {},
   "source": [
    "7) What is the projection of a vector $\\underline{u}$ onto a space $V$ spanned by $\\{v_i\\}_i$?\n"
   ]
  },
  {
   "cell_type": "code",
   "execution_count": null,
   "id": "1fe71db3-cf39-4a61-991c-216c86a45b24",
   "metadata": {},
   "outputs": [],
   "source": []
  },
  {
   "cell_type": "markdown",
   "id": "238d8a37-f81f-4f08-9aa9-ebac4c2a1142",
   "metadata": {},
   "source": [
    "8) Describe in words the meaning of , coherence bandwidth $W_c$ , coherence time $T_c$ , delay spread $T_d$ ,\n",
    "Doppler spread $D_s$\n"
   ]
  },
  {
   "cell_type": "code",
   "execution_count": null,
   "id": "9ee4e753-6cfe-4428-a038-9e360dc01cdf",
   "metadata": {},
   "outputs": [],
   "source": []
  },
  {
   "cell_type": "markdown",
   "id": "8af4a110-140a-463e-86b8-97198fa1cb7a",
   "metadata": {},
   "source": [
    "9) Relate the above $W_c$, $T_c$, $T_d$, $D_s$ to each other"
   ]
  },
  {
   "cell_type": "code",
   "execution_count": null,
   "id": "64a8d8f9-36ac-4b28-bd17-1f507a7b6368",
   "metadata": {},
   "outputs": [],
   "source": []
  },
  {
   "cell_type": "markdown",
   "id": "62173152-9a65-4e5d-b333-9ce40e273381",
   "metadata": {},
   "source": [
    "10) What is the probability of error (w.r.t to **SNR**) in **AWGN** channels\n"
   ]
  },
  {
   "cell_type": "code",
   "execution_count": null,
   "id": "f9f06908-9c18-4d46-8ed6-498f0dd0b4dd",
   "metadata": {},
   "outputs": [],
   "source": []
  },
  {
   "cell_type": "markdown",
   "id": "f9b11f42-3310-4a70-bd89-0dad436896e7",
   "metadata": {},
   "source": [
    "11) Describe the standard **AWGN** detection problem of two signals $\\pm a$ in $\\mathcal{N}(0, \\mathcal{N}_0/2)$ noise.\n"
   ]
  },
  {
   "cell_type": "code",
   "execution_count": null,
   "id": "20046f22-3c76-4f4e-8e11-12049e5401e6",
   "metadata": {},
   "outputs": [],
   "source": []
  },
  {
   "cell_type": "markdown",
   "id": "e82056e9-e9cc-4754-a861-bcf1961f5181",
   "metadata": {},
   "source": [
    "12) What is the main difference in communications in **AWGN** channels v.s. fading channels\n"
   ]
  },
  {
   "cell_type": "code",
   "execution_count": null,
   "id": "f8f3f30b-6871-4de7-a2dc-dfe5bba73ca5",
   "metadata": {},
   "outputs": [],
   "source": []
  },
  {
   "cell_type": "markdown",
   "id": "dcffb79f-ab6b-49b4-88c8-fa62c2fb2506",
   "metadata": {},
   "source": [
    "13) Write the channel model for fading channels? Do it for **SISO** and then for **MIMO**, including\n",
    "dimensions.\n"
   ]
  },
  {
   "cell_type": "code",
   "execution_count": null,
   "id": "93b08448-8590-42b1-a34a-964dc88f1e65",
   "metadata": {},
   "outputs": [],
   "source": []
  },
  {
   "cell_type": "markdown",
   "id": "36fc31f6-d7db-451c-a0ad-6a8efc196505",
   "metadata": {},
   "source": [
    "14) What is the main cause of (fast) channel variations in time?\n"
   ]
  },
  {
   "cell_type": "code",
   "execution_count": null,
   "id": "717d57c6-86e8-4482-ad6b-933d1e39749a",
   "metadata": {},
   "outputs": [],
   "source": []
  },
  {
   "cell_type": "markdown",
   "id": "5d2632fe-f48e-4cf5-8c3e-ec109a55739c",
   "metadata": {},
   "source": [
    "15) When can a channel be considered fast fading and when slow fading?\n"
   ]
  },
  {
   "cell_type": "code",
   "execution_count": null,
   "id": "2bba37da-f8ac-4725-9412-d784f4e84288",
   "metadata": {},
   "outputs": [],
   "source": []
  },
  {
   "cell_type": "markdown",
   "id": "889159f6-278e-4a17-b9a6-b08a5767ccf8",
   "metadata": {},
   "source": [
    "16) What is the main cause of error in fading channels?\n"
   ]
  },
  {
   "cell_type": "code",
   "execution_count": null,
   "id": "408405f7-a59e-4062-984a-d9c9e6e47c77",
   "metadata": {},
   "outputs": [],
   "source": []
  },
  {
   "cell_type": "markdown",
   "id": "e03532c1-5097-4a91-8b17-33cb7918b54d",
   "metadata": {},
   "source": [
    "17) Describe the concept of degrees of freedom.\n"
   ]
  },
  {
   "cell_type": "code",
   "execution_count": null,
   "id": "4074580e-12b0-4c8c-8c33-d84f555616f7",
   "metadata": {},
   "outputs": [],
   "source": []
  },
  {
   "cell_type": "markdown",
   "id": "5b798a34-fe6a-4880-8792-fe2269029a80",
   "metadata": {},
   "source": [
    "18) What is the relationship between degrees-of-freedom and the number of input-output equations that\n",
    "can be solved\n"
   ]
  },
  {
   "cell_type": "code",
   "execution_count": null,
   "id": "b5491c61-ae06-462c-9f09-8157b5cfbcd0",
   "metadata": {},
   "outputs": [],
   "source": []
  },
  {
   "cell_type": "markdown",
   "id": "20b74a8d-2378-4ee8-8c4f-f287340aab9f",
   "metadata": {},
   "source": [
    "19) Describe the reasoning why using **QPSK** is more efficient than using **BPSK** (in **AWGN** or fading\n",
    "channels)"
   ]
  },
  {
   "cell_type": "code",
   "execution_count": null,
   "id": "a4ae38d1-9b37-4ddf-8937-cdc019866c57",
   "metadata": {},
   "outputs": [],
   "source": []
  },
  {
   "cell_type": "markdown",
   "id": "3663faa0-708d-4bf1-8618-2cfcb04cfc67",
   "metadata": {},
   "source": [
    "20) What is a deep fade?"
   ]
  },
  {
   "cell_type": "code",
   "execution_count": null,
   "id": "931cb6c1-8d55-480e-b231-eca662380fb2",
   "metadata": {},
   "outputs": [],
   "source": []
  },
  {
   "cell_type": "markdown",
   "id": "e1d5f5c3-da59-4f22-a07b-fb25ac08c0e0",
   "metadata": {},
   "source": [
    "21) What are some ways that allow for the negative effect of deep fade be reduced?"
   ]
  },
  {
   "cell_type": "code",
   "execution_count": null,
   "id": "1e1eda91-0d01-4e5e-b97c-051fda2481ee",
   "metadata": {},
   "outputs": [],
   "source": []
  },
  {
   "cell_type": "markdown",
   "id": "8e88a149-a228-4d8c-a681-94b9fe3caa7d",
   "metadata": {},
   "source": [
    "22) What is a valid statistical characterization for the fading coefficients, and their magnitude square?\n"
   ]
  },
  {
   "cell_type": "code",
   "execution_count": null,
   "id": "d66ae271-1922-48f9-9992-52a4337e5a47",
   "metadata": {},
   "outputs": [],
   "source": []
  },
  {
   "cell_type": "markdown",
   "id": "e3667d89-3c45-4534-b40a-7426b600b4cf",
   "metadata": {},
   "source": [
    "23) What is the average probability of error (averaged over the fading realizations), in a SISO Rayleigh\n",
    "fading channel (high snr approximation)?\n"
   ]
  },
  {
   "cell_type": "code",
   "execution_count": null,
   "id": "052586b4-6067-49ae-a7c8-116a8c783c5e",
   "metadata": {},
   "outputs": [],
   "source": []
  },
  {
   "cell_type": "markdown",
   "id": "9dc1910b-9a14-4ccd-9fac-8a4f3fa8b8ad",
   "metadata": {},
   "source": [
    "24) What is the average probability of error (averaged over the fading realizations), in a 1 × nr SIMO\n",
    "Rayleigh fading channel (high snr approximation)?\n"
   ]
  },
  {
   "cell_type": "code",
   "execution_count": null,
   "id": "f3596900-de1d-466b-b52c-d91a5779214a",
   "metadata": {},
   "outputs": [],
   "source": []
  },
  {
   "cell_type": "markdown",
   "id": "7cde302c-18a4-4163-9449-9cddfff26e51",
   "metadata": {},
   "source": [
    "25) What is the average probability of error (averaged over the fading realizations), in a 1 × nr SIMO\n",
    "Rayleigh fading channel (high snr approximation)?"
   ]
  },
  {
   "cell_type": "code",
   "execution_count": null,
   "id": "0e3e4943-013c-4f33-983a-8e1fd72860a2",
   "metadata": {},
   "outputs": [],
   "source": []
  },
  {
   "cell_type": "markdown",
   "id": "1c6805d3-ee56-4fb8-9665-9f2a6aa114c9",
   "metadata": {},
   "source": [
    "26) What is temporal, spatial, and frequency diversity\n"
   ]
  },
  {
   "cell_type": "code",
   "execution_count": null,
   "id": "5caa0083-56d5-4e8a-96d6-a05f2cc6a637",
   "metadata": {},
   "outputs": [],
   "source": []
  },
  {
   "cell_type": "markdown",
   "id": "d2293f73-f2aa-4383-bd91-1f426c002dcb",
   "metadata": {},
   "source": [
    "27) Give examples of when is temporal, spatial, and frequency diversity suitable (in terms of coding\n",
    "duration $T$ , of $T_c$ , $W_c$ , $T_d$ and $W$ (signal bandwidth)\n"
   ]
  },
  {
   "cell_type": "code",
   "execution_count": null,
   "id": "a1b9868c-9656-4933-962b-33dc71ccc2cd",
   "metadata": {},
   "outputs": [],
   "source": []
  },
  {
   "cell_type": "markdown",
   "id": "b2edc0c8-2b71-477d-97af-c50b7ab34c96",
   "metadata": {},
   "source": [
    "28) Describe the standard MIMO channel model"
   ]
  },
  {
   "cell_type": "code",
   "execution_count": null,
   "id": "9e224ca8-db92-4984-9bc4-35be9aad785b",
   "metadata": {},
   "outputs": [],
   "source": []
  },
  {
   "cell_type": "markdown",
   "id": "4c22e911-c63e-436c-a819-f8eb7af451cb",
   "metadata": {},
   "source": [
    "29) Describe the rank criterion in MIMO communications"
   ]
  },
  {
   "cell_type": "code",
   "execution_count": null,
   "id": "22eed4be-5e36-4505-a0ec-042772cd9778",
   "metadata": {},
   "outputs": [],
   "source": []
  },
  {
   "cell_type": "markdown",
   "id": "bc0718f4-1ab0-449c-bd88-e98b6e2b58ec",
   "metadata": {},
   "source": [
    "30) Describe the rate of the Alamouti code carrying QPSK elements"
   ]
  },
  {
   "cell_type": "code",
   "execution_count": null,
   "id": "295c0cf3-879e-4597-a62f-19184b1bb297",
   "metadata": {},
   "outputs": [],
   "source": []
  },
  {
   "cell_type": "markdown",
   "id": "82cfd81b-b8cb-4bd6-bd28-735601e93e88",
   "metadata": {},
   "source": [
    "31) How many degrees of freedom can you have in a\n",
    "- SISO channel\n",
    "- $n_t$ × 1 MISO channel\n",
    "- $n_t$ × nr MIMO channel"
   ]
  },
  {
   "cell_type": "code",
   "execution_count": null,
   "id": "fd7d6536-7bef-4ea7-a281-fe258e832095",
   "metadata": {},
   "outputs": [],
   "source": []
  },
  {
   "cell_type": "markdown",
   "id": "54ed4286-ccd2-4b3e-8a88-00e2d06e62af",
   "metadata": {},
   "source": [
    "32) Why is the repetition code (for time diversity) very inefficient?"
   ]
  },
  {
   "cell_type": "code",
   "execution_count": null,
   "id": "42624bb5-fd4b-4c2c-b2ce-93308ada053f",
   "metadata": {},
   "outputs": [],
   "source": []
  },
  {
   "cell_type": "markdown",
   "id": "a047e28e-bafb-494a-a397-93b845e49751",
   "metadata": {},
   "source": [
    "33) Describe the relation between the cardinality of the code $|\\mathcal{X} |$, the rate of transmission $R$ and the coding duration $T$"
   ]
  },
  {
   "cell_type": "code",
   "execution_count": null,
   "id": "588d0e95-9718-4801-9806-eb7ea460f301",
   "metadata": {},
   "outputs": [],
   "source": []
  }
 ],
 "metadata": {
  "kernelspec": {
   "display_name": "Julia 1.11.1",
   "language": "julia",
   "name": "julia-1.11"
  },
  "language_info": {
   "file_extension": ".jl",
   "mimetype": "application/julia",
   "name": "julia",
   "version": "1.11.1"
  }
 },
 "nbformat": 4,
 "nbformat_minor": 5
}
