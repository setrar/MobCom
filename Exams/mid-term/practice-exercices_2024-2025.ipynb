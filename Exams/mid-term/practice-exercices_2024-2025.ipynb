{
 "cells": [
  {
   "cell_type": "markdown",
   "id": "50e96b3b-dd90-432d-9d56-14e98897b4a1",
   "metadata": {},
   "source": [
    "| Mobile Communication Techniques |\n",
    "|:-:|\n",
    "| Practice Questions MOBCOM |\n",
    "| Fall 2024-2025 |\n",
    "| Petros Elia, elia@eurecom.fr | "
   ]
  },
  {
   "cell_type": "markdown",
   "id": "01a3fb0d-7e8d-4917-82aa-fba80c0e4794",
   "metadata": {},
   "source": [
    "1) Starting from encoding bits at the transmitter, label the communication process up to decoding bits\n",
    "at the receiver (in other words, start with bits, then baseband-discrete, ... de-modulation, ...)"
   ]
  },
  {
   "cell_type": "markdown",
   "id": "89f95ee8-e0a0-4232-ba2e-847cbdbd4ede",
   "metadata": {},
   "source": [
    "Here’s the communication process in a compact form:\n",
    "\n",
    "1. **Source Bits** →  \n",
    "2. **Channel Encoding** →  \n",
    "3. **Bit-to-Symbol Mapping** →  \n",
    "4. **Baseband Signal (Pulse Shaping)** →  \n",
    "5. **Frequency Upconversion** →  \n",
    "6. **Channel Transmission** →  \n",
    "7. **Frequency Downconversion** →  \n",
    "8. **Matched Filtering** →  \n",
    "9. **Sampling** →  \n",
    "10. **Symbol Detection** →  \n",
    "11. **Channel Decoding** →  \n",
    "12. **Decoded Bits**."
   ]
  },
  {
   "cell_type": "markdown",
   "id": "3bad0029-2317-4666-ad19-5d61e6753eb1",
   "metadata": {},
   "source": [
    "2) Describe a reason why are we mostly interested in the discrete baseband representation of channel\n",
    "rather than the actual continuous analog form\n"
   ]
  },
  {
   "cell_type": "markdown",
   "id": "461a6dda-889f-4a99-9886-7d1bc37bbe6f",
   "metadata": {},
   "source": [
    "We focus on the discrete baseband representation because it simplifies analysis and processing by reducing complexity, enabling efficient digital signal processing (DSP) techniques, while preserving all the essential information of the analog signal within the Nyquist sampling rate."
   ]
  },
  {
   "cell_type": "markdown",
   "id": "b2fd2c98-09ab-45f8-8278-d5ee38d923dc",
   "metadata": {},
   "source": [
    "3) Describe the probability density function of a real Gaussian random variable $\\mathcal{N}(0, 1)$\n"
   ]
  },
  {
   "cell_type": "markdown",
   "id": "f09370f3-3e09-42d0-82a0-27ca4a47076f",
   "metadata": {},
   "source": [
    "The PDF of $ \\mathcal{N}(0, 1) $ is:  \n",
    "$\n",
    "f_X(x) = \\frac{1}{\\sqrt{2\\pi}} e^{-\\frac{x^2}{2}}, \\quad x \\in \\mathbb{R}.\n",
    "$  \n",
    "It is symmetric about 0, peaks at $ x = 0 $, and decays exponentially."
   ]
  },
  {
   "cell_type": "markdown",
   "id": "19899746-ee0f-400c-a3da-d45c45f8b90d",
   "metadata": {},
   "source": [
    "4) Describe the probability density function of a complex n-dimensional Gaussian random vector\n",
    "(uncorrelated)"
   ]
  },
  {
   "cell_type": "markdown",
   "id": "632ddc5f-0343-4a3d-beb7-2dbb9a4539b4",
   "metadata": {},
   "source": [
    "For a complex $ n $-dimensional Gaussian random vector $ \\mathbf{z} \\sim \\mathcal{CN}(0, \\sigma^2 \\mathbf{I}) $ with uncorrelated components, the probability density function (PDF) is:\n",
    "\n",
    "$\n",
    "f_{\\mathbf{z}}(\\mathbf{z}) = \\frac{1}{(\\pi \\sigma^2)^n} e^{-\\frac{1}{\\sigma^2} \\|\\mathbf{z}\\|^2},\n",
    "$\n",
    "\n",
    "where $ \\mathbf{z} \\in \\mathbb{C}^n $, $ \\sigma^2 $ is the variance per component, and $ \\|\\mathbf{z}\\|^2 $ is the squared magnitude of the vector."
   ]
  },
  {
   "cell_type": "markdown",
   "id": "178e5205-9d10-4e6b-bf5d-ae978a20116c",
   "metadata": {},
   "source": [
    "5) Describe the probability density function of a complex n-dimensional Gaussian random vector\n",
    "(uncorrelated)\n"
   ]
  },
  {
   "cell_type": "code",
   "execution_count": null,
   "id": "602c07f6-daaa-43bb-821b-80a4218968f9",
   "metadata": {},
   "outputs": [],
   "source": []
  },
  {
   "cell_type": "markdown",
   "id": "28645134-f560-4e17-a28a-0563b2bb0065",
   "metadata": {},
   "source": [
    "6) Give an approximation of the tail of a Gaussian random variable $\\mathcal{N}(0, \\mathcal{N}_0/2)$\n"
   ]
  },
  {
   "cell_type": "markdown",
   "id": "d9baa61d-86a7-462a-be6e-906a3ecac698",
   "metadata": {},
   "source": [
    "For a Gaussian random variable $ X \\sim \\mathcal{N}(0, \\mathcal{N}_0/2) $, the **tail probability** for large $ x > 0 $ can be approximated as:\n",
    "\n",
    "$\n",
    "P(X > x) \\approx \\frac{\\sqrt{\\mathcal{N}_0/2}}{\\sqrt{2\\pi} x} e^{-\\frac{x^2}{\\mathcal{N}_0}},\n",
    "$\n",
    "\n",
    "where the exponential term dominates for large $ x $, and the prefactor provides a correction for the tail decay."
   ]
  },
  {
   "cell_type": "markdown",
   "id": "cfd322dc-16eb-42f7-ae57-4308de26daf0",
   "metadata": {},
   "source": [
    "7) What is the projection of a vector $\\underline{u}$ onto a space $V$ spanned by $\\{v_i\\}_i$?\n"
   ]
  },
  {
   "cell_type": "markdown",
   "id": "0dc6a743-f50d-42fd-88cd-06e02a6add9e",
   "metadata": {},
   "source": [
    "The projection of a vector $ \\underline{u} $ onto the space $ V $ spanned by $ \\{ \\underline{v}_i \\}_i $ is:\n",
    "\n",
    "$\n",
    "\\text{Proj}_V(\\underline{u}) = \\sum_i \\frac{\\langle \\underline{u}, \\underline{v}_i \\rangle}{\\langle \\underline{v}_i, \\underline{v}_i \\rangle} \\underline{v}_i,\n",
    "$\n",
    "\n",
    "assuming $ \\{ \\underline{v}_i \\} $ are linearly independent."
   ]
  },
  {
   "cell_type": "markdown",
   "id": "238d8a37-f81f-4f08-9aa9-ebac4c2a1142",
   "metadata": {},
   "source": [
    "8) Describe in words the meaning of , coherence bandwidth $W_c$ , coherence time $T_c$ , delay spread $T_d$ , Doppler spread $D_s$\n"
   ]
  },
  {
   "cell_type": "markdown",
   "id": "2b6acf1c-b9c4-4214-a5cc-f6f0c42671ff",
   "metadata": {},
   "source": [
    "- **Coherence Bandwidth ($W_c$)**: The frequency range over which the channel's frequency response is approximately constant. Indicates the channel's ability to preserve signals across frequencies.\n",
    "\n",
    "- **Coherence Time ($T_c$)**: The time duration over which the channel's time-varying characteristics remain stable. Reflects the rate of channel variation.\n",
    "\n",
    "- **Delay Spread ($T_d$)**: The time difference between the arrival of the earliest and latest significant multipath components. Determines the level of time dispersion.\n",
    "\n",
    "- **Doppler Spread ($D_s$)**: The range of frequency shifts caused by relative motion between the transmitter, receiver, and scatterers. Indicates the extent of spectral broadening."
   ]
  },
  {
   "cell_type": "markdown",
   "id": "8af4a110-140a-463e-86b8-97198fa1cb7a",
   "metadata": {},
   "source": [
    "9) Relate the above $W_c$, $T_c$, $T_d$, $D_s$ to each other"
   ]
  },
  {
   "cell_type": "markdown",
   "id": "0a6766c2-59c8-40f3-bad4-7a8e7092d2dd",
   "metadata": {},
   "source": [
    "The relationships between $ W_c $, $ T_c $, $ T_d $, and $ D_s $ are based on reciprocity in time and frequency domains:\n",
    "\n",
    "1. **Coherence Bandwidth ($W_c$) and Delay Spread ($T_d$)**:\n",
    "   $\n",
    "   W_c \\approx \\frac{1}{T_d}.\n",
    "   $\n",
    "   A large $T_d$ (significant multipath) leads to a smaller $W_c$ (narrower frequency range where the channel is flat).\n",
    "\n",
    "2. **Coherence Time ($T_c$) and Doppler Spread ($D_s$)**:\n",
    "   $\n",
    "   T_c \\approx \\frac{1}{D_s}.\n",
    "   $\n",
    "   A high $D_s$ (rapid relative motion) leads to a smaller $T_c$ (shorter time during which the channel is stable).\n",
    "\n",
    "These relationships highlight the inverse proportionality between coherence metrics and the corresponding spread metrics."
   ]
  },
  {
   "cell_type": "markdown",
   "id": "62173152-9a65-4e5d-b333-9ce40e273381",
   "metadata": {},
   "source": [
    "10) What is the probability of error (w.r.t to **SNR**) in **AWGN** channels\n"
   ]
  },
  {
   "cell_type": "markdown",
   "id": "a46badca-fbb3-4ac7-bcd8-4db2132578af",
   "metadata": {},
   "source": [
    "The probability of error in an AWGN channel is:\n",
    "\n",
    "1. **BPSK**:  $\n",
    "P_e = Q\\left(\\sqrt{2 \\cdot \\text{SNR}}\\right).\n",
    "$\n",
    "\n",
    "2. **M-PSK (approx.)**:  $\n",
    "P_e \\approx 2 \\cdot Q\\left(\\sqrt{2 \\cdot \\text{SNR} \\cdot \\sin^2\\left(\\frac{\\pi}{M}\\right)}\\right).\n",
    "$\n",
    "\n",
    "3. **M-QAM (approx.)**:  $\n",
    "P_e \\approx \\frac{4}{\\log_2(M)} Q\\left(\\sqrt{\\frac{3 \\cdot \\text{SNR}}{M-1}}\\right).\n",
    "$ \n",
    "\n",
    "Error decreases exponentially with increasing SNR."
   ]
  },
  {
   "cell_type": "markdown",
   "id": "f9b11f42-3310-4a70-bd89-0dad436896e7",
   "metadata": {},
   "source": [
    "11) Describe the standard **AWGN** detection problem of two signals $\\pm a$ in $\\mathcal{N}(0, \\mathcal{N}_0/2)$ noise.\n"
   ]
  },
  {
   "cell_type": "markdown",
   "id": "539901de-14db-4f63-940c-5ed3525bf9f6",
   "metadata": {},
   "source": [
    "The **AWGN detection problem** for signals $ \\pm a $ in $ \\mathcal{N}(0, \\mathcal{N}_0/2) $ noise involves:\n",
    "\n",
    "- **Received signal**: $ y = s + n $, where $ s \\in \\{+a, -a\\} $ and $ n \\sim \\mathcal{N}(0, \\mathcal{N}_0/2) $.\n",
    "- **Decision Rule**:  $\n",
    "  \\text{Decide } +a \\text{ if } y > 0, \\text{ and } -a \\text{ if } y < 0.\n",
    "  $\n",
    "- **Probability of Error**:  $\n",
    "  P_e = Q\\left(\\sqrt{\\frac{2a^2}{\\mathcal{N}_0}}\\right),\n",
    "  $\n",
    "where $ Q(x) $ is the Q-function."
   ]
  },
  {
   "cell_type": "markdown",
   "id": "e82056e9-e9cc-4754-a861-bcf1961f5181",
   "metadata": {},
   "source": [
    "12) What is the main difference in communications in **AWGN** channels v.s. fading channels\n"
   ]
  },
  {
   "cell_type": "markdown",
   "id": "d8206912-6225-42ba-81cf-36c0f75cdbd0",
   "metadata": {},
   "source": [
    "In **AWGN channels**, the signal is affected only by constant additive Gaussian noise, with performance depending on SNR. In **fading channels**, the signal experiences both noise and random amplitude/phase variations due to multipath, requiring techniques like diversity and equalization to combat time-varying impairments."
   ]
  },
  {
   "cell_type": "markdown",
   "id": "dcffb79f-ab6b-49b4-88c8-fa62c2fb2506",
   "metadata": {},
   "source": [
    "13) Write the channel model for fading channels? Do it for **SISO** and then for **MIMO**, including\n",
    "dimensions.\n"
   ]
  },
  {
   "cell_type": "markdown",
   "id": "fe783b35-e7c9-4899-b150-8c7004b9dbea",
   "metadata": {},
   "source": [
    "### **Channel Model for Fading Channels**\n",
    "\n",
    "- **SISO**:  \n",
    "  $\n",
    "  y = h x + n,\n",
    "  $\n",
    "  where $ h \\in \\mathbb{C} $, $ x \\in \\mathbb{C} $, $ n \\sim \\mathcal{CN}(0, \\mathcal{N}_0) $, and $ y \\in \\mathbb{C} $.\n",
    "\n",
    "- **MIMO**:  \n",
    "  $\n",
    "  \\mathbf{y} = \\mathbf{H} \\mathbf{x} + \\mathbf{n},\n",
    "  $\n",
    "  where $ \\mathbf{H} \\in \\mathbb{C}^{M \\times N} $, $ \\mathbf{x} \\in \\mathbb{C}^{N \\times 1} $, $ \\mathbf{n} \\sim \\mathcal{CN}(0, \\mathcal{N}_0 \\mathbf{I}) $, and $ \\mathbf{y} \\in \\mathbb{C}^{M \\times 1} $."
   ]
  },
  {
   "cell_type": "markdown",
   "id": "36fc31f6-d7db-451c-a0ad-6a8efc196505",
   "metadata": {},
   "source": [
    "14) What is the main cause of (fast) channel variations in time?\n"
   ]
  },
  {
   "cell_type": "markdown",
   "id": "2d3a433c-dc5c-428a-80d0-34cc77e39590",
   "metadata": {},
   "source": [
    "Fast channel variations are primarily caused by **relative motion** between the transmitter, receiver, and scatterers, leading to **Doppler effect** and time-varying **multipath fading**."
   ]
  },
  {
   "cell_type": "markdown",
   "id": "5d2632fe-f48e-4cf5-8c3e-ec109a55739c",
   "metadata": {},
   "source": [
    "15) When can a channel be considered fast fading and when slow fading?\n"
   ]
  },
  {
   "cell_type": "markdown",
   "id": "0590ad8d-68d6-4c07-953b-0cf04b535d7f",
   "metadata": {},
   "source": [
    "- **Fast Fading**: $ T_c < T_s $ (channel varies within a symbol).  \n",
    "- **Slow Fading**: $ T_c > T_s $ (channel constant over multiple symbols)."
   ]
  },
  {
   "cell_type": "markdown",
   "id": "889159f6-278e-4a17-b9a6-b08a5767ccf8",
   "metadata": {},
   "source": [
    "16) What is the main cause of error in fading channels?\n"
   ]
  },
  {
   "cell_type": "markdown",
   "id": "aa51846f-cea2-46a4-b31b-8c826b8fdf71",
   "metadata": {},
   "source": [
    "The main cause of error in fading channels is **deep fades**, which reduce the signal-to-noise ratio (SNR) due to destructive multipath interference."
   ]
  },
  {
   "cell_type": "markdown",
   "id": "e03532c1-5097-4a91-8b17-33cb7918b54d",
   "metadata": {},
   "source": [
    "17) Describe the concept of degrees of freedom.\n"
   ]
  },
  {
   "cell_type": "markdown",
   "id": "2e191797-a708-4637-9f2c-2bca2e42bb71",
   "metadata": {},
   "source": [
    "The **degrees of freedom (DoF)** represent the number of independent signal dimensions available for communication, determined by time, frequency, or spatial resources. For MIMO, DoF is $ \\min(M, N) $; for time-frequency, it is approximately $ W \\cdot T $."
   ]
  },
  {
   "cell_type": "markdown",
   "id": "5b798a34-fe6a-4880-8792-fe2269029a80",
   "metadata": {},
   "source": [
    "18) What is the relationship between degrees-of-freedom and the number of input-output equations that\n",
    "can be solved\n"
   ]
  },
  {
   "cell_type": "markdown",
   "id": "bddcd88c-0f5f-431c-90de-5bb6118d6aaa",
   "metadata": {},
   "source": [
    "The **degrees of freedom (DoF)** represent the number of independent signal dimensions available for communication, determined by time, frequency, or spatial resources. For MIMO, DoF is $ \\min(M, N) $; for time-frequency, it is approximately $ W \\cdot T $."
   ]
  },
  {
   "cell_type": "markdown",
   "id": "20b74a8d-2378-4ee8-8c4f-f287340aab9f",
   "metadata": {},
   "source": [
    "19) Describe the reasoning why using **QPSK** is more efficient than using **BPSK** (in **AWGN** or fading\n",
    "channels)"
   ]
  },
  {
   "cell_type": "markdown",
   "id": "384727b8-f215-453b-adc3-af18becc85e6",
   "metadata": {},
   "source": [
    "QPSK is more efficient than BPSK because it transmits **2 bits per symbol**, doubling the data rate for the same bandwidth while maintaining the same energy per bit ($E_b$) in AWGN or fading channels. This spectral efficiency makes QPSK favorable without increasing power requirements."
   ]
  },
  {
   "cell_type": "markdown",
   "id": "3663faa0-708d-4bf1-8618-2cfcb04cfc67",
   "metadata": {},
   "source": [
    "20) What is a deep fade?"
   ]
  },
  {
   "cell_type": "markdown",
   "id": "f19d9305-f1b3-4d7b-8d27-8d68a2c44b8a",
   "metadata": {},
   "source": [
    "A **deep fade** is a significant drop in the received signal's amplitude caused by **destructive interference** between multipath components in a fading channel. This results in a very low signal-to-noise ratio (SNR), increasing the likelihood of errors."
   ]
  },
  {
   "cell_type": "markdown",
   "id": "e1d5f5c3-da59-4f22-a07b-fb25ac08c0e0",
   "metadata": {},
   "source": [
    "21) What are some ways that allow for the negative effect of deep fade be reduced?"
   ]
  },
  {
   "cell_type": "markdown",
   "id": "4413a583-5aa3-4355-b5b9-912ff8c9fa89",
   "metadata": {},
   "source": [
    "In general, the effects of deep fades can be reduced by improving **signal robustness** through redundancy, adaptability, and leveraging multiple independent paths or resources to ensure reliable communication under varying channel conditions.\n",
    "\n",
    "More specifically, to reduce the effects of deep fades:  \n",
    "1. **Diversity** (time, frequency, spatial).  \n",
    "2. **Channel Coding** (e.g., LDPC).  \n",
    "3. **Power Control**.  \n",
    "4. **Interleaving**.  \n",
    "5. **Adaptive Modulation**.  \n",
    "6. **RAKE Receiver** (for CDMA).\n",
    "\n"
   ]
  },
  {
   "cell_type": "markdown",
   "id": "8e88a149-a228-4d8c-a681-94b9fe3caa7d",
   "metadata": {},
   "source": [
    "22) What is a valid statistical characterization for the fading coefficients, and their magnitude square?\n"
   ]
  },
  {
   "cell_type": "markdown",
   "id": "7fffbbb7-874a-4285-847f-9db1e7f39d1a",
   "metadata": {},
   "source": [
    "- **Fading Coefficients ($h$)**: $ h \\sim \\mathcal{CN}(0, \\sigma_h^2) $ (complex Gaussian).  \n",
    "- **Magnitude Square ($|h|^2$)**: (power gain) Follows a **Rayleigh distribution** if $ h $ is zero-mean, or a **Rician distribution** if $ h $ has a line-of-sight component. Expected value: $ \\mathbb{E}[|h|^2] = \\sigma_h^2 $."
   ]
  },
  {
   "cell_type": "markdown",
   "id": "e3667d89-3c45-4534-b40a-7426b600b4cf",
   "metadata": {},
   "source": [
    "23) What is the average probability of error (averaged over the fading realizations), in a SISO Rayleigh\n",
    "fading channel (high snr approximation)?\n"
   ]
  },
  {
   "cell_type": "markdown",
   "id": "d9dc16cc-772d-44d2-9f25-337bf359f8d7",
   "metadata": {},
   "source": [
    "For a SISO Rayleigh fading channel at high SNR, the **average probability of error** is approximately:  \n",
    "$\n",
    "P_e \\approx \\frac{1}{2 \\cdot \\text{SNR}}.\n",
    "$"
   ]
  },
  {
   "cell_type": "markdown",
   "id": "9dc1910b-9a14-4ccd-9fac-8a4f3fa8b8ad",
   "metadata": {},
   "source": [
    "24) What is the average probability of error (averaged over the fading realizations), in a $1 × n_r$ SIMO\n",
    "Rayleigh fading channel (high snr approximation)?\n"
   ]
  },
  {
   "cell_type": "markdown",
   "id": "cba58869-608a-4cb1-b2ca-21b1ea0b30f3",
   "metadata": {},
   "source": [
    "In a **1 × $n_r$ SIMO Rayleigh fading channel** at high SNR, the **average probability of error** is:  \n",
    "$\n",
    "P_e \\approx \\frac{1}{(2 \\cdot \\text{SNR})^{n_r}}.\n",
    "$"
   ]
  },
  {
   "cell_type": "markdown",
   "id": "7cde302c-18a4-4163-9449-9cddfff26e51",
   "metadata": {},
   "source": [
    "25) What is the average probability of error (averaged over the fading realizations), in a $1 × n_r$ SIMO\n",
    "Rayleigh fading channel (high snr approximation)?"
   ]
  },
  {
   "cell_type": "code",
   "execution_count": null,
   "id": "0e3e4943-013c-4f33-983a-8e1fd72860a2",
   "metadata": {},
   "outputs": [],
   "source": []
  },
  {
   "cell_type": "markdown",
   "id": "1c6805d3-ee56-4fb8-9665-9f2a6aa114c9",
   "metadata": {},
   "source": [
    "26) What is temporal, spatial, and frequency diversity\n"
   ]
  },
  {
   "cell_type": "markdown",
   "id": "abd9621e-110b-48b2-8850-471dc51713be",
   "metadata": {},
   "source": [
    "- **Temporal Diversity**: Transmit over different times to combat time-varying fading.  \n",
    "- **Spatial Diversity**: Use multiple antennas for independent signal paths.  \n",
    "- **Frequency Diversity**: Transmit over multiple frequencies to mitigate frequency-selective fading."
   ]
  },
  {
   "cell_type": "markdown",
   "id": "d2293f73-f2aa-4383-bd91-1f426c002dcb",
   "metadata": {},
   "source": [
    "27) Give examples of when is temporal, spatial, and frequency diversity suitable (in terms of coding\n",
    "duration $T$ , of $T_c$ , $W_c$ , $T_d$ and $W$ (signal bandwidth)\n"
   ]
  },
  {
   "cell_type": "markdown",
   "id": "bf7f932c-b022-407c-b2f4-0437ca63fcf6",
   "metadata": {},
   "source": [
    "1. **Temporal Diversity**: **Coding duration** $ T $ **longer than the coherence time** $ T_c $, i.e., $ T > T_c $. \n",
    "2. **Spatial Diversity**: when **multiple antennas** are available\n",
    "3. **Frequency Diversity**: **signal bandwidth** $ W $ **larger than the coherence bandwidth** $ W > W_c $. "
   ]
  },
  {
   "cell_type": "markdown",
   "id": "b2edc0c8-2b71-477d-97af-c50b7ab34c96",
   "metadata": {},
   "source": [
    "28) Describe the standard MIMO channel model"
   ]
  },
  {
   "cell_type": "markdown",
   "id": "6b910f63-d136-496f-8917-72d1e5b9a275",
   "metadata": {},
   "source": [
    "The **MIMO channel model** is:  \n",
    "$\n",
    "\\mathbf{y} = \\mathbf{H} \\mathbf{x} + \\mathbf{n},\n",
    "$\n",
    "where:\n",
    "- $ \\mathbf{y} \\in \\mathbb{C}^{N_r \\times 1} $: Received signal,  \n",
    "- $ \\mathbf{H} \\in \\mathbb{C}^{N_r \\times N_t} $: Channel matrix ($ h_{ij} \\sim \\mathcal{CN}(0, 1) $ for Rayleigh fading),  \n",
    "- $ \\mathbf{x} \\in \\mathbb{C}^{N_t \\times 1} $: Transmitted signal,  \n",
    "- $ \\mathbf{n} \\sim \\mathcal{CN}(0, \\sigma_n^2 \\mathbf{I}) $: AWGN.  \n",
    "\n",
    "It models interactions between $ N_t $ transmit and $ N_r $ receive antennas, supporting diversity or spatial multiplexing."
   ]
  },
  {
   "cell_type": "markdown",
   "id": "4c22e911-c63e-436c-a819-f8eb7af451cb",
   "metadata": {},
   "source": [
    "29) Describe the rank criterion in MIMO communications"
   ]
  },
  {
   "cell_type": "markdown",
   "id": "5e1ec792-a682-4b0e-920c-2fe000b68f9f",
   "metadata": {},
   "source": [
    "The **rank criterion** in MIMO communications states that the channel matrix $ \\mathbf{H} $ must have **rank $ r $** to support $ r $ independent data streams. Maximum spatial multiplexing is achieved when $ \\text{rank}(\\mathbf{H}) = \\min(N_t, N_r) $. Higher rank also improves diversity and reliability."
   ]
  },
  {
   "cell_type": "markdown",
   "id": "bc0718f4-1ab0-449c-bd88-e98b6e2b58ec",
   "metadata": {},
   "source": [
    "30) Describe the rate of the Alamouti code carrying QPSK elements"
   ]
  },
  {
   "cell_type": "markdown",
   "id": "c50404d0-0ca3-424b-ac5d-ea312dfca4cf",
   "metadata": {},
   "source": [
    "The **Alamouti code** with **QPSK elements** transmits 2 QPSK symbols over 2 time slots, achieving a **rate of 1**, as $ R = \\frac{\\text{symbols transmitted}}{\\text{time slots}} = \\frac{2}{2} = 1 $."
   ]
  },
  {
   "cell_type": "markdown",
   "id": "82cfd81b-b8cb-4bd6-bd28-735601e93e88",
   "metadata": {},
   "source": [
    "31) How many degrees of freedom can you have in a\n",
    "- SISO channel\n",
    "- $n_t$ × 1 MISO channel\n",
    "- $n_t$ × nr MIMO channel"
   ]
  },
  {
   "cell_type": "markdown",
   "id": "9d25b2fa-2dd9-420d-b4b1-5e6a401a6de0",
   "metadata": {},
   "source": [
    "- **SISO**: $ \\text{DoF} = 1 $.  \n",
    "- **MISO ($ n_t \\times 1 $)**: $ \\text{DoF} = 1 $.  \n",
    "- **MIMO ($ n_t \\times n_r $)**: $ \\text{DoF} = \\min(n_t, n_r) $.  "
   ]
  },
  {
   "cell_type": "markdown",
   "id": "54ed4286-ccd2-4b3e-8a88-00e2d06e62af",
   "metadata": {},
   "source": [
    "32) Why is the repetition code (for time diversity) very inefficient?"
   ]
  },
  {
   "cell_type": "markdown",
   "id": "906f8579-19b4-4b18-ad74-f1dc9601bad3",
   "metadata": {},
   "source": [
    "Repetition codes are inefficient because they reduce the data rate, waste bandwidth and time resources, and require more energy compared to advanced coding techniques that achieve better reliability with less redundancy."
   ]
  },
  {
   "cell_type": "markdown",
   "id": "a047e28e-bafb-494a-a397-93b845e49751",
   "metadata": {},
   "source": [
    "33) Describe the relation between the cardinality of the code $|\\mathcal{X} |$, the rate of transmission $R$ and the coding duration $T$"
   ]
  },
  {
   "cell_type": "markdown",
   "id": "be1a91a5-406c-4c87-8811-7533c93a1803",
   "metadata": {},
   "source": [
    "The relation is:  \n",
    "$\n",
    "|\\mathcal{X}| = 2^{R \\cdot T},\n",
    "$\n",
    "where $ |\\mathcal{X}| $ is the code's cardinality, $ R $ is the transmission rate (bits/sec), and $ T $ is the coding duration."
   ]
  },
  {
   "cell_type": "code",
   "execution_count": null,
   "id": "2f9acf9e-3ff1-4f20-8664-c88637cc4d16",
   "metadata": {},
   "outputs": [],
   "source": []
  }
 ],
 "metadata": {
  "kernelspec": {
   "display_name": "Julia 1.11.1",
   "language": "julia",
   "name": "julia-1.11"
  },
  "language_info": {
   "file_extension": ".jl",
   "mimetype": "application/julia",
   "name": "julia",
   "version": "1.11.1"
  }
 },
 "nbformat": 4,
 "nbformat_minor": 5
}
