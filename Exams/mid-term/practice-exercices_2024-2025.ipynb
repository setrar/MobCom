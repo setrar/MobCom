{
 "cells": [
  {
   "cell_type": "markdown",
   "id": "50e96b3b-dd90-432d-9d56-14e98897b4a1",
   "metadata": {},
   "source": [
    "| Mobile Communication Techniques |\n",
    "|:-:|\n",
    "| Practice Questions MOBCOM |\n",
    "| Fall 2024-2025 |\n",
    "| Petros Elia, elia@eurecom.fr | "
   ]
  },
  {
   "cell_type": "markdown",
   "id": "01a3fb0d-7e8d-4917-82aa-fba80c0e4794",
   "metadata": {},
   "source": [
    "# Starting from encoding bits at the transmitter, label the communication process up to decoding bits at the receiver (in other words, start with bits, then baseband-discrete, ... de-modulation, ...)"
   ]
  },
  {
   "cell_type": "markdown",
   "id": "89f95ee8-e0a0-4232-ba2e-847cbdbd4ede",
   "metadata": {},
   "source": [
    "Here’s the communication process in a compact form:\n",
    "\n",
    "1. **Source Bits** →  \n",
    "2. **Channel Encoding** →  \n",
    "3. **Bit-to-Symbol Mapping** →  \n",
    "4. **Baseband Signal (Pulse Shaping)** →  \n",
    "5. **Frequency Upconversion** →  \n",
    "6. **Channel Transmission** →  \n",
    "7. **Frequency Downconversion** →  \n",
    "8. **Matched Filtering** →  \n",
    "9. **Sampling** →  \n",
    "10. **Symbol Detection** →  \n",
    "11. **Channel Decoding** →  \n",
    "12. **Decoded Bits**."
   ]
  },
  {
   "cell_type": "markdown",
   "id": "3bad0029-2317-4666-ad19-5d61e6753eb1",
   "metadata": {},
   "source": [
    "# Describe a reason why are we mostly interested in the discrete baseband representation of channel rather than the actual continuous analog form"
   ]
  },
  {
   "cell_type": "markdown",
   "id": "461a6dda-889f-4a99-9886-7d1bc37bbe6f",
   "metadata": {},
   "source": [
    "We focus on the discrete baseband representation because it simplifies analysis and processing by reducing complexity, enabling efficient digital signal processing (DSP) techniques, while preserving all the essential information of the analog signal within the Nyquist sampling rate."
   ]
  },
  {
   "cell_type": "markdown",
   "id": "b2fd2c98-09ab-45f8-8278-d5ee38d923dc",
   "metadata": {},
   "source": [
    "# Describe the probability density function of a real Gaussian random variable $\\mathcal{N}(0, 1)$"
   ]
  },
  {
   "cell_type": "markdown",
   "id": "f09370f3-3e09-42d0-82a0-27ca4a47076f",
   "metadata": {},
   "source": [
    "The PDF of $\\mathcal{N}(0, 1)$ is:  \n",
    "$f_X(x) = \\frac{1}{\\sqrt{2\\pi}} e^{-\\frac{x^2}{2}}, \\quad x \\in \\mathbb{R}.$\n",
    "It is symmetric about 0, peaks at $x = 0$, and decays exponentially."
   ]
  },
  {
   "cell_type": "markdown",
   "id": "19899746-ee0f-400c-a3da-d45c45f8b90d",
   "metadata": {},
   "source": [
    "# Describe the probability density function of a complex n-dimensional Gaussian random vector(uncorrelated)"
   ]
  },
  {
   "cell_type": "markdown",
   "id": "632ddc5f-0343-4a3d-beb7-2dbb9a4539b4",
   "metadata": {},
   "source": [
    "For a complex $n$-dimensional Gaussian random vector $\\mathbf{z} \\sim \\mathcal{CN}(0, \\sigma^2 \\mathbf{I})$ with uncorrelated components, the probability density function (PDF) is:\n",
    "\n",
    "$f_{\\mathbf{z}}(\\mathbf{z}) = \\frac{1}{(\\pi \\sigma^2)^n} e^{-\\frac{1}{\\sigma^2} \\|\\mathbf{z}\\|^2},$\n",
    "\n",
    "where $\\mathbf{z} \\in \\mathbb{C}^n$, $\\sigma^2$ is the variance per component, and $\\|\\mathbf{z}\\|^2$ is the squared magnitude of the vector."
   ]
  },
  {
   "cell_type": "markdown",
   "id": "178e5205-9d10-4e6b-bf5d-ae978a20116c",
   "metadata": {},
   "source": [
    "# Describe the probability density function of a complex n-dimensional Gaussian random vector (uncorrelated)"
   ]
  },
  {
   "cell_type": "markdown",
   "id": "6232ec86-64c7-4116-9a2e-6cb950a381ff",
   "metadata": {},
   "source": [
    "The probability density function (PDF) of a **complex $n$-dimensional uncorrelated Gaussian random vector** $\\mathbf{X} \\sim \\mathcal{CN}(\\mathbf{0}, \\mathbf{\\Sigma})$ is:\n",
    "\n",
    "$f_{\\mathbf{X}}(\\mathbf{x}) = \\frac{1}{\\pi^n \\det(\\mathbf{\\Sigma})} \\exp\\left(-\\mathbf{x}^\\dagger \\mathbf{\\Sigma}^{-1} \\mathbf{x}\\right)$\n",
    "\n",
    "#### Where:\n",
    "- $\\mathbf{x}^\\dagger$ is the Hermitian transpose of $\\mathbf{x}$,\n",
    "- $\\mathbf{\\Sigma} = \\text{diag}(\\sigma_1^2, \\sigma_2^2, \\dots, \\sigma_n^2)$ is the diagonal covariance matrix,\n",
    "- $\\det(\\mathbf{\\Sigma}) = \\prod_{i=1}^{n} \\sigma_i^2$.\n",
    "\n",
    "For **uncorrelated** components, $\\mathbf{\\Sigma}$ is diagonal. If all components have equal variance $\\sigma^2$, the PDF simplifies to:\n",
    "\n",
    "$f_{\\mathbf{X}}(\\mathbf{x}) = \\frac{1}{(\\pi \\sigma^2)^n} \\exp\\left(-\\frac{\\|\\mathbf{x}\\|^2}{\\sigma^2}\\right)$\n"
   ]
  },
  {
   "cell_type": "markdown",
   "id": "28645134-f560-4e17-a28a-0563b2bb0065",
   "metadata": {},
   "source": [
    "# Give an approximation of the tail of a Gaussian random variable $\\mathcal{N}(0, \\mathcal{N}_0/2)$\n"
   ]
  },
  {
   "cell_type": "markdown",
   "id": "d9baa61d-86a7-462a-be6e-906a3ecac698",
   "metadata": {},
   "source": [
    "For a Gaussian random variable $X \\sim \\mathcal{N}(0, \\mathcal{N}_0/2)$, the **tail probability** for large $x > 0$ can be approximated as:\n",
    "\n",
    "$P(X > x) \\approx \\frac{\\sqrt{\\mathcal{N}_0/2}}{\\sqrt{2\\pi} x} e^{-\\frac{x^2}{\\mathcal{N}_0}},$\n",
    "\n",
    "where the exponential term dominates for large $x$, and the prefactor provides a correction for the tail decay."
   ]
  },
  {
   "cell_type": "markdown",
   "id": "cfd322dc-16eb-42f7-ae57-4308de26daf0",
   "metadata": {},
   "source": [
    "# What is the projection of a vector $\\underline{u}$ onto a space $V$ spanned by $\\{v_i\\}_i$?\n"
   ]
  },
  {
   "cell_type": "markdown",
   "id": "0dc6a743-f50d-42fd-88cd-06e02a6add9e",
   "metadata": {},
   "source": [
    "The projection of a vector $\\underline{u}$ onto the space $V$ spanned by $\\{ \\underline{v}_i \\}_i$ is:\n",
    "\n",
    "$\\text{Proj}_V(\\underline{u}) = \\sum_i \\frac{\\langle \\underline{u}, \\underline{v}_i \\rangle}{\\langle \\underline{v}_i, \\underline{v}_i \\rangle} \\underline{v}_i,$\n",
    "\n",
    "assuming $\\{ \\underline{v}_i \\}$ are linearly independent."
   ]
  },
  {
   "cell_type": "markdown",
   "id": "238d8a37-f81f-4f08-9aa9-ebac4c2a1142",
   "metadata": {},
   "source": [
    "# Describe in words the meaning of , coherence bandwidth $W_c$ , coherence time $T_c$ , delay spread $T_d$ , Doppler spread $D_s$\n"
   ]
  },
  {
   "cell_type": "markdown",
   "id": "2b6acf1c-b9c4-4214-a5cc-f6f0c42671ff",
   "metadata": {},
   "source": [
    "- **Coherence Bandwidth ($W_c$)**: The frequency range over which the channel's frequency response is approximately constant. Indicates the channel's ability to preserve signals across frequencies.\n",
    "\n",
    "- **Coherence Time ($T_c$)**: The time duration over which the channel's time-varying characteristics remain stable. Reflects the rate of channel variation.\n",
    "\n",
    "- **Delay Spread ($T_d$)**: The time difference between the arrival of the earliest and latest significant multipath components. Determines the level of time dispersion.\n",
    "\n",
    "- **Doppler Spread ($D_s$)**: The range of frequency shifts caused by relative motion between the transmitter, receiver, and scatterers. Indicates the extent of spectral broadening."
   ]
  },
  {
   "cell_type": "markdown",
   "id": "8af4a110-140a-463e-86b8-97198fa1cb7a",
   "metadata": {},
   "source": [
    "# Relate the above $W_c$, $T_c$, $T_d$, $D_s$ to each other"
   ]
  },
  {
   "cell_type": "markdown",
   "id": "0a6766c2-59c8-40f3-bad4-7a8e7092d2dd",
   "metadata": {},
   "source": [
    "The relationships between $W_c$, $T_c$, $T_d$, and $D_s$ are based on reciprocity in time and frequency domains:\n",
    "\n",
    "1. **Coherence Bandwidth ($W_c$) and Delay Spread ($T_d$)**:\n",
    "$W_c \\approx \\frac{1}{T_d}.$\n",
    "   A large $T_d$ (significant multipath) leads to a smaller $W_c$ (narrower frequency range where the channel is flat).\n",
    "\n",
    "2. **Coherence Time ($T_c$) and Doppler Spread ($D_s$)**:\n",
    "$T_c \\approx \\frac{1}{D_s}.$\n",
    "   A high $D_s$ (rapid relative motion) leads to a smaller $T_c$ (shorter time during which the channel is stable).\n",
    "\n",
    "These relationships highlight the inverse proportionality between coherence metrics and the corresponding spread metrics."
   ]
  },
  {
   "cell_type": "markdown",
   "id": "62173152-9a65-4e5d-b333-9ce40e273381",
   "metadata": {},
   "source": [
    "# What is the probability of error (w.r.t to **SNR**) in **AWGN** channels\n"
   ]
  },
  {
   "cell_type": "markdown",
   "id": "a46badca-fbb3-4ac7-bcd8-4db2132578af",
   "metadata": {},
   "source": [
    "The probability of error in an AWGN channel is:\n",
    "\n",
    "1. **BPSK**:\n",
    "$P_e = Q\\left(\\sqrt{2 \\cdot \\text{SNR}}\\right).$\n",
    "2. **M-PSK (approx.)**:\n",
    "$P_e \\approx 2 \\cdot Q\\left(\\sqrt{2 \\cdot \\text{SNR} \\cdot \\sin^2\\left(\\frac{\\pi}{M}\\right)}\\right).$\n",
    "\n",
    "3. **M-QAM (approx.)**:\n",
    "$P_e \\approx \\frac{4}{\\log_2(M)} Q\\left(\\sqrt{\\frac{3 \\cdot \\text{SNR}}{M-1}}\\right).$\n"
   ]
  },
  {
   "cell_type": "markdown",
   "id": "f9b11f42-3310-4a70-bd89-0dad436896e7",
   "metadata": {},
   "source": [
    "# Describe the standard **AWGN** detection problem of two signals $\\pm a$ in $\\mathcal{N}(0, \\mathcal{N}_0/2)$ noise.\n"
   ]
  },
  {
   "cell_type": "markdown",
   "id": "539901de-14db-4f63-940c-5ed3525bf9f6",
   "metadata": {},
   "source": [
    "The **AWGN detection problem** for signals $\\pm a$ in $\\mathcal{N}(0, \\mathcal{N}_0/2)$ noise involves:\n",
    "\n",
    "- **Received signal**:\n",
    "$y = s + n$, where $s \\in \\{+a, -a\\}$ and $n \\sim \\mathcal{N}(0,\\mathcal{N}_0/2)$.\n",
    "- **Decision Rule**:\n",
    "$ \\text{Decide } +a \\text{ if } y > 0, \\text{ and } -a \\text{ if } y < 0.$\n",
    "- **Probability of Error**:\n",
    "$P_e = Q\\left(\\sqrt{\\frac{2a^2}{\\mathcal{N}_0}}\\right),$ where $Q(x)$ is the Q-function."
   ]
  },
  {
   "cell_type": "markdown",
   "id": "e82056e9-e9cc-4754-a861-bcf1961f5181",
   "metadata": {},
   "source": [
    "# What is the main difference in communications in **AWGN** channels v.s. fading channels\n"
   ]
  },
  {
   "cell_type": "markdown",
   "id": "d8206912-6225-42ba-81cf-36c0f75cdbd0",
   "metadata": {},
   "source": [
    "In **AWGN channels**, the signal is affected only by constant additive Gaussian noise, with performance depending on SNR. In **fading channels**, the signal experiences both noise and random amplitude/phase variations due to multipath, requiring techniques like diversity and equalization to combat time-varying impairments."
   ]
  },
  {
   "cell_type": "markdown",
   "id": "dcffb79f-ab6b-49b4-88c8-fa62c2fb2506",
   "metadata": {},
   "source": [
    "# Write the channel model for fading channels? Do it for **SISO** and then for **MIMO**, including dimensions.\n"
   ]
  },
  {
   "cell_type": "markdown",
   "id": "fe783b35-e7c9-4899-b150-8c7004b9dbea",
   "metadata": {},
   "source": [
    "#### **Channel Model for Fading Channels**\n",
    "\n",
    "- **SISO**:  \n",
    "$y = h x + n,$\n",
    "  where $h \\in \\mathbb{C}$, $x \\in \\mathbb{C}$, $n \\sim \\mathcal{CN}(0, \\mathcal{N}_0)$, and $y \\in \\mathbb{C}$.\n",
    "\n",
    "- **MIMO**:  \n",
    "$\\mathbf{y} = \\mathbf{H} \\mathbf{x} + \\mathbf{n},$\n",
    "  where $\\mathbf{H} \\in \\mathbb{C}^{M \\times N}$, $\\mathbf{x} \\in \\mathbb{C}^{N \\times 1}$, $\\mathbf{n} \\sim \\mathcal{CN}(0, \\mathcal{N}_0 \\mathbf{I})$, and $\\mathbf{y} \\in \\mathbb{C}^{M \\times 1}$."
   ]
  },
  {
   "cell_type": "markdown",
   "id": "36fc31f6-d7db-451c-a0ad-6a8efc196505",
   "metadata": {},
   "source": [
    "# What is the main cause of (fast) channel variations in time?\n"
   ]
  },
  {
   "cell_type": "markdown",
   "id": "2d3a433c-dc5c-428a-80d0-34cc77e39590",
   "metadata": {},
   "source": [
    "Fast channel variations are primarily caused by **relative motion** between the transmitter, receiver, and scatterers, leading to **Doppler effect** and time-varying **multipath fading**."
   ]
  },
  {
   "cell_type": "markdown",
   "id": "5d2632fe-f48e-4cf5-8c3e-ec109a55739c",
   "metadata": {},
   "source": [
    "# When can a channel be considered fast fading and when slow fading?\n"
   ]
  },
  {
   "cell_type": "markdown",
   "id": "0590ad8d-68d6-4c07-953b-0cf04b535d7f",
   "metadata": {},
   "source": [
    "- **Fast Fading**: $T_c < T_s$ (channel varies within a symbol).  \n",
    "- **Slow Fading**: $T_c > T_s$ (channel constant over multiple symbols)."
   ]
  },
  {
   "cell_type": "markdown",
   "id": "889159f6-278e-4a17-b9a6-b08a5767ccf8",
   "metadata": {},
   "source": [
    "# What is the main cause of error in fading channels?\n"
   ]
  },
  {
   "cell_type": "markdown",
   "id": "aa51846f-cea2-46a4-b31b-8c826b8fdf71",
   "metadata": {},
   "source": [
    "The main cause of error in fading channels is **deep fades**, which reduce the signal-to-noise ratio (SNR) due to destructive multipath interference."
   ]
  },
  {
   "cell_type": "markdown",
   "id": "e03532c1-5097-4a91-8b17-33cb7918b54d",
   "metadata": {},
   "source": [
    "# Describe the concept of degrees of freedom.\n"
   ]
  },
  {
   "cell_type": "markdown",
   "id": "2e191797-a708-4637-9f2c-2bca2e42bb71",
   "metadata": {},
   "source": [
    "The **degrees of freedom (DoF)** represent the number of independent signal dimensions available for communication, determined by time, frequency, or spatial resources. For MIMO, DoF is $\\min(M, N)$; for time-frequency, it is approximately $W \\cdot T$."
   ]
  },
  {
   "cell_type": "markdown",
   "id": "5b798a34-fe6a-4880-8792-fe2269029a80",
   "metadata": {},
   "source": [
    "# What is the relationship between degrees-of-freedom and the number of input-output equations that can be solved\n"
   ]
  },
  {
   "cell_type": "markdown",
   "id": "bddcd88c-0f5f-431c-90de-5bb6118d6aaa",
   "metadata": {},
   "source": [
    "The **degrees of freedom (DoF)** represent the number of independent signal dimensions available for communication, determined by time, frequency, or spatial resources. For MIMO, DoF is $\\min(M, N)$; for time-frequency, it is approximately $W \\cdot T$."
   ]
  },
  {
   "cell_type": "markdown",
   "id": "20b74a8d-2378-4ee8-8c4f-f287340aab9f",
   "metadata": {},
   "source": [
    "# Describe the reasoning why using **QPSK** is more efficient than using **BPSK** (in **AWGN** or fading channels)"
   ]
  },
  {
   "cell_type": "markdown",
   "id": "384727b8-f215-453b-adc3-af18becc85e6",
   "metadata": {},
   "source": [
    "QPSK is more efficient than BPSK because it transmits **2 bits per symbol**, doubling the data rate for the same bandwidth while maintaining the same energy per bit ($E_b$) in AWGN or fading channels. This spectral efficiency makes QPSK favorable without increasing power requirements."
   ]
  },
  {
   "cell_type": "markdown",
   "id": "3663faa0-708d-4bf1-8618-2cfcb04cfc67",
   "metadata": {},
   "source": [
    "# What is a deep fade?"
   ]
  },
  {
   "cell_type": "markdown",
   "id": "f19d9305-f1b3-4d7b-8d27-8d68a2c44b8a",
   "metadata": {},
   "source": [
    "A **deep fade** is a significant drop in the received signal's amplitude caused by **destructive interference** between multipath components in a fading channel. This results in a very low signal-to-noise ratio (SNR), increasing the likelihood of errors."
   ]
  },
  {
   "cell_type": "markdown",
   "id": "e1d5f5c3-da59-4f22-a07b-fb25ac08c0e0",
   "metadata": {},
   "source": [
    "# What are some ways that allow for the negative effect of deep fade be reduced?"
   ]
  },
  {
   "cell_type": "markdown",
   "id": "4413a583-5aa3-4355-b5b9-912ff8c9fa89",
   "metadata": {},
   "source": [
    "In general, the effects of deep fades can be reduced by improving **signal robustness** through redundancy, adaptability, and leveraging multiple independent paths or resources to ensure reliable communication under varying channel conditions.\n",
    "\n",
    "More specifically, to reduce the effects of deep fades:  \n",
    "1. **Diversity** (time, frequency, spatial).  \n",
    "2. **Channel Coding** (e.g., LDPC).  \n",
    "3. **Power Control**.  \n",
    "4. **Interleaving**.  \n",
    "5. **Adaptive Modulation**.  \n",
    "6. **RAKE Receiver** (for CDMA).\n",
    "\n"
   ]
  },
  {
   "cell_type": "markdown",
   "id": "8e88a149-a228-4d8c-a681-94b9fe3caa7d",
   "metadata": {},
   "source": [
    "# What is a valid statistical characterization for the fading coefficients, and their magnitude square?\n"
   ]
  },
  {
   "cell_type": "markdown",
   "id": "7fffbbb7-874a-4285-847f-9db1e7f39d1a",
   "metadata": {},
   "source": [
    "- **Fading Coefficients ($h$)**: $h \\sim \\mathcal{CN}(0, \\sigma_h^2)$ (complex Gaussian).  \n",
    "- **Magnitude Square ($|h|^2$)**: (power gain) Follows a **Rayleigh distribution** if $h$ is zero-mean, or a **Rician distribution** if $h$ has a line-of-sight component. Expected value: $\\mathbb{E}[|h|^2] = \\sigma_h^2$."
   ]
  },
  {
   "cell_type": "markdown",
   "id": "e3667d89-3c45-4534-b40a-7426b600b4cf",
   "metadata": {},
   "source": [
    "# What is the average probability of error (averaged over the fading realizations), in a SISO Rayleigh fading channel (high snr approximation)?\n"
   ]
  },
  {
   "cell_type": "markdown",
   "id": "d9dc16cc-772d-44d2-9f25-337bf359f8d7",
   "metadata": {},
   "source": [
    "For a SISO Rayleigh fading channel at high SNR, the **average probability of error** is approximately:  \n",
    "$P_e \\approx \\frac{1}{2 \\cdot \\text{SNR}}.$\n"
   ]
  },
  {
   "cell_type": "markdown",
   "id": "9dc1910b-9a14-4ccd-9fac-8a4f3fa8b8ad",
   "metadata": {},
   "source": [
    "# What is the average probability of error (averaged over the fading realizations), in a $1 × n_r$ SIMO Rayleigh fading channel (high snr approximation)?\n"
   ]
  },
  {
   "cell_type": "markdown",
   "id": "cba58869-608a-4cb1-b2ca-21b1ea0b30f3",
   "metadata": {},
   "source": [
    "In a **1 × $n_r$ SIMO Rayleigh fading channel** at high SNR, the **average probability of error** is:  \n",
    "$P_e \\approx \\frac{1}{(2 \\cdot \\text{SNR})^{n_r}}.$\n"
   ]
  },
  {
   "cell_type": "markdown",
   "id": "7cde302c-18a4-4163-9449-9cddfff26e51",
   "metadata": {},
   "source": [
    "# What is the average probability of error (averaged over the fading realizations), in a $1 × n_r$ SIMO Rayleigh fading channel (high snr approximation)?"
   ]
  },
  {
   "cell_type": "markdown",
   "id": "ecab0055-d4c6-4575-b6de-4de6e07ca6d1",
   "metadata": {},
   "source": [
    "In a $1 \\times n_r$ **SIMO Rayleigh fading channel** (single-input, multiple-output), the average **probability of error** at **high SNR** can be approximated using diversity and fading statistics. Let’s break down the key steps and results for this case:\n",
    "\n",
    "#### **1. Channel Model**\n",
    "\n",
    "For a **SIMO Rayleigh fading channel**, the received signal is:\n",
    "$y = h x + n$\n",
    "where:\n",
    "- $h = [h_1, h_2, \\dots, h_{n_r}]$ is the $1 \\times n_r$ channel vector with i.i.d. complex Gaussian entries ($h_i \\sim \\mathcal{CN}(0, 1)$),\n",
    "- $x$ is the transmitted signal,\n",
    "- $n \\sim \\mathcal{CN}(0, N_0)$ is complex additive white Gaussian noise (AWGN).\n",
    "\n",
    "At high SNR, **maximum ratio combining (MRC)** can be used to improve the detection performance.\n",
    "\n",
    "#### **2. Effective SNR**\n",
    "\n",
    "The effective SNR after MRC is given by:\n",
    "$\\gamma_{\\text{eff}} = \\frac{P}{N_0} \\| h \\|^2 = \\frac{P}{N_0} \\sum_{i=1}^{n_r} |h_i|^2$\n",
    "where $|h_i|^2$ follows an exponential distribution, and $\\|h\\|^2 \\sim \\text{Gamma}(n_r, 1)$ (sum of $n_r$ i.i.d. Rayleigh squared magnitudes).\n",
    "\n",
    "#### **3. Average Probability of Error**\n",
    "\n",
    "The average probability of error for high SNR can be approximated by considering the **diversity order**, which is $n_r$. For common modulation schemes like BPSK or QPSK, the average probability of symbol error $P_e$ is:\n",
    "\n",
    "$P_e \\approx \\frac{C}{\\text{SNR}^{n_r}}$\n",
    "\n",
    "where:\n",
    "- $\\text{SNR} = \\frac{P}{N_0}$,\n",
    "- $C$ is a constant that depends on the modulation type (e.g., for BPSK, $C = \\frac{1}{2^{n_r - 1} (n_r - 1)!}$).\n",
    "\n",
    "#### **4. High-SNR Approximation**\n",
    "\n",
    "In high SNR, the **diversity order** $n_r$ determines the rate at which the error probability decays. The probability of error for Rayleigh fading in a $1 \\times n_r$ system is approximated as:\n",
    "\n",
    "$P_e \\approx \\left( \\frac{1}{4 \\gamma_{\\text{avg}}} \\right)^{n_r}$\n",
    "\n",
    "where $\\gamma_{\\text{avg}} = \\frac{P}{N_0}$ is the average SNR.\n",
    "\n",
    "#### **Summary**\n",
    "\n",
    "For a $1 \\times n_r$ SIMO Rayleigh fading channel at high SNR:\n",
    "- The average error probability decays as $\\text{SNR}^{-n_r}$, showing the impact of **diversity gain**.\n",
    "- The exact expression for $P_e$ depends on the modulation scheme and can often be written in the form:\n",
    "$P_e \\approx \\frac{C}{\\text{SNR}^{n_r}}$\n",
    "- For large $n_r$, the error probability decreases significantly due to diversity."
   ]
  },
  {
   "cell_type": "markdown",
   "id": "1c6805d3-ee56-4fb8-9665-9f2a6aa114c9",
   "metadata": {},
   "source": [
    "# What is temporal, spatial, and frequency diversity\n"
   ]
  },
  {
   "cell_type": "markdown",
   "id": "abd9621e-110b-48b2-8850-471dc51713be",
   "metadata": {},
   "source": [
    "- **Temporal Diversity**: Transmit over different times to combat time-varying fading.  \n",
    "- **Spatial Diversity**: Use multiple antennas for independent signal paths.  \n",
    "- **Frequency Diversity**: Transmit over multiple frequencies to mitigate frequency-selective fading."
   ]
  },
  {
   "cell_type": "markdown",
   "id": "d2293f73-f2aa-4383-bd91-1f426c002dcb",
   "metadata": {},
   "source": [
    "# Give examples of when is temporal, spatial, and frequency diversity suitable (in terms of coding duration $T$ , of $T_c$ , $W_c$ , $T_d$ and $W$ (signal bandwidth)\n"
   ]
  },
  {
   "cell_type": "markdown",
   "id": "bf7f932c-b022-407c-b2f4-0437ca63fcf6",
   "metadata": {},
   "source": [
    "1. **Temporal Diversity**: **Coding duration** $T$ **longer than the coherence time** $T_c$, i.e., $T > T_c$. \n",
    "2. **Spatial Diversity**: when **multiple antennas** are available\n",
    "3. **Frequency Diversity**: **signal bandwidth** $W$ **larger than the coherence bandwidth** $W > W_c$. "
   ]
  },
  {
   "cell_type": "markdown",
   "id": "b2edc0c8-2b71-477d-97af-c50b7ab34c96",
   "metadata": {},
   "source": [
    "# Describe the standard MIMO channel model"
   ]
  },
  {
   "cell_type": "markdown",
   "id": "6b910f63-d136-496f-8917-72d1e5b9a275",
   "metadata": {},
   "source": [
    "The **MIMO channel model** is:  \n",
    "$\\mathbf{y} = \\mathbf{H} \\mathbf{x} + \\mathbf{n},$\n",
    "where:\n",
    "- $\\mathbf{y} \\in \\mathbb{C}^{N_r \\times 1}$: Received signal,  \n",
    "- $\\mathbf{H} \\in \\mathbb{C}^{N_r \\times N_t}$: Channel matrix ($h_{ij} \\sim \\mathcal{CN}(0, 1)$ for Rayleigh fading),  \n",
    "- $\\mathbf{x} \\in \\mathbb{C}^{N_t \\times 1}$: Transmitted signal,  \n",
    "- $\\mathbf{n} \\sim \\mathcal{CN}(0, \\sigma_n^2 \\mathbf{I})$: AWGN.  \n",
    "\n",
    "It models interactions between $N_t$ transmit and $N_r$ receive antennas, supporting diversity or spatial multiplexing."
   ]
  },
  {
   "cell_type": "markdown",
   "id": "4c22e911-c63e-436c-a819-f8eb7af451cb",
   "metadata": {},
   "source": [
    "# Describe the rank criterion in MIMO communications"
   ]
  },
  {
   "cell_type": "markdown",
   "id": "5e1ec792-a682-4b0e-920c-2fe000b68f9f",
   "metadata": {},
   "source": [
    "The **rank criterion** in MIMO communications states that the channel matrix $\\mathbf{H}$ must have **rank $r$** to support $r$ independent data streams. Maximum spatial multiplexing is achieved when $\\text{rank}(\\mathbf{H}) = \\min(N_t, N_r)$. Higher rank also improves diversity and reliability."
   ]
  },
  {
   "cell_type": "markdown",
   "id": "bc0718f4-1ab0-449c-bd88-e98b6e2b58ec",
   "metadata": {},
   "source": [
    "30) Describe the rate of the Alamouti code carrying QPSK elements"
   ]
  },
  {
   "cell_type": "markdown",
   "id": "c50404d0-0ca3-424b-ac5d-ea312dfca4cf",
   "metadata": {},
   "source": [
    "The **Alamouti code** with **QPSK elements** transmits 2 QPSK symbols over 2 time slots, achieving a **rate of 1**, as $R = \\frac{\\text{symbols transmitted}}{\\text{time slots}} = \\frac{2}{2} = 1$."
   ]
  },
  {
   "cell_type": "markdown",
   "id": "82cfd81b-b8cb-4bd6-bd28-735601e93e88",
   "metadata": {},
   "source": [
    "# How many degrees of freedom can you have in a\n",
    "- SISO channel\n",
    "- $n_t$ × 1 MISO channel\n",
    "- $n_t$ × nr MIMO channel"
   ]
  },
  {
   "cell_type": "markdown",
   "id": "9d25b2fa-2dd9-420d-b4b1-5e6a401a6de0",
   "metadata": {},
   "source": [
    "- **SISO**: $\\text{DoF} = 1$.  \n",
    "- **MISO ($n_t \\times 1$)**: $\\text{DoF} = 1$.  \n",
    "- **MIMO ($n_t \\times n_r$)**: $\\text{DoF} = \\min(n_t, n_r)$.  "
   ]
  },
  {
   "cell_type": "markdown",
   "id": "54ed4286-ccd2-4b3e-8a88-00e2d06e62af",
   "metadata": {},
   "source": [
    "# Why is the repetition code (for time diversity) very inefficient?"
   ]
  },
  {
   "cell_type": "markdown",
   "id": "906f8579-19b4-4b18-ad74-f1dc9601bad3",
   "metadata": {},
   "source": [
    "Repetition codes are inefficient because they reduce the data rate, waste bandwidth and time resources, and require more energy compared to advanced coding techniques that achieve better reliability with less redundancy."
   ]
  },
  {
   "cell_type": "markdown",
   "id": "a047e28e-bafb-494a-a397-93b845e49751",
   "metadata": {},
   "source": [
    "# Describe the relation between the cardinality of the code $|\\mathcal{X} |$, the rate of transmission $R$ and the coding duration $T$"
   ]
  },
  {
   "cell_type": "markdown",
   "id": "be1a91a5-406c-4c87-8811-7533c93a1803",
   "metadata": {},
   "source": [
    "The relation is:  \n",
    "$|\\mathcal{X}| = 2^{R \\cdot T},$\n",
    "where $|\\mathcal{X}|$ is the code's cardinality, $R$ is the transmission rate (bits/sec), and $T$ is the coding duration."
   ]
  }
 ],
 "metadata": {
  "kernelspec": {
   "display_name": "Julia 1.11.3",
   "language": "julia",
   "name": "julia-1.11"
  },
  "language_info": {
   "file_extension": ".jl",
   "mimetype": "application/julia",
   "name": "julia",
   "version": "1.11.3"
  }
 },
 "nbformat": 4,
 "nbformat_minor": 5
}
