{
 "cells": [
  {
   "cell_type": "markdown",
   "id": "50e96b3b-dd90-432d-9d56-14e98897b4a1",
   "metadata": {},
   "source": [
    "| Mobile Communication Techniques |\n",
    "|:-:|\n",
    "| Petros Elia, elia@eurecom.fr | \n",
    "| Midterm Exam |\n",
    "| November 21st, 2024 |\n",
    "| Time: 9:00-10:00 |"
   ]
  },
  {
   "cell_type": "markdown",
   "id": "01a3fb0d-7e8d-4917-82aa-fba80c0e4794",
   "metadata": {},
   "source": [
    "$$\\text{Instructions}$$\n",
    "\n",
    "- Exercises fall in categories of 1-point and 2-point exercises.\n",
    "- Total of 11 ×1 + 2 ×2 = 15 points.\n",
    "- NOTE!!! The exam will be evaluated, out of 13 points. Any points you get beyond 13 points, will be offered as extra bonus.\n",
    "  \n",
    "- Each answer should be clearly written, and the solution should be developed in detail.\n",
    "- Mathematical derivations need to show all steps that lead to the answer.\n",
    "- Complete as many exercises as you can. Don’t spend too much time on an individual question.\n",
    "- There is NO penalty for incorrect solutions.\n",
    "- If in certain cases you are unable to provide rigorous mathematical proofs, go ahead and provide intuitive\n",
    "justification of your answers. Partial credit will be given.\n",
    "- Calculators are not allowed.\n",
    "- You are allowed your class notes and class book.\n",
    "\n",
    "$$\\text{Hints - equations - conventions:}$$\n",
    "\n",
    "- Notation\n",
    "    - SISO = single-input single-output, MISO = multiple-input single-output, SIMO = single-input multiple-\n",
    "    output, MIMO = single-input multiple-output,\n",
    "    - $R$ represents the rate of communication in bits per channel use (b.p.c.u),\n",
    "    - $\\rho$ represents the SNR (signal to noise ratio),\n",
    "    - $w$ will denote additive noise which will be distributed as a circularly symmetric Gaussian random variable $\\mathbb{C}\\mathcal{N}(0,N_0)$. If $N_0$ is not specified, then set $N_0 = 1$,\n",
    "    - $h_i$ will denote independent fading scalar coefficients which will be distributed as circularly symmetric Gaussian random variables  $\\mathbb{C}\\mathcal{N}(0,1)$.\n",
    "- GOOD LUCK!!"
   ]
  },
  {
   "cell_type": "markdown",
   "id": "0bc7e3da-ca31-4f63-9fcf-db2f41b7e0a7",
   "metadata": {},
   "source": [
    "$\\color{orange} \\large \\textbf{1)}$ (1 point). In a multi-path fading scenario with delay spread $6\\mu s$ and $L = 3$ channel taps, what is the operational bandwidth $W$?\n"
   ]
  },
  {
   "cell_type": "markdown",
   "id": "8b5aac14-74a7-476e-8aea-1257cfd30cc8",
   "metadata": {},
   "source": [
    "---\n",
    "In a multi-path fading scenario, the **operational bandwidth** $W$ is inversely proportional to the delay spread $T_{\\text{max}}$, which is the maximum delay between the arrival of multipath components. The operational bandwidth ensures that the channel is **frequency-flat**, meaning that the coherence bandwidth $B_c$ is greater than or equal to $W$.\n",
    "\n",
    "The coherence bandwidth $B_c$ is given approximately by:\n",
    "\n",
    "$B_c \\approx \\frac{1}{T_{\\text{max}}}$\n",
    "\n",
    "Here, $T_{\\text{max}} = 6 \\, \\mu s$. Substituting this value:\n",
    "\n",
    "$B_c \\approx \\frac{1}{6 \\times 10^{-6}} = 166.67 \\, \\text{kHz}$\n",
    "\n",
    "Thus, the operational bandwidth $W$ should be:\n",
    "\n",
    "$W \\leq B_c = 166.67 \\, \\text{kHz}.$\n",
    "\n",
    "So, the **operational bandwidth** is approximately **166.67 kHz**."
   ]
  },
  {
   "cell_type": "markdown",
   "id": "4ca16cbd-0493-43c6-be95-f062b9d7c661",
   "metadata": {},
   "source": [
    "$\\color{orange} \\large \\textbf{2)}$ (1 point). Imagine a given SNR equal to $\\rho$, and imagine that we are operating over a (quasi-static) Rayleigh fading SISO channel. Can you describe a code that achieves probability of error approximately equal to $P_e \\approx \\rho^{−4}$, and rate equal to $R = 2$ bpcu."
   ]
  },
  {
   "cell_type": "markdown",
   "id": "259af262-c90d-46df-8ef6-52803e67c725",
   "metadata": {},
   "source": [
    "---\n",
    "To achieve $P_e \\approx \\rho^{-4}$ at $R = 2$ bpcu in a quasi-static Rayleigh fading SISO channel:\n",
    "\n",
    "- **Code**: Use a 4-QAM constellation with a rate-2 space-time block code (e.g., Alamouti code or a 4-dimensional lattice code).\n",
    "- **Diversity**: Achieve diversity order 4 by designing the code to span 4 independent dimensions.\n",
    "- **Performance**: Ensures $P_e \\sim \\rho^{-4}$ with increasing SNR."
   ]
  },
  {
   "cell_type": "markdown",
   "id": "77edeac1-1c4c-419c-9008-5b4993f04146",
   "metadata": {},
   "source": [
    "$\\color{orange} \\large \\textbf{3)}$ (1 point). How much time diversity will we get with the following SISO (time-diversity) channel model $$[y_1 \\; y_2 \\; y_3] = [h_1u_1 \\quad h_2(u_1 + u_2) \\quad h_3u_2] + [w_1 \\; w_2 \\; w_3]$$ where the $u_1,u_2,u_3$ are independent PAM elements. Justify your answer."
   ]
  },
  {
   "cell_type": "markdown",
   "id": "38ebd284-87a4-49ac-858c-13d35bf75fe1",
   "metadata": {},
   "source": [
    "---\n",
    "\n",
    "To determine the **time diversity** in the given channel model:\n",
    "\n",
    "#### Channel Model\n",
    "$[y_1 \\; y_2 \\; y_3] = [h_1u_1 \\quad h_2(u_1 + u_2) \\quad h_3u_2] + [w_1 \\; w_2 \\; w_3],$\n",
    "where $u_1, u_2, u_3$ are independent PAM symbols, $h_1, h_2, h_3$ are the channel coefficients, and $w_1, w_2, w_3$ are noise terms.\n",
    "\n",
    "#### Analysis\n",
    "1. **Definition of Time Diversity**:\n",
    "   - Time diversity is determined by the number of independently faded channel coefficients ($h_1, h_2, h_3$) that affect the transmitted symbols.\n",
    "\n",
    "2. **Observation of Dependencies**:\n",
    "   - $y_1$ depends on $h_1u_1$.\n",
    "   - $y_2$ depends on $h_2(u_1 + u_2)$.\n",
    "   - $y_3$ depends on $h_3u_2$.\n",
    "\n",
    "3. **Diversity Order**:\n",
    "   - $u_1$ is present in both $y_1$ and $y_2$, thus contributing to diversity through $h_1$ and $h_2$.\n",
    "   - $u_2$ is present in both $y_2$ and $y_3$, contributing to diversity through $h_2$ and $h_3$.\n",
    "\n",
    "Since $u_1$ and $u_2$ are affected by two **independent channel coefficients** each, the effective **time diversity order** is:\n",
    "\n",
    "$\\text{Time Diversity Order} = \\min(\\text{number of independent fades per symbol}) = 2.$\n",
    "\n",
    "#### Justification\n",
    "The system achieves a time diversity order of 2 because each transmitted symbol $u_1$ and $u_2$ is observed across two independently faded channels ($h_1, h_2$ for $u_1$; $h_2, h_3$ for $u_2$). The third symbol $u_3$ does not contribute additional diversity as it is only affected by $h_3$."
   ]
  },
  {
   "cell_type": "markdown",
   "id": "cf8b2f33-005f-4eb5-86ef-cd47882ef35b",
   "metadata": {},
   "source": [
    "$\\color{orange} \\large \\textbf{4)}$ (1 point). In a SISO case, what is the degrees of freedom (DOF) if we have a time-diversity code (spanning three channel uses) of the form $\\mathcal{X} = {[u_1 + u_2 \\quad u_1 + u\\_3 \\quad u_2 + u_3]}$ where the $u_1,u_2,u_3,u_4$ are independent 16-PAM elements?"
   ]
  },
  {
   "cell_type": "markdown",
   "id": "03778849-98cf-465d-a47b-0a40acb3dd7c",
   "metadata": {},
   "source": [
    "---\n",
    "\n",
    "To determine the **Degrees of Freedom (DOF)** for the given time-diversity code:\n",
    "\n",
    "#### Code Representation\n",
    "The transmitted codeword over three channel uses is:\n",
    "\n",
    "$\\mathcal{X} = \\begin{bmatrix} u_1 + u_2 & u_1 + u_3 & u_2 + u_3 \\end{bmatrix},$\n",
    "\n",
    "where $u_1, u_2, u_3$ are **independent symbols** from a 16-PAM constellation.\n",
    "\n",
    "#### Degrees of Freedom (DOF)\n",
    "- The **DOF** is the number of **independent information symbols** transmitted across the channel uses.\n",
    "- In this case, $u_1, u_2, u_3$ are independent, and each symbol contributes one degree of freedom.\n",
    "\n",
    "Since the code spans **three channel uses**, the DOF is:\n",
    "\n",
    "$\\text{DOF} = \\frac{\\text{Number of Independent Symbols}}{\\text{Number of Channel Uses}} = \\frac{3}{3} = 1.$\n",
    "\n",
    "#### Final Answer\n",
    "- **DOF**: $1$."
   ]
  },
  {
   "cell_type": "markdown",
   "id": "28576b6a-5407-4136-ba70-7093dcd65f0a",
   "metadata": {},
   "source": [
    "$\\color{orange} \\large \\textbf{5)}$ (1 point). For the case of time diversity in the SISO (quasi-static) fading channel, what is the advantage and the disadvantage of the repetition code, compared to uncoded transmission."
   ]
  },
  {
   "cell_type": "markdown",
   "id": "29e2efca-2887-4f70-9c42-7d5b2f1074ff",
   "metadata": {},
   "source": [
    "---\n",
    "- **Advantage**: Repetition code improves reliability by providing diversity gain, reducing the error probability in fading channels.  \n",
    "- **Disadvantage**: It reduces spectral efficiency by lowering the transmission rate due to redundant transmissions."
   ]
  },
  {
   "cell_type": "markdown",
   "id": "2f326492-4b5d-4c1e-a972-f455248e6a6b",
   "metadata": {},
   "source": [
    "$\\color{orange} \\large \\textbf{6)}$ (1 point). In a SISO case, what is the DOF and the rate (in bpcu), of the following time-diversity code (three channel uses) that takes the form $\\mathcal{X}= {[u_1 + u_4 \\quad u_2 \\quad u_1 + u_2 + u_3]}$ where the $u_1,u_2,u_3,u_4$ are independent 64-QAM elements?"
   ]
  },
  {
   "cell_type": "markdown",
   "id": "9e34b4d2-9577-4c80-8e14-c65f7b694061",
   "metadata": {},
   "source": [
    "---\n",
    "\n",
    "To analyze the **Degrees of Freedom (DOF)** and **rate** for the given time-diversity code:\n",
    "\n",
    "#### Code Representation\n",
    "The transmitted codeword over three channel uses is:\n",
    "\n",
    "$X = \\begin{bmatrix} u_1 + u_4 & u_2 & u_1 + u_2 + u_3 \\end{bmatrix},$\n",
    "\n",
    "where $u_1, u_2, u_3, u_4$ are independent symbols from a 64-QAM constellation.\n",
    "\n",
    "#### 1. **Degrees of Freedom (DOF):**\n",
    "- The **DOF** corresponds to the number of **independent information symbols** transmitted across the given channel uses.\n",
    "- Here, $u_1, u_2, u_3, u_4$ are **independent symbols**, so there are **4 independent symbols** transmitted over **3 channel uses**.\n",
    "\n",
    "$\\text{DOF} = \\frac{\\text{Number of Independent Symbols}}{\\text{Number of Channel Uses}} = \\frac{4}{3}.$\n",
    "\n",
    "#### 2. **Rate (in bpcu):**\n",
    "- Each symbol is from a 64-QAM constellation, which carries $\\log_2(64) = 6$ bits per symbol.\n",
    "- Since 4 symbols are transmitted over 3 channel uses, the rate $R$ is:\n",
    "\n",
    "$R = \\frac{\\text{Total Bits Transmitted}}{\\text{Number of Channel Uses}} = \\frac{4 \\cdot 6}{3} = 8 \\, \\text{bpcu}.$\n",
    "\n",
    "#### Final Answer:\n",
    "- **DOF**: $\\frac{4}{3}$.  \n",
    "- **Rate**: $8 \\, \\text{bpcu}$."
   ]
  },
  {
   "cell_type": "markdown",
   "id": "f65aa064-4f3a-4b96-b20b-f9bece1433b2",
   "metadata": {},
   "source": [
    "$\\color{orange} \\large \\textbf{7)}$ (1 point). Imagine a SISO channel model with correlated fading, where the first fading coefficient (first transmission slot) is $h_1 = h_1^\\prime \\times h_2^\\prime$, and the second fading coefficient (second transmission slot) is $h_2 = h_2^\\prime$, where $h_1^\\prime, h_2^\\prime \\sim i.i.d \\; \\mathbb{C}\\mathcal{N}(0,1)$. What is the maximum diversity we can achieve here?"
   ]
  },
  {
   "cell_type": "code",
   "execution_count": null,
   "id": "b6943f8b-2ae1-4d0d-80ad-97c133e7c1bc",
   "metadata": {},
   "outputs": [],
   "source": []
  },
  {
   "cell_type": "markdown",
   "id": "bd7daba3-5f8c-401a-b6ad-119e9249b45b",
   "metadata": {},
   "source": [
    "$\\color{orange} \\large \\textbf{8)}$ (1 point). Describe the steps of converting a binary vector detection problem over a time diversity fading channel, into a scalar detection problem. Imagine that you are sending BPSK symbols using a repetition code, and consider $\\mathbb{C}\\mathcal{N}(0,N_0)$ noise."
   ]
  },
  {
   "cell_type": "code",
   "execution_count": null,
   "id": "fabeab61-df46-4b7e-9636-a833f5d243dd",
   "metadata": {},
   "outputs": [],
   "source": []
  },
  {
   "cell_type": "markdown",
   "id": "61962e72-02c7-4366-b2d1-5f8260144b71",
   "metadata": {},
   "source": [
    "$\\color{orange} \\large \\textbf{9)}$ (1 point). Consider a deep-space communications scenario, where the received SNR is equal to 20dB. If you assume low rate communications, what do you expect the probability of error to be?"
   ]
  },
  {
   "cell_type": "code",
   "execution_count": null,
   "id": "c8b2fcc9-7249-438b-9660-d55567c34b0e",
   "metadata": {},
   "outputs": [],
   "source": []
  },
  {
   "cell_type": "markdown",
   "id": "e655de2e-682c-4b67-90d5-fb01c3e450b5",
   "metadata": {},
   "source": [
    "$\\color{orange} \\large \\textbf{10)}$ (1 point). What is the approximate coherence time $T_c$ in a typical urban wireless network if you are driving approximately 20 kilometers per hour?"
   ]
  },
  {
   "cell_type": "code",
   "execution_count": null,
   "id": "c23ea2be-9602-4f86-81e5-7936702b49c6",
   "metadata": {},
   "outputs": [],
   "source": []
  },
  {
   "cell_type": "markdown",
   "id": "9a54fe79-49ce-4ddb-a09a-7a65971b0b34",
   "metadata": {},
   "source": [
    "$\\color{orange} \\large \\textbf{11)}$ (1 point). Consider communication over a SISO fading channel with a delay spread of $T_d = 3 \\mu s$ and a signal bandwidth of $W = 1$ MHz.\n",
    " - Write all the received signals, if we only send $x[0]$ and then we stop transmitting."
   ]
  },
  {
   "cell_type": "code",
   "execution_count": null,
   "id": "1cfb2534-7a16-477c-8b51-3886bcb971e6",
   "metadata": {},
   "outputs": [],
   "source": []
  },
  {
   "cell_type": "markdown",
   "id": "2d4aced5-5d91-4b76-a05d-f14f61978f57",
   "metadata": {},
   "source": [
    "$\\color{orange} \\large \\textbf{12)}$ ___(2 points)___. What is the optimal diversity order over a 2×1 MISO channel $h = [h_1 \\; h_2], h_i \\sim i.i.d \\; \\mathbb{C}\\mathcal{N}(0,1)$?\n",
    "- In the same channel as above (again with no time diversity), consider a space time code whose matrices\n",
    "take the form\n",
    "$$\\begin{bmatrix}\n",
    "x_0 & x_1 \\\\\n",
    "x_1 & x_0\n",
    "\\end{bmatrix}\n",
    "$$where the$x_i$ are drawn independently from a QAM constellation. Will this code achieve optimal diversity order? (argue why or why not)\n",
    "- What is the diversity order achieved by the Alamouti code, over this $2 \\times 1$ MISO channel? (again, you\n",
    "can just argue in words)"
   ]
  },
  {
   "cell_type": "code",
   "execution_count": null,
   "id": "dab51e6a-a6f8-4988-b239-9f30d8bd20d5",
   "metadata": {},
   "outputs": [],
   "source": []
  },
  {
   "cell_type": "markdown",
   "id": "4c8b66bd-ce86-4204-ad9d-ae8645d047ea",
   "metadata": {},
   "source": [
    "$\\color{orange}\\large\\textbf{13)}$ ___(EXTRA CREDIT: 2 points)___. Consider a setting where the transmit antenna array has length of 50 cm, the received antenna array has size 20cm, the transmission frequency is 1000 MHz, the signal bandwidth is 1 MHz, the channel coherence time is $T_c = 21$ ms, and the coding duration is $T_{coding} = 7$ms.\n",
    "- How much diversity can you get, in total?"
   ]
  },
  {
   "cell_type": "markdown",
   "id": "3e303163-2804-4b53-8840-d421d70273cb",
   "metadata": {},
   "source": [
    "---\n",
    "\n",
    "To calculate the **total diversity**, we need to consider **spatial diversity**, **frequency diversity**, and **time diversity**. Let’s analyze each component based on the given parameters:\n",
    "\n",
    "#### **1. Spatial Diversity**\n",
    "Spatial diversity depends on the number of independent spatial paths between the transmit and receive antenna arrays, calculated using the formula:\n",
    "$D_{\\text{spatial}} = \\left\\lfloor \\frac{2L_t}{\\lambda} \\right\\rfloor \\cdot \\left\\lfloor \\frac{2L_r}{\\lambda} \\right\\rfloor,$\n",
    "where:\n",
    "- $L_t = 50 \\, \\text{cm} = 0.5 \\, \\text{m}$: Transmit antenna array length,\n",
    "- $L_r = 20 \\, \\text{cm} = 0.2 \\, \\text{m}$: Receive antenna array length,\n",
    "- $\\lambda = \\frac{c}{f}$: Wavelength of the transmitted signal.\n",
    "\n",
    "At $f = 1000 \\, \\text{MHz}$ ($f = 1 \\, \\text{GHz}$):\n",
    "$\\lambda = \\frac{3 \\times 10^8}{1 \\times 10^9} = 0.3 \\, \\text{m}.$\n",
    "\n",
    "Substituting:\n",
    "$D_{\\text{spatial}} = \\left\\lfloor \\frac{2 \\cdot 0.5}{0.3} \\right\\rfloor \\cdot \\left\\lfloor \\frac{2 \\cdot 0.2}{0.3} \\right\\rfloor = \\left\\lfloor 3.33 \\right\\rfloor \\cdot \\left\\lfloor 1.33 \\right\\rfloor = 3 \\cdot 1 = 3.$\n",
    "\n",
    "#### **2. Frequency Diversity**\n",
    "Frequency diversity depends on the relationship between the signal bandwidth ($W$) and the coherence bandwidth ($W_c$). The coherence bandwidth is inversely related to the channel delay spread ($T_d$):\n",
    "$W_c \\approx \\frac{1}{T_d}.$\n",
    "\n",
    "Assuming the coherence bandwidth $W_c$ is smaller than the signal bandwidth $W = 1 \\, \\text{MHz}$, the **frequency diversity** is approximately:\n",
    "$D_{\\text{frequency}} = \\frac{W}{W_c}.$\n",
    "Without explicit $T_d$, assume $W_c \\approx 100 \\, \\text{kHz}$:\n",
    "$D_{\\text{frequency}} \\approx \\frac{1 \\, \\text{MHz}}{100 \\, \\text{kHz}} = 10.$\n",
    "\n",
    "#### **3. Time Diversity**\n",
    "Time diversity depends on the relationship between the **coding duration ($T_{\\text{coding}}$)** and the **channel coherence time ($T_c$)**:\n",
    "$D_{\\text{time}} = \\frac{T_c}{T_{\\text{coding}}}.$\n",
    "\n",
    "Given:\n",
    "$T_c = 21 \\, \\text{ms}, \\quad T_{\\text{coding}} = 7 \\, \\text{ms},$\n",
    "$D_{\\text{time}} = \\frac{21}{7} = 3.$\n",
    "\n",
    "#### **Total Diversity**\n",
    "The total diversity is the product of the individual diversity components:\n",
    "$D_{\\text{total}} = D_{\\text{spatial}} \\cdot D_{\\text{frequency}} \\cdot D_{\\text{time}}.$\n",
    "\n",
    "$\\boxed{D_{\\text{total}} = 3 \\cdot 10 \\cdot 3 = 90}$\n",
    "\n",
    "Here’s the breakdown of the **units** for each diversity component:\n",
    "\n",
    "1. **Spatial Diversity ($D_{\\text{spatial}}$)**:\n",
    "   - **Unitless**: It is a count of independent spatial paths, determined by the number of transmit and receive antenna elements relative to the wavelength.\n",
    "\n",
    "2. **Frequency Diversity ($D_{\\text{frequency}}$)**:\n",
    "   - **Unitless**: It represents the ratio of signal bandwidth ($W$) to coherence bandwidth ($W_c$), which both have units of Hz, making the ratio unitless.\n",
    "\n",
    "3. **Time Diversity ($D_{\\text{time}}$)**:\n",
    "   - **Unitless**: It is the ratio of channel coherence time ($T_c$) to coding duration ($T_{\\text{coding}}$), both measured in seconds, so the ratio is unitless.\n",
    "\n",
    "#### Summary:\n",
    "All diversity components—spatial, frequency, and time—are **unitless** because they are ratios or counts, and the **total diversity** is also unitless."
   ]
  },
  {
   "cell_type": "code",
   "execution_count": null,
   "id": "0ea74a44-17c0-4a8d-b889-53fb3d56a86d",
   "metadata": {},
   "outputs": [],
   "source": []
  }
 ],
 "metadata": {
  "kernelspec": {
   "display_name": "Julia 1.11.1",
   "language": "julia",
   "name": "julia-1.11"
  },
  "language_info": {
   "file_extension": ".jl",
   "mimetype": "application/julia",
   "name": "julia",
   "version": "1.11.1"
  }
 },
 "nbformat": 4,
 "nbformat_minor": 5
}
