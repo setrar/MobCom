{
 "cells": [
  {
   "cell_type": "markdown",
   "id": "50e96b3b-dd90-432d-9d56-14e98897b4a1",
   "metadata": {},
   "source": [
    "| Mobile Communication Techniques |\n",
    "|:-:|\n",
    "| Petros Elia, elia@eurecom.fr | \n",
    "| Midterm Exam |\n",
    "| November 21st, 2024 |\n",
    "| Time: 9:00-10:00 |"
   ]
  },
  {
   "cell_type": "markdown",
   "id": "01a3fb0d-7e8d-4917-82aa-fba80c0e4794",
   "metadata": {},
   "source": [
    "$$\\text{Instructions}$$\n",
    "\n",
    "- Exercises fall in categories of 1-point and 2-point exercises.\n",
    "- Total of 11 ×1 + 2 ×2 = 15 points.\n",
    "- NOTE!!! The exam will be evaluated, out of 13 points. Any points you get beyond 13 points, will be offered as extra bonus.\n",
    "  \n",
    "- Each answer should be clearly written, and the solution should be developed in detail.\n",
    "- Mathematical derivations need to show all steps that lead to the answer.\n",
    "- Complete as many exercises as you can. Don’t spend too much time on an individual question.\n",
    "- There is NO penalty for incorrect solutions.\n",
    "- If in certain cases you are unable to provide rigorous mathematical proofs, go ahead and provide intuitive\n",
    "justification of your answers. Partial credit will be given.\n",
    "- Calculators are not allowed.\n",
    "- You are allowed your class notes and class book.\n",
    "\n",
    "$$\\text{Hints - equations - conventions:}$$\n",
    "\n",
    "- Notation\n",
    "    - SISO = single-input single-output, MISO = multiple-input single-output, SIMO = single-input multiple-\n",
    "    output, MIMO = single-input multiple-output,\n",
    "    - $R$ represents the rate of communication in bits per channel use (b.p.c.u),\n",
    "    - $\\rho$ represents the SNR (signal to noise ratio),\n",
    "    - $w$ will denote additive noise which will be distributed as a circularly symmetric Gaussian random variable $\\mathbb{C}\\mathcal{N}(0,N_0)$. If $N_0$ is not specified, then set $N_0 = 1$,\n",
    "    - $h_i$ will denote independent fading scalar coefficients which will be distributed as circularly symmetric Gaussian random variables  $\\mathbb{C}\\mathcal{N}(0,1)$.\n",
    "- GOOD LUCK!!"
   ]
  },
  {
   "cell_type": "markdown",
   "id": "0bc7e3da-ca31-4f63-9fcf-db2f41b7e0a7",
   "metadata": {},
   "source": [
    "$\\color{orange} \\large \\textbf{1)}$ (1 point). In a multi-path fading scenario with delay spread $6\\mu s$ and $L = 3$ channel taps, what is the operational bandwidth $W$?\n"
   ]
  },
  {
   "cell_type": "markdown",
   "id": "8b5aac14-74a7-476e-8aea-1257cfd30cc8",
   "metadata": {},
   "source": [
    "### **Answer**:\n",
    "Given $\\tau_d = 6 \\, \\mu s$ and $L = 3$:\n",
    "- Coherence bandwidth: $B_c \\approx \\frac{1}{\\tau_d} = \\frac{1}{6 \\times 10^{-6}} \\approx 166.67 \\, \\text{kHz}$.\n",
    "- Operational bandwidth: $W \\approx L \\cdot B_c  = 3 \\cdot 166.67 = 500 \\, \\text{kHz}$.\n",
    "\n",
    "$\\boxed{W = 500 \\, \\text{kHz}}$\n"
   ]
  },
  {
   "cell_type": "markdown",
   "id": "4ca16cbd-0493-43c6-be95-f062b9d7c661",
   "metadata": {},
   "source": [
    "$\\color{orange} \\large \\textbf{2)}$ (1 point). Imagine a given SNR equal to $\\rho$, and imagine that we are operating over a (quasi-static) Rayleigh fading SISO channel. Can you describe a code that achieves probability of error approximately equal to $P_e \\approx \\rho^{−4}$, and rate equal to $R = 2$ bpcu."
   ]
  },
  {
   "cell_type": "markdown",
   "id": "5f4d22f3-cae7-4867-8fbe-f8e48832033d",
   "metadata": {},
   "source": [
    "---\n",
    "##### **Solution 1: Repetition Code (256-QAM)**\n",
    "- **Modulation**: 256-QAM (8 bits/symbol)  \n",
    "- **Code**: Repetition factor = 4 (diversity order = 4)  \n",
    "- **Rate**: $R = \\frac{8}{4} = 2 \\, \\text{bpcu}$  \n",
    "- **Error Probability**: $P_e \\approx \\rho^{-4}$  \n",
    "- **Complexity**: High due to 256-QAM\n",
    "\n",
    "##### **Solution 2: Rotated Code (4-QAM)**  \n",
    "- **Modulation**: 4-QAM (2 bits/symbol)  \n",
    "- **Code**: Rotated constellation across 4 time slots (diversity order = 4)  \n",
    "- **Rate**: $R = 2 \\, \\text{bpcu}$  \n",
    "- **Error Probability**: $P_e \\approx \\rho^{-4}$  \n",
    "- **Complexity**: Lower due to 4-QAM  \n",
    "\n",
    "##### **Comparison**\n",
    "\n",
    "| Feature            | Solution 1: Repetition Code (256-QAM) | Solution 2: Rotated Code (4-QAM)         |\n",
    "|--------------------|----------------------------------------|-------------------------------------------|\n",
    "| Modulation         | 256-QAM (8 bits/symbol)               | 4-QAM (2 bits/symbol)                     |\n",
    "| Code Type          | Repetition code                       | Rotated time-diversity code               |\n",
    "| Diversity Order    | 4                                      | 4                                         |\n",
    "| Rate               | 2 bpcu                                | 2 bpcu                                    |\n",
    "| Error Probability  | $P_e \\approx \\rho^{-4}$           | $P_e \\approx \\rho^{-4}$               |\n",
    "| Complexity         | Higher decoding complexity             | Lower decoding complexity                 |\n",
    "\n",
    "\n",
    "Both solutions achieve **rate = 2 bpcu** and **diversity order 4**, but the rotated 4-QAM code offers **lower complexity**.\n",
    "\n",
    "#### Note:\n",
    "- Alamouti Code: Closely related to Solution 2 but typically designed for MIMO (2 transmit antennas).\n",
    "- 4-Dimensional Lattice Code: Matches Solution 2 with rotation and symbol spreading across multiple time slots. This solution achieves diversity order 4, fitting the requirement perfectly.\n",
    "\n",
    "##### **Diversity Order Overview**\n",
    "\n",
    "- **Definition**:  \n",
    "  The number of independent signal paths used to combat fading. Error probability decreases as $P_e \\approx \\rho^{-d}$, where $d$ is the **diversity order**.\n",
    "\n",
    "###### **Types of Diversity**\n",
    "1. **Time Diversity**: Transmit symbols across different time slots (e.g., repetition coding).  \n",
    "2. **Frequency Diversity**: Transmit across multiple frequencies (e.g., OFDM).  \n",
    "3. **Space Diversity**: Use multiple antennas (e.g., Alamouti code, MIMO).  \n",
    "4. **Code Diversity**: Spread symbol components across independent channels (e.g., rotated lattice codes).\n",
    "\n",
    "###### **Impact**  \n",
    "- **Higher diversity order** reduces the likelihood of deep fades and improves error performance:  \n",
    "$P_e \\propto \\rho^{-d}$\n",
    "\n",
    "###### **Examples**\n",
    "1. **Diversity Order 1**: SISO, $P_e \\propto \\rho^{-1}$.  \n",
    "2. **Order 2**: Alamouti code with 2 antennas, $P_e \\propto \\rho^{-2}$.  \n",
    "3. **Order 4**: Rotated 4-QAM or repetition with 4 paths, $P_e \\propto \\rho^{-4}$.  \n",
    "\n",
    "Higher diversity increases resilience against fading."
   ]
  },
  {
   "cell_type": "markdown",
   "id": "77edeac1-1c4c-419c-9008-5b4993f04146",
   "metadata": {},
   "source": [
    "$\\color{orange} \\large \\textbf{3)}$ (1 point). How much time diversity will we get with the following SISO (time-diversity) channel model $$[y_1 \\; y_2 \\; y_3] = [h_1u_1 \\quad h_2(u_1 + u_2) \\quad h_3u_2] + [w_1 \\; w_2 \\; w_3]$$ where the $u_1,u_2,u_3$ are independent PAM elements. Justify your answer."
   ]
  },
  {
   "cell_type": "markdown",
   "id": "38ebd284-87a4-49ac-858c-13d35bf75fe1",
   "metadata": {},
   "source": [
    "---\n",
    "\n",
    "To determine the **time diversity** in the given channel model:\n",
    "\n",
    "##### Channel Model\n",
    "$[y_1 \\; y_2 \\; y_3] = [h_1u_1 \\quad h_2(u_1 + u_2) \\quad h_3u_2] + [w_1 \\; w_2 \\; w_3],$\n",
    "where $u_1, u_2, u_3$ are independent PAM symbols, $h_1, h_2, h_3$ are the channel coefficients, and $w_1, w_2, w_3$ are noise terms.\n",
    "\n",
    "##### Analysis\n",
    "1. **Definition of Time Diversity**:\n",
    "   - Time diversity is determined by the number of independently faded channel coefficients ($h_1, h_2, h_3$) that affect the transmitted symbols.\n",
    "\n",
    "2. **Observation of Dependencies**:\n",
    "   - $y_1$ depends on $h_1u_1$.\n",
    "   - $y_2$ depends on $h_2(u_1 + u_2)$.\n",
    "   - $y_3$ depends on $h_3u_2$.\n",
    "\n",
    "3. **Diversity Order**:\n",
    "   - $u_1$ is present in both $y_1$ and $y_2$, thus contributing to diversity through $h_1$ and $h_2$.\n",
    "   - $u_2$ is present in both $y_2$ and $y_3$, contributing to diversity through $h_2$ and $h_3$.\n",
    "\n",
    "Since $u_1$ and $u_2$ are affected by two **independent channel coefficients** each, the effective **time diversity order** is:\n",
    "\n",
    "$\\text{Time Diversity Order} = \\min(\\text{number of independent fades per symbol}) = \\boxed{2}.$\n",
    "\n",
    "##### Justification\n",
    "The system achieves a time diversity order of 2 because each transmitted symbol $u_1$ and $u_2$ is observed across two independently faded channels ($h_1, h_2$ for $u_1$; $h_2, h_3$ for $u_2$). The third symbol $u_3$ does not contribute additional diversity as it is only affected by $h_3$."
   ]
  },
  {
   "cell_type": "markdown",
   "id": "cf8b2f33-005f-4eb5-86ef-cd47882ef35b",
   "metadata": {},
   "source": [
    "$\\color{orange} \\large \\textbf{4)}$ (1 point). In a SISO case, what is the degrees of freedom (DOF) if we have a time-diversity code (spanning three channel uses) of the form $\\mathcal{X} = {[u_1 + u_2 \\quad u_1 + u\\_3 \\quad u_2 + u_3]}$ where the $u_1,u_2,u_3,u_4$ are independent 16-PAM elements?"
   ]
  },
  {
   "cell_type": "markdown",
   "id": "d54d339a-80cc-4478-a36e-fef485abed95",
   "metadata": {},
   "source": [
    "---\n",
    "##### **Step 1: Code Setup**\n",
    "The time-diversity code is:\n",
    "\n",
    "$\\mathcal{X} = [u_1 + u_2, \\quad u_1 + u_3, \\quad u_2 + u_3]$\n",
    "\n",
    "- $u_1, u_2, u_3, u_4$ are **independent complex numbers** from **16-PAM**, meaning each has a **real** and **imaginary** part.\n",
    "- Since we are now counting **only the real part**, each complex symbol contributes **1 real degree of freedom**.\n",
    "\n",
    "##### **Step 2: Apply the Formula**\n",
    "The formula is:\n",
    "\n",
    "$\\text{DOF} = \\min\\left( \\frac{\\text{\\# of real symbols}}{T}, n_t \\right)$\n",
    "\n",
    "- **# of real symbols**: There are **3 complex symbols**, each contributing **1 real part**. So, the number of real symbols is **3**.\n",
    "- **$T$**: Number of channel uses = 3\n",
    "- **$n_t$**: Number of transmit antennas = 1 (SISO)\n",
    "\n",
    "Calculate:\n",
    "\n",
    "$\\text{DOF} = \\min\\left( \\frac{3}{3}, 1 \\right) = \\min(1, 1) = 1$\n",
    "\n",
    "##### **Step 3: Adjust DOF for Real Parts Only**\n",
    "\n",
    "Since we are counting only the **real parts**, the effective real DOF per channel use is:\n",
    "\n",
    "$\\text{Real DOF per channel use} = \\frac{1}{2} \\, \\text{(since each complex DOF is split between real and imaginary parts)}$\n",
    "\n",
    "##### **Final Answer:**\n",
    "\n",
    "The **real degrees of freedom (DOF)** per channel use in this time-diversity SISO code is:\n",
    "\n",
    "$\\boxed{\\frac{1}{2} \\, \\text{real DOF per channel use}}$\n"
   ]
  },
  {
   "cell_type": "markdown",
   "id": "28576b6a-5407-4136-ba70-7093dcd65f0a",
   "metadata": {},
   "source": [
    "$\\color{orange} \\large \\textbf{5)}$ (1 point). For the case of time diversity in the SISO (quasi-static) fading channel, what is the advantage and the disadvantage of the repetition code, compared to uncoded transmission."
   ]
  },
  {
   "cell_type": "markdown",
   "id": "29e2efca-2887-4f70-9c42-7d5b2f1074ff",
   "metadata": {},
   "source": [
    "---\n",
    "- **Advantage**: Repetition code improves reliability by providing diversity gain, reducing the error probability in fading channels.  \n",
    "- **Disadvantage**: It reduces spectral efficiency by lowering the transmission rate due to redundant transmissions."
   ]
  },
  {
   "cell_type": "markdown",
   "id": "2f326492-4b5d-4c1e-a972-f455248e6a6b",
   "metadata": {},
   "source": [
    "$\\color{orange} \\large \\textbf{6)}$ (1 point). In a SISO case, what is the DOF and the rate (in bpcu), of the following time-diversity code (three channel uses) that takes the form $\\mathcal{X}= {[u_1 + u_4 \\quad u_2 \\quad u_1 + u_2 + u_3]}$ where the $u_1,u_2,u_3,u_4$ are independent 64-QAM elements?"
   ]
  },
  {
   "cell_type": "markdown",
   "id": "9e34b4d2-9577-4c80-8e14-c65f7b694061",
   "metadata": {},
   "source": [
    "---\n",
    "\n",
    "To analyze the **Degrees of Freedom (DOF)** and **rate** for the given time-diversity code:\n",
    "\n",
    "##### Code Representation\n",
    "The transmitted codeword over three channel uses is:\n",
    "\n",
    "$X = \\begin{bmatrix} u_1 + u_4 & u_2 & u_1 + u_2 + u_3 \\end{bmatrix},$\n",
    "\n",
    "where $u_1, u_2, u_3, u_4$ are independent symbols from a 64-QAM constellation.\n",
    "\n",
    "##### 1. **Degrees of Freedom (DOF):**\n",
    "- The **DOF** corresponds to the number of **independent information symbols** transmitted across the given channel uses.\n",
    "- Here, $u_1, u_2, u_3, u_4$ are **independent symbols**, so there are **4 independent symbols** transmitted over **3 channel uses**.\n",
    "\n",
    "$\\text{DOF} = \\frac{\\text{Number of Independent Symbols}}{\\text{Number of Channel Uses}} = \\boxed{\\frac{4}{3}}.$\n",
    "\n",
    "##### 2. **Rate (in bpcu):**\n",
    "- Each symbol is from a 64-QAM constellation, which carries $\\log_2(64) = 6$ bits per symbol.\n",
    "- Since 4 symbols are transmitted over 3 channel uses, the rate $R$ is:\n",
    "\n",
    "$R = \\frac{\\text{Total Bits Transmitted}}{\\text{Number of Channel Uses}} = \\frac{4}{3}  \\cdot 6 = \\boxed{ 8 \\, \\text{bpcu}}.$\n",
    "\n",
    "When applying:\n",
    "\n",
    "- **$n_t$**: Number of transmit antennas = 1 (SISO)\n",
    "\n",
    "$\\text{DOF} = \\min\\left( \\frac{\\text{Number of Independent Symbols}}{\\text{Number of Channel Uses}}, n_t \\right) = \\min\\left( \\frac{4}{3}, 1 \\right)$ the answer is $\\boxed{1}$\n"
   ]
  },
  {
   "cell_type": "markdown",
   "id": "f65aa064-4f3a-4b96-b20b-f9bece1433b2",
   "metadata": {},
   "source": [
    "$\\color{orange} \\large \\textbf{7)}$ (1 point). Imagine a SISO channel model with correlated fading, where the first fading coefficient (first transmission slot) is $h_1 = h_1^\\prime \\times h_2^\\prime$, and the second fading coefficient (second transmission slot) is $h_2 = h_2^\\prime$, where $h_1^\\prime, h_2^\\prime \\sim i.i.d \\; \\mathbb{C}\\mathcal{N}(0,1)$. What is the maximum diversity we can achieve here?"
   ]
  },
  {
   "cell_type": "markdown",
   "id": "3b417646-88dc-4ca6-8207-682dd645e848",
   "metadata": {},
   "source": [
    "##### Maximum Diversity:\n",
    "- Fading coefficients: $h_1 = h_1' \\cdot h_2'$ and $h_2 = h_2'$.\n",
    "- Independent components: $h_1'$ and $h_2'$ ($\\mathbb{C}\\mathcal{N}(0,1)$, i.i.d.).\n",
    "- **Diversity order** = Number of independent fading coefficients = $\\boxed{2}$.\n",
    "\n",
    "##### Note:\n",
    "- If $h_2'$ is bad everything is bad"
   ]
  },
  {
   "cell_type": "markdown",
   "id": "bd7daba3-5f8c-401a-b6ad-119e9249b45b",
   "metadata": {},
   "source": [
    "$\\color{orange} \\large \\textbf{8)}$ (1 point). Describe the steps of converting a binary vector detection problem over a time diversity fading channel, into a scalar detection problem. Imagine that you are sending BPSK symbols using a repetition code, and consider $\\mathbb{C}\\mathcal{N}(0,N_0)$ noise."
   ]
  },
  {
   "cell_type": "markdown",
   "id": "9c16c0a2-7444-4702-989c-4447fbbe1cf2",
   "metadata": {},
   "source": [
    "---\n",
    "##### **Steps to Convert to Real Scalar Detection**\n",
    "\n",
    "1. **Received signal model**:  \n",
    "$y_i = h_i x + n_i, \\quad n_i \\sim \\mathbb{C}\\mathcal{N}(0, N_0)$\n",
    "\n",
    "2. **Combine the signals** using maximum ratio combining (MRC):  \n",
    "$y_{\\text{combined}} = \\sum_{i=1}^{T} h_i^* y_i = \\sum_{i=1}^{T} |h_i|^2 x + \\sum_{i=1}^{T} h_i^* n_i$\n",
    "\n",
    "3. **Take the real part**:  \n",
    "$\\tilde{y} = \\text{Re}(y_{\\text{combined}}) = \\tilde{h} x + \\tilde{n}, \\quad \\tilde{n} \\sim \\mathcal{N}(0, N_0 \\tilde{h})$\n",
    "\n",
    "4. **Decision rule**:  \n",
    "$\\boxed{\\hat{x} = \\begin{cases} +1, & \\text{if } \\tilde{y} > 0 \\\\ -1, & \\text{if } \\tilde{y} < 0 \\end{cases}}$\n",
    "\n",
    "This reduces the vector detection problem to **real scalar detection**."
   ]
  },
  {
   "cell_type": "markdown",
   "id": "61962e72-02c7-4366-b2d1-5f8260144b71",
   "metadata": {},
   "source": [
    "$\\color{orange} \\large \\textbf{9)}$ (1 point). Consider a deep-space communications scenario, where the received SNR is equal to 20dB. If you assume low rate communications, what do you expect the probability of error to be?"
   ]
  },
  {
   "cell_type": "markdown",
   "id": "32d8a31a-b0ed-45f9-9d10-57eb6cf585d6",
   "metadata": {},
   "source": [
    "##### **Step 1: Common Error Probability Expressions**\n",
    "In certain cases, especially for large SNR in low-rate communication systems, error probability takes the form of:\n",
    "\n",
    "$P_e \\approx e^{-\\gamma \\cdot \\text{SNR}}$\n",
    "\n",
    "Here:\n",
    "- $\\gamma$ depends on the modulation scheme and coding structure.\n",
    "- This approximation is typical for systems with **diversity**, **strong coding**, or under certain approximations (e.g., union bounds for coded error probabilities).\n",
    "\n",
    "##### **Step 2: When Does $e^{-\\text{SNR}}$ Apply?**\n",
    "1. **Coded Systems**:  \n",
    "   For strong error-correcting codes, the probability of error often decreases exponentially with SNR:\n",
    "   \n",
    "$P_e \\approx e^{-\\text{coding gain} \\cdot \\text{SNR}}$\n",
    "\n",
    "2. **Uncoded BPSK in AWGN**:  \n",
    "   The **bit error probability** for uncoded BPSK in AWGN is:\n",
    "$P_b = Q\\left(\\sqrt{2 \\cdot \\text{SNR}}\\right)$\n",
    "\n",
    "   For large SNR, using $Q(x) \\approx \\frac{1}{\\sqrt{2\\pi} x} e^{-\\frac{x^2}{2}}$: $P_b \\approx \\frac{1}{\\sqrt{2\\pi} \\cdot \\sqrt{2 \\cdot \\text{SNR}}} \\, e^{-\\text{SNR}}$\n",
    "\n",
    "##### **Step 3: Deep-Space Scenario**\n",
    "In deep-space communications with **low-rate transmission**, **coding** and **interleaving** are critical for reliability. In such scenarios, error probability can behave as:\n",
    "$P_e \\approx e^{-\\text{SNR}}$\n",
    "\n",
    "This results from:\n",
    "1. **Effective coding gain**, which leads to rapid error decay.\n",
    "2. **Low-rate transmissions** (few bits per channel use), allowing strong robustness against noise.\n",
    "\n",
    "##### **Step 4: Application**\n",
    "Given **SNR = 20 dB** (or $\\text{SNR} = 100$ in linear scale), if:\n",
    "\n",
    "- **SNR in Linear Scale**: Convert $20 \\, \\text{dB}$ to linear scale:\n",
    "$\\boxed{\\text{SNR}_{\\text{linear}} = 10^{\\frac{\\text{SNR}_{\\text{dB}}}{10}} = 10^{\\frac{20}{10}} = 100}.$\n",
    "\n",
    "- The **probability of error** is extremely small:\n",
    "$\\boxed{P_e \\approx e^{-\\text{SNR}} = e^{-100} \\approx 3.72 \\times 10^{-44}}$\n",
    "\n",
    "This is consistent with the extremely low error probabilities observed in such scenarios.\n",
    "\n",
    "##### **Final Summary:**\n",
    "\n",
    "- In deep-space communication with low-rate coding, the error probability often follows an **exponential decay** form:\n",
    "  $P_e \\approx e^{-\\text{SNR}}$\n",
    "- For **SNR = 20 dB (100 linear)**, $P_e \\approx e^{-100}$, giving an extremely small error probability, which aligns with robust, low-error communications in space missions.\n",
    "- In deep-space communication with high SNR and low rate, errors are nearly negligible."
   ]
  },
  {
   "cell_type": "markdown",
   "id": "e655de2e-682c-4b67-90d5-fb01c3e450b5",
   "metadata": {},
   "source": [
    "$\\color{orange} \\large \\textbf{10)}$ (1 point). What is the approximate coherence time $T_c$ in a typical urban wireless network if you are driving approximately 20 kilometers per hour?"
   ]
  },
  {
   "cell_type": "markdown",
   "id": "e34fa4df-6071-4896-b095-1276baf8bfda",
   "metadata": {},
   "source": [
    "---\n",
    "\n",
    "To estimate the **coherence time** $T_c$ in a typical urban wireless network, we use the following formula: $T_c \\approx \\frac{1}{f_d},$ where $f_d$ is the **Doppler spread** given by $f_d = \\frac{v}{\\lambda} = \\frac{v \\cdot f_c}{c}.$\n",
    "\n",
    "##### **1. Given Parameters**:\n",
    "- Speed: $v = 20 \\, \\text{km/h} = \\frac{20 \\times 1000}{3600} = 5.56 \\, \\text{m/s}$,\n",
    "- Carrier frequency: $f_c = 2 \\, \\text{GHz} = 2 \\times 10^9 \\, \\text{Hz}$ (assumed typical urban value),\n",
    "- Speed of light: $c = 3 \\times 10^8 \\, \\text{m/s}$.\n",
    "\n",
    "##### **2. Doppler Spread**:\n",
    "$f_d = \\frac{v \\cdot f_c}{c} = \\frac{5.56 \\cdot 2 \\times 10^9}{3 \\times 10^8} = 37.1 \\, \\text{Hz}.$\n",
    "\n",
    "##### **3. Coherence Time**:\n",
    "$T_c \\approx \\frac{1}{f_d} = \\frac{1}{37.1} \\approx 0.027 \\, \\text{seconds} = 27 \\, \\text{ms}.$\n",
    "\n",
    "The approximate coherence time is: $\\boxed{27 \\, \\text{ms}}.$\n"
   ]
  },
  {
   "cell_type": "markdown",
   "id": "9a54fe79-49ce-4ddb-a09a-7a65971b0b34",
   "metadata": {},
   "source": [
    "$\\color{orange} \\large \\textbf{11)}$ (1 point). Consider communication over a SISO fading channel with a delay spread of $T_d = 3 \\mu s$ and a signal bandwidth of $W = 1$ MHz.\n",
    " - Write all the received signals, if we only send $x[0]$ and then we stop transmitting."
   ]
  },
  {
   "cell_type": "markdown",
   "id": "d8497a12-c85b-40a9-8e72-d5bdc4cc6050",
   "metadata": {},
   "source": [
    "---\n",
    "\n",
    "To analyze this scenario, we need to consider the **SISO fading channel** with a **delay spread** $T_d = 3 \\, \\mu s$ and a signal bandwidth $W = 1 \\, \\text{MHz}$. The delay spread indicates the multipath environment, meaning the transmitted signal will arrive at the receiver through multiple delayed and scaled copies.\n",
    "\n",
    "##### **1. Transmitted Signal**:\n",
    "- Only $x[0]$ is transmitted, then the transmission stops. Thus:\n",
    "$x[n] = \\begin{cases} x[0], & \\text{if } n = 0, \\\\ 0, & \\text{if } n \\neq 0. \\end{cases}$\n",
    "\n",
    "##### **2. Received Signal**:\n",
    "The received signal is the convolution of the transmitted signal $x[n]$ with the channel impulse response $h(t)$:\n",
    "$y[n] = h[n] \\ast x[n].$\n",
    "\n",
    "- The **channel impulse response** $h(t)$ is a sum of $L$ multipath components:\n",
    "$h(t) = \\sum_{l=0}^{L-1} h_l \\delta(t - \\tau_l),$\n",
    "  where:\n",
    "  - $h_l$: Fading coefficient for the $l$-th path ($h_l \\sim \\mathcal{CN}(0, 1)$),\n",
    "  - $\\tau_l$: Delay of the $l$-th path ($0 \\leq \\tau_l \\leq T_d$).\n",
    "\n",
    "- With $T_d = 3 \\, \\mu s$, the maximum delay is $3 \\, \\mu s$, corresponding to $L \\approx W \\cdot T_d = 1 \\, \\text{MHz} \\cdot 3 \\, \\mu s = \\boxed{ 3 }$ significant paths.\n",
    "\n",
    "##### **3. Writing the Received Signals**:\n",
    "For $x[0]$ transmitted:\n",
    "- The received signal $y[n]$ consists of $L$ delayed copies of $x[0]$, weighted by the fading coefficients $h_l$:\n",
    "$y[0] = h_0 x[0],$\n",
    "$y[1] = h_1 x[0],$\n",
    "$y[2] = h_2 x[0].$\n",
    "- For $n > 2$, no further contributions occur, as $\\tau_l \\leq T_d$.\n",
    "\n",
    "Thus:\n",
    "$y[n] = \\boxed{ \\begin{cases} h_0 x[0], & n = 0, \\\\ h_1 x[0], & n = 1, \\\\ h_2 x[0], & n = 2, \\\\ 0, & n > 2. \\end{cases}}$\n",
    "\n",
    "##### **Final Answer**:\n",
    "The received signals are:\n",
    "$y[0] = h_0 x[0], \\quad y[1] = h_1 x[0], \\quad y[2] = h_2 x[0], \\quad y[n] = 0 \\, \\text{for } n > 2.$\n"
   ]
  },
  {
   "cell_type": "markdown",
   "id": "2d4aced5-5d91-4b76-a05d-f14f61978f57",
   "metadata": {},
   "source": [
    "$\\color{orange} \\large \\textbf{12)}$ ___(2 points)___. What is the optimal diversity order over a 2×1 MISO channel $h = [h_1 \\; h_2], h_i \\sim i.i.d \\; \\mathbb{C}\\mathcal{N}(0,1)$?\n",
    "- In the same channel as above (again with no time diversity), consider a space time code whose matrices\n",
    "take the form\n",
    "$$\\begin{bmatrix}\n",
    "x_0 & x_1 \\\\\n",
    "x_1 & x_0\n",
    "\\end{bmatrix}\n",
    "$$where the$x_i$ are drawn independently from a QAM constellation. Will this code achieve optimal diversity order? (argue why or why not)\n",
    "- What is the diversity order achieved by the Alamouti code, over this $2 \\times 1$ MISO channel? (again, you\n",
    "can just argue in words)"
   ]
  },
  {
   "cell_type": "markdown",
   "id": "b1a73aa0-09e1-4bc7-9697-4fd00010fa55",
   "metadata": {},
   "source": [
    "---\n",
    "\n",
    "##### **1. Optimal Diversity Order in a $2 \\times 1$ MISO Channel**\n",
    "In a $2 \\times 1$ MISO channel, the **diversity order** is equal to the number of independent fading paths, which corresponds to the number of transmit antennas ($N_t = 2$) when there is 1 receive antenna.  \n",
    "Thus, the **optimal diversity order** is:\n",
    "$\\boxed{2}.$\n",
    "\n",
    "##### **2. Diversity Order of the Given Space-Time Code**\n",
    "The given code matrix is:\n",
    "$\\mathbf{X} = \\begin{bmatrix} x_0 & x_1 \\\\ x_1 & x_0 \\end{bmatrix},$\n",
    "where $x_0$ and $x_1$ are independent QAM symbols.\n",
    "\n",
    "###### **Key Analysis**:\n",
    "- **Rank Criterion**: For a space-time code to achieve full diversity, the difference between any two distinct code matrices $\\mathbf{X}_1$ and $\\mathbf{X}_2$ must result in a matrix of full rank.\n",
    "- For this code:\n",
    "$\\Delta\\mathbf{X} = \\mathbf{X}_1 - \\mathbf{X}_2 = \\begin{bmatrix} x_{01} - x_{02} & x_{11} - x_{12} \\\\ x_{11} - x_{12} & x_{01} - x_{02} \\end{bmatrix}.$\n",
    "  - The rows of $\\Delta\\mathbf{X}$ are **linearly dependent** because the two rows are identical. This means $\\Delta\\mathbf{X}$ is **not full rank**.\n",
    "\n",
    "###### **Conclusion**:\n",
    "This code does **not achieve the optimal diversity order**, as it does not satisfy the rank criterion for full diversity.\n",
    "\n",
    "##### **3. Diversity Order of the Alamouti Code**\n",
    "The Alamouti code for a $2 \\times 1$ MISO channel is:\n",
    "$\\mathbf{X}_{\\text{Alamouti}} = \\begin{bmatrix} x_0 & -x_1^* \\\\ x_1 & x_0^* \\end{bmatrix}.$\n",
    "\n",
    "###### **Key Features**:\n",
    "- The Alamouti code satisfies the **rank criterion**, ensuring that $\\Delta\\mathbf{X} = \\mathbf{X}_1 - \\mathbf{X}_2$ is always full rank for distinct codewords $\\mathbf{X}_1$ and $\\mathbf{X}_2$.\n",
    "- Each transmitted symbol experiences the full diversity of the channel, as it leverages both transmit antennas.\n",
    "\n",
    "###### **Conclusion**:\n",
    "The Alamouti code achieves the **optimal diversity order of 2** over the $2 \\times 1$ MISO channel.\n",
    "\n",
    "##### **Final Answers**:\n",
    "1. Optimal diversity order in $2 \\times 1$ MISO: $\\boxed{2}$.\n",
    "2. Given space-time code: **Does not achieve optimal diversity order** due to $\\boxed{\\text{lack of full-rank}}$ property.\n",
    "3. Alamouti code: **Achieves optimal diversity order of $\\boxed{2}$**."
   ]
  },
  {
   "cell_type": "markdown",
   "id": "4c8b66bd-ce86-4204-ad9d-ae8645d047ea",
   "metadata": {},
   "source": [
    "$\\color{orange}\\large\\textbf{13)}$ ___(EXTRA CREDIT: 2 points)___. Consider a setting where the transmit antenna array has length of 50 cm, the received antenna array has size 20cm, the transmission frequency is 1000 MHz, the signal bandwidth is 1 MHz, the channel coherence time is $T_c = 21$ ms, and the coding duration is $T_{coding} = 7$ms.\n",
    "- How much diversity can you get, in total?"
   ]
  },
  {
   "cell_type": "markdown",
   "id": "3e303163-2804-4b53-8840-d421d70273cb",
   "metadata": {},
   "source": [
    "##### **Explanation for selecting Space Diversity**\n",
    "\n",
    "1. **Only Space Diversity is usable**:\n",
    "   - **Time diversity**: Not applicable since $T_{coding} = 7 \\, \\text{ms}$ is much shorter than $T_c = 21 \\, \\text{ms}$, so the channel does not change significantly.\n",
    "   - **Frequency diversity**: Not effective as the bandwidth (1 MHz) is within the coherence bandwidth.\n",
    "\n",
    "2. **Calculate Space Diversity**:\n",
    "   - **Wavelength**: $\\lambda = 0.3 \\, \\text{m}$ (at 1000 MHz)\n",
    "   - **Antenna Spacing**: $d = \\frac{\\lambda}{2} = 0.15 \\, \\text{m}$\n",
    "   - **Transmit Array**:  \n",
    "     $n_t = \\frac{50 \\, \\text{cm}}{15 \\, \\text{cm}} \\approx 4$\n",
    "   - **Receive Array**:  \n",
    "     $n_r = \\frac{20 \\, \\text{cm}}{15 \\, \\text{cm}} \\approx 3$\n",
    "\n",
    "3. **Total Space Diversity**:\n",
    "$\\text{Space diversity} = n_t \\times n_r = 4 \\times 3 = 12$\n",
    "\n",
    "##### **Final Answer**:  \n",
    "$\\boxed{\\text{diversity} = 12}$"
   ]
  }
 ],
 "metadata": {
  "kernelspec": {
   "display_name": "Julia 1.11.3",
   "language": "julia",
   "name": "julia-1.11"
  },
  "language_info": {
   "file_extension": ".jl",
   "mimetype": "application/julia",
   "name": "julia",
   "version": "1.11.3"
  }
 },
 "nbformat": 4,
 "nbformat_minor": 5
}
