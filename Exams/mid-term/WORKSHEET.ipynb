{
  "cells": [
    {
      "cell_type": "markdown",
      "id": "cb36e7a7-8dfb-4ca8-b491-56fd908bf0de",
      "metadata": {},
      "source": [
        "The correct process for converting the **binary vector detection problem** over a time diversity fading channel into a **scalar detection problem** is as follows:\n",
        "\n",
        "---\n",
        "\n",
        "### **Given:**\n",
        "- The **transmitted symbol** $x \\in \\{-1, +1\\}$ (BPSK) is repeated $N$ times using a repetition code.\n",
        "- **Received signal** over $N$ time slots:\n",
        "$y_i = h_i x + n_i, \\quad i = 1, 2, \\dots, N,$\n",
        "  where:\n",
        "  - $h_i \\sim \\mathcal{C}\\mathcal{N}(0, 1)$ (time-varying fading coefficient),\n",
        "  - $n_i \\sim \\mathcal{C}\\mathcal{N}(0, N_0)$ (AWGN noise).\n",
        "\n",
        "---\n",
        "\n",
        "### **Steps to Convert to Scalar Detection Problem:**\n",
        "\n",
        "1. **Combine All Observations**:\n",
        "   To exploit the time diversity, combine the received signals from all $N$ time slots into a single metric:\n",
        "$z = \\sum_{i=1}^N h_i^* y_i,$\n",
        "   where $h_i^*$ is the conjugate of $h_i$. This is called **maximum ratio combining (MRC)**.\n",
        "\n",
        "2. **Simplify the Combined Signal**:\n",
        "   Substitute $y_i = h_i x + n_i$ into $z$:\n",
        "$z = \\sum_{i=1}^N h_i^* (h_i x + n_i) = x \\sum_{i=1}^N |h_i|^2 + \\sum_{i=1}^N h_i^* n_i.$\n",
        "\n",
        "3. **Interpret the Result**:\n",
        "   - The first term, $x \\sum_{i=1}^N |h_i|^2$, represents the signal component scaled by the channel gains.\n",
        "   - The second term, $\\sum_{i=1}^N h_i^* n_i$, is the noise term, which remains Gaussian with variance $N_0 \\sum_{i=1}^N |h_i|^2$.\n",
        "\n",
        "4. **Decision Rule**:\n",
        "   The scalar detection problem is now:\n",
        "$\\text{Decide } x = +1 \\text{ if } z > 0, \\quad \\text{otherwise decide } x = -1.$\n",
        "   This simplifies detection by collapsing the vector problem into a single scalar comparison.\n",
        "\n",
        "---\n",
        "\n",
        "### **Answer**:\n",
        "By using **maximum ratio combining (MRC)**, the original binary vector detection problem is converted into a **scalar detection problem**:\n",
        "$z = x \\sum_{i=1}^N |h_i|^2 + \\sum_{i=1}^N h_i^* n_i,$\n",
        "with the decision rule:\n",
        "$\\text{Decide } x = +1 \\text{ if } z > 0, \\quad \\text{otherwise decide } x = -1.$\n"
      ]
    },
    {
      "cell_type": "code",
      "execution_count": 1,
      "id": "2f6989e0-0127-46fd-b8ea-a777064a33d3",
      "metadata": {},
      "outputs": [],
      "source": [
        "# Import necessary libraries\n",
        "using Random, LinearAlgebra, Statistics, FFTW"
      ]
    },
    {
      "cell_type": "code",
      "execution_count": 2,
      "id": "1d5e03c1-315e-40a0-a62b-4c55f2572e07",
      "metadata": {},
      "outputs": [],
      "source": [
        "include(\"modules/operations.jl\");"
      ]
    },
    {
      "cell_type": "code",
      "execution_count": 5,
      "id": "8a502ff0-14f7-4260-bb4a-31a83eb901a8",
      "metadata": {},
      "outputs": [
        {
          "name": "stdout",
          "output_type": "stream",
          "text": [
            "Transmitted symbol: 1\n",
            "Channel gains (h): ComplexF64[0.1559792411096105 - 0.4992081118977333im, -0.13791627399850034 + 0.47435568879644646im, 0.17603766770863072 + 0.7686200597330753im, 0.607235693242028 + 0.11958612468913397im]\n",
            "Received signals (y): ComplexF64[0.07351424933831922 - 1.323921249564251im, -0.46562007189812993 - 0.13317822207672653im, 0.14568729504110856 + 0.007313318441655503im, 0.7466687871343194 - 0.8259705759868077im]\n",
            "Combined scalar (z): 1.05931859544747 - 0.6321091479786651im\n",
            "Detected symbol: 1\n"
          ]
        }
      ],
      "source": [
        "# Simulation parameters\n",
        "N = 4                          # Number of time slots (repetitions)\n",
        "SNR\u208e\u1d66 = 10                    # Signal-to-noise ratio in dB\n",
        "N\u2080 = 1.0                       # Noise variance\n",
        "x = 1                          # Transmitted BPSK symbol (+1 or -1)\n",
        "\n",
        "\n",
        "\n",
        "# Derived parameters\n",
        "SNR\u2097\u1d62\u2099 = 10^(SNR\u208e\u1d66 / 10)  # Convert SNR from dB to linear scale\n",
        "h = randn(ComplexF64, N) ./ \u221a(2)  # Time-varying Rayleigh fading coefficients (i.i.d)\n",
        "n\u209b\u209c\u208e = sqrt(N\u2080 / 2)    # Noise standard deviation\n",
        "n = n\u209b\u209c\u208e * (randn(ComplexF64, N) + j * randn(ComplexF64, N))  # AWGN\n",
        "\n",
        "# Transmit and receive signals\n",
        "y = h .* x .+ n                # Received signals across time slots\n",
        "\n",
        "# Maximum ratio combining (MRC)\n",
        "z = \u2211((h)\u02e3 .* y)         # Combined signal (scalar value)\n",
        "signal_power = |\u2082(\u2211(h))    # Effective signal power\n",
        "noise_power = N\u2080 * signal_power  # Effective noise power\n",
        "\n",
        "# Decision rule (compare the real part of z to 0)\n",
        "detected_symbol = Re(z) > 0 ? 1 : -1  # Decide +1 if real(z) > 0, else -1\n",
        "\n",
        "# Display results\n",
        "println(\"Transmitted symbol: $x\")\n",
        "println(\"Channel gains (h): $h\")\n",
        "println(\"Received signals (y): $y\")\n",
        "println(\"Combined scalar (z): $z\")\n",
        "println(\"Detected symbol: $detected_symbol\")\n"
      ]
    },
    {
      "cell_type": "code",
      "execution_count": null,
      "id": "4a4ed5ca-8900-4976-a6ed-f6b946932d10",
      "metadata": {},
      "outputs": [],
      "source": []
    }
  ],
  "metadata": {
    "kernelspec": {
      "display_name": "Julia 1.11.1",
      "language": "julia",
      "name": "julia-1.11"
    },
    "language_info": {
      "file_extension": ".jl",
      "mimetype": "application/julia",
      "name": "julia",
      "version": "1.11.1"
    }
  },
  "nbformat": 4,
  "nbformat_minor": 5
}