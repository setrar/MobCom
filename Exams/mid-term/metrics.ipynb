{
 "cells": [
  {
   "cell_type": "code",
   "execution_count": 1,
   "id": "f70707a5-3497-4cc4-b21c-57d90269c487",
   "metadata": {},
   "outputs": [],
   "source": [
    "using FFTW, LinearAlgebra;"
   ]
  },
  {
   "cell_type": "code",
   "execution_count": 2,
   "id": "e81cf9a0-3349-43be-9207-6325647fa014",
   "metadata": {},
   "outputs": [],
   "source": [
    "include(\"modules/operations.jl\");"
   ]
  },
  {
   "cell_type": "code",
   "execution_count": 3,
   "id": "d58e24a4-fee3-4286-95bf-98853eff95f7",
   "metadata": {},
   "outputs": [
    {
     "name": "stdout",
     "output_type": "stream",
     "text": [
      "KL Divergence D(P || Q): 0.04575811092471789 + 0.0im\n"
     ]
    }
   ],
   "source": [
    "# KL Divergence in Julia with Complex Numbers\n",
    "# Formula: D_{KL}(P || Q) = sum(P[i] * log(P[i] / Q[i])) for all i\n",
    "function kl_divergence(P::Vector{Complex{Float64}}, Q::Vector{Complex{Float64}})\n",
    "    # Ensure the inputs are valid probability distributions\n",
    "    if |(|₂(P, 1) - 1) > 1e-10 || |(|₂(Q, 1) - 1) > 1e-10\n",
    "        error(\"Both P and Q must sum to 1 (approximately).\")\n",
    "    end\n",
    "    if any(x -> Re(x) <= 0, Q)\n",
    "        error(\"All elements of Q must have a positive real part.\")\n",
    "    end\n",
    "\n",
    "    # Compute KL Divergence \n",
    "    return ∑(P[i] * log(P[i] / Q[i]) for i in 1:length(P) if abs(P[i]) > 0)\n",
    "end\n",
    "\n",
    "# Example usage\n",
    "P = [0.4 + 0.0im, 0.3 + 0.0im, 0.2 + 0.0im, 0.1 + 0.0im]  # Example complex probability distribution P\n",
    "Q = [0.3 + 0.0im, 0.3 + 0.0im, 0.2 + 0.0im, 0.2 + 0.0im]  # Example complex probability distribution Q\n",
    "\n",
    "println(\"KL Divergence D(P || Q): \", kl_divergence(P, Q))\n"
   ]
  },
  {
   "cell_type": "code",
   "execution_count": 4,
   "id": "b0b2e68e-1ae4-4294-a9fb-8dfa9a6de371",
   "metadata": {},
   "outputs": [
    {
     "name": "stdout",
     "output_type": "stream",
     "text": [
      "Bhattacharyya Coefficient BC(P, Q): 0.9878315177510849\n",
      "Bhattacharyya Distance BD(P, Q): 0.01224312436794211\n"
     ]
    }
   ],
   "source": [
    "# Bhattacharyya Coefficient in Julia\n",
    "# The Bhattacharyya coefficient measures the overlap between two probability distributions P and Q.\n",
    "# Formula: BC(P, Q) = sum(sqrt(P[i] * Q[i])) for all i\n",
    "\n",
    "function BC(P::Vector{Float64}, Q::Vector{Float64})\n",
    "    # Ensure the inputs are valid probability distributions\n",
    "    if |(∑(P) - 1) > 1e-10 || |(∑(Q) - 1) > 1e-10\n",
    "        error(\"Both P and Q must sum to 1.\")\n",
    "    end\n",
    "\n",
    "    # Compute Bhattacharyya Coefficient\n",
    "    return ∑(√(P[i] * Q[i]) for i in 1:length(P))\n",
    "end\n",
    "\n",
    "function BD(P::Vector{Float64}, Q::Vector{Float64})\n",
    "    # Compute Bhattacharyya Coefficient\n",
    "    bc = BC(P, Q)\n",
    "\n",
    "    # Compute Bhattacharyya Distance\n",
    "    if bc <= 0\n",
    "        error(\"Bhattacharyya Coefficient must be greater than 0 to compute distance.\")\n",
    "    end\n",
    "    return -log(bc)\n",
    "end\n",
    "\n",
    "# Example usage\n",
    "P = [0.4, 0.3, 0.2, 0.1]  # Example probability distribution P\n",
    "Q = [0.3, 0.3, 0.2, 0.2]  # Example probability distribution Q\n",
    "\n",
    "println(\"Bhattacharyya Coefficient BC(P, Q): \", BC(P, Q))\n",
    "println(\"Bhattacharyya Distance BD(P, Q): \", BD(P, Q))\n",
    "\n"
   ]
  },
  {
   "cell_type": "code",
   "execution_count": null,
   "id": "6bb8585d-b48a-4269-83f6-c7bf82f7edc7",
   "metadata": {},
   "outputs": [],
   "source": []
  }
 ],
 "metadata": {
  "kernelspec": {
   "display_name": "Julia 1.11.1",
   "language": "julia",
   "name": "julia-1.11"
  },
  "language_info": {
   "file_extension": ".jl",
   "mimetype": "application/julia",
   "name": "julia",
   "version": "1.11.1"
  }
 },
 "nbformat": 4,
 "nbformat_minor": 5
}
