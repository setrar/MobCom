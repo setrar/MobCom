{
 "cells": [
  {
   "cell_type": "markdown",
   "id": "6345c9e2-e1d8-414a-9553-75aecd50d0af",
   "metadata": {},
   "source": [
    "| Mobile Communication Techniques |\n",
    "|:-:|\n",
    "| Petros Elia, elia@eurecom.fr | \n",
    "| Final Exam |\n",
    "| February 2015 |"
   ]
  },
  {
   "cell_type": "markdown",
   "id": "46c698aa-d4bb-4ba1-9e99-224679db55e6",
   "metadata": {},
   "source": [
    "$$\\text{ Instructions }$$\n",
    "- Exercises fall in categories of 1-point, 2-point and 3-point exercises.\n",
    "- Total of $4 ×1 + 5 ×2 + 3 ×3 = 23$ points.\n",
    "- The last question is for extra credit, and it accounts for 3 points."
   ]
  },
  {
   "cell_type": "markdown",
   "id": "61199f7e-baee-4cb1-a670-89d8aab4f95b",
   "metadata": {},
   "source": [
    "- Each answer should be clearly written, and the solution should be developed in detail.\n",
    "- Mathematical derivations need to show all steps that lead to the answer.\n",
    "- Complete as many exercises as you can. Don’t spend too much time on an individual question.\n",
    "- Partial credit will be given for incomplete solutions.\n",
    "- There is NO penalty for incorrect solutions.\n",
    "- If in certain cases you are unable to provide rigorous mathematical proofs, go ahead and provide\n",
    "intuitive justification of your answers. Partial credit will be given.\n",
    "- Calculators are allowed. Feel free to provide close form expressions _in their simplest form_.\n",
    "- Open book and open class notes are allowed. No other notes are allowed."
   ]
  },
  {
   "cell_type": "markdown",
   "id": "da5d09c5-efd5-4fbf-ab81-e21bb4796924",
   "metadata": {},
   "source": [
    "$$\\text{Hints - equations - conventions:}$$\n",
    "#### * Notation\n",
    "- $R$ represents the rate of communication in bits per channel use (b.p.c.u),\n",
    "- $\\rho$ represents the SNR (signal to noise ratio),\n",
    "- $w$ will denote additive noise which will be distributed as a circularly symmetric Gaussian random\n",
    "variable $\\mathbb{C}\\mathcal{N}(0, N_0 )$. If $N_0$ is not specified, then set $N_0$ = 1,\n",
    "- $h_i$ will denote _independent_ fading scalar coefficients which will be distributed as circularly\n",
    "symmetric Gaussian random variables $\\mathbb{C}\\mathcal{N}(0, 1 )$\n",
    "#### * Useful equations \n",
    "- For small $\\epsilon$, and for the statistical distributions of interest, the following holds:\n",
    "$\\DeclareMathOperator*{\\argmax}{max}$\n",
    "$$P (|h_i|^2 < \\epsilon) = \\int_0^\\epsilon p(|h_i|^2) \\mathit{d}|h_i|^2 \\approx \\argmax_{[0,\\epsilon]} \\Big\\{ p(|h_i|^2 = \\epsilon)\\Big\\}$$\n",
    "\n",
    "- For small $\\epsilon$, and for the statistical distributions of interest, the following holds:\n",
    "$$P(|h_i|^2+|h_j|^2 < \\epsilon )\\approx p\\Big( \\{ |h_i|^2 < \\epsilon \\} \\text{ or } \\{ |h_j|^2 < \\epsilon \\} \\Big)$$\n",
    "- Remember: for a given **SNR**, then **SNR** in **dB** is simply $10 \\, log_{10} \\, \\text{SNR}$\n",
    "- For a given probability of error $P(\\text{error})$, the _diversity order_ or _diversity gain_ is defined as\n",
    "$$ d := - \\lim_{p \\to \\infty} \\frac{\\log P(\\text{error})}{\\log p}. $$\n",
    "\n",
    "- GOOD LUCK!!"
   ]
  },
  {
   "cell_type": "markdown",
   "id": "2511bd6a-ef51-475e-a7e5-9394f6376e32",
   "metadata": {},
   "source": [
    "$$\\text{EXAM PROBLEMS}$$\n"
   ]
  },
  {
   "cell_type": "markdown",
   "id": "d3da3562-fbf2-4df0-98d5-ffc5ed147797",
   "metadata": {},
   "source": [
    "1) (1 point). Briefly state a disadvantage of operating in a very dense urban setting (smaller cells), where the path distances are not typically very high."
   ]
  },
  {
   "cell_type": "markdown",
   "id": "1491b022-1f7a-49f5-ac76-1f61b8281b4b",
   "metadata": {},
   "source": [
    "A disadvantage of operating in a very dense urban setting with smaller cells is the increased frequency of handovers. Since users frequently move between small cells, the network must handle more handovers, which can increase signaling overhead, reduce data throughput, and degrade the user experience due to more frequent interruptions in connectivity. Additionally, interference between neighboring cells can be higher, requiring more sophisticated interference management techniques."
   ]
  },
  {
   "cell_type": "markdown",
   "id": "9c630ead-9196-4732-a952-ffd20b2200f3",
   "metadata": {},
   "source": [
    "2) (1 point). Consider a fast-fading channel, and let $T_{coding}$ and $T_{coh}$ respectively denote the coding duration and the coherence interval.\n",
    "- Which of the two holds: $T_{coding} \\gg T_{coh}$ or $T_{coding} \\ll T_{coh}$ ?\n",
    "- What is a good measure of performance in this setting? Outage probability or capacity?"
   ]
  },
  {
   "cell_type": "markdown",
   "id": "effde35a-b85c-484a-9570-0ea42904e56b",
   "metadata": {},
   "source": [
    "For a fast-fading channel:\n",
    "\n",
    "1. **Relation between \\( T_{coding} \\) and \\( T_{coh} \\):**\n",
    "   - In a fast-fading channel, the **coherence interval \\( T_{coh} \\) is much smaller than the coding duration \\( T_{coding} \\)**. This implies \\( T_{coding} \\gg T_{coh} \\). The channel changes multiple times within the duration of a single codeword.\n",
    "\n",
    "2. **Performance Measure:**\n",
    "   - In this setting, **outage probability** is a better measure of performance than capacity. Since the channel varies rapidly, it’s challenging to maintain a reliable rate over each coherence interval. Outage probability evaluates the likelihood that the instantaneous channel rate falls below a target rate, which is more meaningful when the channel conditions fluctuate quickly and unpredictably."
   ]
  },
  {
   "cell_type": "code",
   "execution_count": null,
   "id": "48fcb040-19d7-4d07-85e0-b9d9ca618652",
   "metadata": {},
   "outputs": [],
   "source": []
  }
 ],
 "metadata": {
  "kernelspec": {
   "display_name": "Julia 1.11.1",
   "language": "julia",
   "name": "julia-1.11"
  },
  "language_info": {
   "file_extension": ".jl",
   "mimetype": "application/julia",
   "name": "julia",
   "version": "1.11.1"
  }
 },
 "nbformat": 4,
 "nbformat_minor": 5
}
