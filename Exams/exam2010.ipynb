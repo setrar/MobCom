{
 "cells": [
  {
   "cell_type": "markdown",
   "id": "e788b685-d584-4e57-ad79-59fd7850414d",
   "metadata": {},
   "source": [
    "| Mobile Communication Techniques |\n",
    "|:-:|\n",
    "| Petros Elia, elia@eurecom.fr | \n",
    "| Final Exam |\n",
    "| February 10 2010 |\n",
    "| Time: 09:00-11:00 |"
   ]
  },
  {
   "cell_type": "markdown",
   "id": "d89cdf4a-c8c6-412f-8cc9-7b3b29adecff",
   "metadata": {},
   "source": [
    "$$\\text{ Instructions }$$\n",
    "- Exercises fall in categories of 1-point, 2-point and 4-point exercises.\n",
    "- Total of $10×1+6×2+2×4=30$ points.\n",
    "- Each answer should be clearly written, and the solution should be developed in detail.\n",
    "- Mathematical derivations need to show all steps that lead to the answer.\n",
    "- Complete as many exercises as you can. Don’t spend too much time on an individual question.\n",
    "- Partial credit will be given for incomplete solutions.\n",
    "- There is NO penalty for incorrect solutions.\n",
    "- If in certain cases you are unable to provide rigorous mathematical proofs, go ahead and provide\n",
    "intuitive justification of your answers. Partial credit will be given.\n",
    "- Calculators are allowed. Feel free to provide close form expressions in their simplest form.\n",
    "- Open book and open class notes are allowed. No other notes are allowed."
   ]
  },
  {
   "cell_type": "markdown",
   "id": "04ef6605-646c-41c8-9a0c-aed26a046b51",
   "metadata": {},
   "source": [
    "$$\\text{Hints - equations - conventions:}$$\n",
    "#### * Notation\n",
    "- $R$ represents the rate of communication in bits per channel use (b.p.c.u),\n",
    "- $\\rho$ represents the SNR (signal to noise ratio),\n",
    "- $w$ will denote additive noise which will be distributed as a circularly symmetric Gaussian random\n",
    "variable $\\mathbb{C}\\mathcal{N}(0, N_0 )$. If $N_0$ is not specified, then set $N_0$ = 1,\n",
    "- $h_i$ will denote independent fading scalar coefficients which will be distributed as circularly\n",
    "symmetric Gaussian random variables $\\mathbb{C}\\mathcal{N}(0, 1 )$\n",
    "#### * Useful equations \n",
    "- For small $\\epsilon$, and for the statistical distributions of interest, the following holds:\n",
    "$\\DeclareMathOperator*{\\argmax}{max}$\n",
    "$$P (|h_i|^2 < \\epsilon) = \\int_0^\\epsilon p(|h_i|^2) \\mathit{d}|h_i|^2 \\approx \\argmax_{[0,\\epsilon]} \\Big\\{ p(|h_i|^2 = \\epsilon)\\Big\\}$$\n",
    "\n",
    "- For small $\\epsilon$, and for the statistical distributions of interest, the following holds:\n",
    "$$P(|h_i|^2+|h_j|^2 < \\epsilon )\\approx p\\Big( \\{ |h_i|^2 < \\epsilon \\} \\text{ or } \\{ |h_j|^2 < \\epsilon \\} \\Big)$$\n",
    "- For a given probability of error $P(\\text{error})$, the _diversity order_ or _diversity gain_ is defined as\n",
    "$$ d := - \\lim_{p \\to \\infty} \\frac{\\log P(\\text{error})}{\\log p}. $$\n",
    "- The _multiplexing gain_ is defined as $r := R/ \\log ρ$\n",
    "- The diversity multiplexing tradeoff (DMT) is defined as a diversity gain achieved, given a specific\n",
    "multiplexing gain\n",
    "- GOOD LUCK!!"
   ]
  },
  {
   "cell_type": "code",
   "execution_count": null,
   "id": "82a8c52c-3c0f-4072-985b-01eca6439760",
   "metadata": {},
   "outputs": [],
   "source": []
  }
 ],
 "metadata": {
  "kernelspec": {
   "display_name": "Julia 1.10.5",
   "language": "julia",
   "name": "julia-1.10"
  },
  "language_info": {
   "file_extension": ".jl",
   "mimetype": "application/julia",
   "name": "julia",
   "version": "1.10.5"
  }
 },
 "nbformat": 4,
 "nbformat_minor": 5
}
